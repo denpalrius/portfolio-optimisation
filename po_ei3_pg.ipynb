{
 "cells": [
  {
   "cell_type": "markdown",
   "id": "0e1c5a8a",
   "metadata": {},
   "source": [
    "# Deep Reinforcement Learning for Portfolio Optimization\n"
   ]
  },
  {
   "cell_type": "markdown",
   "id": "7e9f8e10",
   "metadata": {},
   "source": [
    "This experiement demonstrates the application of deep reinforcement learning (DRL) techniques for portfolio optimization.\n",
    "\n",
    "By leveraging state-of-the-art DRL algorithms, we aim to create a robust trading strategy that dynamically adjusts portfolio allocations to maximize returns while minimizing risks.\n",
    "\n",
    "Policy network architecture: **EI3 (Inception) backbone**\n",
    "\n",
    "- Compares `A2C`, `PPO`, `SAC`, `DDPG`, `TD3` all with simple MLPs\n",
    "\n",
    "The workflow includes:\n",
    "\n",
    "- Data preprocessing\n",
    "- Feature engineering\n",
    "- Environment setup\n",
    "- Training of DRL agents\n",
    "- Backtesting\n",
    "- Benchmarking against traditional strategies\n"
   ]
  },
  {
   "cell_type": "markdown",
   "id": "b8dfb03e",
   "metadata": {},
   "source": [
    "## Dependencies\n"
   ]
  },
  {
   "cell_type": "code",
   "execution_count": 12,
   "id": "b8f91ee1",
   "metadata": {},
   "outputs": [],
   "source": [
    "# ! pip install pandas numpy matplotlib \\\n",
    "#                stable-baselines3 \\\n",
    "#                PyPortfolioOpt \\\n",
    "#                pandas_market_calendars quantstats gymnasium \\\n",
    "#                git+https://github.com/AI4Finance-Foundation/FinRL.git -q"
   ]
  },
  {
   "cell_type": "code",
   "execution_count": 47,
   "id": "51776d45",
   "metadata": {},
   "outputs": [],
   "source": [
    "import os\n",
    "import time\n",
    "import pandas as pd\n",
    "import numpy as np\n",
    "import matplotlib.pyplot as plt\n",
    "import seaborn as sns\n",
    "from datetime import datetime, timedelta\n",
    "\n",
    "from scipy.optimize import minimize\n",
    "\n",
    "import torch\n",
    "\n",
    "from finrl import config_tickers\n",
    "from finrl.meta.preprocessor.yahoodownloader import YahooDownloader\n",
    "from finrl.meta.preprocessor.preprocessors import FeatureEngineer, data_split\n",
    "from finrl.meta.env_portfolio_optimization.env_portfolio_optimization import (\n",
    "    PortfolioOptimizationEnv,\n",
    ")\n",
    "from finrl.agents.portfolio_optimization.models import DRLAgent as POAgent\n",
    "from finrl.agents.portfolio_optimization.architectures import EI3"
   ]
  },
  {
   "cell_type": "code",
   "execution_count": 14,
   "id": "9e5cf3e3",
   "metadata": {},
   "outputs": [],
   "source": [
    "import warnings\n",
    "\n",
    "warnings.filterwarnings(\"ignore\", category=FutureWarning)\n",
    "\n",
    "%matplotlib inline"
   ]
  },
  {
   "cell_type": "code",
   "execution_count": 15,
   "id": "1d8f66f9",
   "metadata": {},
   "outputs": [
    {
     "name": "stdout",
     "output_type": "stream",
     "text": [
      "Using device: cpu\n"
     ]
    }
   ],
   "source": [
    "device = torch.device(\"cuda\" if torch.cuda.is_available() else \"cpu\")\n",
    "print(f\"Using device: {device}\")"
   ]
  },
  {
   "cell_type": "code",
   "execution_count": 16,
   "id": "f3e16a19",
   "metadata": {},
   "outputs": [],
   "source": [
    "experiment_name = \"portfolio_optimization_ei3_pg\"\n",
    "results_dir = f\"results/models/{experiment_name}\"\n",
    "os.makedirs(results_dir, exist_ok=True)"
   ]
  },
  {
   "cell_type": "markdown",
   "id": "3c6c1461",
   "metadata": {},
   "source": [
    "## Data loading and pre-processing\n"
   ]
  },
  {
   "cell_type": "markdown",
   "id": "2eefbe65",
   "metadata": {},
   "source": [
    "Define training and trading/test periods\n"
   ]
  },
  {
   "cell_type": "code",
   "execution_count": 17,
   "id": "542703af",
   "metadata": {},
   "outputs": [
    {
     "name": "stdout",
     "output_type": "stream",
     "text": [
      "Training period: ('2013-05-02', '2023-04-30')\n",
      "Testing period: ('2023-05-01', '2025-04-29')\n"
     ]
    }
   ],
   "source": [
    "start_date = \"2015-01-01\"\n",
    "end_date = (datetime.now() - pd.Timedelta(days=1)).strftime(\"%Y-%m-%d\")  # Yesterday\n",
    "\n",
    "trade_period = 2  # 2 years for testing\n",
    "train_period = 10  # 10 years for training\n",
    "\n",
    "train_end_date = (\n",
    "    datetime.strptime(end_date, \"%Y-%m-%d\") - timedelta(days=trade_period * 365)\n",
    ").strftime(\"%Y-%m-%d\")\n",
    "train_start_date = (\n",
    "    datetime.strptime(train_end_date, \"%Y-%m-%d\") - timedelta(days=train_period * 365)\n",
    ").strftime(\"%Y-%m-%d\")\n",
    "test_start_date = (\n",
    "    datetime.strptime(train_end_date, \"%Y-%m-%d\") + timedelta(days=1)\n",
    ").strftime(\"%Y-%m-%d\")\n",
    "\n",
    "train_dates = (train_start_date, train_end_date)\n",
    "test_dates = (test_start_date, end_date)\n",
    "\n",
    "print(f\"Training period: {train_dates}\")\n",
    "print(f\"Testing period: {test_dates}\")"
   ]
  },
  {
   "cell_type": "markdown",
   "id": "a36a425c",
   "metadata": {},
   "source": [
    "- Fetch historical stock data for a given list of tickers within a specified date range.\n",
    "- We use the DOW_30_TICKER stocks\n",
    "- The data includes `date`, `close`, `high`, `low`, `open`, `volume`, and `tic` (ticker symbol).\n"
   ]
  },
  {
   "cell_type": "code",
   "execution_count": null,
   "id": "46c577ab",
   "metadata": {},
   "outputs": [
    {
     "name": "stdout",
     "output_type": "stream",
     "text": [
      "Downloading 2015-01-01 → 2025-04-29\n"
     ]
    },
    {
     "name": "stderr",
     "output_type": "stream",
     "text": [
      "[*********************100%***********************]  1 of 1 completed\n",
      "[*********************100%***********************]  1 of 1 completed\n",
      "[*********************100%***********************]  1 of 1 completed\n",
      "[*********************100%***********************]  1 of 1 completed\n",
      "[*********************100%***********************]  1 of 1 completed\n",
      "[*********************100%***********************]  1 of 1 completed\n",
      "[*********************100%***********************]  1 of 1 completed\n",
      "[*********************100%***********************]  1 of 1 completed\n",
      "[*********************100%***********************]  1 of 1 completed\n",
      "[*********************100%***********************]  1 of 1 completed\n",
      "[*********************100%***********************]  1 of 1 completed\n",
      "[*********************100%***********************]  1 of 1 completed\n",
      "[*********************100%***********************]  1 of 1 completed\n",
      "[*********************100%***********************]  1 of 1 completed\n",
      "[*********************100%***********************]  1 of 1 completed\n",
      "[*********************100%***********************]  1 of 1 completed\n",
      "[*********************100%***********************]  1 of 1 completed\n",
      "[*********************100%***********************]  1 of 1 completed\n",
      "[*********************100%***********************]  1 of 1 completed\n",
      "[*********************100%***********************]  1 of 1 completed\n",
      "[*********************100%***********************]  1 of 1 completed\n",
      "[*********************100%***********************]  1 of 1 completed\n",
      "[*********************100%***********************]  1 of 1 completed\n",
      "[*********************100%***********************]  1 of 1 completed\n",
      "[*********************100%***********************]  1 of 1 completed\n",
      "[*********************100%***********************]  1 of 1 completed\n",
      "[*********************100%***********************]  1 of 1 completed\n",
      "[*********************100%***********************]  1 of 1 completed\n",
      "[*********************100%***********************]  1 of 1 completed\n",
      "[*********************100%***********************]  1 of 1 completed\n"
     ]
    },
    {
     "name": "stdout",
     "output_type": "stream",
     "text": [
      "Shape of DataFrame:  (76791, 8)\n"
     ]
    }
   ],
   "source": [
    "def download_data(tickers, start_date, end_date):\n",
    "    print(f\"Downloading {start_date} → {end_date}\")\n",
    "    return YahooDownloader(\n",
    "        start_date=start_date, end_date=end_date, ticker_list=tickers\n",
    "    ).fetch_data()\n",
    "\n",
    "\n",
    "tickers = config_tickers.DOW_30_TICKER\n",
    "\n",
    "# df_all = pd.DataFrame()\n",
    "# if os.path.exists(\"data/df_all.csv\"):\n",
    "#     df_all = pd.read_csv(\"data/df_all.csv\", index_col=0)\n",
    "#     df_all.index = pd.to_datetime(df_all.index)\n",
    "#     print(\"Data loaded from cache.\")\n",
    "# else:\n",
    "#     print(\"Downloading data...\")\n",
    "#     raw_df = download_data(tickers, start_date, end_date)\n",
    "\n",
    "raw_df = download_data(tickers, start_date, end_date)"
   ]
  },
  {
   "cell_type": "markdown",
   "id": "71bb738f",
   "metadata": {},
   "source": [
    "---\n",
    "\n",
    "### Feature Engineering\n",
    "\n",
    "We apply feature engineering to the dataset of stock data:\n",
    "\n",
    "- Add technical indicators (e.g., moving averages, RSI).\n",
    "- Calculate turbulence indicators, which measure market volatility.\n",
    "\n",
    "This Enhance the dataset with features that are critical for modeling market dynamics and making informed trading decisions.\n"
   ]
  },
  {
   "cell_type": "code",
   "execution_count": null,
   "id": "47dcd423",
   "metadata": {},
   "outputs": [
    {
     "name": "stdout",
     "output_type": "stream",
     "text": [
      "Successfully added technical indicators\n",
      "Successfully added turbulence index\n"
     ]
    }
   ],
   "source": [
    "def preprocess_data(df):\n",
    "    fe = FeatureEngineer(use_technical_indicator=True, use_turbulence=True)\n",
    "    return fe.preprocess_data(df)\n",
    "\n",
    "\n",
    "df_feat = preprocess_data(raw_df)\n",
    "\n",
    "# if df_all.empty:\n",
    "#     print(\"Preprocessing data...\")\n",
    "#     df_feat = preprocess_data(raw_df)\n",
    "#     df_feat.to_csv(\"data/df_all.csv\")\n",
    "# else:\n",
    "#     print(\"Using cached data...\")\n",
    "#     df_feat = df_all.copy()\n",
    "#     df_feat = df_feat[df_feat.index >= start_date]\n",
    "#     df_feat = df_feat[df_feat.index <= end_date]"
   ]
  },
  {
   "cell_type": "markdown",
   "id": "b6cdeb82",
   "metadata": {},
   "source": [
    "## Covariance & Returns for State\n"
   ]
  },
  {
   "cell_type": "markdown",
   "id": "002710f6",
   "metadata": {},
   "source": [
    "- Calculate the rolling covariance matrices and daily returns for the given dataset of stock prices.\n",
    "- This prepares the state representation (the state of the portfolio) for the RL models in the RL environments for portfolio optimization.\n",
    "- The **rolling covariance matrices** (`cov_list`) capture the relationships between asset returns, while the daily returns (`return_list`) provide information about recent price movements.\n",
    "- These metrics are critical for modeling the dynamics of the financial market and making informed trading decisions.\n"
   ]
  },
  {
   "cell_type": "code",
   "execution_count": 20,
   "id": "48b6f5c1",
   "metadata": {},
   "outputs": [],
   "source": [
    "def compute_covariance_and_returns(df_feat, lookback=252):\n",
    "    df_sorted = df_feat.sort_values([\"date\", \"tic\"], ignore_index=True)\n",
    "    df_sorted.index = df_sorted.date.factorize()[0]\n",
    "    cov_list, return_list = [], []\n",
    "\n",
    "    dates = df_sorted.date.unique()\n",
    "    for i in range(lookback, len(dates)):\n",
    "        win = df_sorted.loc[i - lookback : i]\n",
    "        pm = win.pivot_table(index=\"date\", columns=\"tic\", values=\"close\")\n",
    "        rm = pm.pct_change().dropna()\n",
    "        cov_list.append(rm.cov().values)\n",
    "        return_list.append(rm)\n",
    "    df_cov = pd.DataFrame(\n",
    "        {\"date\": dates[lookback:], \"cov_list\": cov_list, \"return_list\": return_list}\n",
    "    )\n",
    "\n",
    "    return pd.merge(df_feat, df_cov, on=\"date\", how=\"left\").dropna(subset=[\"cov_list\"])\n",
    "\n",
    "\n",
    "df_all = compute_covariance_and_returns(df_feat)"
   ]
  },
  {
   "cell_type": "markdown",
   "id": "91b7d720",
   "metadata": {},
   "source": [
    "## Train/Trade split\n"
   ]
  },
  {
   "cell_type": "code",
   "execution_count": 21,
   "id": "886a8a42",
   "metadata": {},
   "outputs": [],
   "source": [
    "def split_data(df_all, train_dates, test_dates):\n",
    "    train = data_split(df_all, *train_dates)\n",
    "    test = data_split(df_all, *test_dates)\n",
    "    return train, test\n",
    "\n",
    "\n",
    "train_df, test_df = split_data(df_all, train_dates, test_dates)"
   ]
  },
  {
   "cell_type": "markdown",
   "id": "1a83bcfe",
   "metadata": {},
   "source": [
    "## Environment setup\n"
   ]
  },
  {
   "cell_type": "markdown",
   "id": "17273f79",
   "metadata": {},
   "source": [
    "- Create instances of the **PortfolioOptimizationEnv** class for both training and testing datasets.\n",
    "- It also wrap the training environment for use with Stable-Baselines3 (SB3).\n"
   ]
  },
  {
   "cell_type": "code",
   "execution_count": 22,
   "id": "1bd7cff4",
   "metadata": {},
   "outputs": [],
   "source": [
    "def initialize_portfolio_env(df):\n",
    "    env = PortfolioOptimizationEnv(\n",
    "        df,\n",
    "        initial_amount=100_000,\n",
    "        comission_fee_pct=0.0025,\n",
    "        time_window=50,\n",
    "        features=[\"close\", \"high\", \"low\"],\n",
    "        normalize_df=None,\n",
    "        new_gym_api=True,\n",
    "    )\n",
    "\n",
    "    env.df = df.reset_index(drop=True)\n",
    "\n",
    "    return env\n",
    "\n",
    "\n",
    "train_env = initialize_portfolio_env(train_df)"
   ]
  },
  {
   "cell_type": "markdown",
   "id": "4ad6387a",
   "metadata": {},
   "source": [
    "## Training\n"
   ]
  },
  {
   "cell_type": "markdown",
   "id": "74879ebb",
   "metadata": {},
   "source": [
    "- Set PolicyGradient algorithm and EIIE architecture arguments\n"
   ]
  },
  {
   "cell_type": "code",
   "execution_count": null,
   "id": "9b12a71b",
   "metadata": {},
   "outputs": [],
   "source": [
    "model_kwargs = {\"lr\": 0.01, \"policy\": EI3, \"device\": device}\n",
    "# Set EIIE architecture arguments\n",
    "policy_kwargs = {\n",
    "    \"k_short\": 3,  # short‐term conv kernel\n",
    "    \"k_medium\": 21,  # medium‐term conv kernel\n",
    "    \"conv_mid_features\": 3,  # intermediate channels\n",
    "    \"conv_final_features\": 20,\n",
    "    \"time_window\": 50,  # same as PortfolioOptimizationEnv(time_window)\n",
    "    \"device\": device,\n",
    "}\n",
    "model = POAgent(train_env).get_model(\"pg\", device, model_kwargs, policy_kwargs)"
   ]
  },
  {
   "cell_type": "markdown",
   "id": "7ccfbb5b",
   "metadata": {},
   "source": [
    "- Train the model\n"
   ]
  },
  {
   "cell_type": "code",
   "execution_count": null,
   "id": "fec3c5c0",
   "metadata": {},
   "outputs": [
    {
     "name": "stderr",
     "output_type": "stream",
     "text": [
      "  0%|          | 0/5 [00:00<?, ?it/s]"
     ]
    },
    {
     "name": "stdout",
     "output_type": "stream",
     "text": [
      "=================================\n",
      "Initial portfolio value:100000\n",
      "Final portfolio value: 76878.0234375\n",
      "Final accumulative portfolio value: 0.7687802314758301\n",
      "Maximum DrawDown: -0.7868099919164714\n",
      "Sharpe ratio: 0.028529647719685615\n",
      "=================================\n"
     ]
    },
    {
     "name": "stderr",
     "output_type": "stream",
     "text": [
      " 20%|██        | 1/5 [00:19<01:19, 19.87s/it]"
     ]
    },
    {
     "name": "stdout",
     "output_type": "stream",
     "text": [
      "=================================\n",
      "Initial portfolio value:100000\n",
      "Final portfolio value: 188338.609375\n",
      "Final accumulative portfolio value: 1.8833861351013184\n",
      "Maximum DrawDown: -0.7792005268262172\n",
      "Sharpe ratio: 0.4308024631217251\n",
      "=================================\n"
     ]
    },
    {
     "name": "stderr",
     "output_type": "stream",
     "text": [
      " 40%|████      | 2/5 [00:38<00:58, 19.42s/it]"
     ]
    },
    {
     "name": "stdout",
     "output_type": "stream",
     "text": [
      "=================================\n",
      "Initial portfolio value:100000\n",
      "Final portfolio value: 188344.84375\n",
      "Final accumulative portfolio value: 1.8834484815597534\n",
      "Maximum DrawDown: -0.7792005438127022\n",
      "Sharpe ratio: 0.4310421924869513\n",
      "=================================\n"
     ]
    },
    {
     "name": "stderr",
     "output_type": "stream",
     "text": [
      " 60%|██████    | 3/5 [00:58<00:38, 19.33s/it]"
     ]
    },
    {
     "name": "stdout",
     "output_type": "stream",
     "text": [
      "=================================\n",
      "Initial portfolio value:100000\n",
      "Final portfolio value: 187345.84375\n",
      "Final accumulative portfolio value: 1.8734583854675293\n",
      "Maximum DrawDown: -0.7792006204346039\n",
      "Sharpe ratio: 0.42889245956467753\n",
      "=================================\n"
     ]
    },
    {
     "name": "stderr",
     "output_type": "stream",
     "text": [
      " 80%|████████  | 4/5 [01:17<00:19, 19.19s/it]"
     ]
    },
    {
     "name": "stdout",
     "output_type": "stream",
     "text": [
      "=================================\n",
      "Initial portfolio value:100000\n",
      "Final portfolio value: 187921.640625\n",
      "Final accumulative portfolio value: 1.8792164325714111\n",
      "Maximum DrawDown: -0.7792005047076316\n",
      "Sharpe ratio: 0.4301383655832859\n",
      "=================================\n"
     ]
    },
    {
     "name": "stderr",
     "output_type": "stream",
     "text": [
      "100%|██████████| 5/5 [01:36<00:00, 19.29s/it]"
     ]
    },
    {
     "name": "stdout",
     "output_type": "stream",
     "text": [
      "Training completed in 1.61 minutes.\n"
     ]
    },
    {
     "name": "stderr",
     "output_type": "stream",
     "text": [
      "\n"
     ]
    }
   ],
   "source": [
    "start_time = time.time()\n",
    "\n",
    "# TODO: Update to 50 episodes\n",
    "trained_model = POAgent.train_model(model, episodes=100)\n",
    "\n",
    "end_time = time.time()\n",
    "training_duration = (end_time - start_time) / 60\n",
    "print(f\"Training completed in {training_duration:.2f} minutes.\")"
   ]
  },
  {
   "cell_type": "code",
   "execution_count": 32,
   "id": "8145512e",
   "metadata": {},
   "outputs": [
    {
     "name": "stdout",
     "output_type": "stream",
     "text": [
      "Training summary:\n"
     ]
    },
    {
     "data": {
      "application/vnd.microsoft.datawrangler.viewer.v0+json": {
       "columns": [
        {
         "name": "index",
         "rawType": "int64",
         "type": "integer"
        },
        {
         "name": "model",
         "rawType": "object",
         "type": "string"
        },
        {
         "name": "training_duration (min)",
         "rawType": "float64",
         "type": "float"
        }
       ],
       "conversionMethod": "pd.DataFrame",
       "ref": "75a5b8a8-91b6-46a0-a18c-db222bed3f58",
       "rows": [
        [
         "0",
         "EI3_PG",
         "1.6082890470822653"
        ]
       ],
       "shape": {
        "columns": 2,
        "rows": 1
       }
      },
      "text/html": [
       "<div>\n",
       "<style scoped>\n",
       "    .dataframe tbody tr th:only-of-type {\n",
       "        vertical-align: middle;\n",
       "    }\n",
       "\n",
       "    .dataframe tbody tr th {\n",
       "        vertical-align: top;\n",
       "    }\n",
       "\n",
       "    .dataframe thead th {\n",
       "        text-align: right;\n",
       "    }\n",
       "</style>\n",
       "<table border=\"1\" class=\"dataframe\">\n",
       "  <thead>\n",
       "    <tr style=\"text-align: right;\">\n",
       "      <th></th>\n",
       "      <th>model</th>\n",
       "      <th>training_duration (min)</th>\n",
       "    </tr>\n",
       "  </thead>\n",
       "  <tbody>\n",
       "    <tr>\n",
       "      <th>0</th>\n",
       "      <td>EI3_PG</td>\n",
       "      <td>1.608289</td>\n",
       "    </tr>\n",
       "  </tbody>\n",
       "</table>\n",
       "</div>"
      ],
      "text/plain": [
       "    model  training_duration (min)\n",
       "0  EI3_PG                 1.608289"
      ]
     },
     "metadata": {},
     "output_type": "display_data"
    }
   ],
   "source": [
    "training_times_df = pd.DataFrame(\n",
    "    [{\"model\": \"EI3_PG\", \"training_duration (min)\": training_duration}]\n",
    ")\n",
    "training_times_df.to_csv(f\"{results_dir}/training_times.csv\", index=False)\n",
    "\n",
    "# Display training summary\n",
    "print(\"Training summary:\")\n",
    "display(training_times_df)"
   ]
  },
  {
   "cell_type": "code",
   "execution_count": 33,
   "id": "cbc4adda",
   "metadata": {},
   "outputs": [],
   "source": [
    "model_path = f\"{results_dir}/ei3_pg.pth\""
   ]
  },
  {
   "cell_type": "code",
   "execution_count": null,
   "id": "34eb0585",
   "metadata": {},
   "outputs": [
    {
     "name": "stdout",
     "output_type": "stream",
     "text": [
      "Model saved to results/models/portfolio_optimization_ei3_pg/ei3_pg.pth\n"
     ]
    }
   ],
   "source": [
    "torch.save(trained_model.train_policy.state_dict(), model_path)\n",
    "print(f\"Model saved to {model_path}\")"
   ]
  },
  {
   "cell_type": "markdown",
   "id": "eb7ec26e",
   "metadata": {},
   "source": [
    "## Backtesting\n"
   ]
  },
  {
   "cell_type": "code",
   "execution_count": 35,
   "id": "f4078dd4",
   "metadata": {},
   "outputs": [
    {
     "name": "stdout",
     "output_type": "stream",
     "text": [
      "Model loaded and ready for evaluation.\n",
      "Evaluating model on test data...\n"
     ]
    }
   ],
   "source": [
    "policy = EI3(time_window=50, device=device)\n",
    "policy.load_state_dict(torch.load(model_path, map_location=device))\n",
    "# policy = policy.to(device)\n",
    "# policy.eval()\n",
    "print(\"Model loaded and ready for evaluation.\")\n",
    "print(\"Evaluating model on test data...\")\n",
    "\n",
    "test_env = initialize_portfolio_env(test_df.reset_index(drop=True))"
   ]
  },
  {
   "cell_type": "code",
   "execution_count": 36,
   "id": "9958d943",
   "metadata": {},
   "outputs": [
    {
     "name": "stdout",
     "output_type": "stream",
     "text": [
      "=================================\n",
      "Initial portfolio value:100000\n",
      "Final portfolio value: 108586.28125\n",
      "Final accumulative portfolio value: 1.0858627557754517\n",
      "Maximum DrawDown: -0.34888324502599044\n",
      "Sharpe ratio: 0.3036335958265525\n",
      "=================================\n",
      "Collected 451 steps.\n",
      "Rewards: [-0.008783356286585331, 0.06990521401166916, 0.008109972812235355, 0.03235789015889168, 0.007372790016233921, 0.0010714748641476035, 0.004531234968453646, 0.004235583357512951, 0.004413388203829527, -0.005751128774136305, -0.005467612762004137, -0.004602577071636915, 0.006856366991996765, -0.003224021289497614, 0.00011872540198964998, 0.00011896379146492109, -0.00422804057598114, 0.015807321295142174, -0.009600683115422726, -0.007440762594342232, 0.00272486568428576, 0.008957086130976677, 0.005731339566409588, -0.00833314098417759, -0.006196584552526474, -0.019248435273766518, 0.009028798900544643, -0.001525969710201025, -0.010787769220769405, -0.005907546263188124, -0.002741634612902999, 0.002087558386847377, 0.004406385589390993, 0.003150026546791196, -0.0026414082385599613, -0.030887316912412643, -0.0007137818611226976, 0.009550359100103378, -0.008081579580903053, 0.01636628806591034, -0.004482705146074295, -0.002895191079005599, 0.0010840974282473326, -0.00012511797831393778, 0.00780556071549654, 0.006389664486050606, -0.0013158629881218076, -0.011171702295541763, 0.023582687601447105, 0.018142469227313995, 0.00984892901033163, 0.008225138299167156, -0.009510357864201069, -0.0034086918458342552, 0.012566314078867435, -0.011653711088001728, 0.020378386601805687, -0.00996068213135004, 0.0022546842228621244, 0.010926770977675915, 0.016483791172504425, 0.003233920084312558, -0.0043207635171711445, -0.0002097707474604249, 0.0026865839026868343, 0.026031140238046646, -0.0025429248344153166, -0.0025683215353637934, -0.001100012450478971, -0.008298281580209732, -0.00869033858180046, -0.010413981042802334, 0.006554533261805773, 0.009875016286969185, -0.0034954771399497986, -0.007027285173535347, 0.010107642039656639, 0.01045488566160202, -0.0074214269407093525, 0.008485216647386551, -0.009802907705307007, 0.004810427315533161, 0.008158216252923012, -0.002047368325293064, 0.004220388829708099, 0.004091701935976744, 0.0025100174825638533, -0.0038965463172644377, -0.003800332546234131, 0.0026154855731874704, -0.006560820154845715, -0.0022213077172636986, 0.00835589598864317, 0.007698509376496077, 0.006123590283095837, -0.006436513736844063, -0.0056450255215168, -0.010320871137082577, 0.03307446837425232, -0.007157007697969675, 0.0020450884476304054, 0.003604820929467678, -0.0013275609817355871, -0.002295504091307521, 0.002732117660343647, -0.011139336042106152, 0.0037450906820595264, 0.0060107894241809845, -0.027271544560790062, -0.005857062991708517, -0.008641819469630718, -0.004778339061886072, -0.015596749261021614, 0.007626938167959452, 0.0008268513483926654, -0.0005381959490478039, 0.005293282680213451, 0.004027945920825005, 0.002986497012898326, 0.02415175549685955, 0.0049753193743526936, 0.006234719883650541, -0.014850792475044727, -0.0016014279099181294, 0.003442197572439909, -0.0013570452574640512, 0.003787250956520438, -0.03424786031246185, -0.004535574000328779, 0.011091010645031929, -0.01651855558156967, -0.02506246417760849, 0.018553519621491432, 0.004919804632663727, -0.004452110733836889, -0.039403874427080154, 0.019667495042085648, 0.0026594768278300762, -0.0018450343050062656, 0.016014521941542625, -0.009029501117765903, 0.006074537988752127, -0.014351035468280315, 0.015213053673505783, 0.016931507736444473, 0.0013467537937685847, -0.003602010430768132, -0.0011197634739801288, -0.0015273427125066519, 0.00017414960893802345, 0.007592866197228432, 0.0012854416854679585, -0.0009398703696206212, 0.0017446548445150256, 0.008641350083053112, 0.0014044907875359058, -0.0036483120638877153, -0.02291332185268402, -0.02993203140795231, -0.009436767548322678, -0.0082795899361372, -0.015771426260471344, -0.018261946737766266, -0.0011630262015387416, 0.012991784140467644, -0.0006921898457221687, 0.02605460211634636, 0.00040880427695810795, -0.002762553747743368, 0.0020469920709729195, 0.0037149244453758, -0.007710663136094809, 0.012791253626346588, 0.0018429452320560813, -0.005152602680027485, -0.003300205571576953, -0.008586568757891655, 0.013146979734301567, 0.0016033900901675224, 0.00323950476013124, -0.010158583521842957, -0.06661809980869293, 0.0034862712491303682, -0.009528891183435917, 0.0007902836659923196, 0.000570253818295896, 0.008124753832817078, -0.021258916705846786, -0.018682405352592468, -0.005721214693039656, 0.014534078538417816, 0.050879206508398056, 0.021311454474925995, 0.029194483533501625, 0.015991410240530968, -0.01995317079126835, -0.010333518497645855, 0.002300951164215803, 0.01337225828319788, 0.0030125256162136793, -0.012840823270380497, -0.010958957485854626, 0.0008472190820612013, 0.018136147409677505, -0.001055320492014289, 0.003911583684384823, 0.013221685774624348, 0.004481391981244087, 0.007562579121440649, 0.01133525837212801, -0.002088819397613406, 0.004173142369836569, 0.007116209715604782, 0.007162133697420359, 0.006425080355256796, -0.014205624349415302, 0.012144903652369976, -0.004210981074720621, -0.008707474917173386, -0.016898028552532196, -0.008874999359250069, -0.038369689136743546, -0.006353731732815504, 0.028087250888347626, 0.004170055501163006, 0.01605323515832424, -0.004699586890637875, -0.0023878689389675856, -0.02262825146317482, 0.008745227940380573, 0.0024616196751594543, -0.00636812811717391, 0.008542188443243504, -0.00036192528204992414, -0.011765459552407265, -0.016861535608768463, 0.007187580689787865, -0.003991273231804371, 0.015197202563285828, -0.01124722883105278, -0.0009498933795839548, 0.004946020431816578, 0.04584517702460289, -0.029108233749866486, 0.0072313714772462845, -0.01690099947154522, -0.003844907972961664, 0.0027215369045734406, 0.0056446916423738, 0.017764156684279442, 0.006823926232755184, 0.014115964993834496, 0.00747881131246686, 0.0629766434431076, 0.04351261630654335, -0.01571735553443432, 0.0017527469899505377, -0.012101322412490845, -0.006880895234644413, 0.009062821976840496, -0.00012511797831393778, 0.017779849469661713, -0.005226657260209322, 0.016762128099799156, -0.00029508653096854687, -0.00590101070702076, 0.029350077733397484, -0.034268032759428024, -0.002828840399160981, -0.004001925233751535, 0.0002824861148837954, -0.013298026286065578, 0.01161880325525999, 0.01570851542055607, 0.009411491453647614, -0.00010353863035561517, -0.003335309913381934, 0.0019024383509531617, 0.003225721186026931, -0.004453188739717007, 0.0011236312566325068, 0.009955278597772121, 0.00447225384414196, 0.0003746046277228743, 0.0020239122677594423, 0.005135203246027231, -0.0023185049649327993, 0.014265814796090126, 0.009144803509116173, -0.014487577602267265, 0.0023315169382840395, -0.004668506793677807, 0.008264036849141121, -0.015612974762916565, -0.0022577480413019657, 0.009976995177567005, -0.005214254837483168, -0.019159117713570595, 0.0046434905380010605, -0.006184589583426714, -0.003593575907871127, -0.002769068581983447, 0.003099520690739155, 0.0019452712731435895, -0.0026061490643769503, 0.012173050083220005, 0.004851949401199818, -0.002363074105232954, 0.015328577719628811, 0.0007425173535011709, -0.0026182804722338915, -0.013007231056690216, -0.0033985842019319534, 0.01643958128988743, 0.01090082898736, 0.0005853846669197083, 0.012215091846883297, -0.08459962904453278, 0.02669481188058853, -0.009337431751191616, 0.006304850801825523, 0.0032600611448287964, -0.002821308793500066, -0.009202253073453903, -0.006806297693401575, 0.006664667744189501, 0.0012037658598273993, -0.005517357029020786, 0.0014754373114556074, 0.0027317609637975693, 0.005406164564192295, -0.017399849370121956, 0.01646561548113823, 0.05098547413945198, 0.014574259519577026, 0.016966434195637703, 0.015213171020150185, -0.017066143453121185, -0.01442002970725298, -0.021218063309788704, -0.0015523555921390653, -0.004365900997072458, -0.021686971187591553, 0.03992032632231712, -0.005024997051805258, -0.011141445487737656, 0.02500341646373272, 0.0015832758508622646, 0.0026169123593717813, 0.0029870914295315742, -0.0027569951489567757, -0.005421346519142389, 0.009144803509116173, -0.05350268632173538, -0.05202338472008705, 0.023644277825951576, 0.008118605241179466, -0.05764665827155113, -0.033873770385980606, 0.00910983793437481, -0.04314780980348587, -0.02638310380280018, 0.02882751077413559, -0.021174350753426552, 0.021994473412632942, 0.012340265326201916, -0.00047402887139469385, 0.009928840212523937, -0.002272025914862752, -0.004303403198719025, -0.0038277357816696167, -0.0026722459588199854, 0.00393806304782629, 0.00559976464137435, -0.005620989017188549, -0.00017233187099918723, -0.03512578830122948, 0.005254032090306282, 0.015126166865229607, 0.05843089893460274, 0.011600774712860584, 0.020905854180455208, 0.013960919342935085, -0.003171580610796809, 0.010642911307513714, -0.00407392019405961, -0.005699933972209692, 0.007111948449164629, -0.0006586693925783038, 0.012968955561518669, -0.008241968229413033, -0.01261836662888527, 0.002858245512470603, 0.017614947631955147, 0.019591398537158966, -0.003530767746269703, -0.008220934309065342, -0.005070286337286234, 0.0027155925054103136, -7.701216964051127e-05, 0.01771707832813263, 0.017468292266130447, -0.006028188392519951, -0.03951951116323471, -0.026282131671905518, 0.0008629412623122334, -0.018098123371601105, 0.004640286788344383, -0.015941351652145386, 0.028177771717309952, -0.02774807997047901, -0.04066643491387367, 0.02032068371772766, -0.043772198259830475, -0.014192928560078144, -0.05134318768978119, -0.00043264447594992816, 0.008021521382033825, -0.020556729286909103, 0.031140459701418877, 0.018174896016716957, 0.0007977878558449447, 0.010026093572378159, 0.009535599499940872, 0.004362471401691437, 0.026126956567168236, 0.010016887448728085, -0.020727407187223434, -0.026483656838536263, -0.02867600880563259, 0.005819639191031456, 0.00394625635817647, 0.02636105753481388, -0.09663760662078857, -0.08236507326364517, -0.011320953257381916, -0.007092654705047607, 0.11175037175416946, -0.053794242441654205, 0.00942873302847147, 0.01911083795130253, 0.007728319149464369, -0.017558645457029343, 0.020703986287117004, -0.01608586311340332, 0.0364852100610733, 0.01776474341750145, 0.029890190809965134, -0.0009355747606605291, 0.0028224652633070946, 0.0028224652633070946]\n"
     ]
    }
   ],
   "source": [
    "def portfolio_test(env, policy, initial_last_action=None):\n",
    "    obs, _ = env.reset()\n",
    "    obs = np.asarray(obs, dtype=np.float32)\n",
    "\n",
    "    # Initial last_action\n",
    "    if initial_last_action is None:\n",
    "        action_dim = env.action_space.shape[0]\n",
    "        last_action = np.ones(action_dim, dtype=np.float32) / action_dim\n",
    "    else:\n",
    "        last_action = np.asarray(initial_last_action).flatten().astype(np.float32)\n",
    "\n",
    "    done = False\n",
    "    transitions = []\n",
    "\n",
    "    while not done:\n",
    "        # Create batches\n",
    "        obs_batch = obs[None, ...]\n",
    "        la_batch = last_action[None, ...]\n",
    "\n",
    "        # Policy forward\n",
    "        action = policy(obs_batch, la_batch)\n",
    "        action = np.asarray(action).flatten().astype(np.float32)\n",
    "\n",
    "        # Step\n",
    "        next_obs, reward, terminated, truncated, info = env.step(action)\n",
    "        done = bool(terminated or truncated)\n",
    "\n",
    "        next_obs = np.asarray(next_obs, dtype=np.float32)\n",
    "\n",
    "        # Record\n",
    "        transitions.append(\n",
    "            {\n",
    "                \"obs\": obs,\n",
    "                \"last_action\": last_action,\n",
    "                \"action\": action,\n",
    "                \"reward\": float(reward),\n",
    "                \"info\": info,\n",
    "            }\n",
    "        )\n",
    "\n",
    "        # Advance\n",
    "        obs = next_obs\n",
    "        last_action = action\n",
    "\n",
    "    return transitions\n",
    "\n",
    "\n",
    "transitions = portfolio_test(test_env, policy)\n",
    "\n",
    "print(f\"Collected {len(transitions)} steps.\")\n",
    "print(\"Rewards:\", [t[\"reward\"] for t in transitions])"
   ]
  },
  {
   "cell_type": "code",
   "execution_count": 37,
   "id": "0eb2b3fc",
   "metadata": {},
   "outputs": [],
   "source": [
    "# Inspect rewards or info:\n",
    "infosrewards = [t[\"reward\"] for t in transitions]\n",
    "infos = [t[\"info\"] for t in transitions]"
   ]
  },
  {
   "cell_type": "markdown",
   "id": "3945e551",
   "metadata": {},
   "source": [
    "## Benchmarks\n"
   ]
  },
  {
   "cell_type": "code",
   "execution_count": 38,
   "id": "335b3391",
   "metadata": {},
   "outputs": [],
   "source": [
    "# Get portfolio values\n",
    "eiie_values = test_env._asset_memory[\"final\"]\n",
    "bh_values = []"
   ]
  },
  {
   "cell_type": "code",
   "execution_count": 39,
   "id": "1367ea3a",
   "metadata": {},
   "outputs": [
    {
     "name": "stdout",
     "output_type": "stream",
     "text": [
      "=================================\n",
      "Initial portfolio value:100000\n",
      "Final portfolio value: 118570.15625\n",
      "Final accumulative portfolio value: 1.185701608657837\n",
      "Maximum DrawDown: -0.1432930207822235\n",
      "Sharpe ratio: 0.781344649973101\n",
      "=================================\n"
     ]
    }
   ],
   "source": [
    "# Calculate Buy & Hold\n",
    "test_env.reset()\n",
    "action = [1 / len(tickers)] * len(tickers)\n",
    "done = False\n",
    "while not done:  # Use test_env._done to check episode completion\n",
    "    test_obs, rewards, terminated, truncated, info = test_env.step(action)\n",
    "    done = terminated or truncated\n",
    "    bh_values.append(test_env._portfolio_value)"
   ]
  },
  {
   "cell_type": "code",
   "execution_count": 40,
   "id": "9afb48b3",
   "metadata": {},
   "outputs": [],
   "source": [
    "risk_free_rate = 0.043  # 4.3% annualized"
   ]
  },
  {
   "cell_type": "code",
   "execution_count": 48,
   "id": "5a147661",
   "metadata": {},
   "outputs": [],
   "source": [
    "# Calculate metrics\n",
    "def calculate_metrics(values, risk_free_rate):\n",
    "    returns = pd.Series(values).pct_change().dropna()\n",
    "    cumulative_return = (values[-1] / values[0]) - 1\n",
    "    annualized_return = (1 + cumulative_return) ** (252 / len(returns)) - 1\n",
    "    volatility = returns.std() * np.sqrt(252)\n",
    "    sharpe_ratio = (annualized_return - risk_free_rate) / volatility\n",
    "    max_drawdown = (values / np.maximum.accumulate(values) - 1).min()\n",
    "\n",
    "    return {\n",
    "        \"Cumulative Return\": cumulative_return,\n",
    "        \"Annualized Return\": annualized_return,\n",
    "        \"Volatility\": volatility,\n",
    "        \"Sharpe Ratio\": sharpe_ratio,\n",
    "        \"Max Drawdown\": max_drawdown,\n",
    "    }\n",
    "\n",
    "\n",
    "eiie_metrics = calculate_metrics(eiie_values, risk_free_rate)\n",
    "bh_metrics = calculate_metrics(bh_values, risk_free_rate)"
   ]
  },
  {
   "cell_type": "code",
   "execution_count": 49,
   "id": "deea7dcc",
   "metadata": {},
   "outputs": [],
   "source": [
    "# Step 1: Define metrics\n",
    "metrics = [\n",
    "    \"Cumulative Return\",\n",
    "    \"Annualized Return\",\n",
    "    \"Volatility\",\n",
    "    \"Sharpe Ratio\",\n",
    "    \"Max Drawdown\",\n",
    "]\n",
    "\n",
    "# Step 2: Create DataFrame\n",
    "metrics_df = pd.DataFrame(\n",
    "    {\n",
    "        \"Metric\": metrics,\n",
    "        \"EI3\": [eiie_metrics[m] for m in metrics],\n",
    "        \"Buy & Hold\": [bh_metrics[m] for m in metrics],\n",
    "    }\n",
    ")"
   ]
  },
  {
   "cell_type": "markdown",
   "id": "7c912897",
   "metadata": {},
   "source": [
    "## Performance Summary\n"
   ]
  },
  {
   "cell_type": "code",
   "execution_count": 50,
   "id": "4a516382",
   "metadata": {},
   "outputs": [
    {
     "data": {
      "image/png": "[encoded data removed]",
      "text/plain": [
       "<Figure size 1200x600 with 1 Axes>"
      ]
     },
     "metadata": {},
     "output_type": "display_data"
    }
   ],
   "source": [
    "# Plot results\n",
    "plt.figure(figsize=(12, 6))\n",
    "# plt.subplot(1, 2, 1)\n",
    "plt.plot(eiie_values, label=\"EI3 Strategy\")\n",
    "plt.plot(bh_values, label=\"Buy & Hold\", linestyle=\"--\")\n",
    "plt.title(\"Portfolio Value Comparison\")\n",
    "plt.xlabel(\"Days\")\n",
    "plt.ylabel(\"Portfolio Value ($)\")\n",
    "plt.legend()\n",
    "plt.show()\n",
    "plt.close()"
   ]
  },
  {
   "cell_type": "code",
   "execution_count": 51,
   "id": "a266f3b6",
   "metadata": {},
   "outputs": [
    {
     "data": {
      "image/png": "[encoded data removed]",
      "text/plain": [
       "<Figure size 1200x600 with 1 Axes>"
      ]
     },
     "metadata": {},
     "output_type": "display_data"
    }
   ],
   "source": [
    "# plt.subplot(1, 2, 2)\n",
    "plt.figure(figsize=(12, 6))\n",
    "metrics_df.set_index(\"Metric\").plot(kind=\"bar\", ax=plt.gca())\n",
    "plt.title(\"Performance Metrics Comparison\")\n",
    "plt.xticks(rotation=45)\n",
    "plt.tight_layout()\n",
    "plt.show()\n",
    "plt.close()"
   ]
  },
  {
   "cell_type": "code",
   "execution_count": 52,
   "id": "19c0545f",
   "metadata": {},
   "outputs": [
    {
     "name": "stdout",
     "output_type": "stream",
     "text": [
      "\n",
      "Performance Metrics:\n"
     ]
    },
    {
     "data": {
      "text/html": [
       "<style type=\"text/css\">\n",
       "</style>\n",
       "<table id=\"T_41313\">\n",
       "  <thead>\n",
       "    <tr>\n",
       "      <th class=\"blank level0\" >&nbsp;</th>\n",
       "      <th id=\"T_41313_level0_col0\" class=\"col_heading level0 col0\" >Metric</th>\n",
       "      <th id=\"T_41313_level0_col1\" class=\"col_heading level0 col1\" >EI3</th>\n",
       "      <th id=\"T_41313_level0_col2\" class=\"col_heading level0 col2\" >Buy & Hold</th>\n",
       "    </tr>\n",
       "  </thead>\n",
       "  <tbody>\n",
       "    <tr>\n",
       "      <th id=\"T_41313_level0_row0\" class=\"row_heading level0 row0\" >0</th>\n",
       "      <td id=\"T_41313_row0_col0\" class=\"data row0 col0\" >Cumulative Return</td>\n",
       "      <td id=\"T_41313_row0_col1\" class=\"data row0 col1\" >0.085863</td>\n",
       "      <td id=\"T_41313_row0_col2\" class=\"data row0 col2\" >18.46%</td>\n",
       "    </tr>\n",
       "    <tr>\n",
       "      <th id=\"T_41313_level0_row1\" class=\"row_heading level0 row1\" >1</th>\n",
       "      <td id=\"T_41313_row1_col0\" class=\"data row1 col0\" >Annualized Return</td>\n",
       "      <td id=\"T_41313_row1_col1\" class=\"data row1 col1\" >0.047210</td>\n",
       "      <td id=\"T_41313_row1_col2\" class=\"data row1 col2\" >9.95%</td>\n",
       "    </tr>\n",
       "    <tr>\n",
       "      <th id=\"T_41313_level0_row2\" class=\"row_heading level0 row2\" >2</th>\n",
       "      <td id=\"T_41313_row2_col0\" class=\"data row2 col0\" >Volatility</td>\n",
       "      <td id=\"T_41313_row2_col1\" class=\"data row2 col1\" >0.291317</td>\n",
       "      <td id=\"T_41313_row2_col2\" class=\"data row2 col2\" >13.33%</td>\n",
       "    </tr>\n",
       "    <tr>\n",
       "      <th id=\"T_41313_level0_row3\" class=\"row_heading level0 row3\" >3</th>\n",
       "      <td id=\"T_41313_row3_col0\" class=\"data row3 col0\" >Sharpe Ratio</td>\n",
       "      <td id=\"T_41313_row3_col1\" class=\"data row3 col1\" >0.014453</td>\n",
       "      <td id=\"T_41313_row3_col2\" class=\"data row3 col2\" >42.42%</td>\n",
       "    </tr>\n",
       "    <tr>\n",
       "      <th id=\"T_41313_level0_row4\" class=\"row_heading level0 row4\" >4</th>\n",
       "      <td id=\"T_41313_row4_col0\" class=\"data row4 col0\" >Max Drawdown</td>\n",
       "      <td id=\"T_41313_row4_col1\" class=\"data row4 col1\" >-0.348883</td>\n",
       "      <td id=\"T_41313_row4_col2\" class=\"data row4 col2\" >-14.33%</td>\n",
       "    </tr>\n",
       "  </tbody>\n",
       "</table>\n"
      ],
      "text/plain": [
       "<pandas.io.formats.style.Styler at 0x307072ae0>"
      ]
     },
     "metadata": {},
     "output_type": "display_data"
    }
   ],
   "source": [
    "# Display metrics\n",
    "print(\"\\nPerformance Metrics:\")\n",
    "display(\n",
    "    metrics_df.style.format(\n",
    "        {\n",
    "            \"EIIE\": \"{:.2%}\",\n",
    "            \"Buy & Hold\": \"{:.2%}\",\n",
    "            \"Sharpe Ratio\": \"{:.2f}\",\n",
    "            \"Volatility\": \"{:.2%}\",\n",
    "        }\n",
    "    )\n",
    ")"
   ]
  },
  {
   "cell_type": "code",
   "execution_count": 53,
   "id": "9415f2ec",
   "metadata": {},
   "outputs": [
    {
     "name": "stdout",
     "output_type": "stream",
     "text": [
      "\n",
      "Optimal Weights from Sharpe Ratio Optimization:\n",
      "AXP: 34.19%\n",
      "AMGN: 0.00%\n",
      "AAPL: 0.00%\n",
      "BA: 0.00%\n",
      "CAT: 1.72%\n",
      "CSCO: 0.00%\n",
      "CVX: 0.00%\n",
      "GS: 0.00%\n",
      "HD: 0.00%\n",
      "HON: 0.00%\n",
      "IBM: 7.76%\n",
      "INTC: 0.00%\n",
      "JNJ: 0.00%\n",
      "KO: 0.00%\n",
      "JPM: 0.00%\n",
      "MCD: 0.00%\n",
      "MMM: 0.00%\n",
      "MRK: 0.00%\n",
      "MSFT: 0.00%\n",
      "NKE: 0.00%\n",
      "PG: 0.00%\n",
      "TRV: 2.64%\n",
      "UNH: 0.00%\n",
      "CRM: 0.00%\n",
      "VZ: 0.00%\n",
      "V: 0.00%\n",
      "WBA: 0.00%\n",
      "WMT: 0.00%\n",
      "DIS: 0.00%\n",
      "DOW: 53.68%\n"
     ]
    }
   ],
   "source": [
    "# Additional Sharpe ratio optimization\n",
    "log_returns = raw_df.pivot_table(index=\"date\", columns=\"tic\", values=\"close\")\n",
    "log_returns = np.log(log_returns.pct_change() + 1).dropna()\n",
    "cov_matrix = log_returns.cov() * 252\n",
    "\n",
    "\n",
    "def negative_sharpe(weights):\n",
    "    port_return = np.dot(weights, log_returns.mean()) * 252\n",
    "    port_vol = np.sqrt(weights.T @ cov_matrix @ weights)\n",
    "    return -(port_return - risk_free_rate) / port_vol\n",
    "\n",
    "\n",
    "constraints = {\"type\": \"eq\", \"fun\": lambda x: np.sum(x) - 1}\n",
    "bounds = [(0, 1) for _ in tickers]\n",
    "initial_weights = np.array([1 / len(tickers)] * len(tickers))\n",
    "\n",
    "result = minimize(\n",
    "    negative_sharpe,\n",
    "    initial_weights,\n",
    "    method=\"SLSQP\",\n",
    "    bounds=bounds,\n",
    "    constraints=constraints,\n",
    ")\n",
    "\n",
    "print(\"\\nOptimal Weights from Sharpe Ratio Optimization:\")\n",
    "for ticker, weight in zip(tickers, result.x):\n",
    "    print(f\"{ticker}: {weight:.2%}\")"
   ]
  }
 ],
 "metadata": {
  "kernelspec": {
   "display_name": "portfolio_opt",
   "language": "python",
   "name": "python3"
  },
  "language_info": {
   "codemirror_mode": {
    "name": "ipython",
    "version": 3
   },
   "file_extension": ".py",
   "mimetype": "text/x-python",
   "name": "python",
   "nbconvert_exporter": "python",
   "pygments_lexer": "ipython3",
   "version": "3.12.10"
  }
 },
 "nbformat": 4,
 "nbformat_minor": 5
}
