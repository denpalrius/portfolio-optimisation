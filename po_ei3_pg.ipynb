{
 "cells": [
  {
   "cell_type": "markdown",
   "id": "0e1c5a8a",
   "metadata": {},
   "source": [
    "# Deep Reinforcement Learning for Portfolio Optimization\n"
   ]
  },
  {
   "cell_type": "markdown",
   "id": "7e9f8e10",
   "metadata": {},
   "source": [
    "This experiement demonstrates the application of deep reinforcement learning (DRL) techniques for portfolio optimization.\n",
    "\n",
    "By leveraging state-of-the-art DRL algorithms, we aim to create a robust trading strategy that dynamically adjusts portfolio allocations to maximize returns while minimizing risks.\n",
    "\n",
    "Policy network architecture: **EI3 (Inception) backbone**\n",
    "\n",
    "- Compares `A2C`, `PPO`, `SAC`, `DDPG`, `TD3` all with simple MLPs\n",
    "\n",
    "The workflow includes:\n",
    "\n",
    "- Data preprocessing\n",
    "- Feature engineering\n",
    "- Environment setup\n",
    "- Training of DRL agents\n",
    "- Backtesting\n",
    "- Benchmarking against traditional strategies\n"
   ]
  },
  {
   "cell_type": "markdown",
   "id": "b8dfb03e",
   "metadata": {},
   "source": [
    "## Dependencies\n"
   ]
  },
  {
   "cell_type": "code",
   "execution_count": 1,
   "id": "b8f91ee1",
   "metadata": {},
   "outputs": [],
   "source": [
    "# ! pip install pandas numpy matplotlib \\\n",
    "#                stable-baselines3 \\\n",
    "#                PyPortfolioOpt \\\n",
    "#                pandas_market_calendars quantstats gymnasium \\\n",
    "#                git+https://github.com/AI4Finance-Foundation/FinRL.git -q"
   ]
  },
  {
   "cell_type": "code",
   "execution_count": 2,
   "id": "51776d45",
   "metadata": {},
   "outputs": [],
   "source": [
    "import os\n",
    "import time\n",
    "import pandas as pd\n",
    "import numpy as np\n",
    "import matplotlib.pyplot as plt\n",
    "import seaborn as sns\n",
    "from datetime import datetime, timedelta\n",
    "\n",
    "from scipy.optimize import minimize\n",
    "\n",
    "import torch\n",
    "\n",
    "from finrl import config_tickers\n",
    "from finrl.meta.preprocessor.yahoodownloader import YahooDownloader\n",
    "from finrl.meta.preprocessor.preprocessors import FeatureEngineer, data_split\n",
    "from finrl.meta.env_portfolio_optimization.env_portfolio_optimization import (\n",
    "    PortfolioOptimizationEnv,\n",
    ")\n",
    "from finrl.agents.portfolio_optimization.models import DRLAgent as POAgent\n",
    "from finrl.agents.portfolio_optimization.architectures import EI3"
   ]
  },
  {
   "cell_type": "code",
   "execution_count": 3,
   "id": "9e5cf3e3",
   "metadata": {},
   "outputs": [],
   "source": [
    "import warnings\n",
    "\n",
    "# warnings.filterwarnings(\"ignore\")\n",
    "\n",
    "%matplotlib inline"
   ]
  },
  {
   "cell_type": "code",
   "execution_count": 4,
   "id": "1d8f66f9",
   "metadata": {},
   "outputs": [
    {
     "name": "stdout",
     "output_type": "stream",
     "text": [
      "Using device: cpu\n"
     ]
    }
   ],
   "source": [
    "device = torch.device(\"cuda\" if torch.cuda.is_available() else \"cpu\")\n",
    "print(f\"Using device: {device}\")"
   ]
  },
  {
   "cell_type": "code",
   "execution_count": 5,
   "id": "f3e16a19",
   "metadata": {},
   "outputs": [],
   "source": [
    "experiment_name = \"portfolio_optimization_ei3_pg\"\n",
    "results_dir = f\"results/models/{experiment_name}\"\n",
    "os.makedirs(results_dir, exist_ok=True)"
   ]
  },
  {
   "cell_type": "markdown",
   "id": "3c6c1461",
   "metadata": {},
   "source": [
    "## Data loading and pre-processing\n"
   ]
  },
  {
   "cell_type": "markdown",
   "id": "2eefbe65",
   "metadata": {},
   "source": [
    "Define training and trading/test periods\n"
   ]
  },
  {
   "cell_type": "code",
   "execution_count": 6,
   "id": "542703af",
   "metadata": {},
   "outputs": [
    {
     "name": "stdout",
     "output_type": "stream",
     "text": [
      "Training period: ('2013-05-02', '2023-04-30')\n",
      "Testing period: ('2023-05-01', '2025-04-29')\n"
     ]
    }
   ],
   "source": [
    "start_date = \"2015-01-01\"\n",
    "end_date = (datetime.now() - pd.Timedelta(days=1)).strftime(\"%Y-%m-%d\")  # Yesterday\n",
    "\n",
    "trade_period = 2  # 2 years for testing\n",
    "train_period = 10  # 10 years for training\n",
    "\n",
    "train_end_date = (\n",
    "    datetime.strptime(end_date, \"%Y-%m-%d\") - timedelta(days=trade_period * 365)\n",
    ").strftime(\"%Y-%m-%d\")\n",
    "train_start_date = (\n",
    "    datetime.strptime(train_end_date, \"%Y-%m-%d\") - timedelta(days=train_period * 365)\n",
    ").strftime(\"%Y-%m-%d\")\n",
    "test_start_date = (\n",
    "    datetime.strptime(train_end_date, \"%Y-%m-%d\") + timedelta(days=1)\n",
    ").strftime(\"%Y-%m-%d\")\n",
    "\n",
    "train_dates = (train_start_date, train_end_date)\n",
    "test_dates = (test_start_date, end_date)\n",
    "\n",
    "print(f\"Training period: {train_dates}\")\n",
    "print(f\"Testing period: {test_dates}\")"
   ]
  },
  {
   "cell_type": "markdown",
   "id": "a36a425c",
   "metadata": {},
   "source": [
    "- Fetch historical stock data for a given list of tickers within a specified date range.\n",
    "- We use the DOW_30_TICKER stocks\n",
    "- The data includes `date`, `close`, `high`, `low`, `open`, `volume`, and `tic` (ticker symbol).\n"
   ]
  },
  {
   "cell_type": "code",
   "execution_count": 7,
   "id": "46c577ab",
   "metadata": {},
   "outputs": [
    {
     "name": "stdout",
     "output_type": "stream",
     "text": [
      "Downloading 2015-01-01 → 2025-04-29\n"
     ]
    },
    {
     "name": "stderr",
     "output_type": "stream",
     "text": [
      "[*********************100%***********************]  1 of 1 completed\n",
      "[*********************100%***********************]  1 of 1 completed\n",
      "[*********************100%***********************]  1 of 1 completed\n",
      "[*********************100%***********************]  1 of 1 completed\n",
      "[*********************100%***********************]  1 of 1 completed\n",
      "[*********************100%***********************]  1 of 1 completed\n",
      "[*********************100%***********************]  1 of 1 completed\n",
      "[*********************100%***********************]  1 of 1 completed\n",
      "[*********************100%***********************]  1 of 1 completed\n",
      "[*********************100%***********************]  1 of 1 completed\n",
      "[*********************100%***********************]  1 of 1 completed\n",
      "[*********************100%***********************]  1 of 1 completed\n",
      "[*********************100%***********************]  1 of 1 completed\n",
      "[*********************100%***********************]  1 of 1 completed\n",
      "[*********************100%***********************]  1 of 1 completed\n",
      "[*********************100%***********************]  1 of 1 completed\n",
      "[*********************100%***********************]  1 of 1 completed\n",
      "[*********************100%***********************]  1 of 1 completed\n",
      "[*********************100%***********************]  1 of 1 completed\n",
      "[*********************100%***********************]  1 of 1 completed\n",
      "[*********************100%***********************]  1 of 1 completed\n",
      "[*********************100%***********************]  1 of 1 completed\n",
      "[*********************100%***********************]  1 of 1 completed\n",
      "[*********************100%***********************]  1 of 1 completed\n",
      "[*********************100%***********************]  1 of 1 completed\n",
      "[*********************100%***********************]  1 of 1 completed\n",
      "[*********************100%***********************]  1 of 1 completed\n",
      "[*********************100%***********************]  1 of 1 completed\n",
      "[*********************100%***********************]  1 of 1 completed\n",
      "[*********************100%***********************]  1 of 1 completed\n"
     ]
    },
    {
     "name": "stdout",
     "output_type": "stream",
     "text": [
      "Shape of DataFrame:  (76791, 8)\n"
     ]
    }
   ],
   "source": [
    "def download_data(tickers, start_date, end_date):\n",
    "    print(f\"Downloading {start_date} → {end_date}\")\n",
    "    return YahooDownloader(\n",
    "        start_date=start_date, end_date=end_date, ticker_list=tickers\n",
    "    ).fetch_data()\n",
    "\n",
    "\n",
    "tickers = config_tickers.DOW_30_TICKER\n",
    "\n",
    "raw_df = download_data(tickers, start_date, end_date)"
   ]
  },
  {
   "cell_type": "markdown",
   "id": "71bb738f",
   "metadata": {},
   "source": [
    "---\n",
    "\n",
    "### Feature Engineering\n",
    "\n",
    "We apply feature engineering to the dataset of stock data:\n",
    "\n",
    "- Add technical indicators (e.g., moving averages, RSI).\n",
    "- Calculate turbulence indicators, which measure market volatility.\n",
    "\n",
    "This Enhance the dataset with features that are critical for modeling market dynamics and making informed trading decisions.\n"
   ]
  },
  {
   "cell_type": "code",
   "execution_count": 8,
   "id": "47dcd423",
   "metadata": {},
   "outputs": [
    {
     "name": "stdout",
     "output_type": "stream",
     "text": [
      "Successfully added technical indicators\n",
      "Successfully added turbulence index\n"
     ]
    }
   ],
   "source": [
    "def preprocess_data(df):\n",
    "    fe = FeatureEngineer(use_technical_indicator=True, use_turbulence=True)\n",
    "    return fe.preprocess_data(df)\n",
    "\n",
    "\n",
    "df_feat = preprocess_data(raw_df)\n",
    "\n",
    "# if df_all.empty:\n",
    "#     print(\"Preprocessing data...\")\n",
    "#     df_feat = preprocess_data(raw_df)\n",
    "#     df_feat.to_csv(\"data/df_all.csv\")\n",
    "# else:\n",
    "#     print(\"Using cached data...\")\n",
    "#     df_feat = df_all.copy()\n",
    "#     df_feat = df_feat[df_feat.index >= start_date]\n",
    "#     df_feat = df_feat[df_feat.index <= end_date]"
   ]
  },
  {
   "cell_type": "markdown",
   "id": "b6cdeb82",
   "metadata": {},
   "source": [
    "## Covariance & Returns for State\n"
   ]
  },
  {
   "cell_type": "markdown",
   "id": "002710f6",
   "metadata": {},
   "source": [
    "- Calculate the rolling covariance matrices and daily returns for the given dataset of stock prices.\n",
    "- This prepares the state representation (the state of the portfolio) for the RL models in the RL environments for portfolio optimization.\n",
    "- The **rolling covariance matrices** (`cov_list`) capture the relationships between asset returns, while the daily returns (`return_list`) provide information about recent price movements.\n",
    "- These metrics are critical for modeling the dynamics of the financial market and making informed trading decisions.\n"
   ]
  },
  {
   "cell_type": "code",
   "execution_count": 9,
   "id": "48b6f5c1",
   "metadata": {},
   "outputs": [],
   "source": [
    "def compute_covariance_and_returns(df_feat, lookback=252):\n",
    "    df_sorted = df_feat.sort_values([\"date\", \"tic\"], ignore_index=True)\n",
    "    df_sorted.index = df_sorted.date.factorize()[0]\n",
    "    cov_list, return_list = [], []\n",
    "\n",
    "    dates = df_sorted.date.unique()\n",
    "    for i in range(lookback, len(dates)):\n",
    "        win = df_sorted.loc[i - lookback : i]\n",
    "        pm = win.pivot_table(index=\"date\", columns=\"tic\", values=\"close\")\n",
    "        rm = pm.pct_change().dropna()\n",
    "        cov_list.append(rm.cov().values)\n",
    "        return_list.append(rm)\n",
    "    df_cov = pd.DataFrame(\n",
    "        {\"date\": dates[lookback:], \"cov_list\": cov_list, \"return_list\": return_list}\n",
    "    )\n",
    "\n",
    "    return pd.merge(df_feat, df_cov, on=\"date\", how=\"left\").dropna(subset=[\"cov_list\"])\n",
    "\n",
    "\n",
    "df_all = compute_covariance_and_returns(df_feat)"
   ]
  },
  {
   "cell_type": "markdown",
   "id": "91b7d720",
   "metadata": {},
   "source": [
    "## Train/Trade split\n"
   ]
  },
  {
   "cell_type": "code",
   "execution_count": 10,
   "id": "886a8a42",
   "metadata": {},
   "outputs": [],
   "source": [
    "def split_data(df_all, train_dates, test_dates):\n",
    "    train = data_split(df_all, *train_dates)\n",
    "    test = data_split(df_all, *test_dates)\n",
    "    return train, test\n",
    "\n",
    "\n",
    "train_df, test_df = split_data(df_all, train_dates, test_dates)"
   ]
  },
  {
   "cell_type": "markdown",
   "id": "1a83bcfe",
   "metadata": {},
   "source": [
    "## Environment setup\n"
   ]
  },
  {
   "cell_type": "markdown",
   "id": "17273f79",
   "metadata": {},
   "source": [
    "- Create instances of the **PortfolioOptimizationEnv** class for both training and testing datasets.\n",
    "- It also wrap the training environment for use with Stable-Baselines3 (SB3).\n"
   ]
  },
  {
   "cell_type": "code",
   "execution_count": 11,
   "id": "1bd7cff4",
   "metadata": {},
   "outputs": [],
   "source": [
    "def initialize_portfolio_env(df):\n",
    "    env = PortfolioOptimizationEnv(\n",
    "        df,\n",
    "        initial_amount=100_000,\n",
    "        comission_fee_pct=0.0025,\n",
    "        time_window=50,\n",
    "        features=[\"close\", \"high\", \"low\"],\n",
    "        normalize_df=None,\n",
    "        new_gym_api=True,\n",
    "    )\n",
    "\n",
    "    env.df = df.reset_index(drop=True)\n",
    "\n",
    "    return env\n",
    "\n",
    "\n",
    "train_env = initialize_portfolio_env(train_df)"
   ]
  },
  {
   "cell_type": "markdown",
   "id": "4ad6387a",
   "metadata": {},
   "source": [
    "## Training\n"
   ]
  },
  {
   "cell_type": "markdown",
   "id": "74879ebb",
   "metadata": {},
   "source": [
    "- Set PolicyGradient algorithm and EIIE architecture arguments\n"
   ]
  },
  {
   "cell_type": "code",
   "execution_count": 12,
   "id": "9b12a71b",
   "metadata": {},
   "outputs": [],
   "source": [
    "model_kwargs = {\"lr\": 0.01, \"policy\": EI3, \"device\": device}\n",
    "# Set EIIE architecture arguments\n",
    "policy_kwargs = {\n",
    "    \"k_short\": 3,  # short‐term conv kernel\n",
    "    \"k_medium\": 21,  # medium‐term conv kernel\n",
    "    \"conv_mid_features\": 3,  # intermediate channels\n",
    "    \"conv_final_features\": 20,\n",
    "    \"time_window\": 50,  # same as PortfolioOptimizationEnv(time_window)\n",
    "    \"device\": device,\n",
    "}\n",
    "model = POAgent(train_env).get_model(\"pg\", device, model_kwargs, policy_kwargs)"
   ]
  },
  {
   "cell_type": "markdown",
   "id": "7ccfbb5b",
   "metadata": {},
   "source": [
    "- Train the model\n"
   ]
  },
  {
   "cell_type": "code",
   "execution_count": 13,
   "id": "fec3c5c0",
   "metadata": {},
   "outputs": [
    {
     "name": "stderr",
     "output_type": "stream",
     "text": [
      "  0%|          | 0/64 [00:00<?, ?it/s]"
     ]
    },
    {
     "name": "stdout",
     "output_type": "stream",
     "text": [
      "=================================\n",
      "Initial portfolio value:100000\n",
      "Final portfolio value: 136513.484375\n",
      "Final accumulative portfolio value: 1.365134835243225\n",
      "Maximum DrawDown: -0.7792004434480897\n",
      "Sharpe ratio: 0.301397567820581\n",
      "=================================\n"
     ]
    },
    {
     "name": "stderr",
     "output_type": "stream",
     "text": [
      "  2%|▏         | 1/64 [00:17<17:56, 17.09s/it]"
     ]
    },
    {
     "name": "stdout",
     "output_type": "stream",
     "text": [
      "=================================\n",
      "Initial portfolio value:100000\n",
      "Final portfolio value: 207633.8125\n",
      "Final accumulative portfolio value: 2.076338052749634\n",
      "Maximum DrawDown: -0.24670321971642695\n",
      "Sharpe ratio: 0.6822827978198026\n",
      "=================================\n"
     ]
    },
    {
     "name": "stderr",
     "output_type": "stream",
     "text": [
      "  3%|▎         | 2/64 [00:34<17:37, 17.05s/it]"
     ]
    },
    {
     "name": "stdout",
     "output_type": "stream",
     "text": [
      "=================================\n",
      "Initial portfolio value:100000\n",
      "Final portfolio value: 100000.0\n",
      "Final accumulative portfolio value: 1.0\n",
      "Maximum DrawDown: 0.0\n",
      "Sharpe ratio: nan\n",
      "=================================\n"
     ]
    },
    {
     "name": "stderr",
     "output_type": "stream",
     "text": [
      "/Users/mzitoh/anaconda3/envs/portfolio_opt/lib/python3.12/site-packages/quantstats/stats.py:294: RuntimeWarning: invalid value encountered in scalar divide\n",
      "  res = returns.mean() / divisor\n",
      "  5%|▍         | 3/64 [00:54<18:52, 18.57s/it]/Users/mzitoh/anaconda3/envs/portfolio_opt/lib/python3.12/site-packages/quantstats/stats.py:294: RuntimeWarning: invalid value encountered in scalar divide\n",
      "  res = returns.mean() / divisor\n",
      "  6%|▋         | 4/64 [01:15<19:38, 19.64s/it]"
     ]
    },
    {
     "name": "stdout",
     "output_type": "stream",
     "text": [
      "=================================\n",
      "Initial portfolio value:100000\n",
      "Final portfolio value: 100000.0\n",
      "Final accumulative portfolio value: 1.0\n",
      "Maximum DrawDown: 0.0\n",
      "Sharpe ratio: nan\n",
      "=================================\n"
     ]
    },
    {
     "name": "stderr",
     "output_type": "stream",
     "text": [
      "/Users/mzitoh/anaconda3/envs/portfolio_opt/lib/python3.12/site-packages/quantstats/stats.py:294: RuntimeWarning: invalid value encountered in scalar divide\n",
      "  res = returns.mean() / divisor\n",
      "  8%|▊         | 5/64 [01:33<18:46, 19.10s/it]"
     ]
    },
    {
     "name": "stdout",
     "output_type": "stream",
     "text": [
      "=================================\n",
      "Initial portfolio value:100000\n",
      "Final portfolio value: 100000.0\n",
      "Final accumulative portfolio value: 1.0\n",
      "Maximum DrawDown: 0.0\n",
      "Sharpe ratio: nan\n",
      "=================================\n"
     ]
    },
    {
     "name": "stderr",
     "output_type": "stream",
     "text": [
      "/Users/mzitoh/anaconda3/envs/portfolio_opt/lib/python3.12/site-packages/quantstats/stats.py:294: RuntimeWarning: invalid value encountered in scalar divide\n",
      "  res = returns.mean() / divisor\n",
      "  9%|▉         | 6/64 [01:52<18:21, 18.99s/it]"
     ]
    },
    {
     "name": "stdout",
     "output_type": "stream",
     "text": [
      "=================================\n",
      "Initial portfolio value:100000\n",
      "Final portfolio value: 100000.0\n",
      "Final accumulative portfolio value: 1.0\n",
      "Maximum DrawDown: 0.0\n",
      "Sharpe ratio: nan\n",
      "=================================\n"
     ]
    },
    {
     "name": "stderr",
     "output_type": "stream",
     "text": [
      "/Users/mzitoh/anaconda3/envs/portfolio_opt/lib/python3.12/site-packages/quantstats/stats.py:294: RuntimeWarning: invalid value encountered in scalar divide\n",
      "  res = returns.mean() / divisor\n",
      " 11%|█         | 7/64 [02:09<17:28, 18.39s/it]"
     ]
    },
    {
     "name": "stdout",
     "output_type": "stream",
     "text": [
      "=================================\n",
      "Initial portfolio value:100000\n",
      "Final portfolio value: 100000.0\n",
      "Final accumulative portfolio value: 1.0\n",
      "Maximum DrawDown: 0.0\n",
      "Sharpe ratio: nan\n",
      "=================================\n"
     ]
    },
    {
     "name": "stderr",
     "output_type": "stream",
     "text": [
      "/Users/mzitoh/anaconda3/envs/portfolio_opt/lib/python3.12/site-packages/quantstats/stats.py:294: RuntimeWarning: invalid value encountered in scalar divide\n",
      "  res = returns.mean() / divisor\n",
      " 12%|█▎        | 8/64 [02:26<16:43, 17.92s/it]"
     ]
    },
    {
     "name": "stdout",
     "output_type": "stream",
     "text": [
      "=================================\n",
      "Initial portfolio value:100000\n",
      "Final portfolio value: 100000.0\n",
      "Final accumulative portfolio value: 1.0\n",
      "Maximum DrawDown: 0.0\n",
      "Sharpe ratio: nan\n",
      "=================================\n"
     ]
    },
    {
     "name": "stderr",
     "output_type": "stream",
     "text": [
      "/Users/mzitoh/anaconda3/envs/portfolio_opt/lib/python3.12/site-packages/quantstats/stats.py:294: RuntimeWarning: invalid value encountered in scalar divide\n",
      "  res = returns.mean() / divisor\n",
      " 14%|█▍        | 9/64 [02:43<16:12, 17.69s/it]"
     ]
    },
    {
     "name": "stdout",
     "output_type": "stream",
     "text": [
      "=================================\n",
      "Initial portfolio value:100000\n",
      "Final portfolio value: 100000.0\n",
      "Final accumulative portfolio value: 1.0\n",
      "Maximum DrawDown: 0.0\n",
      "Sharpe ratio: nan\n",
      "=================================\n"
     ]
    },
    {
     "name": "stderr",
     "output_type": "stream",
     "text": [
      "/Users/mzitoh/anaconda3/envs/portfolio_opt/lib/python3.12/site-packages/quantstats/stats.py:294: RuntimeWarning: invalid value encountered in scalar divide\n",
      "  res = returns.mean() / divisor\n",
      " 16%|█▌        | 10/64 [03:01<15:59, 17.76s/it]"
     ]
    },
    {
     "name": "stdout",
     "output_type": "stream",
     "text": [
      "=================================\n",
      "Initial portfolio value:100000\n",
      "Final portfolio value: 100000.0\n",
      "Final accumulative portfolio value: 1.0\n",
      "Maximum DrawDown: 0.0\n",
      "Sharpe ratio: nan\n",
      "=================================\n",
      "=================================\n",
      "Initial portfolio value:100000\n",
      "Final portfolio value: 100000.0\n",
      "Final accumulative portfolio value: 1.0\n",
      "Maximum DrawDown: 0.0\n",
      "Sharpe ratio: nan\n",
      "=================================\n"
     ]
    },
    {
     "name": "stderr",
     "output_type": "stream",
     "text": [
      "/Users/mzitoh/anaconda3/envs/portfolio_opt/lib/python3.12/site-packages/quantstats/stats.py:294: RuntimeWarning: invalid value encountered in scalar divide\n",
      "  res = returns.mean() / divisor\n",
      " 17%|█▋        | 11/64 [03:18<15:30, 17.56s/it]/Users/mzitoh/anaconda3/envs/portfolio_opt/lib/python3.12/site-packages/quantstats/stats.py:294: RuntimeWarning: invalid value encountered in scalar divide\n",
      "  res = returns.mean() / divisor\n",
      " 19%|█▉        | 12/64 [03:36<15:06, 17.44s/it]"
     ]
    },
    {
     "name": "stdout",
     "output_type": "stream",
     "text": [
      "=================================\n",
      "Initial portfolio value:100000\n",
      "Final portfolio value: 100000.0\n",
      "Final accumulative portfolio value: 1.0\n",
      "Maximum DrawDown: 0.0\n",
      "Sharpe ratio: nan\n",
      "=================================\n"
     ]
    },
    {
     "name": "stderr",
     "output_type": "stream",
     "text": [
      "/Users/mzitoh/anaconda3/envs/portfolio_opt/lib/python3.12/site-packages/quantstats/stats.py:294: RuntimeWarning: invalid value encountered in scalar divide\n",
      "  res = returns.mean() / divisor\n",
      " 20%|██        | 13/64 [03:53<14:41, 17.28s/it]"
     ]
    },
    {
     "name": "stdout",
     "output_type": "stream",
     "text": [
      "=================================\n",
      "Initial portfolio value:100000\n",
      "Final portfolio value: 100000.0\n",
      "Final accumulative portfolio value: 1.0\n",
      "Maximum DrawDown: 0.0\n",
      "Sharpe ratio: nan\n",
      "=================================\n"
     ]
    },
    {
     "name": "stderr",
     "output_type": "stream",
     "text": [
      "/Users/mzitoh/anaconda3/envs/portfolio_opt/lib/python3.12/site-packages/quantstats/stats.py:294: RuntimeWarning: invalid value encountered in scalar divide\n",
      "  res = returns.mean() / divisor\n",
      " 22%|██▏       | 14/64 [04:09<14:18, 17.17s/it]"
     ]
    },
    {
     "name": "stdout",
     "output_type": "stream",
     "text": [
      "=================================\n",
      "Initial portfolio value:100000\n",
      "Final portfolio value: 100000.0\n",
      "Final accumulative portfolio value: 1.0\n",
      "Maximum DrawDown: 0.0\n",
      "Sharpe ratio: nan\n",
      "=================================\n"
     ]
    },
    {
     "name": "stderr",
     "output_type": "stream",
     "text": [
      "/Users/mzitoh/anaconda3/envs/portfolio_opt/lib/python3.12/site-packages/quantstats/stats.py:294: RuntimeWarning: invalid value encountered in scalar divide\n",
      "  res = returns.mean() / divisor\n",
      " 23%|██▎       | 15/64 [04:27<13:59, 17.13s/it]"
     ]
    },
    {
     "name": "stdout",
     "output_type": "stream",
     "text": [
      "=================================\n",
      "Initial portfolio value:100000\n",
      "Final portfolio value: 100000.0\n",
      "Final accumulative portfolio value: 1.0\n",
      "Maximum DrawDown: 0.0\n",
      "Sharpe ratio: nan\n",
      "=================================\n"
     ]
    },
    {
     "name": "stderr",
     "output_type": "stream",
     "text": [
      "/Users/mzitoh/anaconda3/envs/portfolio_opt/lib/python3.12/site-packages/quantstats/stats.py:294: RuntimeWarning: invalid value encountered in scalar divide\n",
      "  res = returns.mean() / divisor\n",
      " 25%|██▌       | 16/64 [04:44<13:54, 17.39s/it]"
     ]
    },
    {
     "name": "stdout",
     "output_type": "stream",
     "text": [
      "=================================\n",
      "Initial portfolio value:100000\n",
      "Final portfolio value: 100000.0\n",
      "Final accumulative portfolio value: 1.0\n",
      "Maximum DrawDown: 0.0\n",
      "Sharpe ratio: nan\n",
      "=================================\n"
     ]
    },
    {
     "name": "stderr",
     "output_type": "stream",
     "text": [
      "/Users/mzitoh/anaconda3/envs/portfolio_opt/lib/python3.12/site-packages/quantstats/stats.py:294: RuntimeWarning: invalid value encountered in scalar divide\n",
      "  res = returns.mean() / divisor\n",
      " 27%|██▋       | 17/64 [05:02<13:33, 17.31s/it]"
     ]
    },
    {
     "name": "stdout",
     "output_type": "stream",
     "text": [
      "=================================\n",
      "Initial portfolio value:100000\n",
      "Final portfolio value: 100000.0\n",
      "Final accumulative portfolio value: 1.0\n",
      "Maximum DrawDown: 0.0\n",
      "Sharpe ratio: nan\n",
      "=================================\n"
     ]
    },
    {
     "name": "stderr",
     "output_type": "stream",
     "text": [
      "/Users/mzitoh/anaconda3/envs/portfolio_opt/lib/python3.12/site-packages/quantstats/stats.py:294: RuntimeWarning: invalid value encountered in scalar divide\n",
      "  res = returns.mean() / divisor\n",
      " 28%|██▊       | 18/64 [05:19<13:12, 17.23s/it]"
     ]
    },
    {
     "name": "stdout",
     "output_type": "stream",
     "text": [
      "=================================\n",
      "Initial portfolio value:100000\n",
      "Final portfolio value: 100000.0\n",
      "Final accumulative portfolio value: 1.0\n",
      "Maximum DrawDown: 0.0\n",
      "Sharpe ratio: nan\n",
      "=================================\n"
     ]
    },
    {
     "name": "stderr",
     "output_type": "stream",
     "text": [
      "/Users/mzitoh/anaconda3/envs/portfolio_opt/lib/python3.12/site-packages/quantstats/stats.py:294: RuntimeWarning: invalid value encountered in scalar divide\n",
      "  res = returns.mean() / divisor\n",
      " 30%|██▉       | 19/64 [05:36<12:51, 17.14s/it]"
     ]
    },
    {
     "name": "stdout",
     "output_type": "stream",
     "text": [
      "=================================\n",
      "Initial portfolio value:100000\n",
      "Final portfolio value: 100000.0\n",
      "Final accumulative portfolio value: 1.0\n",
      "Maximum DrawDown: 0.0\n",
      "Sharpe ratio: nan\n",
      "=================================\n"
     ]
    },
    {
     "name": "stderr",
     "output_type": "stream",
     "text": [
      "/Users/mzitoh/anaconda3/envs/portfolio_opt/lib/python3.12/site-packages/quantstats/stats.py:294: RuntimeWarning: invalid value encountered in scalar divide\n",
      "  res = returns.mean() / divisor\n",
      " 31%|███▏      | 20/64 [05:53<12:33, 17.13s/it]"
     ]
    },
    {
     "name": "stdout",
     "output_type": "stream",
     "text": [
      "=================================\n",
      "Initial portfolio value:100000\n",
      "Final portfolio value: 100000.0\n",
      "Final accumulative portfolio value: 1.0\n",
      "Maximum DrawDown: 0.0\n",
      "Sharpe ratio: nan\n",
      "=================================\n",
      "=================================\n",
      "Initial portfolio value:100000\n",
      "Final portfolio value: 100000.0\n",
      "Final accumulative portfolio value: 1.0\n",
      "Maximum DrawDown: 0.0\n",
      "Sharpe ratio: nan\n",
      "=================================\n"
     ]
    },
    {
     "name": "stderr",
     "output_type": "stream",
     "text": [
      "/Users/mzitoh/anaconda3/envs/portfolio_opt/lib/python3.12/site-packages/quantstats/stats.py:294: RuntimeWarning: invalid value encountered in scalar divide\n",
      "  res = returns.mean() / divisor\n",
      " 33%|███▎      | 21/64 [06:10<12:14, 17.08s/it]/Users/mzitoh/anaconda3/envs/portfolio_opt/lib/python3.12/site-packages/quantstats/stats.py:294: RuntimeWarning: invalid value encountered in scalar divide\n",
      "  res = returns.mean() / divisor\n",
      " 34%|███▍      | 22/64 [06:27<11:55, 17.03s/it]"
     ]
    },
    {
     "name": "stdout",
     "output_type": "stream",
     "text": [
      "=================================\n",
      "Initial portfolio value:100000\n",
      "Final portfolio value: 100000.0\n",
      "Final accumulative portfolio value: 1.0\n",
      "Maximum DrawDown: 0.0\n",
      "Sharpe ratio: nan\n",
      "=================================\n"
     ]
    },
    {
     "name": "stderr",
     "output_type": "stream",
     "text": [
      "/Users/mzitoh/anaconda3/envs/portfolio_opt/lib/python3.12/site-packages/quantstats/stats.py:294: RuntimeWarning: invalid value encountered in scalar divide\n",
      "  res = returns.mean() / divisor\n",
      " 36%|███▌      | 23/64 [06:43<11:35, 16.96s/it]"
     ]
    },
    {
     "name": "stdout",
     "output_type": "stream",
     "text": [
      "=================================\n",
      "Initial portfolio value:100000\n",
      "Final portfolio value: 100000.0\n",
      "Final accumulative portfolio value: 1.0\n",
      "Maximum DrawDown: 0.0\n",
      "Sharpe ratio: nan\n",
      "=================================\n"
     ]
    },
    {
     "name": "stderr",
     "output_type": "stream",
     "text": [
      "/Users/mzitoh/anaconda3/envs/portfolio_opt/lib/python3.12/site-packages/quantstats/stats.py:294: RuntimeWarning: invalid value encountered in scalar divide\n",
      "  res = returns.mean() / divisor\n",
      " 38%|███▊      | 24/64 [07:00<11:17, 16.94s/it]"
     ]
    },
    {
     "name": "stdout",
     "output_type": "stream",
     "text": [
      "=================================\n",
      "Initial portfolio value:100000\n",
      "Final portfolio value: 100000.0\n",
      "Final accumulative portfolio value: 1.0\n",
      "Maximum DrawDown: 0.0\n",
      "Sharpe ratio: nan\n",
      "=================================\n"
     ]
    },
    {
     "name": "stderr",
     "output_type": "stream",
     "text": [
      "/Users/mzitoh/anaconda3/envs/portfolio_opt/lib/python3.12/site-packages/quantstats/stats.py:294: RuntimeWarning: invalid value encountered in scalar divide\n",
      "  res = returns.mean() / divisor\n",
      " 39%|███▉      | 25/64 [07:17<11:01, 16.95s/it]"
     ]
    },
    {
     "name": "stdout",
     "output_type": "stream",
     "text": [
      "=================================\n",
      "Initial portfolio value:100000\n",
      "Final portfolio value: 100000.0\n",
      "Final accumulative portfolio value: 1.0\n",
      "Maximum DrawDown: 0.0\n",
      "Sharpe ratio: nan\n",
      "=================================\n"
     ]
    },
    {
     "name": "stderr",
     "output_type": "stream",
     "text": [
      "/Users/mzitoh/anaconda3/envs/portfolio_opt/lib/python3.12/site-packages/quantstats/stats.py:294: RuntimeWarning: invalid value encountered in scalar divide\n",
      "  res = returns.mean() / divisor\n",
      " 41%|████      | 26/64 [07:34<10:43, 16.94s/it]"
     ]
    },
    {
     "name": "stdout",
     "output_type": "stream",
     "text": [
      "=================================\n",
      "Initial portfolio value:100000\n",
      "Final portfolio value: 100000.0\n",
      "Final accumulative portfolio value: 1.0\n",
      "Maximum DrawDown: 0.0\n",
      "Sharpe ratio: nan\n",
      "=================================\n"
     ]
    },
    {
     "name": "stderr",
     "output_type": "stream",
     "text": [
      "/Users/mzitoh/anaconda3/envs/portfolio_opt/lib/python3.12/site-packages/quantstats/stats.py:294: RuntimeWarning: invalid value encountered in scalar divide\n",
      "  res = returns.mean() / divisor\n",
      " 42%|████▏     | 27/64 [07:51<10:26, 16.92s/it]"
     ]
    },
    {
     "name": "stdout",
     "output_type": "stream",
     "text": [
      "=================================\n",
      "Initial portfolio value:100000\n",
      "Final portfolio value: 100000.0\n",
      "Final accumulative portfolio value: 1.0\n",
      "Maximum DrawDown: 0.0\n",
      "Sharpe ratio: nan\n",
      "=================================\n"
     ]
    },
    {
     "name": "stderr",
     "output_type": "stream",
     "text": [
      "/Users/mzitoh/anaconda3/envs/portfolio_opt/lib/python3.12/site-packages/quantstats/stats.py:294: RuntimeWarning: invalid value encountered in scalar divide\n",
      "  res = returns.mean() / divisor\n",
      " 44%|████▍     | 28/64 [08:08<10:08, 16.89s/it]"
     ]
    },
    {
     "name": "stdout",
     "output_type": "stream",
     "text": [
      "=================================\n",
      "Initial portfolio value:100000\n",
      "Final portfolio value: 100000.0\n",
      "Final accumulative portfolio value: 1.0\n",
      "Maximum DrawDown: 0.0\n",
      "Sharpe ratio: nan\n",
      "=================================\n"
     ]
    },
    {
     "name": "stderr",
     "output_type": "stream",
     "text": [
      "/Users/mzitoh/anaconda3/envs/portfolio_opt/lib/python3.12/site-packages/quantstats/stats.py:294: RuntimeWarning: invalid value encountered in scalar divide\n",
      "  res = returns.mean() / divisor\n",
      " 45%|████▌     | 29/64 [08:25<09:51, 16.91s/it]"
     ]
    },
    {
     "name": "stdout",
     "output_type": "stream",
     "text": [
      "=================================\n",
      "Initial portfolio value:100000\n",
      "Final portfolio value: 100000.0\n",
      "Final accumulative portfolio value: 1.0\n",
      "Maximum DrawDown: 0.0\n",
      "Sharpe ratio: nan\n",
      "=================================\n"
     ]
    },
    {
     "name": "stderr",
     "output_type": "stream",
     "text": [
      "/Users/mzitoh/anaconda3/envs/portfolio_opt/lib/python3.12/site-packages/quantstats/stats.py:294: RuntimeWarning: invalid value encountered in scalar divide\n",
      "  res = returns.mean() / divisor\n",
      " 47%|████▋     | 30/64 [08:43<09:49, 17.35s/it]"
     ]
    },
    {
     "name": "stdout",
     "output_type": "stream",
     "text": [
      "=================================\n",
      "Initial portfolio value:100000\n",
      "Final portfolio value: 100000.0\n",
      "Final accumulative portfolio value: 1.0\n",
      "Maximum DrawDown: 0.0\n",
      "Sharpe ratio: nan\n",
      "=================================\n"
     ]
    },
    {
     "name": "stderr",
     "output_type": "stream",
     "text": [
      "/Users/mzitoh/anaconda3/envs/portfolio_opt/lib/python3.12/site-packages/quantstats/stats.py:294: RuntimeWarning: invalid value encountered in scalar divide\n",
      "  res = returns.mean() / divisor\n",
      " 48%|████▊     | 31/64 [09:01<09:34, 17.39s/it]"
     ]
    },
    {
     "name": "stdout",
     "output_type": "stream",
     "text": [
      "=================================\n",
      "Initial portfolio value:100000\n",
      "Final portfolio value: 100000.0\n",
      "Final accumulative portfolio value: 1.0\n",
      "Maximum DrawDown: 0.0\n",
      "Sharpe ratio: nan\n",
      "=================================\n"
     ]
    },
    {
     "name": "stderr",
     "output_type": "stream",
     "text": [
      "/Users/mzitoh/anaconda3/envs/portfolio_opt/lib/python3.12/site-packages/quantstats/stats.py:294: RuntimeWarning: invalid value encountered in scalar divide\n",
      "  res = returns.mean() / divisor\n",
      " 50%|█████     | 32/64 [09:18<09:12, 17.26s/it]"
     ]
    },
    {
     "name": "stdout",
     "output_type": "stream",
     "text": [
      "=================================\n",
      "Initial portfolio value:100000\n",
      "Final portfolio value: 100000.0\n",
      "Final accumulative portfolio value: 1.0\n",
      "Maximum DrawDown: 0.0\n",
      "Sharpe ratio: nan\n",
      "=================================\n",
      "=================================\n",
      "Initial portfolio value:100000\n",
      "Final portfolio value: 100000.0\n",
      "Final accumulative portfolio value: 1.0\n",
      "Maximum DrawDown: 0.0\n",
      "Sharpe ratio: nan\n",
      "=================================\n"
     ]
    },
    {
     "name": "stderr",
     "output_type": "stream",
     "text": [
      "/Users/mzitoh/anaconda3/envs/portfolio_opt/lib/python3.12/site-packages/quantstats/stats.py:294: RuntimeWarning: invalid value encountered in scalar divide\n",
      "  res = returns.mean() / divisor\n",
      " 52%|█████▏    | 33/64 [09:35<08:54, 17.25s/it]/Users/mzitoh/anaconda3/envs/portfolio_opt/lib/python3.12/site-packages/quantstats/stats.py:294: RuntimeWarning: invalid value encountered in scalar divide\n",
      "  res = returns.mean() / divisor\n",
      " 53%|█████▎    | 34/64 [09:51<08:29, 16.98s/it]"
     ]
    },
    {
     "name": "stdout",
     "output_type": "stream",
     "text": [
      "=================================\n",
      "Initial portfolio value:100000\n",
      "Final portfolio value: 100000.0\n",
      "Final accumulative portfolio value: 1.0\n",
      "Maximum DrawDown: 0.0\n",
      "Sharpe ratio: nan\n",
      "=================================\n"
     ]
    },
    {
     "name": "stderr",
     "output_type": "stream",
     "text": [
      "/Users/mzitoh/anaconda3/envs/portfolio_opt/lib/python3.12/site-packages/quantstats/stats.py:294: RuntimeWarning: invalid value encountered in scalar divide\n",
      "  res = returns.mean() / divisor\n",
      " 55%|█████▍    | 35/64 [10:08<08:06, 16.79s/it]"
     ]
    },
    {
     "name": "stdout",
     "output_type": "stream",
     "text": [
      "=================================\n",
      "Initial portfolio value:100000\n",
      "Final portfolio value: 100000.0\n",
      "Final accumulative portfolio value: 1.0\n",
      "Maximum DrawDown: 0.0\n",
      "Sharpe ratio: nan\n",
      "=================================\n"
     ]
    },
    {
     "name": "stderr",
     "output_type": "stream",
     "text": [
      "/Users/mzitoh/anaconda3/envs/portfolio_opt/lib/python3.12/site-packages/quantstats/stats.py:294: RuntimeWarning: invalid value encountered in scalar divide\n",
      "  res = returns.mean() / divisor\n",
      " 56%|█████▋    | 36/64 [10:24<07:46, 16.67s/it]"
     ]
    },
    {
     "name": "stdout",
     "output_type": "stream",
     "text": [
      "=================================\n",
      "Initial portfolio value:100000\n",
      "Final portfolio value: 100000.0\n",
      "Final accumulative portfolio value: 1.0\n",
      "Maximum DrawDown: 0.0\n",
      "Sharpe ratio: nan\n",
      "=================================\n"
     ]
    },
    {
     "name": "stderr",
     "output_type": "stream",
     "text": [
      "/Users/mzitoh/anaconda3/envs/portfolio_opt/lib/python3.12/site-packages/quantstats/stats.py:294: RuntimeWarning: invalid value encountered in scalar divide\n",
      "  res = returns.mean() / divisor\n",
      " 58%|█████▊    | 37/64 [10:40<07:28, 16.59s/it]"
     ]
    },
    {
     "name": "stdout",
     "output_type": "stream",
     "text": [
      "=================================\n",
      "Initial portfolio value:100000\n",
      "Final portfolio value: 100000.0\n",
      "Final accumulative portfolio value: 1.0\n",
      "Maximum DrawDown: 0.0\n",
      "Sharpe ratio: nan\n",
      "=================================\n"
     ]
    },
    {
     "name": "stderr",
     "output_type": "stream",
     "text": [
      "/Users/mzitoh/anaconda3/envs/portfolio_opt/lib/python3.12/site-packages/quantstats/stats.py:294: RuntimeWarning: invalid value encountered in scalar divide\n",
      "  res = returns.mean() / divisor\n",
      " 59%|█████▉    | 38/64 [10:57<07:09, 16.50s/it]"
     ]
    },
    {
     "name": "stdout",
     "output_type": "stream",
     "text": [
      "=================================\n",
      "Initial portfolio value:100000\n",
      "Final portfolio value: 100000.0\n",
      "Final accumulative portfolio value: 1.0\n",
      "Maximum DrawDown: 0.0\n",
      "Sharpe ratio: nan\n",
      "=================================\n"
     ]
    },
    {
     "name": "stderr",
     "output_type": "stream",
     "text": [
      "/Users/mzitoh/anaconda3/envs/portfolio_opt/lib/python3.12/site-packages/quantstats/stats.py:294: RuntimeWarning: invalid value encountered in scalar divide\n",
      "  res = returns.mean() / divisor\n",
      " 61%|██████    | 39/64 [11:13<06:51, 16.46s/it]"
     ]
    },
    {
     "name": "stdout",
     "output_type": "stream",
     "text": [
      "=================================\n",
      "Initial portfolio value:100000\n",
      "Final portfolio value: 100000.0\n",
      "Final accumulative portfolio value: 1.0\n",
      "Maximum DrawDown: 0.0\n",
      "Sharpe ratio: nan\n",
      "=================================\n"
     ]
    },
    {
     "name": "stderr",
     "output_type": "stream",
     "text": [
      "/Users/mzitoh/anaconda3/envs/portfolio_opt/lib/python3.12/site-packages/quantstats/stats.py:294: RuntimeWarning: invalid value encountered in scalar divide\n",
      "  res = returns.mean() / divisor\n",
      " 62%|██████▎   | 40/64 [11:29<06:34, 16.42s/it]"
     ]
    },
    {
     "name": "stdout",
     "output_type": "stream",
     "text": [
      "=================================\n",
      "Initial portfolio value:100000\n",
      "Final portfolio value: 100000.0\n",
      "Final accumulative portfolio value: 1.0\n",
      "Maximum DrawDown: 0.0\n",
      "Sharpe ratio: nan\n",
      "=================================\n"
     ]
    },
    {
     "name": "stderr",
     "output_type": "stream",
     "text": [
      "/Users/mzitoh/anaconda3/envs/portfolio_opt/lib/python3.12/site-packages/quantstats/stats.py:294: RuntimeWarning: invalid value encountered in scalar divide\n",
      "  res = returns.mean() / divisor\n",
      " 64%|██████▍   | 41/64 [11:46<06:17, 16.39s/it]"
     ]
    },
    {
     "name": "stdout",
     "output_type": "stream",
     "text": [
      "=================================\n",
      "Initial portfolio value:100000\n",
      "Final portfolio value: 100000.0\n",
      "Final accumulative portfolio value: 1.0\n",
      "Maximum DrawDown: 0.0\n",
      "Sharpe ratio: nan\n",
      "=================================\n"
     ]
    },
    {
     "name": "stderr",
     "output_type": "stream",
     "text": [
      "/Users/mzitoh/anaconda3/envs/portfolio_opt/lib/python3.12/site-packages/quantstats/stats.py:294: RuntimeWarning: invalid value encountered in scalar divide\n",
      "  res = returns.mean() / divisor\n",
      " 66%|██████▌   | 42/64 [12:02<05:59, 16.36s/it]"
     ]
    },
    {
     "name": "stdout",
     "output_type": "stream",
     "text": [
      "=================================\n",
      "Initial portfolio value:100000\n",
      "Final portfolio value: 100000.0\n",
      "Final accumulative portfolio value: 1.0\n",
      "Maximum DrawDown: 0.0\n",
      "Sharpe ratio: nan\n",
      "=================================\n"
     ]
    },
    {
     "name": "stderr",
     "output_type": "stream",
     "text": [
      "/Users/mzitoh/anaconda3/envs/portfolio_opt/lib/python3.12/site-packages/quantstats/stats.py:294: RuntimeWarning: invalid value encountered in scalar divide\n",
      "  res = returns.mean() / divisor\n",
      " 67%|██████▋   | 43/64 [12:18<05:44, 16.40s/it]"
     ]
    },
    {
     "name": "stdout",
     "output_type": "stream",
     "text": [
      "=================================\n",
      "Initial portfolio value:100000\n",
      "Final portfolio value: 100000.0\n",
      "Final accumulative portfolio value: 1.0\n",
      "Maximum DrawDown: 0.0\n",
      "Sharpe ratio: nan\n",
      "=================================\n"
     ]
    },
    {
     "name": "stderr",
     "output_type": "stream",
     "text": [
      "/Users/mzitoh/anaconda3/envs/portfolio_opt/lib/python3.12/site-packages/quantstats/stats.py:294: RuntimeWarning: invalid value encountered in scalar divide\n",
      "  res = returns.mean() / divisor\n",
      " 69%|██████▉   | 44/64 [12:35<05:28, 16.42s/it]"
     ]
    },
    {
     "name": "stdout",
     "output_type": "stream",
     "text": [
      "=================================\n",
      "Initial portfolio value:100000\n",
      "Final portfolio value: 100000.0\n",
      "Final accumulative portfolio value: 1.0\n",
      "Maximum DrawDown: 0.0\n",
      "Sharpe ratio: nan\n",
      "=================================\n"
     ]
    },
    {
     "name": "stderr",
     "output_type": "stream",
     "text": [
      "/Users/mzitoh/anaconda3/envs/portfolio_opt/lib/python3.12/site-packages/quantstats/stats.py:294: RuntimeWarning: invalid value encountered in scalar divide\n",
      "  res = returns.mean() / divisor\n",
      " 70%|███████   | 45/64 [12:51<05:12, 16.42s/it]"
     ]
    },
    {
     "name": "stdout",
     "output_type": "stream",
     "text": [
      "=================================\n",
      "Initial portfolio value:100000\n",
      "Final portfolio value: 100000.0\n",
      "Final accumulative portfolio value: 1.0\n",
      "Maximum DrawDown: 0.0\n",
      "Sharpe ratio: nan\n",
      "=================================\n"
     ]
    },
    {
     "name": "stderr",
     "output_type": "stream",
     "text": [
      "/Users/mzitoh/anaconda3/envs/portfolio_opt/lib/python3.12/site-packages/quantstats/stats.py:294: RuntimeWarning: invalid value encountered in scalar divide\n",
      "  res = returns.mean() / divisor\n",
      " 72%|███████▏  | 46/64 [13:08<04:55, 16.42s/it]"
     ]
    },
    {
     "name": "stdout",
     "output_type": "stream",
     "text": [
      "=================================\n",
      "Initial portfolio value:100000\n",
      "Final portfolio value: 100000.0\n",
      "Final accumulative portfolio value: 1.0\n",
      "Maximum DrawDown: 0.0\n",
      "Sharpe ratio: nan\n",
      "=================================\n"
     ]
    },
    {
     "name": "stderr",
     "output_type": "stream",
     "text": [
      "/Users/mzitoh/anaconda3/envs/portfolio_opt/lib/python3.12/site-packages/quantstats/stats.py:294: RuntimeWarning: invalid value encountered in scalar divide\n",
      "  res = returns.mean() / divisor\n",
      " 73%|███████▎  | 47/64 [13:24<04:39, 16.43s/it]"
     ]
    },
    {
     "name": "stdout",
     "output_type": "stream",
     "text": [
      "=================================\n",
      "Initial portfolio value:100000\n",
      "Final portfolio value: 100000.0\n",
      "Final accumulative portfolio value: 1.0\n",
      "Maximum DrawDown: 0.0\n",
      "Sharpe ratio: nan\n",
      "=================================\n"
     ]
    },
    {
     "name": "stderr",
     "output_type": "stream",
     "text": [
      "/Users/mzitoh/anaconda3/envs/portfolio_opt/lib/python3.12/site-packages/quantstats/stats.py:294: RuntimeWarning: invalid value encountered in scalar divide\n",
      "  res = returns.mean() / divisor\n",
      " 75%|███████▌  | 48/64 [13:41<04:22, 16.43s/it]"
     ]
    },
    {
     "name": "stdout",
     "output_type": "stream",
     "text": [
      "=================================\n",
      "Initial portfolio value:100000\n",
      "Final portfolio value: 100000.0\n",
      "Final accumulative portfolio value: 1.0\n",
      "Maximum DrawDown: 0.0\n",
      "Sharpe ratio: nan\n",
      "=================================\n"
     ]
    },
    {
     "name": "stderr",
     "output_type": "stream",
     "text": [
      "/Users/mzitoh/anaconda3/envs/portfolio_opt/lib/python3.12/site-packages/quantstats/stats.py:294: RuntimeWarning: invalid value encountered in scalar divide\n",
      "  res = returns.mean() / divisor\n",
      " 77%|███████▋  | 49/64 [13:57<04:06, 16.46s/it]"
     ]
    },
    {
     "name": "stdout",
     "output_type": "stream",
     "text": [
      "=================================\n",
      "Initial portfolio value:100000\n",
      "Final portfolio value: 100000.0\n",
      "Final accumulative portfolio value: 1.0\n",
      "Maximum DrawDown: 0.0\n",
      "Sharpe ratio: nan\n",
      "=================================\n"
     ]
    },
    {
     "name": "stderr",
     "output_type": "stream",
     "text": [
      "/Users/mzitoh/anaconda3/envs/portfolio_opt/lib/python3.12/site-packages/quantstats/stats.py:294: RuntimeWarning: invalid value encountered in scalar divide\n",
      "  res = returns.mean() / divisor\n",
      " 78%|███████▊  | 50/64 [14:14<03:49, 16.43s/it]"
     ]
    },
    {
     "name": "stdout",
     "output_type": "stream",
     "text": [
      "=================================\n",
      "Initial portfolio value:100000\n",
      "Final portfolio value: 100000.0\n",
      "Final accumulative portfolio value: 1.0\n",
      "Maximum DrawDown: 0.0\n",
      "Sharpe ratio: nan\n",
      "=================================\n"
     ]
    },
    {
     "name": "stderr",
     "output_type": "stream",
     "text": [
      "/Users/mzitoh/anaconda3/envs/portfolio_opt/lib/python3.12/site-packages/quantstats/stats.py:294: RuntimeWarning: invalid value encountered in scalar divide\n",
      "  res = returns.mean() / divisor\n",
      " 80%|███████▉  | 51/64 [14:30<03:33, 16.43s/it]"
     ]
    },
    {
     "name": "stdout",
     "output_type": "stream",
     "text": [
      "=================================\n",
      "Initial portfolio value:100000\n",
      "Final portfolio value: 100000.0\n",
      "Final accumulative portfolio value: 1.0\n",
      "Maximum DrawDown: 0.0\n",
      "Sharpe ratio: nan\n",
      "=================================\n"
     ]
    },
    {
     "name": "stderr",
     "output_type": "stream",
     "text": [
      "/Users/mzitoh/anaconda3/envs/portfolio_opt/lib/python3.12/site-packages/quantstats/stats.py:294: RuntimeWarning: invalid value encountered in scalar divide\n",
      "  res = returns.mean() / divisor\n",
      " 81%|████████▏ | 52/64 [14:47<03:18, 16.52s/it]"
     ]
    },
    {
     "name": "stdout",
     "output_type": "stream",
     "text": [
      "=================================\n",
      "Initial portfolio value:100000\n",
      "Final portfolio value: 100000.0\n",
      "Final accumulative portfolio value: 1.0\n",
      "Maximum DrawDown: 0.0\n",
      "Sharpe ratio: nan\n",
      "=================================\n"
     ]
    },
    {
     "name": "stderr",
     "output_type": "stream",
     "text": [
      "/Users/mzitoh/anaconda3/envs/portfolio_opt/lib/python3.12/site-packages/quantstats/stats.py:294: RuntimeWarning: invalid value encountered in scalar divide\n",
      "  res = returns.mean() / divisor\n",
      " 83%|████████▎ | 53/64 [15:03<03:00, 16.44s/it]"
     ]
    },
    {
     "name": "stdout",
     "output_type": "stream",
     "text": [
      "=================================\n",
      "Initial portfolio value:100000\n",
      "Final portfolio value: 100000.0\n",
      "Final accumulative portfolio value: 1.0\n",
      "Maximum DrawDown: 0.0\n",
      "Sharpe ratio: nan\n",
      "=================================\n"
     ]
    },
    {
     "name": "stderr",
     "output_type": "stream",
     "text": [
      "/Users/mzitoh/anaconda3/envs/portfolio_opt/lib/python3.12/site-packages/quantstats/stats.py:294: RuntimeWarning: invalid value encountered in scalar divide\n",
      "  res = returns.mean() / divisor\n",
      " 84%|████████▍ | 54/64 [15:19<02:44, 16.46s/it]"
     ]
    },
    {
     "name": "stdout",
     "output_type": "stream",
     "text": [
      "=================================\n",
      "Initial portfolio value:100000\n",
      "Final portfolio value: 100000.0\n",
      "Final accumulative portfolio value: 1.0\n",
      "Maximum DrawDown: 0.0\n",
      "Sharpe ratio: nan\n",
      "=================================\n"
     ]
    },
    {
     "name": "stderr",
     "output_type": "stream",
     "text": [
      "/Users/mzitoh/anaconda3/envs/portfolio_opt/lib/python3.12/site-packages/quantstats/stats.py:294: RuntimeWarning: invalid value encountered in scalar divide\n",
      "  res = returns.mean() / divisor\n",
      " 86%|████████▌ | 55/64 [15:36<02:28, 16.45s/it]"
     ]
    },
    {
     "name": "stdout",
     "output_type": "stream",
     "text": [
      "=================================\n",
      "Initial portfolio value:100000\n",
      "Final portfolio value: 100000.0\n",
      "Final accumulative portfolio value: 1.0\n",
      "Maximum DrawDown: 0.0\n",
      "Sharpe ratio: nan\n",
      "=================================\n"
     ]
    },
    {
     "name": "stderr",
     "output_type": "stream",
     "text": [
      "/Users/mzitoh/anaconda3/envs/portfolio_opt/lib/python3.12/site-packages/quantstats/stats.py:294: RuntimeWarning: invalid value encountered in scalar divide\n",
      "  res = returns.mean() / divisor\n",
      " 88%|████████▊ | 56/64 [15:52<02:11, 16.39s/it]"
     ]
    },
    {
     "name": "stdout",
     "output_type": "stream",
     "text": [
      "=================================\n",
      "Initial portfolio value:100000\n",
      "Final portfolio value: 100000.0\n",
      "Final accumulative portfolio value: 1.0\n",
      "Maximum DrawDown: 0.0\n",
      "Sharpe ratio: nan\n",
      "=================================\n"
     ]
    },
    {
     "name": "stderr",
     "output_type": "stream",
     "text": [
      "/Users/mzitoh/anaconda3/envs/portfolio_opt/lib/python3.12/site-packages/quantstats/stats.py:294: RuntimeWarning: invalid value encountered in scalar divide\n",
      "  res = returns.mean() / divisor\n",
      " 89%|████████▉ | 57/64 [16:08<01:54, 16.37s/it]"
     ]
    },
    {
     "name": "stdout",
     "output_type": "stream",
     "text": [
      "=================================\n",
      "Initial portfolio value:100000\n",
      "Final portfolio value: 100000.0\n",
      "Final accumulative portfolio value: 1.0\n",
      "Maximum DrawDown: 0.0\n",
      "Sharpe ratio: nan\n",
      "=================================\n"
     ]
    },
    {
     "name": "stderr",
     "output_type": "stream",
     "text": [
      "/Users/mzitoh/anaconda3/envs/portfolio_opt/lib/python3.12/site-packages/quantstats/stats.py:294: RuntimeWarning: invalid value encountered in scalar divide\n",
      "  res = returns.mean() / divisor\n",
      " 91%|█████████ | 58/64 [16:25<01:38, 16.36s/it]"
     ]
    },
    {
     "name": "stdout",
     "output_type": "stream",
     "text": [
      "=================================\n",
      "Initial portfolio value:100000\n",
      "Final portfolio value: 100000.0\n",
      "Final accumulative portfolio value: 1.0\n",
      "Maximum DrawDown: 0.0\n",
      "Sharpe ratio: nan\n",
      "=================================\n"
     ]
    },
    {
     "name": "stderr",
     "output_type": "stream",
     "text": [
      "/Users/mzitoh/anaconda3/envs/portfolio_opt/lib/python3.12/site-packages/quantstats/stats.py:294: RuntimeWarning: invalid value encountered in scalar divide\n",
      "  res = returns.mean() / divisor\n",
      " 92%|█████████▏| 59/64 [16:41<01:21, 16.34s/it]"
     ]
    },
    {
     "name": "stdout",
     "output_type": "stream",
     "text": [
      "=================================\n",
      "Initial portfolio value:100000\n",
      "Final portfolio value: 100000.0\n",
      "Final accumulative portfolio value: 1.0\n",
      "Maximum DrawDown: 0.0\n",
      "Sharpe ratio: nan\n",
      "=================================\n"
     ]
    },
    {
     "name": "stderr",
     "output_type": "stream",
     "text": [
      "/Users/mzitoh/anaconda3/envs/portfolio_opt/lib/python3.12/site-packages/quantstats/stats.py:294: RuntimeWarning: invalid value encountered in scalar divide\n",
      "  res = returns.mean() / divisor\n",
      " 94%|█████████▍| 60/64 [16:58<01:05, 16.41s/it]"
     ]
    },
    {
     "name": "stdout",
     "output_type": "stream",
     "text": [
      "=================================\n",
      "Initial portfolio value:100000\n",
      "Final portfolio value: 100000.0\n",
      "Final accumulative portfolio value: 1.0\n",
      "Maximum DrawDown: 0.0\n",
      "Sharpe ratio: nan\n",
      "=================================\n"
     ]
    },
    {
     "name": "stderr",
     "output_type": "stream",
     "text": [
      "/Users/mzitoh/anaconda3/envs/portfolio_opt/lib/python3.12/site-packages/quantstats/stats.py:294: RuntimeWarning: invalid value encountered in scalar divide\n",
      "  res = returns.mean() / divisor\n",
      " 95%|█████████▌| 61/64 [17:14<00:49, 16.46s/it]"
     ]
    },
    {
     "name": "stdout",
     "output_type": "stream",
     "text": [
      "=================================\n",
      "Initial portfolio value:100000\n",
      "Final portfolio value: 100000.0\n",
      "Final accumulative portfolio value: 1.0\n",
      "Maximum DrawDown: 0.0\n",
      "Sharpe ratio: nan\n",
      "=================================\n"
     ]
    },
    {
     "name": "stderr",
     "output_type": "stream",
     "text": [
      "/Users/mzitoh/anaconda3/envs/portfolio_opt/lib/python3.12/site-packages/quantstats/stats.py:294: RuntimeWarning: invalid value encountered in scalar divide\n",
      "  res = returns.mean() / divisor\n",
      " 97%|█████████▋| 62/64 [17:31<00:32, 16.43s/it]"
     ]
    },
    {
     "name": "stdout",
     "output_type": "stream",
     "text": [
      "=================================\n",
      "Initial portfolio value:100000\n",
      "Final portfolio value: 100000.0\n",
      "Final accumulative portfolio value: 1.0\n",
      "Maximum DrawDown: 0.0\n",
      "Sharpe ratio: nan\n",
      "=================================\n"
     ]
    },
    {
     "name": "stderr",
     "output_type": "stream",
     "text": [
      "/Users/mzitoh/anaconda3/envs/portfolio_opt/lib/python3.12/site-packages/quantstats/stats.py:294: RuntimeWarning: invalid value encountered in scalar divide\n",
      "  res = returns.mean() / divisor\n",
      " 98%|█████████▊| 63/64 [17:47<00:16, 16.39s/it]"
     ]
    },
    {
     "name": "stdout",
     "output_type": "stream",
     "text": [
      "=================================\n",
      "Initial portfolio value:100000\n",
      "Final portfolio value: 100000.0\n",
      "Final accumulative portfolio value: 1.0\n",
      "Maximum DrawDown: 0.0\n",
      "Sharpe ratio: nan\n",
      "=================================\n"
     ]
    },
    {
     "name": "stderr",
     "output_type": "stream",
     "text": [
      "/Users/mzitoh/anaconda3/envs/portfolio_opt/lib/python3.12/site-packages/quantstats/stats.py:294: RuntimeWarning: invalid value encountered in scalar divide\n",
      "  res = returns.mean() / divisor\n",
      "100%|██████████| 64/64 [18:03<00:00, 16.93s/it]"
     ]
    },
    {
     "name": "stdout",
     "output_type": "stream",
     "text": [
      "=================================\n",
      "Initial portfolio value:100000\n",
      "Final portfolio value: 100000.0\n",
      "Final accumulative portfolio value: 1.0\n",
      "Maximum DrawDown: 0.0\n",
      "Sharpe ratio: nan\n",
      "=================================\n",
      "Training completed in 18.06 minutes.\n"
     ]
    },
    {
     "name": "stderr",
     "output_type": "stream",
     "text": [
      "\n"
     ]
    }
   ],
   "source": [
    "start_time = time.time()\n",
    "\n",
    "trained_model = POAgent.train_model(model, episodes=64)\n",
    "\n",
    "end_time = time.time()\n",
    "training_duration = (end_time - start_time) / 60\n",
    "print(f\"Training completed in {training_duration:.2f} minutes.\")"
   ]
  },
  {
   "cell_type": "code",
   "execution_count": 14,
   "id": "8145512e",
   "metadata": {},
   "outputs": [
    {
     "name": "stdout",
     "output_type": "stream",
     "text": [
      "Training summary:\n"
     ]
    },
    {
     "data": {
      "application/vnd.microsoft.datawrangler.viewer.v0+json": {
       "columns": [
        {
         "name": "index",
         "rawType": "int64",
         "type": "integer"
        },
        {
         "name": "model",
         "rawType": "object",
         "type": "string"
        },
        {
         "name": "training_duration (min)",
         "rawType": "float64",
         "type": "float"
        }
       ],
       "conversionMethod": "pd.DataFrame",
       "ref": "f648feb9-2295-46fc-93dd-07da2a3c11ab",
       "rows": [
        [
         "0",
         "EI3_PG",
         "18.06055088440577"
        ]
       ],
       "shape": {
        "columns": 2,
        "rows": 1
       }
      },
      "text/html": [
       "<div>\n",
       "<style scoped>\n",
       "    .dataframe tbody tr th:only-of-type {\n",
       "        vertical-align: middle;\n",
       "    }\n",
       "\n",
       "    .dataframe tbody tr th {\n",
       "        vertical-align: top;\n",
       "    }\n",
       "\n",
       "    .dataframe thead th {\n",
       "        text-align: right;\n",
       "    }\n",
       "</style>\n",
       "<table border=\"1\" class=\"dataframe\">\n",
       "  <thead>\n",
       "    <tr style=\"text-align: right;\">\n",
       "      <th></th>\n",
       "      <th>model</th>\n",
       "      <th>training_duration (min)</th>\n",
       "    </tr>\n",
       "  </thead>\n",
       "  <tbody>\n",
       "    <tr>\n",
       "      <th>0</th>\n",
       "      <td>EI3_PG</td>\n",
       "      <td>18.060551</td>\n",
       "    </tr>\n",
       "  </tbody>\n",
       "</table>\n",
       "</div>"
      ],
      "text/plain": [
       "    model  training_duration (min)\n",
       "0  EI3_PG                18.060551"
      ]
     },
     "metadata": {},
     "output_type": "display_data"
    }
   ],
   "source": [
    "training_times_df = pd.DataFrame(\n",
    "    [{\"model\": \"EI3_PG\", \"training_duration (min)\": training_duration}]\n",
    ")\n",
    "training_times_df.to_csv(f\"{results_dir}/training_times.csv\", index=False)\n",
    "\n",
    "# Display training summary\n",
    "print(\"Training summary:\")\n",
    "display(training_times_df)"
   ]
  },
  {
   "cell_type": "code",
   "execution_count": 15,
   "id": "cbc4adda",
   "metadata": {},
   "outputs": [],
   "source": [
    "model_path = f\"{results_dir}/ei3_pg.pth\""
   ]
  },
  {
   "cell_type": "code",
   "execution_count": 16,
   "id": "34eb0585",
   "metadata": {},
   "outputs": [
    {
     "name": "stdout",
     "output_type": "stream",
     "text": [
      "Model saved to results/models/portfolio_optimization_ei3_pg/ei3_pg.pth\n"
     ]
    }
   ],
   "source": [
    "torch.save(trained_model.train_policy.state_dict(), model_path)\n",
    "print(f\"Model saved to {model_path}\")"
   ]
  },
  {
   "cell_type": "markdown",
   "id": "eb7ec26e",
   "metadata": {},
   "source": [
    "## Backtesting\n"
   ]
  },
  {
   "cell_type": "code",
   "execution_count": 17,
   "id": "f4078dd4",
   "metadata": {},
   "outputs": [
    {
     "name": "stdout",
     "output_type": "stream",
     "text": [
      "Model loaded and ready for evaluation.\n",
      "Evaluating model on test data...\n"
     ]
    }
   ],
   "source": [
    "policy = EI3(time_window=50, device=device)\n",
    "policy.load_state_dict(torch.load(model_path, map_location=device))\n",
    "# policy = policy.to(device)\n",
    "# policy.eval()\n",
    "print(\"Model loaded and ready for evaluation.\")\n",
    "print(\"Evaluating model on test data...\")\n",
    "\n",
    "test_env = initialize_portfolio_env(test_df.reset_index(drop=True))"
   ]
  },
  {
   "cell_type": "code",
   "execution_count": 18,
   "id": "9958d943",
   "metadata": {},
   "outputs": [
    {
     "name": "stdout",
     "output_type": "stream",
     "text": [
      "=================================\n",
      "Initial portfolio value:100000\n",
      "Final portfolio value: 100000.0\n",
      "Final accumulative portfolio value: 1.0\n",
      "Maximum DrawDown: 0.0\n",
      "Sharpe ratio: nan\n",
      "=================================\n",
      "Collected 451 steps.\n",
      "Rewards: [0.0, 0.0, 0.0, 0.0, 0.0, 0.0, 0.0, 0.0, 0.0, 0.0, 0.0, 0.0, 0.0, 0.0, 0.0, 0.0, 0.0, 0.0, 0.0, 0.0, 0.0, 0.0, 0.0, 0.0, 0.0, 0.0, 0.0, 0.0, 0.0, 0.0, 0.0, 0.0, 0.0, 0.0, 0.0, 0.0, 0.0, 0.0, 0.0, 0.0, 0.0, 0.0, 0.0, 0.0, 0.0, 0.0, 0.0, 0.0, 0.0, 0.0, 0.0, 0.0, 0.0, 0.0, 0.0, 0.0, 0.0, 0.0, 0.0, 0.0, 0.0, 0.0, 0.0, 0.0, 0.0, 0.0, 0.0, 0.0, 0.0, 0.0, 0.0, 0.0, 0.0, 0.0, 0.0, 0.0, 0.0, 0.0, 0.0, 0.0, 0.0, 0.0, 0.0, 0.0, 0.0, 0.0, 0.0, 0.0, 0.0, 0.0, 0.0, 0.0, 0.0, 0.0, 0.0, 0.0, 0.0, 0.0, 0.0, 0.0, 0.0, 0.0, 0.0, 0.0, 0.0, 0.0, 0.0, 0.0, 0.0, 0.0, 0.0, 0.0, 0.0, 0.0, 0.0, 0.0, 0.0, 0.0, 0.0, 0.0, 0.0, 0.0, 0.0, 0.0, 0.0, 0.0, 0.0, 0.0, 0.0, 0.0, 0.0, 0.0, 0.0, 0.0, 0.0, 0.0, 0.0, 0.0, 0.0, 0.0, 0.0, 0.0, 0.0, 0.0, 0.0, 0.0, 0.0, 0.0, 0.0, 0.0, 0.0, 0.0, 0.0, 0.0, 0.0, 0.0, 0.0, 0.0, 0.0, 0.0, 0.0, 0.0, 0.0, 0.0, 0.0, 0.0, 0.0, 0.0, 0.0, 0.0, 0.0, 0.0, 0.0, 0.0, 0.0, 0.0, 0.0, 0.0, 0.0, 0.0, 0.0, 0.0, 0.0, 0.0, 0.0, 0.0, 0.0, 0.0, 0.0, 0.0, 0.0, 0.0, 0.0, 0.0, 0.0, 0.0, 0.0, 0.0, 0.0, 0.0, 0.0, 0.0, 0.0, 0.0, 0.0, 0.0, 0.0, 0.0, 0.0, 0.0, 0.0, 0.0, 0.0, 0.0, 0.0, 0.0, 0.0, 0.0, 0.0, 0.0, 0.0, 0.0, 0.0, 0.0, 0.0, 0.0, 0.0, 0.0, 0.0, 0.0, 0.0, 0.0, 0.0, 0.0, 0.0, 0.0, 0.0, 0.0, 0.0, 0.0, 0.0, 0.0, 0.0, 0.0, 0.0, 0.0, 0.0, 0.0, 0.0, 0.0, 0.0, 0.0, 0.0, 0.0, 0.0, 0.0, 0.0, 0.0, 0.0, 0.0, 0.0, 0.0, 0.0, 0.0, 0.0, 0.0, 0.0, 0.0, 0.0, 0.0, 0.0, 0.0, 0.0, 0.0, 0.0, 0.0, 0.0, 0.0, 0.0, 0.0, 0.0, 0.0, 0.0, 0.0, 0.0, 0.0, 0.0, 0.0, 0.0, 0.0, 0.0, 0.0, 0.0, 0.0, 0.0, 0.0, 0.0, 0.0, 0.0, 0.0, 0.0, 0.0, 0.0, 0.0, 0.0, 0.0, 0.0, 0.0, 0.0, 0.0, 0.0, 0.0, 0.0, 0.0, 0.0, 0.0, 0.0, 0.0, 0.0, 0.0, 0.0, 0.0, 0.0, 0.0, 0.0, 0.0, 0.0, 0.0, 0.0, 0.0, 0.0, 0.0, 0.0, 0.0, 0.0, 0.0, 0.0, 0.0, 0.0, 0.0, 0.0, 0.0, 0.0, 0.0, 0.0, 0.0, 0.0, 0.0, 0.0, 0.0, 0.0, 0.0, 0.0, 0.0, 0.0, 0.0, 0.0, 0.0, 0.0, 0.0, 0.0, 0.0, 0.0, 0.0, 0.0, 0.0, 0.0, 0.0, 0.0, 0.0, 0.0, 0.0, 0.0, 0.0, 0.0, 0.0, 0.0, 0.0, 0.0, 0.0, 0.0, 0.0, 0.0, 0.0, 0.0, 0.0, 0.0, 0.0, 0.0, 0.0, 0.0, 0.0, 0.0, 0.0, 0.0, 0.0, 0.0, 0.0, 0.0, 0.0, 0.0, 0.0, 0.0, 0.0, 0.0, 0.0, 0.0, 0.0, 0.0, 0.0, 0.0, 0.0, 0.0, 0.0, 0.0, 0.0, 0.0, 0.0, 0.0, 0.0, 0.0, 0.0, 0.0, 0.0, 0.0, 0.0, 0.0, 0.0, 0.0, 0.0, 0.0, 0.0, 0.0, 0.0, 0.0, 0.0, 0.0, 0.0, 0.0, 0.0, 0.0, 0.0, 0.0, 0.0, 0.0, 0.0, 0.0, 0.0, 0.0, 0.0, 0.0]\n"
     ]
    },
    {
     "name": "stderr",
     "output_type": "stream",
     "text": [
      "/Users/mzitoh/anaconda3/envs/portfolio_opt/lib/python3.12/site-packages/quantstats/stats.py:294: RuntimeWarning: invalid value encountered in scalar divide\n",
      "  res = returns.mean() / divisor\n"
     ]
    }
   ],
   "source": [
    "def portfolio_test(env, policy, initial_last_action=None):\n",
    "    obs, _ = env.reset()\n",
    "    obs = np.asarray(obs, dtype=np.float32)\n",
    "\n",
    "    # Initial last_action\n",
    "    if initial_last_action is None:\n",
    "        action_dim = env.action_space.shape[0]\n",
    "        last_action = np.ones(action_dim, dtype=np.float32) / action_dim\n",
    "    else:\n",
    "        last_action = np.asarray(initial_last_action).flatten().astype(np.float32)\n",
    "\n",
    "    done = False\n",
    "    transitions = []\n",
    "\n",
    "    while not done:\n",
    "        # Create batches\n",
    "        obs_batch = obs[None, ...]\n",
    "        la_batch = last_action[None, ...]\n",
    "\n",
    "        # Policy forward\n",
    "        action = policy(obs_batch, la_batch)\n",
    "        action = np.asarray(action).flatten().astype(np.float32)\n",
    "\n",
    "        # Step\n",
    "        next_obs, reward, terminated, truncated, info = env.step(action)\n",
    "        done = bool(terminated or truncated)\n",
    "\n",
    "        next_obs = np.asarray(next_obs, dtype=np.float32)\n",
    "\n",
    "        # Record\n",
    "        transitions.append(\n",
    "            {\n",
    "                \"obs\": obs,\n",
    "                \"last_action\": last_action,\n",
    "                \"action\": action,\n",
    "                \"reward\": float(reward),\n",
    "                \"info\": info,\n",
    "            }\n",
    "        )\n",
    "\n",
    "        # Advance\n",
    "        obs = next_obs\n",
    "        last_action = action\n",
    "\n",
    "    return transitions\n",
    "\n",
    "\n",
    "transitions = portfolio_test(test_env, policy)\n",
    "\n",
    "print(f\"Collected {len(transitions)} steps.\")\n",
    "print(\"Rewards:\", [t[\"reward\"] for t in transitions])"
   ]
  },
  {
   "cell_type": "code",
   "execution_count": 19,
   "id": "0eb2b3fc",
   "metadata": {},
   "outputs": [],
   "source": [
    "# Inspect rewards or info:\n",
    "infosrewards = [t[\"reward\"] for t in transitions]\n",
    "infos = [t[\"info\"] for t in transitions]"
   ]
  },
  {
   "cell_type": "markdown",
   "id": "3945e551",
   "metadata": {},
   "source": [
    "## Benchmarks\n"
   ]
  },
  {
   "cell_type": "code",
   "execution_count": 20,
   "id": "335b3391",
   "metadata": {},
   "outputs": [],
   "source": [
    "# Get portfolio values\n",
    "eiie_values = test_env._asset_memory[\"final\"]\n",
    "bh_values = []"
   ]
  },
  {
   "cell_type": "code",
   "execution_count": 21,
   "id": "1367ea3a",
   "metadata": {},
   "outputs": [
    {
     "name": "stdout",
     "output_type": "stream",
     "text": [
      "=================================\n",
      "Initial portfolio value:100000\n",
      "Final portfolio value: 118570.15625\n",
      "Final accumulative portfolio value: 1.185701608657837\n",
      "Maximum DrawDown: -0.14329387406545524\n",
      "Sharpe ratio: 0.7813411376938388\n",
      "=================================\n"
     ]
    }
   ],
   "source": [
    "# Calculate Buy & Hold\n",
    "test_env.reset()\n",
    "action = [1 / len(tickers)] * len(tickers)\n",
    "done = False\n",
    "while not done:  # Use test_env._done to check episode completion\n",
    "    test_obs, rewards, terminated, truncated, info = test_env.step(action)\n",
    "    done = terminated or truncated\n",
    "    bh_values.append(test_env._portfolio_value)"
   ]
  },
  {
   "cell_type": "code",
   "execution_count": 22,
   "id": "9afb48b3",
   "metadata": {},
   "outputs": [],
   "source": [
    "risk_free_rate = 0.043  # 4.3% annualized"
   ]
  },
  {
   "cell_type": "code",
   "execution_count": 23,
   "id": "5a147661",
   "metadata": {},
   "outputs": [
    {
     "name": "stderr",
     "output_type": "stream",
     "text": [
      "/var/folders/kd/9h3yrkps2vj0t9zs17vt349c0000gn/T/ipykernel_3018/3055681785.py:7: RuntimeWarning: divide by zero encountered in scalar divide\n",
      "  sharpe_ratio = (annualized_return - risk_free_rate) / volatility\n"
     ]
    }
   ],
   "source": [
    "# Calculate metrics\n",
    "def calculate_metrics(values, risk_free_rate):\n",
    "    returns = pd.Series(values).pct_change().dropna()\n",
    "    cumulative_return = (values[-1] / values[0]) - 1\n",
    "    annualized_return = (1 + cumulative_return) ** (252 / len(returns)) - 1\n",
    "    volatility = returns.std() * np.sqrt(252)\n",
    "    sharpe_ratio = (annualized_return - risk_free_rate) / volatility\n",
    "    max_drawdown = (values / np.maximum.accumulate(values) - 1).min()\n",
    "\n",
    "    return {\n",
    "        \"Cumulative Return\": cumulative_return,\n",
    "        \"Annualized Return\": annualized_return,\n",
    "        \"Volatility\": volatility,\n",
    "        \"Sharpe Ratio\": sharpe_ratio,\n",
    "        \"Max Drawdown\": max_drawdown,\n",
    "    }\n",
    "\n",
    "\n",
    "eiie_metrics = calculate_metrics(eiie_values, risk_free_rate)\n",
    "bh_metrics = calculate_metrics(bh_values, risk_free_rate)"
   ]
  },
  {
   "cell_type": "code",
   "execution_count": 24,
   "id": "deea7dcc",
   "metadata": {},
   "outputs": [],
   "source": [
    "# Step 1: Define metrics\n",
    "metrics = [\n",
    "    \"Cumulative Return\",\n",
    "    \"Annualized Return\",\n",
    "    \"Volatility\",\n",
    "    \"Sharpe Ratio\",\n",
    "    \"Max Drawdown\",\n",
    "]\n",
    "\n",
    "# Step 2: Create DataFrame\n",
    "metrics_df = pd.DataFrame(\n",
    "    {\n",
    "        \"Metric\": metrics,\n",
    "        \"EI3\": [eiie_metrics[m] for m in metrics],\n",
    "        \"Buy & Hold\": [bh_metrics[m] for m in metrics],\n",
    "    }\n",
    ")"
   ]
  },
  {
   "cell_type": "markdown",
   "id": "7c912897",
   "metadata": {},
   "source": [
    "## Performance Summary\n"
   ]
  },
  {
   "cell_type": "code",
   "execution_count": 25,
   "id": "4a516382",
   "metadata": {},
   "outputs": [
    {
     "data": {
      "image/png": "[encoded data removed]",
      "text/plain": [
       "<Figure size 1200x600 with 1 Axes>"
      ]
     },
     "metadata": {},
     "output_type": "display_data"
    }
   ],
   "source": [
    "plt.figure(figsize=(12, 6))\n",
    "plt.plot(eiie_values, label=\"EI3 Strategy\")\n",
    "plt.plot(bh_values, label=\"Buy & Hold\", linestyle=\"--\")\n",
    "plt.title(\"Portfolio Value Comparison\")\n",
    "plt.xlabel(\"Days\")\n",
    "plt.ylabel(\"Portfolio Value ($)\")\n",
    "plt.legend()\n",
    "plt.show()\n",
    "plt.close()"
   ]
  },
  {
   "cell_type": "code",
   "execution_count": 26,
   "id": "a266f3b6",
   "metadata": {},
   "outputs": [
    {
     "data": {
      "image/png": "[encoded data removed]",
      "text/plain": [
       "<Figure size 1200x600 with 1 Axes>"
      ]
     },
     "metadata": {},
     "output_type": "display_data"
    }
   ],
   "source": [
    "plt.figure(figsize=(12, 6))\n",
    "metrics_df.set_index(\"Metric\").plot(kind=\"bar\", ax=plt.gca())\n",
    "plt.title(\"Performance Metrics Comparison\")\n",
    "plt.xticks(rotation=45)\n",
    "plt.tight_layout()\n",
    "plt.show()\n",
    "plt.close()"
   ]
  },
  {
   "cell_type": "code",
   "execution_count": 27,
   "id": "19c0545f",
   "metadata": {},
   "outputs": [
    {
     "name": "stdout",
     "output_type": "stream",
     "text": [
      "\n",
      "Performance Metrics:\n"
     ]
    },
    {
     "data": {
      "text/html": [
       "<style type=\"text/css\">\n",
       "</style>\n",
       "<table id=\"T_33f5b\">\n",
       "  <thead>\n",
       "    <tr>\n",
       "      <th class=\"blank level0\" >&nbsp;</th>\n",
       "      <th id=\"T_33f5b_level0_col0\" class=\"col_heading level0 col0\" >Metric</th>\n",
       "      <th id=\"T_33f5b_level0_col1\" class=\"col_heading level0 col1\" >EI3</th>\n",
       "      <th id=\"T_33f5b_level0_col2\" class=\"col_heading level0 col2\" >Buy & Hold</th>\n",
       "    </tr>\n",
       "  </thead>\n",
       "  <tbody>\n",
       "    <tr>\n",
       "      <th id=\"T_33f5b_level0_row0\" class=\"row_heading level0 row0\" >0</th>\n",
       "      <td id=\"T_33f5b_row0_col0\" class=\"data row0 col0\" >Cumulative Return</td>\n",
       "      <td id=\"T_33f5b_row0_col1\" class=\"data row0 col1\" >0.000000</td>\n",
       "      <td id=\"T_33f5b_row0_col2\" class=\"data row0 col2\" >18.46%</td>\n",
       "    </tr>\n",
       "    <tr>\n",
       "      <th id=\"T_33f5b_level0_row1\" class=\"row_heading level0 row1\" >1</th>\n",
       "      <td id=\"T_33f5b_row1_col0\" class=\"data row1 col0\" >Annualized Return</td>\n",
       "      <td id=\"T_33f5b_row1_col1\" class=\"data row1 col1\" >0.000000</td>\n",
       "      <td id=\"T_33f5b_row1_col2\" class=\"data row1 col2\" >9.95%</td>\n",
       "    </tr>\n",
       "    <tr>\n",
       "      <th id=\"T_33f5b_level0_row2\" class=\"row_heading level0 row2\" >2</th>\n",
       "      <td id=\"T_33f5b_row2_col0\" class=\"data row2 col0\" >Volatility</td>\n",
       "      <td id=\"T_33f5b_row2_col1\" class=\"data row2 col1\" >0.000000</td>\n",
       "      <td id=\"T_33f5b_row2_col2\" class=\"data row2 col2\" >13.33%</td>\n",
       "    </tr>\n",
       "    <tr>\n",
       "      <th id=\"T_33f5b_level0_row3\" class=\"row_heading level0 row3\" >3</th>\n",
       "      <td id=\"T_33f5b_row3_col0\" class=\"data row3 col0\" >Sharpe Ratio</td>\n",
       "      <td id=\"T_33f5b_row3_col1\" class=\"data row3 col1\" >-inf</td>\n",
       "      <td id=\"T_33f5b_row3_col2\" class=\"data row3 col2\" >42.42%</td>\n",
       "    </tr>\n",
       "    <tr>\n",
       "      <th id=\"T_33f5b_level0_row4\" class=\"row_heading level0 row4\" >4</th>\n",
       "      <td id=\"T_33f5b_row4_col0\" class=\"data row4 col0\" >Max Drawdown</td>\n",
       "      <td id=\"T_33f5b_row4_col1\" class=\"data row4 col1\" >0.000000</td>\n",
       "      <td id=\"T_33f5b_row4_col2\" class=\"data row4 col2\" >-14.33%</td>\n",
       "    </tr>\n",
       "  </tbody>\n",
       "</table>\n"
      ],
      "text/plain": [
       "<pandas.io.formats.style.Styler at 0x354d91940>"
      ]
     },
     "metadata": {},
     "output_type": "display_data"
    }
   ],
   "source": [
    "# Display metrics\n",
    "print(\"\\nPerformance Metrics:\")\n",
    "display(\n",
    "    metrics_df.style.format(\n",
    "        {\n",
    "            \"EIIE\": \"{:.2%}\",\n",
    "            \"Buy & Hold\": \"{:.2%}\",\n",
    "            \"Sharpe Ratio\": \"{:.2f}\",\n",
    "            \"Volatility\": \"{:.2%}\",\n",
    "        }\n",
    "    )\n",
    ")"
   ]
  },
  {
   "cell_type": "code",
   "execution_count": 28,
   "id": "9415f2ec",
   "metadata": {},
   "outputs": [
    {
     "name": "stdout",
     "output_type": "stream",
     "text": [
      "\n",
      "Optimal Weights from Sharpe Ratio Optimization:\n",
      "AXP: 34.19%\n",
      "AMGN: 0.00%\n",
      "AAPL: 0.00%\n",
      "BA: 0.00%\n",
      "CAT: 1.72%\n",
      "CSCO: 0.00%\n",
      "CVX: 0.00%\n",
      "GS: 0.00%\n",
      "HD: 0.00%\n",
      "HON: 0.00%\n",
      "IBM: 7.76%\n",
      "INTC: 0.00%\n",
      "JNJ: 0.00%\n",
      "KO: 0.00%\n",
      "JPM: 0.00%\n",
      "MCD: 0.00%\n",
      "MMM: 0.00%\n",
      "MRK: 0.00%\n",
      "MSFT: 0.00%\n",
      "NKE: 0.00%\n",
      "PG: 0.00%\n",
      "TRV: 2.64%\n",
      "UNH: 0.00%\n",
      "CRM: 0.00%\n",
      "VZ: 0.00%\n",
      "V: 0.00%\n",
      "WBA: 0.00%\n",
      "WMT: 0.00%\n",
      "DIS: 0.00%\n",
      "DOW: 53.68%\n"
     ]
    }
   ],
   "source": [
    "# Additional Sharpe ratio optimization\n",
    "log_returns = raw_df.pivot_table(index=\"date\", columns=\"tic\", values=\"close\")\n",
    "log_returns = np.log(log_returns.pct_change() + 1).dropna()\n",
    "cov_matrix = log_returns.cov() * 252\n",
    "\n",
    "\n",
    "def negative_sharpe(weights):\n",
    "    port_return = np.dot(weights, log_returns.mean()) * 252\n",
    "    port_vol = np.sqrt(weights.T @ cov_matrix @ weights)\n",
    "    return -(port_return - risk_free_rate) / port_vol\n",
    "\n",
    "\n",
    "constraints = {\"type\": \"eq\", \"fun\": lambda x: np.sum(x) - 1}\n",
    "bounds = [(0, 1) for _ in tickers]\n",
    "initial_weights = np.array([1 / len(tickers)] * len(tickers))\n",
    "\n",
    "result = minimize(\n",
    "    negative_sharpe,\n",
    "    initial_weights,\n",
    "    method=\"SLSQP\",\n",
    "    bounds=bounds,\n",
    "    constraints=constraints,\n",
    ")\n",
    "\n",
    "print(\"\\nOptimal Weights from Sharpe Ratio Optimization:\")\n",
    "for ticker, weight in zip(tickers, result.x):\n",
    "    print(f\"{ticker}: {weight:.2%}\")"
   ]
  }
 ],
 "metadata": {
  "kernelspec": {
   "display_name": "portfolio_opt",
   "language": "python",
   "name": "python3"
  },
  "language_info": {
   "codemirror_mode": {
    "name": "ipython",
    "version": 3
   },
   "file_extension": ".py",
   "mimetype": "text/x-python",
   "name": "python",
   "nbconvert_exporter": "python",
   "pygments_lexer": "ipython3",
   "version": "3.12.10"
  }
 },
 "nbformat": 4,
 "nbformat_minor": 5
}
