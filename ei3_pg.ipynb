{
 "cells": [
  {
   "cell_type": "markdown",
   "id": "0e1c5a8a",
   "metadata": {},
   "source": [
    "# Deep Reinforcement Learning for Portfolio Optimization - EI3 (Inception) Architecture\n"
   ]
  },
  {
   "cell_type": "markdown",
   "id": "7e9f8e10",
   "metadata": {},
   "source": [
    "This experiement demonstrates the application of deep reinforcement learning (DRL) techniques for portfolio optimization.\n",
    "\n",
    "- Policy network architecture: **EI3 (Inception) backbone**\n",
    "- Compares `A2C`, `PPO`, `SAC`, `DDPG`, `TD3` all with simple MLPs"
   ]
  },
  {
   "cell_type": "markdown",
   "id": "b8dfb03e",
   "metadata": {},
   "source": [
    "## Dependencies\n"
   ]
  },
  {
   "cell_type": "code",
   "execution_count": 2,
   "id": "b8f91ee1",
   "metadata": {},
   "outputs": [],
   "source": [
    "# ! pip install pandas numpy matplotlib \\\n",
    "#                stable-baselines3 \\\n",
    "#                PyPortfolioOpt \\\n",
    "#                pandas_market_calendars quantstats gymnasium \\\n",
    "#                git+https://github.com/AI4Finance-Foundation/FinRL.git -q"
   ]
  },
  {
   "cell_type": "code",
   "execution_count": 3,
   "id": "51776d45",
   "metadata": {},
   "outputs": [],
   "source": [
    "import os\n",
    "import time\n",
    "import pandas as pd\n",
    "import numpy as np\n",
    "import matplotlib.pyplot as plt\n",
    "import seaborn as sns\n",
    "from datetime import datetime, timedelta\n",
    "\n",
    "from scipy.optimize import minimize\n",
    "\n",
    "import torch\n",
    "\n",
    "from finrl import config_tickers\n",
    "from finrl.meta.preprocessor.yahoodownloader import YahooDownloader\n",
    "from finrl.meta.preprocessor.preprocessors import FeatureEngineer, data_split\n",
    "from finrl.meta.env_portfolio_optimization.env_portfolio_optimization import (\n",
    "    PortfolioOptimizationEnv,\n",
    ")\n",
    "from finrl.agents.portfolio_optimization.models import DRLAgent as POAgent\n",
    "from finrl.agents.portfolio_optimization.architectures import EI3"
   ]
  },
  {
   "cell_type": "code",
   "execution_count": 4,
   "id": "9e5cf3e3",
   "metadata": {},
   "outputs": [],
   "source": [
    "import warnings\n",
    "\n",
    "# warnings.filterwarnings(\"ignore\")\n",
    "\n",
    "%matplotlib inline"
   ]
  },
  {
   "cell_type": "code",
   "execution_count": 5,
   "id": "1d8f66f9",
   "metadata": {},
   "outputs": [
    {
     "name": "stdout",
     "output_type": "stream",
     "text": [
      "Using device: cpu\n"
     ]
    }
   ],
   "source": [
    "device = torch.device(\"cuda\" if torch.cuda.is_available() else \"cpu\")\n",
    "print(f\"Using device: {device}\")"
   ]
  },
  {
   "cell_type": "code",
   "execution_count": null,
   "id": "f3e16a19",
   "metadata": {},
   "outputs": [],
   "source": [
    "experiment_name = \"ei3_pg\"\n",
    "results_dir = f\"results/models/{experiment_name}\"\n",
    "os.makedirs(results_dir, exist_ok=True)"
   ]
  },
  {
   "cell_type": "markdown",
   "id": "3c6c1461",
   "metadata": {},
   "source": [
    "## Data loading and pre-processing\n"
   ]
  },
  {
   "cell_type": "markdown",
   "id": "2eefbe65",
   "metadata": {},
   "source": [
    "Define training and trading/test periods\n"
   ]
  },
  {
   "cell_type": "code",
   "execution_count": 7,
   "id": "542703af",
   "metadata": {},
   "outputs": [
    {
     "name": "stdout",
     "output_type": "stream",
     "text": [
      "Training period: ('2013-05-02', '2023-04-30')\n",
      "Testing period: ('2023-05-01', '2025-04-29')\n"
     ]
    }
   ],
   "source": [
    "start_date = \"2015-01-01\"\n",
    "end_date = (datetime.now() - pd.Timedelta(days=1)).strftime(\"%Y-%m-%d\")  # Yesterday\n",
    "\n",
    "trade_period = 2  # 2 years for testing\n",
    "train_period = 10  # 10 years for training\n",
    "\n",
    "train_end_date = (\n",
    "    datetime.strptime(end_date, \"%Y-%m-%d\") - timedelta(days=trade_period * 365)\n",
    ").strftime(\"%Y-%m-%d\")\n",
    "train_start_date = (\n",
    "    datetime.strptime(train_end_date, \"%Y-%m-%d\") - timedelta(days=train_period * 365)\n",
    ").strftime(\"%Y-%m-%d\")\n",
    "test_start_date = (\n",
    "    datetime.strptime(train_end_date, \"%Y-%m-%d\") + timedelta(days=1)\n",
    ").strftime(\"%Y-%m-%d\")\n",
    "\n",
    "train_dates = (train_start_date, train_end_date)\n",
    "test_dates = (test_start_date, end_date)\n",
    "\n",
    "print(f\"Training period: {train_dates}\")\n",
    "print(f\"Testing period: {test_dates}\")"
   ]
  },
  {
   "cell_type": "markdown",
   "id": "a36a425c",
   "metadata": {},
   "source": [
    "- Fetch historical stock data for a given list of tickers within a specified date range.\n",
    "- We use the DOW_30_TICKER stocks\n",
    "- The data includes `date`, `close`, `high`, `low`, `open`, `volume`, and `tic` (ticker symbol).\n"
   ]
  },
  {
   "cell_type": "code",
   "execution_count": 8,
   "id": "46c577ab",
   "metadata": {},
   "outputs": [
    {
     "name": "stdout",
     "output_type": "stream",
     "text": [
      "Downloading 2015-01-01 → 2025-04-29\n"
     ]
    },
    {
     "name": "stderr",
     "output_type": "stream",
     "text": [
      "[*********************100%***********************]  1 of 1 completed\n",
      "[*********************100%***********************]  1 of 1 completed\n",
      "[*********************100%***********************]  1 of 1 completed\n",
      "[*********************100%***********************]  1 of 1 completed\n",
      "[*********************100%***********************]  1 of 1 completed\n",
      "[*********************100%***********************]  1 of 1 completed\n",
      "[*********************100%***********************]  1 of 1 completed\n",
      "[*********************100%***********************]  1 of 1 completed\n",
      "[*********************100%***********************]  1 of 1 completed\n",
      "[*********************100%***********************]  1 of 1 completed\n",
      "[*********************100%***********************]  1 of 1 completed\n",
      "[*********************100%***********************]  1 of 1 completed\n",
      "[*********************100%***********************]  1 of 1 completed\n",
      "[*********************100%***********************]  1 of 1 completed\n",
      "[*********************100%***********************]  1 of 1 completed\n",
      "[*********************100%***********************]  1 of 1 completed\n",
      "[*********************100%***********************]  1 of 1 completed\n",
      "[*********************100%***********************]  1 of 1 completed\n",
      "[*********************100%***********************]  1 of 1 completed\n",
      "[*********************100%***********************]  1 of 1 completed\n",
      "[*********************100%***********************]  1 of 1 completed\n",
      "[*********************100%***********************]  1 of 1 completed\n",
      "[*********************100%***********************]  1 of 1 completed\n",
      "[*********************100%***********************]  1 of 1 completed\n",
      "[*********************100%***********************]  1 of 1 completed\n",
      "[*********************100%***********************]  1 of 1 completed\n",
      "[*********************100%***********************]  1 of 1 completed\n",
      "[*********************100%***********************]  1 of 1 completed\n",
      "[*********************100%***********************]  1 of 1 completed\n",
      "[*********************100%***********************]  1 of 1 completed\n"
     ]
    },
    {
     "name": "stdout",
     "output_type": "stream",
     "text": [
      "Shape of DataFrame:  (76791, 8)\n"
     ]
    }
   ],
   "source": [
    "def download_data(tickers, start_date, end_date):\n",
    "    print(f\"Downloading {start_date} → {end_date}\")\n",
    "    return YahooDownloader(\n",
    "        start_date=start_date, end_date=end_date, ticker_list=tickers\n",
    "    ).fetch_data()\n",
    "\n",
    "\n",
    "tickers = config_tickers.DOW_30_TICKER\n",
    "\n",
    "raw_df = download_data(tickers, start_date, end_date)"
   ]
  },
  {
   "cell_type": "markdown",
   "id": "71bb738f",
   "metadata": {},
   "source": [
    "---\n",
    "\n",
    "### Feature Engineering\n",
    "\n",
    "We apply feature engineering to the dataset of stock data:\n",
    "\n",
    "- Add technical indicators (e.g., moving averages, RSI).\n",
    "- Calculate turbulence indicators, which measure market volatility.\n",
    "\n",
    "This Enhance the dataset with features that are critical for modeling market dynamics and making informed trading decisions.\n"
   ]
  },
  {
   "cell_type": "code",
   "execution_count": null,
   "id": "47dcd423",
   "metadata": {},
   "outputs": [
    {
     "name": "stdout",
     "output_type": "stream",
     "text": [
      "Successfully added technical indicators\n",
      "Successfully added turbulence index\n"
     ]
    }
   ],
   "source": [
    "def preprocess_data(df):\n",
    "    fe = FeatureEngineer(use_technical_indicator=True, use_turbulence=True)\n",
    "    return fe.preprocess_data(df)\n",
    "\n",
    "\n",
    "df_feat = preprocess_data(raw_df)"
   ]
  },
  {
   "cell_type": "markdown",
   "id": "b6cdeb82",
   "metadata": {},
   "source": [
    "## Covariance & Returns for State\n"
   ]
  },
  {
   "cell_type": "markdown",
   "id": "002710f6",
   "metadata": {},
   "source": [
    "- Calculate the rolling covariance matrices and daily returns for the given dataset of stock prices.\n",
    "- This prepares the state representation (the state of the portfolio) for the RL models in the RL environments for portfolio optimization.\n",
    "- The **rolling covariance matrices** (`cov_list`) capture the relationships between asset returns, while the daily returns (`return_list`) provide information about recent price movements.\n",
    "- These metrics are critical for modeling the dynamics of the financial market and making informed trading decisions.\n"
   ]
  },
  {
   "cell_type": "code",
   "execution_count": 10,
   "id": "48b6f5c1",
   "metadata": {},
   "outputs": [],
   "source": [
    "def compute_covariance_and_returns(df_feat, lookback=252):\n",
    "    df_sorted = df_feat.sort_values([\"date\", \"tic\"], ignore_index=True)\n",
    "    df_sorted.index = df_sorted.date.factorize()[0]\n",
    "    cov_list, return_list = [], []\n",
    "\n",
    "    dates = df_sorted.date.unique()\n",
    "    for i in range(lookback, len(dates)):\n",
    "        win = df_sorted.loc[i - lookback : i]\n",
    "        pm = win.pivot_table(index=\"date\", columns=\"tic\", values=\"close\")\n",
    "        rm = pm.pct_change().dropna()\n",
    "        cov_list.append(rm.cov().values)\n",
    "        return_list.append(rm)\n",
    "    df_cov = pd.DataFrame(\n",
    "        {\"date\": dates[lookback:], \"cov_list\": cov_list, \"return_list\": return_list}\n",
    "    )\n",
    "\n",
    "    return pd.merge(df_feat, df_cov, on=\"date\", how=\"left\").dropna(subset=[\"cov_list\"])\n",
    "\n",
    "\n",
    "df_all = compute_covariance_and_returns(df_feat)"
   ]
  },
  {
   "cell_type": "markdown",
   "id": "91b7d720",
   "metadata": {},
   "source": [
    "## Train/Trade split\n"
   ]
  },
  {
   "cell_type": "code",
   "execution_count": 11,
   "id": "886a8a42",
   "metadata": {},
   "outputs": [],
   "source": [
    "def split_data(df_all, train_dates, test_dates):\n",
    "    train = data_split(df_all, *train_dates)\n",
    "    test = data_split(df_all, *test_dates)\n",
    "    return train, test\n",
    "\n",
    "\n",
    "train_df, test_df = split_data(df_all, train_dates, test_dates)"
   ]
  },
  {
   "cell_type": "markdown",
   "id": "1a83bcfe",
   "metadata": {},
   "source": [
    "## Environment setup\n"
   ]
  },
  {
   "cell_type": "markdown",
   "id": "17273f79",
   "metadata": {},
   "source": [
    "- Create instances of the **PortfolioOptimizationEnv** class for both training and testing datasets.\n",
    "- It also wrap the training environment for use with Stable-Baselines3 (SB3).\n"
   ]
  },
  {
   "cell_type": "code",
   "execution_count": 12,
   "id": "1bd7cff4",
   "metadata": {},
   "outputs": [],
   "source": [
    "def initialize_portfolio_env(df):\n",
    "    env = PortfolioOptimizationEnv(\n",
    "        df,\n",
    "        initial_amount=100_000,\n",
    "        comission_fee_pct=0.0025,\n",
    "        time_window=50,\n",
    "        features=[\"close\", \"high\", \"low\"],\n",
    "        normalize_df=None,\n",
    "        new_gym_api=True,\n",
    "    )\n",
    "\n",
    "    env.df = df.reset_index(drop=True)\n",
    "\n",
    "    return env\n",
    "\n",
    "\n",
    "train_env = initialize_portfolio_env(train_df)"
   ]
  },
  {
   "cell_type": "markdown",
   "id": "4ad6387a",
   "metadata": {},
   "source": [
    "## Training\n"
   ]
  },
  {
   "cell_type": "markdown",
   "id": "74879ebb",
   "metadata": {},
   "source": [
    "- Set PolicyGradient algorithm and EIIE architecture arguments\n"
   ]
  },
  {
   "cell_type": "code",
   "execution_count": null,
   "id": "9b12a71b",
   "metadata": {},
   "outputs": [],
   "source": [
    "model_kwargs = {\"lr\": 0.01, \"policy\": EI3, \"device\": device}\n",
    "# Set EI3 architecture arguments\n",
    "policy_kwargs = {\n",
    "    \"k_short\": 3,  # short‐term conv kernel\n",
    "    \"k_medium\": 21,  # medium‐term conv kernel\n",
    "    \"conv_mid_features\": 3,  # intermediate channels\n",
    "    \"conv_final_features\": 20,\n",
    "    \"time_window\": 50,  # same as PortfolioOptimizationEnv(time_window)\n",
    "    \"device\": device,\n",
    "}\n",
    "model = POAgent(train_env).get_model(\"pg\", device, model_kwargs, policy_kwargs)"
   ]
  },
  {
   "cell_type": "markdown",
   "id": "7ccfbb5b",
   "metadata": {},
   "source": [
    "- Train the model\n"
   ]
  },
  {
   "cell_type": "code",
   "execution_count": 36,
   "id": "fec3c5c0",
   "metadata": {},
   "outputs": [],
   "source": [
    "def train():\n",
    "    start_time = time.time()\n",
    "\n",
    "    trained_model = POAgent.train_model(model, episodes=50)\n",
    "\n",
    "    end_time = time.time()\n",
    "    training_duration = (end_time - start_time) / 60\n",
    "    print(f\"Training completed in {training_duration:.2f} minutes.\")\n",
    "    \n",
    "    return trained_model, training_duration"
   ]
  },
  {
   "cell_type": "code",
   "execution_count": null,
   "id": "872e8b9d",
   "metadata": {},
   "outputs": [],
   "source": [
    "# TODO: Turn to False after first run to avoid retraining and just analyse the results\n",
    "retrain = True\n",
    "\n",
    "model_path = f\"{results_dir}/ei3_pg.pth\""
   ]
  },
  {
   "cell_type": "code",
   "execution_count": 39,
   "id": "dd33b7a0",
   "metadata": {},
   "outputs": [
    {
     "name": "stderr",
     "output_type": "stream",
     "text": [
      "  0%|          | 0/50 [00:00<?, ?it/s]"
     ]
    },
    {
     "name": "stdout",
     "output_type": "stream",
     "text": [
      "=================================\n",
      "Initial portfolio value:100000\n",
      "Final portfolio value: 138042.734375\n",
      "Final accumulative portfolio value: 1.380427360534668\n",
      "Maximum DrawDown: -0.779200528897737\n",
      "Sharpe ratio: 0.30453129536164725\n",
      "=================================\n"
     ]
    },
    {
     "name": "stderr",
     "output_type": "stream",
     "text": [
      "  2%|▏         | 1/50 [00:18<15:27, 18.93s/it]"
     ]
    },
    {
     "name": "stdout",
     "output_type": "stream",
     "text": [
      "=================================\n",
      "Initial portfolio value:100000\n",
      "Final portfolio value: 151635.875\n",
      "Final accumulative portfolio value: 1.516358733177185\n",
      "Maximum DrawDown: -0.7910647715757454\n",
      "Sharpe ratio: 0.34834713023421093\n",
      "=================================\n"
     ]
    },
    {
     "name": "stderr",
     "output_type": "stream",
     "text": [
      "  4%|▍         | 2/50 [00:37<14:46, 18.46s/it]"
     ]
    },
    {
     "name": "stdout",
     "output_type": "stream",
     "text": [
      "=================================\n",
      "Initial portfolio value:100000\n",
      "Final portfolio value: 179743.15625\n",
      "Final accumulative portfolio value: 1.7974315881729126\n",
      "Maximum DrawDown: -0.7792004727080977\n",
      "Sharpe ratio: 0.41409738899877474\n",
      "=================================\n"
     ]
    },
    {
     "name": "stderr",
     "output_type": "stream",
     "text": [
      "  6%|▌         | 3/50 [00:59<15:58, 20.40s/it]"
     ]
    },
    {
     "name": "stdout",
     "output_type": "stream",
     "text": [
      "=================================\n",
      "Initial portfolio value:100000\n",
      "Final portfolio value: 183240.578125\n",
      "Final accumulative portfolio value: 1.8324058055877686\n",
      "Maximum DrawDown: -0.7792003352379573\n",
      "Sharpe ratio: 0.41988567020220086\n",
      "=================================\n"
     ]
    },
    {
     "name": "stderr",
     "output_type": "stream",
     "text": [
      "  8%|▊         | 4/50 [01:18<15:10, 19.80s/it]"
     ]
    },
    {
     "name": "stdout",
     "output_type": "stream",
     "text": [
      "=================================\n",
      "Initial portfolio value:100000\n",
      "Final portfolio value: 178212.90625\n",
      "Final accumulative portfolio value: 1.7821290493011475\n",
      "Maximum DrawDown: -0.7792004206051385\n",
      "Sharpe ratio: 0.4086754000942538\n",
      "=================================\n"
     ]
    },
    {
     "name": "stderr",
     "output_type": "stream",
     "text": [
      " 10%|█         | 5/50 [01:37<14:31, 19.37s/it]"
     ]
    },
    {
     "name": "stdout",
     "output_type": "stream",
     "text": [
      "=================================\n",
      "Initial portfolio value:100000\n",
      "Final portfolio value: 177468.953125\n",
      "Final accumulative portfolio value: 1.7746895551681519\n",
      "Maximum DrawDown: -0.7792004532572748\n",
      "Sharpe ratio: 0.4070326432465952\n",
      "=================================\n"
     ]
    },
    {
     "name": "stderr",
     "output_type": "stream",
     "text": [
      " 12%|█▏        | 6/50 [01:54<13:42, 18.70s/it]"
     ]
    },
    {
     "name": "stdout",
     "output_type": "stream",
     "text": [
      "=================================\n",
      "Initial portfolio value:100000\n",
      "Final portfolio value: 180898.328125\n",
      "Final accumulative portfolio value: 1.808983325958252\n",
      "Maximum DrawDown: -0.7792003815673549\n",
      "Sharpe ratio: 0.41478916250027204\n",
      "=================================\n"
     ]
    },
    {
     "name": "stderr",
     "output_type": "stream",
     "text": [
      " 14%|█▍        | 7/50 [02:12<13:18, 18.56s/it]"
     ]
    },
    {
     "name": "stdout",
     "output_type": "stream",
     "text": [
      "=================================\n",
      "Initial portfolio value:100000\n",
      "Final portfolio value: 239890.421875\n",
      "Final accumulative portfolio value: 2.398904323577881\n",
      "Maximum DrawDown: -0.7792004219630673\n",
      "Sharpe ratio: 0.5346526232505787\n",
      "=================================\n"
     ]
    },
    {
     "name": "stderr",
     "output_type": "stream",
     "text": [
      " 16%|█▌        | 8/50 [02:31<12:54, 18.44s/it]"
     ]
    },
    {
     "name": "stdout",
     "output_type": "stream",
     "text": [
      "=================================\n",
      "Initial portfolio value:100000\n",
      "Final portfolio value: 228386.4375\n",
      "Final accumulative portfolio value: 2.2838642597198486\n",
      "Maximum DrawDown: -0.7792004306070495\n",
      "Sharpe ratio: 0.5157979558094637\n",
      "=================================\n"
     ]
    },
    {
     "name": "stderr",
     "output_type": "stream",
     "text": [
      " 18%|█▊        | 9/50 [02:49<12:31, 18.32s/it]"
     ]
    },
    {
     "name": "stdout",
     "output_type": "stream",
     "text": [
      "=================================\n",
      "Initial portfolio value:100000\n",
      "Final portfolio value: 196195.515625\n",
      "Final accumulative portfolio value: 1.961955189704895\n",
      "Maximum DrawDown: -0.7792004114278133\n",
      "Sharpe ratio: 0.4582447263286739\n",
      "=================================\n"
     ]
    },
    {
     "name": "stderr",
     "output_type": "stream",
     "text": [
      " 20%|██        | 10/50 [03:08<12:21, 18.54s/it]"
     ]
    },
    {
     "name": "stdout",
     "output_type": "stream",
     "text": [
      "=================================\n",
      "Initial portfolio value:100000\n",
      "Final portfolio value: 203055.4375\n",
      "Final accumulative portfolio value: 2.0305542945861816\n",
      "Maximum DrawDown: -0.7792003426447314\n",
      "Sharpe ratio: 0.4732351239877285\n",
      "=================================\n"
     ]
    },
    {
     "name": "stderr",
     "output_type": "stream",
     "text": [
      " 22%|██▏       | 11/50 [03:27<12:07, 18.66s/it]"
     ]
    },
    {
     "name": "stdout",
     "output_type": "stream",
     "text": [
      "=================================\n",
      "Initial portfolio value:100000\n",
      "Final portfolio value: 232489.03125\n",
      "Final accumulative portfolio value: 2.324890375137329\n",
      "Maximum DrawDown: -0.7792003843858188\n",
      "Sharpe ratio: 0.5232643148782166\n",
      "=================================\n"
     ]
    },
    {
     "name": "stderr",
     "output_type": "stream",
     "text": [
      " 24%|██▍       | 12/50 [03:45<11:48, 18.65s/it]"
     ]
    },
    {
     "name": "stdout",
     "output_type": "stream",
     "text": [
      "=================================\n",
      "Initial portfolio value:100000\n",
      "Final portfolio value: 179608.6875\n",
      "Final accumulative portfolio value: 1.7960869073867798\n",
      "Maximum DrawDown: -0.7792004384272683\n",
      "Sharpe ratio: 0.41171183083662716\n",
      "=================================\n"
     ]
    },
    {
     "name": "stderr",
     "output_type": "stream",
     "text": [
      " 26%|██▌       | 13/50 [04:03<11:17, 18.30s/it]"
     ]
    },
    {
     "name": "stdout",
     "output_type": "stream",
     "text": [
      "=================================\n",
      "Initial portfolio value:100000\n",
      "Final portfolio value: 170892.828125\n",
      "Final accumulative portfolio value: 1.7089282274246216\n",
      "Maximum DrawDown: -0.7792003525292056\n",
      "Sharpe ratio: 0.3917379114327363\n",
      "=================================\n"
     ]
    },
    {
     "name": "stderr",
     "output_type": "stream",
     "text": [
      " 28%|██▊       | 14/50 [04:21<10:53, 18.16s/it]"
     ]
    },
    {
     "name": "stdout",
     "output_type": "stream",
     "text": [
      "=================================\n",
      "Initial portfolio value:100000\n",
      "Final portfolio value: 174343.390625\n",
      "Final accumulative portfolio value: 1.743433952331543\n",
      "Maximum DrawDown: -0.7792004554079697\n",
      "Sharpe ratio: 0.3997744581384181\n",
      "=================================\n"
     ]
    },
    {
     "name": "stderr",
     "output_type": "stream",
     "text": [
      " 30%|███       | 15/50 [04:39<10:41, 18.33s/it]"
     ]
    },
    {
     "name": "stdout",
     "output_type": "stream",
     "text": [
      "=================================\n",
      "Initial portfolio value:100000\n",
      "Final portfolio value: 172903.6875\n",
      "Final accumulative portfolio value: 1.7290369272232056\n",
      "Maximum DrawDown: -0.7792004123505315\n",
      "Sharpe ratio: 0.39643442741403756\n",
      "=================================\n"
     ]
    },
    {
     "name": "stderr",
     "output_type": "stream",
     "text": [
      " 32%|███▏      | 16/50 [04:58<10:22, 18.32s/it]"
     ]
    },
    {
     "name": "stdout",
     "output_type": "stream",
     "text": [
      "=================================\n",
      "Initial portfolio value:100000\n",
      "Final portfolio value: 184932.609375\n",
      "Final accumulative portfolio value: 1.8493261337280273\n",
      "Maximum DrawDown: -0.7792005080544421\n",
      "Sharpe ratio: 0.4234158789573155\n",
      "=================================\n"
     ]
    },
    {
     "name": "stderr",
     "output_type": "stream",
     "text": [
      " 34%|███▍      | 17/50 [05:17<10:18, 18.74s/it]"
     ]
    },
    {
     "name": "stdout",
     "output_type": "stream",
     "text": [
      "=================================\n",
      "Initial portfolio value:100000\n",
      "Final portfolio value: 187070.5\n",
      "Final accumulative portfolio value: 1.870705008506775\n",
      "Maximum DrawDown: -0.7792004160044692\n",
      "Sharpe ratio: 0.4280450987982466\n",
      "=================================\n"
     ]
    },
    {
     "name": "stderr",
     "output_type": "stream",
     "text": [
      " 36%|███▌      | 18/50 [05:35<09:53, 18.54s/it]"
     ]
    },
    {
     "name": "stdout",
     "output_type": "stream",
     "text": [
      "=================================\n",
      "Initial portfolio value:100000\n",
      "Final portfolio value: 188028.0625\n",
      "Final accumulative portfolio value: 1.880280613899231\n",
      "Maximum DrawDown: -0.7792004130984387\n",
      "Sharpe ratio: 0.4301005713784056\n",
      "=================================\n"
     ]
    },
    {
     "name": "stderr",
     "output_type": "stream",
     "text": [
      " 38%|███▊      | 19/50 [05:53<09:27, 18.31s/it]"
     ]
    },
    {
     "name": "stdout",
     "output_type": "stream",
     "text": [
      "=================================\n",
      "Initial portfolio value:100000\n",
      "Final portfolio value: 187307.078125\n",
      "Final accumulative portfolio value: 1.8730708360671997\n",
      "Maximum DrawDown: -0.7792003795107596\n",
      "Sharpe ratio: 0.42853459378357645\n",
      "=================================\n"
     ]
    },
    {
     "name": "stderr",
     "output_type": "stream",
     "text": [
      " 40%|████      | 20/50 [06:11<09:08, 18.27s/it]"
     ]
    },
    {
     "name": "stdout",
     "output_type": "stream",
     "text": [
      "=================================\n",
      "Initial portfolio value:100000\n",
      "Final portfolio value: 187294.421875\n",
      "Final accumulative portfolio value: 1.8729442358016968\n",
      "Maximum DrawDown: -0.7792005089727588\n",
      "Sharpe ratio: 0.42850812486124235\n",
      "=================================\n"
     ]
    },
    {
     "name": "stderr",
     "output_type": "stream",
     "text": [
      " 42%|████▏     | 21/50 [06:29<08:44, 18.08s/it]"
     ]
    },
    {
     "name": "stdout",
     "output_type": "stream",
     "text": [
      "=================================\n",
      "Initial portfolio value:100000\n",
      "Final portfolio value: 187347.015625\n",
      "Final accumulative portfolio value: 1.8734701871871948\n",
      "Maximum DrawDown: -0.7792003445770088\n",
      "Sharpe ratio: 0.42862151793167524\n",
      "=================================\n"
     ]
    },
    {
     "name": "stderr",
     "output_type": "stream",
     "text": [
      " 44%|████▍     | 22/50 [06:47<08:23, 17.98s/it]"
     ]
    },
    {
     "name": "stdout",
     "output_type": "stream",
     "text": [
      "=================================\n",
      "Initial portfolio value:100000\n",
      "Final portfolio value: 187610.0\n",
      "Final accumulative portfolio value: 1.876099944114685\n",
      "Maximum DrawDown: -0.7792005258571247\n",
      "Sharpe ratio: 0.42919230810115905\n",
      "=================================\n"
     ]
    },
    {
     "name": "stderr",
     "output_type": "stream",
     "text": [
      " 46%|████▌     | 23/50 [07:05<08:09, 18.12s/it]"
     ]
    },
    {
     "name": "stdout",
     "output_type": "stream",
     "text": [
      "=================================\n",
      "Initial portfolio value:100000\n",
      "Final portfolio value: 187917.359375\n",
      "Final accumulative portfolio value: 1.8791736364364624\n",
      "Maximum DrawDown: -0.779200366740935\n",
      "Sharpe ratio: 0.4298648501811955\n",
      "=================================\n"
     ]
    },
    {
     "name": "stderr",
     "output_type": "stream",
     "text": [
      " 48%|████▊     | 24/50 [07:24<07:57, 18.36s/it]"
     ]
    },
    {
     "name": "stdout",
     "output_type": "stream",
     "text": [
      "=================================\n",
      "Initial portfolio value:100000\n",
      "Final portfolio value: 187429.75\n",
      "Final accumulative portfolio value: 1.8742974996566772\n",
      "Maximum DrawDown: -0.7792003216965806\n",
      "Sharpe ratio: 0.4288050405086966\n",
      "=================================\n"
     ]
    },
    {
     "name": "stderr",
     "output_type": "stream",
     "text": [
      " 50%|█████     | 25/50 [07:43<07:42, 18.49s/it]"
     ]
    },
    {
     "name": "stdout",
     "output_type": "stream",
     "text": [
      "=================================\n",
      "Initial portfolio value:100000\n",
      "Final portfolio value: 187837.0\n",
      "Final accumulative portfolio value: 1.8783700466156006\n",
      "Maximum DrawDown: -0.7792005351629131\n",
      "Sharpe ratio: 0.4296930522250637\n",
      "=================================\n"
     ]
    },
    {
     "name": "stderr",
     "output_type": "stream",
     "text": [
      " 52%|█████▏    | 26/50 [08:02<07:30, 18.77s/it]"
     ]
    },
    {
     "name": "stdout",
     "output_type": "stream",
     "text": [
      "=================================\n",
      "Initial portfolio value:100000\n",
      "Final portfolio value: 188224.625\n",
      "Final accumulative portfolio value: 1.8822462558746338\n",
      "Maximum DrawDown: -0.7792004391676535\n",
      "Sharpe ratio: 0.4305229986585723\n",
      "=================================\n"
     ]
    },
    {
     "name": "stderr",
     "output_type": "stream",
     "text": [
      " 54%|█████▍    | 27/50 [08:23<07:21, 19.21s/it]"
     ]
    },
    {
     "name": "stdout",
     "output_type": "stream",
     "text": [
      "=================================\n",
      "Initial portfolio value:100000\n",
      "Final portfolio value: 188114.765625\n",
      "Final accumulative portfolio value: 1.8811476230621338\n",
      "Maximum DrawDown: -0.7792003942011996\n",
      "Sharpe ratio: 0.4302875863097059\n",
      "=================================\n"
     ]
    },
    {
     "name": "stderr",
     "output_type": "stream",
     "text": [
      " 56%|█████▌    | 28/50 [08:41<06:59, 19.06s/it]"
     ]
    },
    {
     "name": "stdout",
     "output_type": "stream",
     "text": [
      "=================================\n",
      "Initial portfolio value:100000\n",
      "Final portfolio value: 187324.65625\n",
      "Final accumulative portfolio value: 1.8732465505599976\n",
      "Maximum DrawDown: -0.7792006381467297\n",
      "Sharpe ratio: 0.428574023934384\n",
      "=================================\n"
     ]
    },
    {
     "name": "stderr",
     "output_type": "stream",
     "text": [
      " 58%|█████▊    | 29/50 [09:00<06:35, 18.84s/it]"
     ]
    },
    {
     "name": "stdout",
     "output_type": "stream",
     "text": [
      "=================================\n",
      "Initial portfolio value:100000\n",
      "Final portfolio value: 187575.703125\n",
      "Final accumulative portfolio value: 1.8757569789886475\n",
      "Maximum DrawDown: -0.7792003966211463\n",
      "Sharpe ratio: 0.42912351482693817\n",
      "=================================\n"
     ]
    },
    {
     "name": "stderr",
     "output_type": "stream",
     "text": [
      " 60%|██████    | 30/50 [09:17<06:09, 18.49s/it]"
     ]
    },
    {
     "name": "stdout",
     "output_type": "stream",
     "text": [
      "=================================\n",
      "Initial portfolio value:100000\n",
      "Final portfolio value: 188273.3125\n",
      "Final accumulative portfolio value: 1.8827331066131592\n",
      "Maximum DrawDown: -0.7792004412816511\n",
      "Sharpe ratio: 0.4306260482214821\n",
      "=================================\n"
     ]
    },
    {
     "name": "stderr",
     "output_type": "stream",
     "text": [
      " 62%|██████▏   | 31/50 [09:36<05:50, 18.42s/it]"
     ]
    },
    {
     "name": "stdout",
     "output_type": "stream",
     "text": [
      "=================================\n",
      "Initial portfolio value:100000\n",
      "Final portfolio value: 188383.53125\n",
      "Final accumulative portfolio value: 1.8838353157043457\n",
      "Maximum DrawDown: -0.77920038864806\n",
      "Sharpe ratio: 0.43086178206068304\n",
      "=================================\n"
     ]
    },
    {
     "name": "stderr",
     "output_type": "stream",
     "text": [
      " 64%|██████▍   | 32/50 [09:54<05:32, 18.48s/it]"
     ]
    },
    {
     "name": "stdout",
     "output_type": "stream",
     "text": [
      "=================================\n",
      "Initial portfolio value:100000\n",
      "Final portfolio value: 188206.375\n",
      "Final accumulative portfolio value: 1.8820637464523315\n",
      "Maximum DrawDown: -0.7792004715195509\n",
      "Sharpe ratio: 0.4304800693019265\n",
      "=================================\n"
     ]
    },
    {
     "name": "stderr",
     "output_type": "stream",
     "text": [
      " 66%|██████▌   | 33/50 [10:12<05:10, 18.26s/it]"
     ]
    },
    {
     "name": "stdout",
     "output_type": "stream",
     "text": [
      "=================================\n",
      "Initial portfolio value:100000\n",
      "Final portfolio value: 187086.21875\n",
      "Final accumulative portfolio value: 1.8708622455596924\n",
      "Maximum DrawDown: -0.7792005178455146\n",
      "Sharpe ratio: 0.42807823366096637\n",
      "=================================\n"
     ]
    },
    {
     "name": "stderr",
     "output_type": "stream",
     "text": [
      " 68%|██████▊   | 34/50 [10:30<04:52, 18.27s/it]"
     ]
    },
    {
     "name": "stdout",
     "output_type": "stream",
     "text": [
      "=================================\n",
      "Initial portfolio value:100000\n",
      "Final portfolio value: 188046.609375\n",
      "Final accumulative portfolio value: 1.880466103553772\n",
      "Maximum DrawDown: -0.7792004805677009\n",
      "Sharpe ratio: 0.4301260995364573\n",
      "=================================\n"
     ]
    },
    {
     "name": "stderr",
     "output_type": "stream",
     "text": [
      " 70%|███████   | 35/50 [10:48<04:32, 18.14s/it]"
     ]
    },
    {
     "name": "stdout",
     "output_type": "stream",
     "text": [
      "=================================\n",
      "Initial portfolio value:100000\n",
      "Final portfolio value: 187439.609375\n",
      "Final accumulative portfolio value: 1.8743960857391357\n",
      "Maximum DrawDown: -0.779200351003507\n",
      "Sharpe ratio: 0.42883867965535033\n",
      "=================================\n"
     ]
    },
    {
     "name": "stderr",
     "output_type": "stream",
     "text": [
      " 74%|███████▍  | 37/50 [11:22<03:49, 17.64s/it]"
     ]
    },
    {
     "name": "stdout",
     "output_type": "stream",
     "text": [
      "=================================\n",
      "Initial portfolio value:100000\n",
      "Final portfolio value: 187495.1875\n",
      "Final accumulative portfolio value: 1.8749518394470215\n",
      "Maximum DrawDown: -0.77920040598411\n",
      "Sharpe ratio: 0.4289445941108054\n",
      "=================================\n"
     ]
    },
    {
     "name": "stderr",
     "output_type": "stream",
     "text": [
      " 76%|███████▌  | 38/50 [11:41<03:35, 17.92s/it]"
     ]
    },
    {
     "name": "stdout",
     "output_type": "stream",
     "text": [
      "=================================\n",
      "Initial portfolio value:100000\n",
      "Final portfolio value: 188343.828125\n",
      "Final accumulative portfolio value: 1.883438229560852\n",
      "Maximum DrawDown: -0.7792003850434691\n",
      "Sharpe ratio: 0.4307764946465634\n",
      "=================================\n"
     ]
    },
    {
     "name": "stderr",
     "output_type": "stream",
     "text": [
      " 78%|███████▊  | 39/50 [11:58<03:13, 17.55s/it]"
     ]
    },
    {
     "name": "stdout",
     "output_type": "stream",
     "text": [
      "=================================\n",
      "Initial portfolio value:100000\n",
      "Final portfolio value: 187506.609375\n",
      "Final accumulative portfolio value: 1.8750660419464111\n",
      "Maximum DrawDown: -0.7792003379825315\n",
      "Sharpe ratio: 0.42898471398778637\n",
      "=================================\n"
     ]
    },
    {
     "name": "stderr",
     "output_type": "stream",
     "text": [
      " 80%|████████  | 40/50 [12:14<02:52, 17.29s/it]"
     ]
    },
    {
     "name": "stdout",
     "output_type": "stream",
     "text": [
      "=================================\n",
      "Initial portfolio value:100000\n",
      "Final portfolio value: 192661.265625\n",
      "Final accumulative portfolio value: 1.9266126155853271\n",
      "Maximum DrawDown: -0.7792004124609087\n",
      "Sharpe ratio: 0.43988309385905416\n",
      "=================================\n"
     ]
    },
    {
     "name": "stderr",
     "output_type": "stream",
     "text": [
      " 82%|████████▏ | 41/50 [12:31<02:33, 17.10s/it]"
     ]
    },
    {
     "name": "stdout",
     "output_type": "stream",
     "text": [
      "=================================\n",
      "Initial portfolio value:100000\n",
      "Final portfolio value: 197463.703125\n",
      "Final accumulative portfolio value: 1.9746370315551758\n",
      "Maximum DrawDown: -0.7792004298353881\n",
      "Sharpe ratio: 0.44974465300133587\n",
      "=================================\n"
     ]
    },
    {
     "name": "stderr",
     "output_type": "stream",
     "text": [
      " 84%|████████▍ | 42/50 [12:48<02:15, 16.92s/it]"
     ]
    },
    {
     "name": "stdout",
     "output_type": "stream",
     "text": [
      "=================================\n",
      "Initial portfolio value:100000\n",
      "Final portfolio value: 207802.109375\n",
      "Final accumulative portfolio value: 2.0780210494995117\n",
      "Maximum DrawDown: -0.7792004928999797\n",
      "Sharpe ratio: 0.4703289015586569\n",
      "=================================\n"
     ]
    },
    {
     "name": "stderr",
     "output_type": "stream",
     "text": [
      " 86%|████████▌ | 43/50 [13:04<01:57, 16.81s/it]"
     ]
    },
    {
     "name": "stdout",
     "output_type": "stream",
     "text": [
      "=================================\n",
      "Initial portfolio value:100000\n",
      "Final portfolio value: 185742.96875\n",
      "Final accumulative portfolio value: 1.8574297428131104\n",
      "Maximum DrawDown: -0.7792004226582807\n",
      "Sharpe ratio: 0.42758314469282466\n",
      "=================================\n"
     ]
    },
    {
     "name": "stderr",
     "output_type": "stream",
     "text": [
      " 88%|████████▊ | 44/50 [13:21<01:40, 16.81s/it]"
     ]
    },
    {
     "name": "stdout",
     "output_type": "stream",
     "text": [
      "=================================\n",
      "Initial portfolio value:100000\n",
      "Final portfolio value: 188473.84375\n",
      "Final accumulative portfolio value: 1.8847384452819824\n",
      "Maximum DrawDown: -0.7792004435092719\n",
      "Sharpe ratio: 0.4335651652918788\n",
      "=================================\n",
      "=================================\n",
      "Initial portfolio value:100000\n",
      "Final portfolio value: 188473.84375\n",
      "Final accumulative portfolio value: 1.8847384452819824\n",
      "Maximum DrawDown: -0.7792004435092719\n",
      "Sharpe ratio: 0.4335651901028924\n",
      "=================================\n"
     ]
    },
    {
     "name": "stderr",
     "output_type": "stream",
     "text": [
      " 92%|█████████▏| 46/50 [13:55<01:07, 16.90s/it]"
     ]
    },
    {
     "name": "stdout",
     "output_type": "stream",
     "text": [
      "=================================\n",
      "Initial portfolio value:100000\n",
      "Final portfolio value: 188473.84375\n",
      "Final accumulative portfolio value: 1.8847384452819824\n",
      "Maximum DrawDown: -0.7792004435092719\n",
      "Sharpe ratio: 0.43356506530549466\n",
      "=================================\n",
      "=================================\n",
      "Initial portfolio value:100000\n",
      "Final portfolio value: 188473.84375\n",
      "Final accumulative portfolio value: 1.8847384452819824\n",
      "Maximum DrawDown: -0.7792004435092719\n",
      "Sharpe ratio: 0.4335650662396272\n",
      "=================================\n"
     ]
    },
    {
     "name": "stderr",
     "output_type": "stream",
     "text": [
      " 94%|█████████▍| 47/50 [14:13<00:51, 17.18s/it]"
     ]
    },
    {
     "name": "stdout",
     "output_type": "stream",
     "text": [
      "=================================\n",
      "Initial portfolio value:100000\n",
      "Final portfolio value: 188473.84375\n",
      "Final accumulative portfolio value: 1.8847384452819824\n",
      "Maximum DrawDown: -0.7792004435092719\n",
      "Sharpe ratio: 0.4335651399563573\n",
      "=================================\n"
     ]
    },
    {
     "name": "stderr",
     "output_type": "stream",
     "text": [
      " 98%|█████████▊| 49/50 [14:47<00:17, 17.22s/it]"
     ]
    },
    {
     "name": "stdout",
     "output_type": "stream",
     "text": [
      "=================================\n",
      "Initial portfolio value:100000\n",
      "Final portfolio value: 188473.84375\n",
      "Final accumulative portfolio value: 1.8847384452819824\n",
      "Maximum DrawDown: -0.7792004435092719\n",
      "Sharpe ratio: 0.4335652170543368\n",
      "=================================\n"
     ]
    },
    {
     "name": "stderr",
     "output_type": "stream",
     "text": [
      "100%|██████████| 50/50 [15:04<00:00, 18.09s/it]"
     ]
    },
    {
     "name": "stdout",
     "output_type": "stream",
     "text": [
      "=================================\n",
      "Initial portfolio value:100000\n",
      "Final portfolio value: 188473.84375\n",
      "Final accumulative portfolio value: 1.8847384452819824\n",
      "Maximum DrawDown: -0.7792004435092719\n",
      "Sharpe ratio: 0.4335650662396272\n",
      "=================================\n",
      "Training completed in 15.07 minutes.\n"
     ]
    },
    {
     "name": "stderr",
     "output_type": "stream",
     "text": [
      "\n"
     ]
    }
   ],
   "source": [
    "if retrain:\n",
    "    trained_model, training_duration = train()"
   ]
  },
  {
   "cell_type": "code",
   "execution_count": 40,
   "id": "8145512e",
   "metadata": {},
   "outputs": [
    {
     "name": "stdout",
     "output_type": "stream",
     "text": [
      "Model saved to results/models/portfolio_optimization_ei3_pg/ei3_pg.pth\n",
      "Training summary:\n"
     ]
    },
    {
     "data": {
      "application/vnd.microsoft.datawrangler.viewer.v0+json": {
       "columns": [
        {
         "name": "index",
         "rawType": "int64",
         "type": "integer"
        },
        {
         "name": "model",
         "rawType": "object",
         "type": "string"
        },
        {
         "name": "training_duration (min)",
         "rawType": "float64",
         "type": "float"
        }
       ],
       "conversionMethod": "pd.DataFrame",
       "ref": "e4713a90-5582-40f4-9bfc-e23b75c46347",
       "rows": [
        [
         "0",
         "EI3_PG",
         "15.073516352971394"
        ]
       ],
       "shape": {
        "columns": 2,
        "rows": 1
       }
      },
      "text/html": [
       "<div>\n",
       "<style scoped>\n",
       "    .dataframe tbody tr th:only-of-type {\n",
       "        vertical-align: middle;\n",
       "    }\n",
       "\n",
       "    .dataframe tbody tr th {\n",
       "        vertical-align: top;\n",
       "    }\n",
       "\n",
       "    .dataframe thead th {\n",
       "        text-align: right;\n",
       "    }\n",
       "</style>\n",
       "<table border=\"1\" class=\"dataframe\">\n",
       "  <thead>\n",
       "    <tr style=\"text-align: right;\">\n",
       "      <th></th>\n",
       "      <th>model</th>\n",
       "      <th>training_duration (min)</th>\n",
       "    </tr>\n",
       "  </thead>\n",
       "  <tbody>\n",
       "    <tr>\n",
       "      <th>0</th>\n",
       "      <td>EI3_PG</td>\n",
       "      <td>15.073516</td>\n",
       "    </tr>\n",
       "  </tbody>\n",
       "</table>\n",
       "</div>"
      ],
      "text/plain": [
       "    model  training_duration (min)\n",
       "0  EI3_PG                15.073516"
      ]
     },
     "metadata": {},
     "output_type": "display_data"
    }
   ],
   "source": [
    "if retrain:\n",
    "    # Save the trained model\n",
    "    torch.save(trained_model.train_policy.state_dict(), model_path)\n",
    "    print(f\"Model saved to {model_path}\")\n",
    "    \n",
    "    # Save training times\n",
    "    training_times_df = pd.DataFrame(\n",
    "        [{\"model\": \"EI3_PG\", \"training_duration (min)\": training_duration}]\n",
    "    )\n",
    "    training_times_df.to_csv(f\"{results_dir}/training_times.csv\", index=False)\n",
    "\n",
    "    # Display training summary\n",
    "    print(\"Training summary:\")\n",
    "    display(training_times_df)"
   ]
  },
  {
   "cell_type": "markdown",
   "id": "eb7ec26e",
   "metadata": {},
   "source": [
    "## Backtesting\n"
   ]
  },
  {
   "cell_type": "code",
   "execution_count": 41,
   "id": "f4078dd4",
   "metadata": {},
   "outputs": [
    {
     "name": "stdout",
     "output_type": "stream",
     "text": [
      "Model loaded and ready for evaluation.\n",
      "Evaluating model on test data...\n"
     ]
    }
   ],
   "source": [
    "policy = EI3(time_window=50, device=device)\n",
    "policy.load_state_dict(torch.load(model_path, map_location=device))\n",
    "# policy = policy.to(device)\n",
    "# policy.eval()\n",
    "print(\"Model loaded and ready for evaluation.\")\n",
    "print(\"Evaluating model on test data...\")\n",
    "\n",
    "test_env = initialize_portfolio_env(test_df.reset_index(drop=True))"
   ]
  },
  {
   "cell_type": "code",
   "execution_count": 42,
   "id": "9958d943",
   "metadata": {},
   "outputs": [
    {
     "name": "stdout",
     "output_type": "stream",
     "text": [
      "=================================\n",
      "Initial portfolio value:100000\n",
      "Final portfolio value: 109534.6953125\n",
      "Final accumulative portfolio value: 1.0953469276428223\n",
      "Maximum DrawDown: -0.3431969836387455\n",
      "Sharpe ratio: 0.32032409361812314\n",
      "=================================\n",
      "Collected 451 steps.\n",
      "Rewards: [-0.008783236145973206, 0.0699051022529602, 0.008110091090202332, 0.03235789015889168, 0.007372790016233921, 0.0010714748641476035, 0.004531234968453646, 0.004235464613884687, 0.004413388203829527, -0.005751128774136305, -0.005467612762004137, -0.004602637141942978, 0.006856485269963741, -0.0032242005690932274, 0.00011884459672728553, 0.00011884459672728553, -0.004227920435369015, 0.015807321295142174, -0.009600683115422726, -0.007440762594342232, 0.00272486568428576, 0.008957086130976677, 0.005731339566409588, -0.00833314098417759, -0.006196584552526474, -0.019248252734541893, 0.009028680622577667, -0.001525969710201025, -0.010787769220769405, -0.005907546263188124, -0.002741634612902999, 0.002087558386847377, 0.00440626684576273, 0.003150026546791196, -0.002641169121488929, -0.030887439846992493, -0.0007137222564779222, 0.009550123475492, -0.008081339299678802, 0.01636628806591034, -0.00448264554142952, -0.0028954301960766315, 0.0010842165211215615, -0.00012517758295871317, 0.00780556071549654, 0.006389782764017582, -0.0013159227091819048, -0.011171883903443813, 0.023582803085446358, 0.018142586573958397, 0.009848693385720253, 0.008225256577134132, -0.009510357864201069, -0.0034086918458342552, 0.012566314078867435, -0.011653711088001728, 0.02037850394845009, -0.00996074266731739, 0.0022546842228621244, 0.010926770977675915, 0.016483906656503677, 0.003233920084312558, -0.004320643842220306, -0.00021000920969527215, 0.0026865839026868343, 0.0260312557220459, -0.002543044276535511, -0.0025683215353637934, -0.001100012450478971, -0.008298341184854507, -0.008690218441188335, -0.01041404064744711, 0.006554770283401012, 0.009875134564936161, -0.0034955968149006367, -0.007027405314147472, 0.010107642039656639, 0.010455003939568996, -0.007421667221933603, 0.008485453203320503, -0.009803147986531258, 0.004810308571904898, 0.008158689364790916, -0.002047607209533453, 0.004220507573336363, 0.004091701935976744, 0.002509898506104946, -0.0038965463172644377, -0.003800332546234131, 0.0026154855731874704, -0.0065606399439275265, -0.0022216662764549255, 0.008356249891221523, 0.0076983910985291, 0.006123590283095837, -0.006436333991587162, -0.0056450255215168, -0.010320871137082577, 0.03307435289025307, -0.007157007697969675, 0.0020449694711714983, 0.003604820929467678, -0.0013275609817355871, -0.0022953846491873264, 0.00273199868388474, -0.011139214970171452, 0.00374520942568779, 0.006010671146214008, -0.027271544560790062, -0.005857062991708517, -0.008641699329018593, -0.004778219386935234, -0.015597051940858364, 0.007627056445926428, 0.0008267321973107755, -0.0005382555536925793, 0.005293163936585188, 0.0040281834080815315, 0.0029862592928111553, 0.024151988327503204, 0.0049753193743526936, 0.006234601605683565, -0.014850550331175327, -0.0016015473520383239, 0.0034420788288116455, -0.0013568662106990814, 0.003787250956520438, -0.0342479832470417, -0.004535574000328779, 0.011091010645031929, -0.016518374904990196, -0.02506258524954319, 0.018553519621491432, 0.004919804632663727, -0.004452110733836889, -0.03940374776721001, 0.019667379558086395, 0.0026594768278300762, -0.0018450343050062656, 0.016014639288187027, -0.009029621258378029, 0.006074537988752127, -0.014350914396345615, 0.015213053673505783, 0.016931507736444473, 0.0013467537937685847, -0.0036021301057189703, -0.0011197634739801288, -0.0015272829914465547, 0.00017414960893802345, 0.007592866197228432, 0.0012855607783421874, -0.0009400492999702692, 0.0017446548445150256, 0.008641350083053112, 0.0014043716946616769, -0.003647953039035201, -0.02291356585919857, -0.029931969940662384, -0.009436707012355328, -0.008279770612716675, -0.01577136665582657, -0.01826188713312149, -0.0011630262015387416, 0.012991784140467644, -0.0006921898457221687, 0.02605460211634636, 0.00040880427695810795, -0.002762613585218787, 0.002047110814601183, 0.0037149244453758, -0.007710723206400871, 0.012791253626346588, 0.0018429452320560813, -0.005152602680027485, -0.003300205571576953, -0.008586568757891655, 0.013146979734301567, 0.0016033900901675224, 0.0032396235037595034, -0.010158704593777657, -0.06661809980869293, 0.0034861525055021048, -0.009528771042823792, 0.0007901645149104297, 0.0005703729693777859, 0.008124872110784054, -0.021259037777781487, -0.018682464957237244, -0.005721274763345718, 0.014534195885062218, 0.050879206508398056, 0.021311454474925995, 0.029194483533501625, 0.015991410240530968, -0.01995317079126835, -0.010333518497645855, 0.0023010701406747103, 0.013372140936553478, 0.0030125256162136793, -0.012840823270380497, -0.010958957485854626, 0.0008472190820612013, 0.018136147409677505, -0.001055320492014289, 0.003911464940756559, 0.01322180312126875, 0.004481391981244087, 0.007562579121440649, 0.01133525837212801, -0.002088759792968631, 0.004173142369836569, 0.007116209715604782, 0.007162133697420359, 0.006425198633223772, -0.014205624349415302, 0.012144785374403, -0.004210981074720621, -0.008707474917173386, -0.01689784601330757, -0.008874999359250069, -0.038369812071323395, -0.006353612057864666, 0.028087250888347626, 0.004169936757534742, 0.01605323515832424, -0.004699466750025749, -0.00238798838108778, -0.022628189995884895, 0.008745227940380573, 0.0024617386516183615, -0.0063682482577860355, 0.00854230672121048, -0.00036192528204992414, -0.01176539994776249, -0.016861597076058388, 0.007187580689787865, -0.003991273231804371, 0.015197202563285828, -0.01124722883105278, -0.0009498933795839548, 0.0049459016881883144, 0.04584517702460289, -0.029108233749866486, 0.007231489755213261, -0.01690099947154522, -0.0038449678104370832, 0.002721655648201704, 0.0056446916423738, 0.017764156684279442, 0.006823926232755184, 0.014115964993834496, 0.007478929590433836, 0.0629764199256897, 0.0435127317905426, -0.01571723446249962, 0.0017526278970763087, -0.012101322412490845, -0.006881015375256538, 0.009062821976840496, -0.00012499875447247177, 0.017779849469661713, -0.005226777400821447, 0.016762128099799156, -0.000295026897219941, -0.005901130847632885, 0.029350077733397484, -0.034268155694007874, -0.002828720724210143, -0.004001925233751535, 0.0002826052950695157, -0.013298086822032928, 0.011618920601904392, 0.015708398073911667, 0.009411491453647614, -0.00010341940651414916, -0.003335309913381934, 0.0019024383509531617, 0.0032256022095680237, -0.004453308414667845, 0.0011238694423809648, 0.009955160319805145, 0.00447225384414196, 0.0003746046277228743, 0.0020240312442183495, 0.005135084502398968, -0.0023185049649327993, 0.014265814796090126, 0.009144921787083149, -0.01448769774287939, 0.0023315169382840395, -0.004668506793677807, 0.008264036849141121, -0.015612974762916565, -0.0022577480413019657, 0.009976877830922604, -0.005214254837483168, -0.019159117713570595, 0.0046434905380010605, -0.006184709724038839, -0.003593456232920289, -0.002769068581983447, 0.003099520690739155, 0.0019452712731435895, -0.0026061490643769503, 0.012173050083220005, 0.004852067679166794, -0.002363074105232954, 0.01532846037298441, 0.0007426364463753998, -0.0026182804722338915, -0.013007109984755516, -0.0033987038768827915, 0.01643958128988743, 0.010900947265326977, 0.0005852655158378184, 0.012215210124850273, -0.08459975570440292, 0.02669481188058853, -0.009337431751191616, 0.006304850801825523, 0.0032600611448287964, -0.002821308793500066, -0.009202253073453903, -0.00680617755278945, 0.006664430722594261, 0.0012038849527016282, -0.005517357029020786, 0.0014754373114556074, 0.0027317609637975693, 0.005406045820564032, -0.017399728298187256, 0.01646561548113823, 0.05098547413945198, 0.014574142172932625, 0.016966551542282104, 0.015213053673505783, -0.017066022381186485, -0.01442009024322033, -0.021218063309788704, -0.0015523555921390653, -0.00436578132212162, -0.021687092259526253, 0.039920441806316376, -0.005024997051805258, -0.011141565628349781, 0.025003531947731972, 0.0015832758508622646, 0.0026169123593717813, 0.002986972453072667, -0.0027569951489567757, -0.005421226844191551, 0.00914456695318222, -0.053502559661865234, -0.052023448050022125, 0.02364439330995083, 0.008118605241179466, -0.05764665827155113, -0.033873770385980606, 0.00910983793437481, -0.04314780980348587, -0.02638310380280018, 0.02882751077413559, -0.021174350753426552, 0.021994473412632942, 0.012340265326201916, -0.00047402887139469385, 0.009928840212523937, -0.002272025914862752, -0.009581365622580051, -0.00162280083168298, 0.0040955008007586, 0.008934401907026768, 0.005603795405477285, -0.005620989017188549, -0.00017233187099918723, -0.03512578830122948, 0.005254032090306282, 0.015126166865229607, 0.05843089893460274, 0.011600774712860584, 0.020905854180455208, 0.013960919342935085, -0.0031716402154415846, 0.010642911307513714, -0.00407392019405961, -0.005699933972209692, 0.007111948449164629, -0.0006586693925783038, 0.012968955561518669, -0.008241968229413033, -0.01261836662888527, 0.002858245512470603, 0.017614947631955147, 0.019591398537158966, -0.003530767746269703, -0.008220934309065342, -0.005070286337286234, 0.0027155925054103136, -7.701216964051127e-05, 0.01771707832813263, 0.017468292266130447, -0.0060282484628260136, -0.03951951116323471, -0.026282131671905518, 0.0008629412623122334, -0.018098123371601105, 0.004640286788344383, -0.015941351652145386, 0.028177771717309952, -0.02774807997047901, -0.04066643491387367, 0.02032068371772766, -0.043772198259830475, -0.014192928560078144, -0.05134318768978119, -0.00043264447594992816, 0.008021521382033825, -0.020556729286909103, 0.031140459701418877, 0.018174896016716957, 0.0007977878558449447, 0.010026093572378159, 0.009535599499940872, 0.004362471401691437, 0.026126956567168236, 0.010016887448728085, -0.02072734571993351, -0.026483656838536263, -0.02867600880563259, 0.005819639191031456, 0.00394625635817647, 0.02636105753481388, -0.09663760662078857, -0.0823650062084198, -0.011321012862026691, -0.007092654705047607, 0.11175037175416946, -0.053794242441654205, 0.00942873302847147, 0.01911083795130253, 0.007728319149464369, -0.017558645457029343, 0.020703986287117004, -0.016085803508758545, 0.0364852100610733, 0.01776474341750145, 0.029890190809965134, -0.0009355747606605291, 0.0028224652633070946, 0.0028224652633070946]\n"
     ]
    }
   ],
   "source": [
    "def portfolio_test(env, policy, initial_last_action=None):\n",
    "    obs, _ = env.reset()\n",
    "    obs = np.asarray(obs, dtype=np.float32)\n",
    "\n",
    "    # Initial last_action\n",
    "    if initial_last_action is None:\n",
    "        action_dim = env.action_space.shape[0]\n",
    "        last_action = np.ones(action_dim, dtype=np.float32) / action_dim\n",
    "    else:\n",
    "        last_action = np.asarray(initial_last_action).flatten().astype(np.float32)\n",
    "\n",
    "    done = False\n",
    "    transitions = []\n",
    "\n",
    "    while not done:\n",
    "        # Create batches\n",
    "        obs_batch = obs[None, ...]\n",
    "        la_batch = last_action[None, ...]\n",
    "\n",
    "        # Policy forward\n",
    "        action = policy(obs_batch, la_batch)\n",
    "        action = np.asarray(action).flatten().astype(np.float32)\n",
    "\n",
    "        # Step\n",
    "        next_obs, reward, terminated, truncated, info = env.step(action)\n",
    "        done = bool(terminated or truncated)\n",
    "\n",
    "        next_obs = np.asarray(next_obs, dtype=np.float32)\n",
    "\n",
    "        # Record\n",
    "        transitions.append(\n",
    "            {\n",
    "                \"obs\": obs,\n",
    "                \"last_action\": last_action,\n",
    "                \"action\": action,\n",
    "                \"reward\": float(reward),\n",
    "                \"info\": info,\n",
    "            }\n",
    "        )\n",
    "\n",
    "        # Advance\n",
    "        obs = next_obs\n",
    "        last_action = action\n",
    "\n",
    "    return transitions\n",
    "\n",
    "\n",
    "transitions = portfolio_test(test_env, policy)\n",
    "\n",
    "print(f\"Collected {len(transitions)} steps.\")\n",
    "print(\"Rewards:\", [t[\"reward\"] for t in transitions])"
   ]
  },
  {
   "cell_type": "code",
   "execution_count": 43,
   "id": "0eb2b3fc",
   "metadata": {},
   "outputs": [],
   "source": [
    "# Inspect rewards or info:\n",
    "infosrewards = [t[\"reward\"] for t in transitions]\n",
    "infos = [t[\"info\"] for t in transitions]"
   ]
  },
  {
   "cell_type": "code",
   "execution_count": 44,
   "id": "a30fe832",
   "metadata": {},
   "outputs": [
    {
     "data": {
      "image/png": "[encoded data removed]",
      "text/plain": [
       "<Figure size 1200x600 with 1 Axes>"
      ]
     },
     "metadata": {},
     "output_type": "display_data"
    }
   ],
   "source": [
    "cumulative_rewards = np.cumsum(infosrewards)\n",
    "\n",
    "# Plot the cumulative rewards curve\n",
    "plt.figure(figsize=(12, 6))\n",
    "plt.plot(cumulative_rewards, label=\"Cumulative Rewards\", color=\"green\")\n",
    "plt.title(\"Cumulative Rewards Curve for EI3 Strategy\")\n",
    "plt.xlabel(\"Time Step\")\n",
    "plt.ylabel(\"Cumulative Reward\")\n",
    "plt.legend()\n",
    "plt.grid(True)\n",
    "plt.tight_layout()\n",
    "plt.show()\n",
    "plt.close()"
   ]
  },
  {
   "cell_type": "markdown",
   "id": "3945e551",
   "metadata": {},
   "source": [
    "## Benchmarks\n"
   ]
  },
  {
   "cell_type": "code",
   "execution_count": 45,
   "id": "335b3391",
   "metadata": {},
   "outputs": [],
   "source": [
    "# Get portfolio values\n",
    "eiie_values = test_env._asset_memory[\"final\"]\n",
    "bh_values = []"
   ]
  },
  {
   "cell_type": "code",
   "execution_count": 46,
   "id": "1367ea3a",
   "metadata": {},
   "outputs": [
    {
     "name": "stdout",
     "output_type": "stream",
     "text": [
      "=================================\n",
      "Initial portfolio value:100000\n",
      "Final portfolio value: 118570.15625\n",
      "Final accumulative portfolio value: 1.185701608657837\n",
      "Maximum DrawDown: -0.1432930207822235\n",
      "Sharpe ratio: 0.7813436068389655\n",
      "=================================\n"
     ]
    }
   ],
   "source": [
    "# Calculate Buy & Hold\n",
    "test_env.reset()\n",
    "action = [1 / len(tickers)] * len(tickers)\n",
    "done = False\n",
    "while not done:  # Use test_env._done to check episode completion\n",
    "    test_obs, rewards, terminated, truncated, info = test_env.step(action)\n",
    "    done = terminated or truncated\n",
    "    bh_values.append(test_env._portfolio_value)"
   ]
  },
  {
   "cell_type": "code",
   "execution_count": 47,
   "id": "9afb48b3",
   "metadata": {},
   "outputs": [],
   "source": [
    "risk_free_rate = 0.043  # 4.3% annualized"
   ]
  },
  {
   "cell_type": "code",
   "execution_count": 48,
   "id": "5a147661",
   "metadata": {},
   "outputs": [],
   "source": [
    "# Calculate metrics\n",
    "def calculate_metrics(values, risk_free_rate):\n",
    "    returns = pd.Series(values).pct_change().dropna()\n",
    "    cumulative_return = (values[-1] / values[0]) - 1\n",
    "    annualized_return = (1 + cumulative_return) ** (252 / len(returns)) - 1\n",
    "    volatility = returns.std() * np.sqrt(252)\n",
    "    sharpe_ratio = (annualized_return - risk_free_rate) / volatility\n",
    "    max_drawdown = (values / np.maximum.accumulate(values) - 1).min()\n",
    "\n",
    "    return {\n",
    "        \"Cumulative Return\": cumulative_return,\n",
    "        \"Annualized Return\": annualized_return,\n",
    "        \"Volatility\": volatility,\n",
    "        \"Sharpe Ratio\": sharpe_ratio,\n",
    "        \"Max Drawdown\": max_drawdown,\n",
    "    }\n",
    "\n",
    "\n",
    "eiie_metrics = calculate_metrics(eiie_values, risk_free_rate)\n",
    "bh_metrics = calculate_metrics(bh_values, risk_free_rate)"
   ]
  },
  {
   "cell_type": "code",
   "execution_count": null,
   "id": "deea7dcc",
   "metadata": {},
   "outputs": [],
   "source": [
    "metrics = [\n",
    "    \"Cumulative Return\",\n",
    "    \"Annualized Return\",\n",
    "    \"Volatility\",\n",
    "    \"Sharpe Ratio\",\n",
    "    \"Max Drawdown\",\n",
    "]\n",
    "\n",
    "metrics_df = pd.DataFrame(\n",
    "    {\n",
    "        \"Metric\": metrics,\n",
    "        \"EI3\": [eiie_metrics[m] for m in metrics],\n",
    "        \"Buy & Hold\": [bh_metrics[m] for m in metrics],\n",
    "    }\n",
    ")"
   ]
  },
  {
   "cell_type": "markdown",
   "id": "7c912897",
   "metadata": {},
   "source": [
    "## Performance Summary\n"
   ]
  },
  {
   "cell_type": "code",
   "execution_count": 50,
   "id": "4a516382",
   "metadata": {},
   "outputs": [
    {
     "data": {
      "image/png": "[encoded data removed]",
      "text/plain": [
       "<Figure size 1200x600 with 1 Axes>"
      ]
     },
     "metadata": {},
     "output_type": "display_data"
    }
   ],
   "source": [
    "plt.figure(figsize=(12, 6))\n",
    "plt.plot(eiie_values, label=\"EI3 Strategy\")\n",
    "plt.plot(bh_values, label=\"Buy & Hold\", linestyle=\"--\")\n",
    "plt.title(\"Portfolio Value Comparison\")\n",
    "plt.xlabel(\"Days\")\n",
    "plt.ylabel(\"Portfolio Value ($)\")\n",
    "plt.legend()\n",
    "plt.show()\n",
    "plt.close()"
   ]
  },
  {
   "cell_type": "code",
   "execution_count": 51,
   "id": "a266f3b6",
   "metadata": {},
   "outputs": [
    {
     "data": {
      "image/png": "[encoded data removed]",
      "text/plain": [
       "<Figure size 1200x600 with 1 Axes>"
      ]
     },
     "metadata": {},
     "output_type": "display_data"
    }
   ],
   "source": [
    "plt.figure(figsize=(12, 6))\n",
    "metrics_df.set_index(\"Metric\").plot(kind=\"bar\", ax=plt.gca())\n",
    "plt.title(\"Performance Metrics Comparison\")\n",
    "plt.xticks(rotation=45)\n",
    "plt.tight_layout()\n",
    "plt.show()\n",
    "plt.close()"
   ]
  },
  {
   "cell_type": "code",
   "execution_count": 55,
   "id": "19c0545f",
   "metadata": {},
   "outputs": [
    {
     "name": "stdout",
     "output_type": "stream",
     "text": [
      "\n",
      "Performance Metrics:\n"
     ]
    },
    {
     "data": {
      "text/html": [
       "<style type=\"text/css\">\n",
       "</style>\n",
       "<table id=\"T_c5c5a\">\n",
       "  <thead>\n",
       "    <tr>\n",
       "      <th class=\"blank level0\" >&nbsp;</th>\n",
       "      <th id=\"T_c5c5a_level0_col0\" class=\"col_heading level0 col0\" >Metric</th>\n",
       "      <th id=\"T_c5c5a_level0_col1\" class=\"col_heading level0 col1\" >EI3</th>\n",
       "      <th id=\"T_c5c5a_level0_col2\" class=\"col_heading level0 col2\" >Buy & Hold</th>\n",
       "    </tr>\n",
       "  </thead>\n",
       "  <tbody>\n",
       "    <tr>\n",
       "      <th id=\"T_c5c5a_level0_row0\" class=\"row_heading level0 row0\" >0</th>\n",
       "      <td id=\"T_c5c5a_row0_col0\" class=\"data row0 col0\" >Cumulative Return</td>\n",
       "      <td id=\"T_c5c5a_row0_col1\" class=\"data row0 col1\" >0.095347</td>\n",
       "      <td id=\"T_c5c5a_row0_col2\" class=\"data row0 col2\" >18.46%</td>\n",
       "    </tr>\n",
       "    <tr>\n",
       "      <th id=\"T_c5c5a_level0_row1\" class=\"row_heading level0 row1\" >1</th>\n",
       "      <td id=\"T_c5c5a_row1_col0\" class=\"data row1 col0\" >Annualized Return</td>\n",
       "      <td id=\"T_c5c5a_row1_col1\" class=\"data row1 col1\" >0.052323</td>\n",
       "      <td id=\"T_c5c5a_row1_col2\" class=\"data row1 col2\" >9.95%</td>\n",
       "    </tr>\n",
       "    <tr>\n",
       "      <th id=\"T_c5c5a_level0_row2\" class=\"row_heading level0 row2\" >2</th>\n",
       "      <td id=\"T_c5c5a_row2_col0\" class=\"data row2 col0\" >Volatility</td>\n",
       "      <td id=\"T_c5c5a_row2_col1\" class=\"data row2 col1\" >0.291441</td>\n",
       "      <td id=\"T_c5c5a_row2_col2\" class=\"data row2 col2\" >13.33%</td>\n",
       "    </tr>\n",
       "    <tr>\n",
       "      <th id=\"T_c5c5a_level0_row3\" class=\"row_heading level0 row3\" >3</th>\n",
       "      <td id=\"T_c5c5a_row3_col0\" class=\"data row3 col0\" >Sharpe Ratio</td>\n",
       "      <td id=\"T_c5c5a_row3_col1\" class=\"data row3 col1\" >0.031988</td>\n",
       "      <td id=\"T_c5c5a_row3_col2\" class=\"data row3 col2\" >42.42%</td>\n",
       "    </tr>\n",
       "    <tr>\n",
       "      <th id=\"T_c5c5a_level0_row4\" class=\"row_heading level0 row4\" >4</th>\n",
       "      <td id=\"T_c5c5a_row4_col0\" class=\"data row4 col0\" >Max Drawdown</td>\n",
       "      <td id=\"T_c5c5a_row4_col1\" class=\"data row4 col1\" >-0.343197</td>\n",
       "      <td id=\"T_c5c5a_row4_col2\" class=\"data row4 col2\" >-14.33%</td>\n",
       "    </tr>\n",
       "  </tbody>\n",
       "</table>\n"
      ],
      "text/plain": [
       "<pandas.io.formats.style.Styler at 0x30b6e8e60>"
      ]
     },
     "metadata": {},
     "output_type": "display_data"
    }
   ],
   "source": [
    "# Display metrics\n",
    "print(\"\\nPerformance Metrics:\")\n",
    "display(\n",
    "    metrics_df.style.format(\n",
    "        {\n",
    "            \"EIIE\": \"{:.2%}\",\n",
    "            \"Buy & Hold\": \"{:.2%}\",\n",
    "            \"Sharpe Ratio\": \"{:.2f}\",\n",
    "            \"Volatility\": \"{:.2%}\",\n",
    "        }\n",
    "    )\n",
    ")"
   ]
  },
  {
   "cell_type": "code",
   "execution_count": null,
   "id": "9415f2ec",
   "metadata": {},
   "outputs": [
    {
     "name": "stdout",
     "output_type": "stream",
     "text": [
      "\n",
      "Optimal Weights from Sharpe Ratio Optimization:\n",
      "AXP: 34.19%\n",
      "AMGN: 0.00%\n",
      "AAPL: 0.00%\n",
      "BA: 0.00%\n",
      "CAT: 1.72%\n",
      "CSCO: 0.00%\n",
      "CVX: 0.00%\n",
      "GS: 0.00%\n",
      "HD: 0.00%\n",
      "HON: 0.00%\n",
      "IBM: 7.76%\n",
      "INTC: 0.00%\n",
      "JNJ: 0.00%\n",
      "KO: 0.00%\n",
      "JPM: 0.00%\n",
      "MCD: 0.00%\n",
      "MMM: 0.00%\n",
      "MRK: 0.00%\n",
      "MSFT: 0.00%\n",
      "NKE: 0.00%\n",
      "PG: 0.00%\n",
      "TRV: 2.64%\n",
      "UNH: 0.00%\n",
      "CRM: 0.00%\n",
      "VZ: 0.00%\n",
      "V: 0.00%\n",
      "WBA: 0.00%\n",
      "WMT: 0.00%\n",
      "DIS: 0.00%\n",
      "DOW: 53.68%\n"
     ]
    }
   ],
   "source": [
    "# Additional Sharpe ratio optimization\n",
    "log_returns = raw_df.pivot_table(index=\"date\", columns=\"tic\", values=\"close\")\n",
    "log_returns = np.log(log_returns.pct_change() + 1).dropna()\n",
    "cov_matrix = log_returns.cov() * 252\n",
    "\n",
    "def negative_sharpe(weights):\n",
    "    port_return = np.dot(weights, log_returns.mean()) * 252\n",
    "    port_vol = np.sqrt(weights.T @ cov_matrix @ weights)\n",
    "    return -(port_return - risk_free_rate) / port_vol\n",
    "\n",
    "\n",
    "constraints = {\"type\": \"eq\", \"fun\": lambda x: np.sum(x) - 1}\n",
    "bounds = [(0, 1) for _ in tickers]\n",
    "initial_weights = np.array([1 / len(tickers)] * len(tickers))\n",
    "\n",
    "result = minimize(\n",
    "    negative_sharpe,\n",
    "    initial_weights,\n",
    "    method=\"SLSQP\",\n",
    "    bounds=bounds,\n",
    "    constraints=constraints,\n",
    ")\n",
    "\n",
    "print(\"\\nOptimal Weights from Sharpe Ratio Optimization:\")\n",
    "for ticker, weight in zip(tickers, result.x):\n",
    "    print(f\"{ticker}: {weight:.2%}\")"
   ]
  }
 ],
 "metadata": {
  "kernelspec": {
   "display_name": "portfolio_opt",
   "language": "python",
   "name": "python3"
  },
  "language_info": {
   "codemirror_mode": {
    "name": "ipython",
    "version": 3
   },
   "file_extension": ".py",
   "mimetype": "text/x-python",
   "name": "python",
   "nbconvert_exporter": "python",
   "pygments_lexer": "ipython3",
   "version": "3.12.10"
  }
 },
 "nbformat": 4,
 "nbformat_minor": 5
}
