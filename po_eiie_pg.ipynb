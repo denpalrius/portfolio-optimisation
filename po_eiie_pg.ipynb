{
 "cells": [
  {
   "cell_type": "markdown",
   "id": "0e1c5a8a",
   "metadata": {},
   "source": [
    "# Deep Reinforcement Learning for Portfolio Optimization\n"
   ]
  },
  {
   "cell_type": "markdown",
   "id": "7e9f8e10",
   "metadata": {},
   "source": [
    "This experiement demonstrates the application of deep reinforcement learning (DRL) techniques for portfolio optimization.\n",
    "\n",
    "By leveraging state-of-the-art DRL algorithms, we aim to create a robust trading strategy that dynamically adjusts portfolio allocations to maximize returns while minimizing risks.\n",
    "\n",
    "Policy network architecture: **MLP backbone**\n",
    "\n",
    "- Compares `A2C`, `PPO`, `SAC`, `DDPG`, `TD3` all with simple MLPs\n",
    "\n",
    "The workflow includes:\n",
    "\n",
    "- Data preprocessing\n",
    "- Feature engineering\n",
    "- Environment setup\n",
    "- Training of DRL agents\n",
    "- Backtesting\n",
    "- Benchmarking against traditional strategies\n"
   ]
  },
  {
   "cell_type": "markdown",
   "id": "b8dfb03e",
   "metadata": {},
   "source": [
    "## Dependencies\n"
   ]
  },
  {
   "cell_type": "code",
   "execution_count": 73,
   "id": "b8f91ee1",
   "metadata": {},
   "outputs": [],
   "source": [
    "# ! pip install pandas numpy matplotlib \\\n",
    "#                stable-baselines3 \\\n",
    "#                PyPortfolioOpt \\\n",
    "#                pandas_market_calendars quantstats gymnasium \\\n",
    "#                git+https://github.com/AI4Finance-Foundation/FinRL.git -q"
   ]
  },
  {
   "cell_type": "code",
   "execution_count": 74,
   "id": "51776d45",
   "metadata": {},
   "outputs": [],
   "source": [
    "import os\n",
    "import time\n",
    "import pandas as pd\n",
    "import numpy as np\n",
    "import matplotlib.pyplot as plt\n",
    "import seaborn as sns\n",
    "from datetime import datetime, timedelta\n",
    "\n",
    "import torch\n",
    "\n",
    "from finrl import config_tickers\n",
    "from finrl.meta.preprocessor.yahoodownloader import YahooDownloader\n",
    "from finrl.meta.preprocessor.preprocessors import FeatureEngineer, data_split\n",
    "from finrl.meta.env_portfolio_optimization.env_portfolio_optimization import (\n",
    "    PortfolioOptimizationEnv,\n",
    ")\n",
    "from finrl.agents.portfolio_optimization.models import DRLAgent as POAgent\n",
    "from finrl.agents.portfolio_optimization.architectures import EIIE"
   ]
  },
  {
   "cell_type": "code",
   "execution_count": 75,
   "id": "9e5cf3e3",
   "metadata": {},
   "outputs": [],
   "source": [
    "import warnings\n",
    "\n",
    "warnings.filterwarnings(\"ignore\", category=FutureWarning)\n",
    "\n",
    "%matplotlib inline"
   ]
  },
  {
   "cell_type": "code",
   "execution_count": 76,
   "id": "1d8f66f9",
   "metadata": {},
   "outputs": [
    {
     "name": "stdout",
     "output_type": "stream",
     "text": [
      "Using device: cpu\n"
     ]
    }
   ],
   "source": [
    "device = torch.device(\"cuda\" if torch.cuda.is_available() else \"cpu\")\n",
    "print(f\"Using device: {device}\")"
   ]
  },
  {
   "cell_type": "code",
   "execution_count": 77,
   "id": "f3e16a19",
   "metadata": {},
   "outputs": [],
   "source": [
    "experiment_name = \"portfolio_optimization_eiie_pg\"\n",
    "results_dir = f\"results/models/{experiment_name}\"\n",
    "os.makedirs(results_dir, exist_ok=True)"
   ]
  },
  {
   "cell_type": "markdown",
   "id": "3c6c1461",
   "metadata": {},
   "source": [
    "## Data loading and pre-processing\n"
   ]
  },
  {
   "cell_type": "markdown",
   "id": "2eefbe65",
   "metadata": {},
   "source": [
    "Define training and trading/test periods\n"
   ]
  },
  {
   "cell_type": "code",
   "execution_count": 78,
   "id": "542703af",
   "metadata": {},
   "outputs": [
    {
     "name": "stdout",
     "output_type": "stream",
     "text": [
      "Training period: ('2013-05-02', '2023-04-30')\n",
      "Testing period: ('2023-05-01', '2025-04-29')\n"
     ]
    }
   ],
   "source": [
    "start_date = \"2015-01-01\"\n",
    "end_date = (datetime.now() - pd.Timedelta(days=1)).strftime(\"%Y-%m-%d\")  # Yesterday\n",
    "\n",
    "trade_period = 2  # 2 years for testing\n",
    "train_period = 10  # 10 years for training\n",
    "\n",
    "train_end_date = (\n",
    "    datetime.strptime(end_date, \"%Y-%m-%d\") - timedelta(days=trade_period * 365)\n",
    ").strftime(\"%Y-%m-%d\")\n",
    "train_start_date = (\n",
    "    datetime.strptime(train_end_date, \"%Y-%m-%d\") - timedelta(days=train_period * 365)\n",
    ").strftime(\"%Y-%m-%d\")\n",
    "test_start_date = (\n",
    "    datetime.strptime(train_end_date, \"%Y-%m-%d\") + timedelta(days=1)\n",
    ").strftime(\"%Y-%m-%d\")\n",
    "\n",
    "train_dates = (train_start_date, train_end_date)\n",
    "test_dates = (test_start_date, end_date)\n",
    "\n",
    "print(f\"Training period: {train_dates}\")\n",
    "print(f\"Testing period: {test_dates}\")"
   ]
  },
  {
   "cell_type": "markdown",
   "id": "a36a425c",
   "metadata": {},
   "source": [
    "- Fetch historical stock data for a given list of tickers within a specified date range.\n",
    "- We use the DOW_30_TICKER stocks\n",
    "- The data includes `date`, `close`, `high`, `low`, `open`, `volume`, and `tic` (ticker symbol).\n"
   ]
  },
  {
   "cell_type": "code",
   "execution_count": null,
   "id": "46c577ab",
   "metadata": {},
   "outputs": [
    {
     "name": "stdout",
     "output_type": "stream",
     "text": [
      "Downloading 2015-01-01 → 2025-04-29\n"
     ]
    },
    {
     "name": "stderr",
     "output_type": "stream",
     "text": [
      "[*********************100%***********************]  1 of 1 completed\n",
      "[*********************100%***********************]  1 of 1 completed\n",
      "[*********************100%***********************]  1 of 1 completed\n",
      "[*********************100%***********************]  1 of 1 completed\n",
      "[*********************100%***********************]  1 of 1 completed\n",
      "[*********************100%***********************]  1 of 1 completed\n",
      "[*********************100%***********************]  1 of 1 completed\n",
      "[*********************100%***********************]  1 of 1 completed\n",
      "[*********************100%***********************]  1 of 1 completed\n",
      "[*********************100%***********************]  1 of 1 completed\n",
      "[*********************100%***********************]  1 of 1 completed\n",
      "[*********************100%***********************]  1 of 1 completed\n",
      "[*********************100%***********************]  1 of 1 completed\n",
      "[*********************100%***********************]  1 of 1 completed\n",
      "[*********************100%***********************]  1 of 1 completed\n",
      "[*********************100%***********************]  1 of 1 completed\n",
      "[*********************100%***********************]  1 of 1 completed\n",
      "[*********************100%***********************]  1 of 1 completed\n",
      "[*********************100%***********************]  1 of 1 completed\n",
      "[*********************100%***********************]  1 of 1 completed\n",
      "[*********************100%***********************]  1 of 1 completed\n",
      "[*********************100%***********************]  1 of 1 completed\n",
      "[*********************100%***********************]  1 of 1 completed\n",
      "[*********************100%***********************]  1 of 1 completed\n",
      "[*********************100%***********************]  1 of 1 completed\n",
      "[*********************100%***********************]  1 of 1 completed\n",
      "[*********************100%***********************]  1 of 1 completed\n",
      "[*********************100%***********************]  1 of 1 completed\n",
      "[*********************100%***********************]  1 of 1 completed\n",
      "[*********************100%***********************]  1 of 1 completed\n"
     ]
    },
    {
     "name": "stdout",
     "output_type": "stream",
     "text": [
      "Shape of DataFrame:  (76791, 8)\n"
     ]
    }
   ],
   "source": [
    "def download_data(tickers, start_date, end_date):\n",
    "    print(f\"Downloading {start_date} → {end_date}\")\n",
    "    return YahooDownloader(\n",
    "        start_date=start_date, end_date=end_date, ticker_list=tickers\n",
    "    ).fetch_data()\n",
    "\n",
    "tickers = config_tickers.DOW_30_TICKER\n",
    "\n",
    "df_all = pd.DataFrame()\n",
    "if os.path.exists(\"data/df_all.csv\"):\n",
    "    df_all = pd.read_csv(\"data/df_all.csv\", index_col=0)\n",
    "    df_all.index = pd.to_datetime(df_all.index)\n",
    "else:\n",
    "    print(\"Downloading data...\")\n",
    "    raw_df = download_data(tickers, start_date, end_date)"
   ]
  },
  {
   "cell_type": "markdown",
   "id": "71bb738f",
   "metadata": {},
   "source": [
    "---\n",
    "\n",
    "### Feature Engineering\n",
    "\n",
    "We apply feature engineering to the dataset of stock data:\n",
    "\n",
    "- Add technical indicators (e.g., moving averages, RSI).\n",
    "- Calculate turbulence indicators, which measure market volatility.\n",
    "\n",
    "This Enhance the dataset with features that are critical for modeling market dynamics and making informed trading decisions.\n"
   ]
  },
  {
   "cell_type": "code",
   "execution_count": null,
   "id": "47dcd423",
   "metadata": {},
   "outputs": [
    {
     "name": "stdout",
     "output_type": "stream",
     "text": [
      "Successfully added technical indicators\n",
      "Successfully added turbulence index\n"
     ]
    }
   ],
   "source": [
    "def preprocess_data(df):\n",
    "    fe = FeatureEngineer(use_technical_indicator=True, use_turbulence=True)\n",
    "    return fe.preprocess_data(df)\n",
    "\n",
    "\n",
    "if df_all.empty:\n",
    "    print(\"Preprocessing data...\")\n",
    "    df_feat = preprocess_data(raw_df)\n",
    "    df_feat.to_csv(\"data/df_all.csv\")\n",
    "else:\n",
    "    print(\"Using cached data...\")\n",
    "    df_feat = df_all.copy()\n",
    "    df_feat = df_feat[df_feat.index >= start_date]\n",
    "    df_feat = df_feat[df_feat.index <= end_date]"
   ]
  },
  {
   "cell_type": "markdown",
   "id": "b6cdeb82",
   "metadata": {},
   "source": [
    "## Covariance & Returns for State\n"
   ]
  },
  {
   "cell_type": "markdown",
   "id": "002710f6",
   "metadata": {},
   "source": [
    "- Calculate the rolling covariance matrices and daily returns for the given dataset of stock prices.\n",
    "- This prepares the state representation (the state of the portfolio) for the RL models in the RL environments for portfolio optimization.\n",
    "- The **rolling covariance matrices** (`cov_list`) capture the relationships between asset returns, while the daily returns (`return_list`) provide information about recent price movements.\n",
    "- These metrics are critical for modeling the dynamics of the financial market and making informed trading decisions.\n"
   ]
  },
  {
   "cell_type": "code",
   "execution_count": 81,
   "id": "48b6f5c1",
   "metadata": {},
   "outputs": [],
   "source": [
    "def compute_covariance_and_returns(df_feat, lookback=252):\n",
    "    df_sorted = df_feat.sort_values([\"date\", \"tic\"], ignore_index=True)\n",
    "    df_sorted.index = df_sorted.date.factorize()[0]\n",
    "    cov_list, return_list = [], []\n",
    "\n",
    "    dates = df_sorted.date.unique()\n",
    "    for i in range(lookback, len(dates)):\n",
    "        win = df_sorted.loc[i - lookback : i]\n",
    "        pm = win.pivot_table(index=\"date\", columns=\"tic\", values=\"close\")\n",
    "        rm = pm.pct_change().dropna()\n",
    "        cov_list.append(rm.cov().values)\n",
    "        return_list.append(rm)\n",
    "    df_cov = pd.DataFrame(\n",
    "        {\"date\": dates[lookback:], \"cov_list\": cov_list, \"return_list\": return_list}\n",
    "    )\n",
    "\n",
    "    return pd.merge(df_feat, df_cov, on=\"date\", how=\"left\").dropna(subset=[\"cov_list\"])\n",
    "\n",
    "\n",
    "df_all = compute_covariance_and_returns(df_feat)"
   ]
  },
  {
   "cell_type": "code",
   "execution_count": null,
   "id": "54fe4885",
   "metadata": {},
   "outputs": [],
   "source": [
    "df_all.to_csv(\"data/df_all.csv\", index=False)"
   ]
  },
  {
   "cell_type": "markdown",
   "id": "91b7d720",
   "metadata": {},
   "source": [
    "## Train/Trade split\n"
   ]
  },
  {
   "cell_type": "code",
   "execution_count": 82,
   "id": "886a8a42",
   "metadata": {},
   "outputs": [],
   "source": [
    "def split_data(df_all, train_dates, test_dates):\n",
    "    train = data_split(df_all, *train_dates)\n",
    "    test = data_split(df_all, *test_dates)\n",
    "    return train, test\n",
    "\n",
    "\n",
    "train_df, test_df = split_data(df_all, train_dates, test_dates)"
   ]
  },
  {
   "cell_type": "markdown",
   "id": "1a83bcfe",
   "metadata": {},
   "source": [
    "## Environment setup\n"
   ]
  },
  {
   "cell_type": "markdown",
   "id": "17273f79",
   "metadata": {},
   "source": [
    "- Create instances of the **PortfolioOptimizationEnv** class for both training and testing datasets.\n",
    "- It also wrap the training environment for use with Stable-Baselines3 (SB3).\n"
   ]
  },
  {
   "cell_type": "code",
   "execution_count": 83,
   "id": "1bd7cff4",
   "metadata": {},
   "outputs": [],
   "source": [
    "def initialize_portfolio_env(df):\n",
    "    env = PortfolioOptimizationEnv(\n",
    "        df,\n",
    "        initial_amount=100_000,\n",
    "        comission_fee_pct=0.0025,\n",
    "        time_window=50,\n",
    "        features=[\"close\", \"high\", \"low\"],\n",
    "        normalize_df=None,\n",
    "        new_gym_api=True,\n",
    "    )\n",
    "\n",
    "    env.df = df.reset_index(drop=True)\n",
    "\n",
    "    return env\n",
    "\n",
    "\n",
    "train_env = initialize_portfolio_env(train_df)"
   ]
  },
  {
   "cell_type": "markdown",
   "id": "4ad6387a",
   "metadata": {},
   "source": [
    "## Training\n"
   ]
  },
  {
   "cell_type": "markdown",
   "id": "74879ebb",
   "metadata": {},
   "source": [
    "- Set PolicyGradient algorithm and EIIE architecture arguments\n"
   ]
  },
  {
   "cell_type": "code",
   "execution_count": 84,
   "id": "9b12a71b",
   "metadata": {},
   "outputs": [],
   "source": [
    "model_kwargs = {\"lr\": 0.01, \"policy\": EIIE}\n",
    "# Set EIIE architecture arguments\n",
    "policy_kwargs = {\"k_size\": 3, \"time_window\": 50}\n",
    "\n",
    "model = POAgent(train_env).get_model(\"pg\", device, model_kwargs, policy_kwargs)"
   ]
  },
  {
   "cell_type": "markdown",
   "id": "7ccfbb5b",
   "metadata": {},
   "source": [
    "- Train the model\n"
   ]
  },
  {
   "cell_type": "code",
   "execution_count": 85,
   "id": "fec3c5c0",
   "metadata": {},
   "outputs": [
    {
     "name": "stderr",
     "output_type": "stream",
     "text": [
      "  0%|          | 0/50 [00:00<?, ?it/s]"
     ]
    },
    {
     "name": "stdout",
     "output_type": "stream",
     "text": [
      "=================================\n",
      "Initial portfolio value:100000\n",
      "Final portfolio value: 145373.859375\n",
      "Final accumulative portfolio value: 1.4537385702133179\n",
      "Maximum DrawDown: -0.7789945225068249\n",
      "Sharpe ratio: 0.3263451382963131\n",
      "=================================\n"
     ]
    },
    {
     "name": "stderr",
     "output_type": "stream",
     "text": [
      "  2%|▏         | 1/50 [00:17<14:36, 17.90s/it]"
     ]
    },
    {
     "name": "stdout",
     "output_type": "stream",
     "text": [
      "=================================\n",
      "Initial portfolio value:100000\n",
      "Final portfolio value: 218311.078125\n",
      "Final accumulative portfolio value: 2.1831107139587402\n",
      "Maximum DrawDown: -0.7792027772453942\n",
      "Sharpe ratio: 0.5006677896827609\n",
      "=================================\n"
     ]
    },
    {
     "name": "stderr",
     "output_type": "stream",
     "text": [
      "  4%|▍         | 2/50 [00:35<14:19, 17.91s/it]"
     ]
    },
    {
     "name": "stdout",
     "output_type": "stream",
     "text": [
      "=================================\n",
      "Initial portfolio value:100000\n",
      "Final portfolio value: 210323.453125\n",
      "Final accumulative portfolio value: 2.1032345294952393\n",
      "Maximum DrawDown: -0.7792004599819116\n",
      "Sharpe ratio: 0.4753602650186745\n",
      "=================================\n"
     ]
    },
    {
     "name": "stderr",
     "output_type": "stream",
     "text": [
      "  8%|▊         | 4/50 [01:11<13:34, 17.72s/it]"
     ]
    },
    {
     "name": "stdout",
     "output_type": "stream",
     "text": [
      "=================================\n",
      "Initial portfolio value:100000\n",
      "Final portfolio value: 182151.0625\n",
      "Final accumulative portfolio value: 1.821510672569275\n",
      "Maximum DrawDown: -0.7792003579763894\n",
      "Sharpe ratio: 0.4181932180830539\n",
      "=================================\n",
      "=================================\n",
      "Initial portfolio value:100000\n",
      "Final portfolio value: 201319.984375\n",
      "Final accumulative portfolio value: 2.013199806213379\n",
      "Maximum DrawDown: -0.7792003885869834\n",
      "Sharpe ratio: 0.46023619217839024\n",
      "=================================\n"
     ]
    },
    {
     "name": "stderr",
     "output_type": "stream",
     "text": [
      " 10%|█         | 5/50 [01:30<13:36, 18.15s/it]"
     ]
    },
    {
     "name": "stdout",
     "output_type": "stream",
     "text": [
      "=================================\n",
      "Initial portfolio value:100000\n",
      "Final portfolio value: 215209.0625\n",
      "Final accumulative portfolio value: 2.152090549468994\n",
      "Maximum DrawDown: -0.7792004397698453\n",
      "Sharpe ratio: 0.48432441712719737\n",
      "=================================\n"
     ]
    },
    {
     "name": "stderr",
     "output_type": "stream",
     "text": [
      " 12%|█▏        | 6/50 [01:47<13:11, 18.00s/it]"
     ]
    },
    {
     "name": "stdout",
     "output_type": "stream",
     "text": [
      "=================================\n",
      "Initial portfolio value:100000\n",
      "Final portfolio value: 192322.046875\n",
      "Final accumulative portfolio value: 1.9232205152511597\n",
      "Maximum DrawDown: -0.7792003005231827\n",
      "Sharpe ratio: 0.4372637430978347\n",
      "=================================\n"
     ]
    },
    {
     "name": "stderr",
     "output_type": "stream",
     "text": [
      " 14%|█▍        | 7/50 [02:05<12:51, 17.94s/it]"
     ]
    },
    {
     "name": "stdout",
     "output_type": "stream",
     "text": [
      "=================================\n",
      "Initial portfolio value:100000\n",
      "Final portfolio value: 180462.890625\n",
      "Final accumulative portfolio value: 1.804628849029541\n",
      "Maximum DrawDown: -0.7792002953295336\n",
      "Sharpe ratio: 0.4136412180886631\n",
      "=================================\n"
     ]
    },
    {
     "name": "stderr",
     "output_type": "stream",
     "text": [
      " 16%|█▌        | 8/50 [02:25<12:52, 18.39s/it]"
     ]
    },
    {
     "name": "stdout",
     "output_type": "stream",
     "text": [
      "=================================\n",
      "Initial portfolio value:100000\n",
      "Final portfolio value: 191360.203125\n",
      "Final accumulative portfolio value: 1.9136019945144653\n",
      "Maximum DrawDown: -0.7792004681869007\n",
      "Sharpe ratio: 0.43982691375714444\n",
      "=================================\n"
     ]
    },
    {
     "name": "stderr",
     "output_type": "stream",
     "text": [
      " 18%|█▊        | 9/50 [02:43<12:30, 18.30s/it]"
     ]
    },
    {
     "name": "stdout",
     "output_type": "stream",
     "text": [
      "=================================\n",
      "Initial portfolio value:100000\n",
      "Final portfolio value: 203970.140625\n",
      "Final accumulative portfolio value: 2.039701461791992\n",
      "Maximum DrawDown: -0.7792001704081705\n",
      "Sharpe ratio: 0.46665388093303656\n",
      "=================================\n"
     ]
    },
    {
     "name": "stderr",
     "output_type": "stream",
     "text": [
      " 20%|██        | 10/50 [03:01<12:12, 18.32s/it]"
     ]
    },
    {
     "name": "stdout",
     "output_type": "stream",
     "text": [
      "=================================\n",
      "Initial portfolio value:100000\n",
      "Final portfolio value: 204278.8125\n",
      "Final accumulative portfolio value: 2.042788028717041\n",
      "Maximum DrawDown: -0.7792004134734057\n",
      "Sharpe ratio: 0.4673185118641855\n",
      "=================================\n"
     ]
    },
    {
     "name": "stderr",
     "output_type": "stream",
     "text": [
      " 24%|██▍       | 12/50 [03:37<11:31, 18.19s/it]"
     ]
    },
    {
     "name": "stdout",
     "output_type": "stream",
     "text": [
      "=================================\n",
      "Initial portfolio value:100000\n",
      "Final portfolio value: 222748.515625\n",
      "Final accumulative portfolio value: 2.227485179901123\n",
      "Maximum DrawDown: -0.7792004572667919\n",
      "Sharpe ratio: 0.5034718227574533\n",
      "=================================\n",
      "=================================\n",
      "Initial portfolio value:100000\n",
      "Final portfolio value: 222951.984375\n",
      "Final accumulative portfolio value: 2.229519844055176\n",
      "Maximum DrawDown: -0.7792003728544027\n",
      "Sharpe ratio: 0.5038354550976127\n",
      "=================================\n"
     ]
    },
    {
     "name": "stderr",
     "output_type": "stream",
     "text": [
      " 26%|██▌       | 13/50 [03:55<11:05, 18.00s/it]"
     ]
    },
    {
     "name": "stdout",
     "output_type": "stream",
     "text": [
      "=================================\n",
      "Initial portfolio value:100000\n",
      "Final portfolio value: 176633.59375\n",
      "Final accumulative portfolio value: 1.7663359642028809\n",
      "Maximum DrawDown: -0.7792004577243655\n",
      "Sharpe ratio: 0.415254608828455\n",
      "=================================\n"
     ]
    },
    {
     "name": "stderr",
     "output_type": "stream",
     "text": [
      " 28%|██▊       | 14/50 [04:13<10:43, 17.87s/it]"
     ]
    },
    {
     "name": "stdout",
     "output_type": "stream",
     "text": [
      "=================================\n",
      "Initial portfolio value:100000\n",
      "Final portfolio value: 231166.796875\n",
      "Final accumulative portfolio value: 2.3116679191589355\n",
      "Maximum DrawDown: -0.7792003936219456\n",
      "Sharpe ratio: 0.5194658388762625\n",
      "=================================\n"
     ]
    },
    {
     "name": "stderr",
     "output_type": "stream",
     "text": [
      " 30%|███       | 15/50 [04:31<10:27, 17.93s/it]"
     ]
    },
    {
     "name": "stdout",
     "output_type": "stream",
     "text": [
      "=================================\n",
      "Initial portfolio value:100000\n",
      "Final portfolio value: 226081.8125\n",
      "Final accumulative portfolio value: 2.2608182430267334\n",
      "Maximum DrawDown: -0.7792004415457412\n",
      "Sharpe ratio: 0.5095313698691759\n",
      "=================================\n"
     ]
    },
    {
     "name": "stderr",
     "output_type": "stream",
     "text": [
      " 32%|███▏      | 16/50 [04:49<10:15, 18.10s/it]"
     ]
    },
    {
     "name": "stdout",
     "output_type": "stream",
     "text": [
      "=================================\n",
      "Initial portfolio value:100000\n",
      "Final portfolio value: 227916.421875\n",
      "Final accumulative portfolio value: 2.2791643142700195\n",
      "Maximum DrawDown: -0.7792004609131792\n",
      "Sharpe ratio: 0.5128700143033553\n",
      "=================================\n"
     ]
    },
    {
     "name": "stderr",
     "output_type": "stream",
     "text": [
      " 34%|███▍      | 17/50 [05:07<09:56, 18.09s/it]"
     ]
    },
    {
     "name": "stdout",
     "output_type": "stream",
     "text": [
      "=================================\n",
      "Initial portfolio value:100000\n",
      "Final portfolio value: 228933.5625\n",
      "Final accumulative portfolio value: 2.2893357276916504\n",
      "Maximum DrawDown: -0.7792005376113171\n",
      "Sharpe ratio: 0.5147338627892346\n",
      "=================================\n"
     ]
    },
    {
     "name": "stderr",
     "output_type": "stream",
     "text": [
      " 36%|███▌      | 18/50 [05:26<09:42, 18.21s/it]"
     ]
    },
    {
     "name": "stdout",
     "output_type": "stream",
     "text": [
      "=================================\n",
      "Initial portfolio value:100000\n",
      "Final portfolio value: 238907.90625\n",
      "Final accumulative portfolio value: 2.3890790939331055\n",
      "Maximum DrawDown: -0.7792003426272671\n",
      "Sharpe ratio: 0.5330015417429008\n",
      "=================================\n"
     ]
    },
    {
     "name": "stderr",
     "output_type": "stream",
     "text": [
      " 38%|███▊      | 19/50 [05:45<09:31, 18.44s/it]"
     ]
    },
    {
     "name": "stdout",
     "output_type": "stream",
     "text": [
      "=================================\n",
      "Initial portfolio value:100000\n",
      "Final portfolio value: 176712.65625\n",
      "Final accumulative portfolio value: 1.7671265602111816\n",
      "Maximum DrawDown: -0.7792005246311073\n",
      "Sharpe ratio: 0.415650151909735\n",
      "=================================\n"
     ]
    },
    {
     "name": "stderr",
     "output_type": "stream",
     "text": [
      " 40%|████      | 20/50 [06:03<09:12, 18.43s/it]"
     ]
    },
    {
     "name": "stdout",
     "output_type": "stream",
     "text": [
      "=================================\n",
      "Initial portfolio value:100000\n",
      "Final portfolio value: 163172.109375\n",
      "Final accumulative portfolio value: 1.6317211389541626\n",
      "Maximum DrawDown: -0.7792003805169332\n",
      "Sharpe ratio: 0.3810659889136447\n",
      "=================================\n"
     ]
    },
    {
     "name": "stderr",
     "output_type": "stream",
     "text": [
      " 42%|████▏     | 21/50 [06:21<08:49, 18.26s/it]"
     ]
    },
    {
     "name": "stdout",
     "output_type": "stream",
     "text": [
      "=================================\n",
      "Initial portfolio value:100000\n",
      "Final portfolio value: 208165.03125\n",
      "Final accumulative portfolio value: 2.0816502571105957\n",
      "Maximum DrawDown: -0.7792004016192777\n",
      "Sharpe ratio: 0.47505683011735955\n",
      "=================================\n"
     ]
    },
    {
     "name": "stderr",
     "output_type": "stream",
     "text": [
      " 44%|████▍     | 22/50 [06:38<08:22, 17.93s/it]"
     ]
    },
    {
     "name": "stdout",
     "output_type": "stream",
     "text": [
      "=================================\n",
      "Initial portfolio value:100000\n",
      "Final portfolio value: 209161.84375\n",
      "Final accumulative portfolio value: 2.091618537902832\n",
      "Maximum DrawDown: -0.7792004815848218\n",
      "Sharpe ratio: 0.4770376445512414\n",
      "=================================\n"
     ]
    },
    {
     "name": "stderr",
     "output_type": "stream",
     "text": [
      " 46%|████▌     | 23/50 [06:55<07:55, 17.62s/it]"
     ]
    },
    {
     "name": "stdout",
     "output_type": "stream",
     "text": [
      "=================================\n",
      "Initial portfolio value:100000\n",
      "Final portfolio value: 209209.578125\n",
      "Final accumulative portfolio value: 2.0920958518981934\n",
      "Maximum DrawDown: -0.7792004059640096\n",
      "Sharpe ratio: 0.4771333929358349\n",
      "=================================\n"
     ]
    },
    {
     "name": "stderr",
     "output_type": "stream",
     "text": [
      " 48%|████▊     | 24/50 [07:14<07:50, 18.09s/it]"
     ]
    },
    {
     "name": "stdout",
     "output_type": "stream",
     "text": [
      "=================================\n",
      "Initial portfolio value:100000\n",
      "Final portfolio value: 211474.890625\n",
      "Final accumulative portfolio value: 2.114748954772949\n",
      "Maximum DrawDown: -0.7792003403156995\n",
      "Sharpe ratio: 0.4816340668426149\n",
      "=================================\n"
     ]
    },
    {
     "name": "stderr",
     "output_type": "stream",
     "text": [
      " 52%|█████▏    | 26/50 [07:49<07:04, 17.69s/it]"
     ]
    },
    {
     "name": "stdout",
     "output_type": "stream",
     "text": [
      "=================================\n",
      "Initial portfolio value:100000\n",
      "Final portfolio value: 232705.9375\n",
      "Final accumulative portfolio value: 2.327059268951416\n",
      "Maximum DrawDown: -0.7792004016619893\n",
      "Sharpe ratio: 0.5214962891875145\n",
      "=================================\n"
     ]
    },
    {
     "name": "stderr",
     "output_type": "stream",
     "text": [
      " 54%|█████▍    | 27/50 [08:06<06:43, 17.54s/it]"
     ]
    },
    {
     "name": "stdout",
     "output_type": "stream",
     "text": [
      "=================================\n",
      "Initial portfolio value:100000\n",
      "Final portfolio value: 231940.5625\n",
      "Final accumulative portfolio value: 2.3194055557250977\n",
      "Maximum DrawDown: -0.779200242676948\n",
      "Sharpe ratio: 0.5201205420636944\n",
      "=================================\n"
     ]
    },
    {
     "name": "stderr",
     "output_type": "stream",
     "text": [
      " 56%|█████▌    | 28/50 [08:23<06:22, 17.39s/it]"
     ]
    },
    {
     "name": "stdout",
     "output_type": "stream",
     "text": [
      "=================================\n",
      "Initial portfolio value:100000\n",
      "Final portfolio value: 232367.75\n",
      "Final accumulative portfolio value: 2.3236775398254395\n",
      "Maximum DrawDown: -0.7792004155889345\n",
      "Sharpe ratio: 0.5208584589915766\n",
      "=================================\n",
      "=================================\n",
      "Initial portfolio value:100000\n",
      "Final portfolio value: 232174.03125\n",
      "Final accumulative portfolio value: 2.3217403888702393\n",
      "Maximum DrawDown: -0.7792003170312434\n",
      "Sharpe ratio: 0.5204935647796534\n",
      "=================================\n"
     ]
    },
    {
     "name": "stderr",
     "output_type": "stream",
     "text": [
      " 58%|█████▊    | 29/50 [08:40<06:01, 17.22s/it]"
     ]
    },
    {
     "name": "stdout",
     "output_type": "stream",
     "text": [
      "=================================\n",
      "Initial portfolio value:100000\n",
      "Final portfolio value: 232722.875\n",
      "Final accumulative portfolio value: 2.3272287845611572\n",
      "Maximum DrawDown: -0.7792003691719487\n"
     ]
    },
    {
     "name": "stderr",
     "output_type": "stream",
     "text": [
      " 60%|██████    | 30/50 [08:57<05:43, 17.19s/it]"
     ]
    },
    {
     "name": "stdout",
     "output_type": "stream",
     "text": [
      "Sharpe ratio: 0.5214586112488407\n",
      "=================================\n",
      "=================================\n",
      "Initial portfolio value:100000\n",
      "Final portfolio value: 232891.859375\n",
      "Final accumulative portfolio value: 2.328918695449829\n",
      "Maximum DrawDown: -0.7792002419416154\n",
      "Sharpe ratio: 0.5217619977929068\n",
      "=================================\n"
     ]
    },
    {
     "name": "stderr",
     "output_type": "stream",
     "text": [
      " 62%|██████▏   | 31/50 [09:15<05:31, 17.44s/it]"
     ]
    },
    {
     "name": "stdout",
     "output_type": "stream",
     "text": [
      "=================================\n",
      "Initial portfolio value:100000\n",
      "Final portfolio value: 239760.359375\n",
      "Final accumulative portfolio value: 2.3976035118103027\n",
      "Maximum DrawDown: -0.7792002926397537\n",
      "Sharpe ratio: 0.5345361395228907\n",
      "=================================\n"
     ]
    },
    {
     "name": "stderr",
     "output_type": "stream",
     "text": [
      " 64%|██████▍   | 32/50 [09:34<05:20, 17.79s/it]"
     ]
    },
    {
     "name": "stdout",
     "output_type": "stream",
     "text": [
      "=================================\n",
      "Initial portfolio value:100000\n",
      "Final portfolio value: 229944.6875\n",
      "Final accumulative portfolio value: 2.2994468212127686\n",
      "Maximum DrawDown: -0.7792005418587216\n",
      "Sharpe ratio: 0.5165214138091714\n",
      "=================================\n"
     ]
    },
    {
     "name": "stderr",
     "output_type": "stream",
     "text": [
      " 66%|██████▌   | 33/50 [09:52<05:03, 17.85s/it]"
     ]
    },
    {
     "name": "stdout",
     "output_type": "stream",
     "text": [
      "=================================\n",
      "Initial portfolio value:100000\n",
      "Final portfolio value: 222773.90625\n",
      "Final accumulative portfolio value: 2.227739095687866\n",
      "Maximum DrawDown: -0.7792004179418027\n",
      "Sharpe ratio: 0.5035781936324963\n",
      "=================================\n"
     ]
    },
    {
     "name": "stderr",
     "output_type": "stream",
     "text": [
      " 70%|███████   | 35/50 [10:28<04:29, 17.96s/it]"
     ]
    },
    {
     "name": "stdout",
     "output_type": "stream",
     "text": [
      "=================================\n",
      "Initial portfolio value:100000\n",
      "Final portfolio value: 145116.484375\n",
      "Final accumulative portfolio value: 1.4511648416519165\n",
      "Maximum DrawDown: -0.7996938563554293\n",
      "Sharpe ratio: 0.32874756068813754\n",
      "=================================\n",
      "=================================\n",
      "Initial portfolio value:100000\n",
      "Final portfolio value: 143858.203125\n",
      "Final accumulative portfolio value: 1.4385820627212524\n",
      "Maximum DrawDown: -0.7979006757820275\n",
      "Sharpe ratio: 0.3248730862587787\n",
      "=================================\n"
     ]
    },
    {
     "name": "stderr",
     "output_type": "stream",
     "text": [
      " 72%|███████▏  | 36/50 [10:46<04:12, 18.06s/it]"
     ]
    },
    {
     "name": "stdout",
     "output_type": "stream",
     "text": [
      "=================================\n",
      "Initial portfolio value:100000\n",
      "Final portfolio value: 188951.359375\n",
      "Final accumulative portfolio value: 1.889513611793518\n",
      "Maximum DrawDown: -0.779200415932896\n",
      "Sharpe ratio: 0.44199773101313067\n",
      "=================================\n"
     ]
    },
    {
     "name": "stderr",
     "output_type": "stream",
     "text": [
      " 76%|███████▌  | 38/50 [11:25<03:42, 18.56s/it]"
     ]
    },
    {
     "name": "stdout",
     "output_type": "stream",
     "text": [
      "=================================\n",
      "Initial portfolio value:100000\n",
      "Final portfolio value: 195649.25\n",
      "Final accumulative portfolio value: 1.95649254322052\n",
      "Maximum DrawDown: -0.7792003023563954\n",
      "Sharpe ratio: 0.4570550819932963\n",
      "=================================\n"
     ]
    },
    {
     "name": "stderr",
     "output_type": "stream",
     "text": [
      " 78%|███████▊  | 39/50 [11:43<03:22, 18.44s/it]"
     ]
    },
    {
     "name": "stdout",
     "output_type": "stream",
     "text": [
      "=================================\n",
      "Initial portfolio value:100000\n",
      "Final portfolio value: 196382.515625\n",
      "Final accumulative portfolio value: 1.9638251066207886\n",
      "Maximum DrawDown: -0.7792004363807608\n",
      "Sharpe ratio: 0.4586525545806242\n",
      "=================================\n",
      "=================================\n",
      "Initial portfolio value:100000\n",
      "Final portfolio value: 196806.859375\n",
      "Final accumulative portfolio value: 1.9680685997009277\n",
      "Maximum DrawDown: -0.779200473496336\n",
      "Sharpe ratio: 0.45959289628568323\n",
      "=================================\n"
     ]
    },
    {
     "name": "stderr",
     "output_type": "stream",
     "text": [
      " 80%|████████  | 40/50 [12:01<03:02, 18.27s/it]"
     ]
    },
    {
     "name": "stdout",
     "output_type": "stream",
     "text": [
      "=================================\n",
      "Initial portfolio value:100000\n",
      "Final portfolio value: 198584.6875\n",
      "Final accumulative portfolio value: 1.9858468770980835\n",
      "Maximum DrawDown: -0.7792004900470451\n",
      "Sharpe ratio: 0.46350181488496517\n",
      "=================================\n"
     ]
    },
    {
     "name": "stderr",
     "output_type": "stream",
     "text": [
      " 82%|████████▏ | 41/50 [12:19<02:44, 18.25s/it]"
     ]
    },
    {
     "name": "stdout",
     "output_type": "stream",
     "text": [
      "=================================\n",
      "Initial portfolio value:100000\n",
      "Final portfolio value: 197883.984375\n",
      "Final accumulative portfolio value: 1.9788398742675781\n",
      "Maximum DrawDown: -0.7792004392330093\n",
      "Sharpe ratio: 0.46196951066738434\n",
      "=================================\n"
     ]
    },
    {
     "name": "stderr",
     "output_type": "stream",
     "text": [
      " 84%|████████▍ | 42/50 [12:37<02:24, 18.06s/it]"
     ]
    },
    {
     "name": "stdout",
     "output_type": "stream",
     "text": [
      "=================================\n",
      "Initial portfolio value:100000\n",
      "Final portfolio value: 198035.203125\n",
      "Final accumulative portfolio value: 1.9803520441055298\n",
      "Maximum DrawDown: -0.7792003558575208\n",
      "Sharpe ratio: 0.4623026435351777\n",
      "=================================\n"
     ]
    },
    {
     "name": "stderr",
     "output_type": "stream",
     "text": [
      " 86%|████████▌ | 43/50 [12:56<02:10, 18.61s/it]"
     ]
    },
    {
     "name": "stdout",
     "output_type": "stream",
     "text": [
      "=================================\n",
      "Initial portfolio value:100000\n",
      "Final portfolio value: 198012.375\n",
      "Final accumulative portfolio value: 1.98012375831604\n",
      "Maximum DrawDown: -0.7792003461046146\n",
      "Sharpe ratio: 0.4622498974432465\n",
      "=================================\n"
     ]
    },
    {
     "name": "stderr",
     "output_type": "stream",
     "text": [
      " 88%|████████▊ | 44/50 [13:15<01:52, 18.73s/it]"
     ]
    },
    {
     "name": "stdout",
     "output_type": "stream",
     "text": [
      "=================================\n",
      "Initial portfolio value:100000\n",
      "Final portfolio value: 198810.796875\n",
      "Final accumulative portfolio value: 1.9881079196929932\n",
      "Maximum DrawDown: -0.7792003454519699\n",
      "Sharpe ratio: 0.46399855749384056\n",
      "=================================\n"
     ]
    },
    {
     "name": "stderr",
     "output_type": "stream",
     "text": [
      " 90%|█████████ | 45/50 [13:34<01:33, 18.79s/it]"
     ]
    },
    {
     "name": "stdout",
     "output_type": "stream",
     "text": [
      "=================================\n",
      "Initial portfolio value:100000\n",
      "Final portfolio value: 198828.765625\n",
      "Final accumulative portfolio value: 1.9882876873016357\n",
      "Maximum DrawDown: -0.7792005473578669\n",
      "Sharpe ratio: 0.46403396294659394\n",
      "=================================\n"
     ]
    },
    {
     "name": "stderr",
     "output_type": "stream",
     "text": [
      " 94%|█████████▍| 47/50 [14:10<00:54, 18.32s/it]"
     ]
    },
    {
     "name": "stdout",
     "output_type": "stream",
     "text": [
      "=================================\n",
      "Initial portfolio value:100000\n",
      "Final portfolio value: 199039.40625\n",
      "Final accumulative portfolio value: 1.990394115447998\n",
      "Maximum DrawDown: -0.7792004353409275\n",
      "Sharpe ratio: 0.46449480329931675\n",
      "=================================\n",
      "=================================\n",
      "Initial portfolio value:100000\n",
      "Final portfolio value: 199133.15625\n",
      "Final accumulative portfolio value: 1.9913315773010254\n",
      "Maximum DrawDown: -0.7792003774839675\n",
      "Sharpe ratio: 0.4647022708216152\n",
      "=================================\n"
     ]
    },
    {
     "name": "stderr",
     "output_type": "stream",
     "text": [
      " 98%|█████████▊| 49/50 [14:45<00:17, 17.82s/it]"
     ]
    },
    {
     "name": "stdout",
     "output_type": "stream",
     "text": [
      "=================================\n",
      "Initial portfolio value:100000\n",
      "Final portfolio value: 201240.59375\n",
      "Final accumulative portfolio value: 2.0124058723449707\n",
      "Maximum DrawDown: -0.7792003867221884\n",
      "Sharpe ratio: 0.46927314265140063\n",
      "=================================\n"
     ]
    },
    {
     "name": "stderr",
     "output_type": "stream",
     "text": [
      "100%|██████████| 50/50 [15:02<00:00, 18.05s/it]"
     ]
    },
    {
     "name": "stdout",
     "output_type": "stream",
     "text": [
      "=================================\n",
      "Initial portfolio value:100000\n",
      "Final portfolio value: 204245.203125\n",
      "Final accumulative portfolio value: 2.042452096939087\n",
      "Maximum DrawDown: -0.7792004027654493\n",
      "Sharpe ratio: 0.475710016114314\n",
      "=================================\n",
      "Training completed in 15.04 minutes.\n"
     ]
    },
    {
     "name": "stderr",
     "output_type": "stream",
     "text": [
      "\n"
     ]
    }
   ],
   "source": [
    "start_time = time.time()\n",
    "\n",
    "# TODO: Update to 50 episodes\n",
    "trained_model = POAgent.train_model(model, episodes=50)\n",
    "\n",
    "end_time = time.time()\n",
    "training_duration = (end_time - start_time) / 60\n",
    "print(f\"Training completed in {training_duration:.2f} minutes.\")"
   ]
  },
  {
   "cell_type": "code",
   "execution_count": 86,
   "id": "8145512e",
   "metadata": {},
   "outputs": [
    {
     "name": "stdout",
     "output_type": "stream",
     "text": [
      "Training summary:\n"
     ]
    },
    {
     "data": {
      "application/vnd.microsoft.datawrangler.viewer.v0+json": {
       "columns": [
        {
         "name": "index",
         "rawType": "int64",
         "type": "integer"
        },
        {
         "name": "model",
         "rawType": "object",
         "type": "string"
        },
        {
         "name": "training_duration (min)",
         "rawType": "float64",
         "type": "float"
        }
       ],
       "conversionMethod": "pd.DataFrame",
       "ref": "e4bb52a8-0621-4dc0-80e3-ef1b76c83d41",
       "rows": [
        [
         "0",
         "EIIE_PG",
         "15.044866621494293"
        ]
       ],
       "shape": {
        "columns": 2,
        "rows": 1
       }
      },
      "text/html": [
       "<div>\n",
       "<style scoped>\n",
       "    .dataframe tbody tr th:only-of-type {\n",
       "        vertical-align: middle;\n",
       "    }\n",
       "\n",
       "    .dataframe tbody tr th {\n",
       "        vertical-align: top;\n",
       "    }\n",
       "\n",
       "    .dataframe thead th {\n",
       "        text-align: right;\n",
       "    }\n",
       "</style>\n",
       "<table border=\"1\" class=\"dataframe\">\n",
       "  <thead>\n",
       "    <tr style=\"text-align: right;\">\n",
       "      <th></th>\n",
       "      <th>model</th>\n",
       "      <th>training_duration (min)</th>\n",
       "    </tr>\n",
       "  </thead>\n",
       "  <tbody>\n",
       "    <tr>\n",
       "      <th>0</th>\n",
       "      <td>EIIE_PG</td>\n",
       "      <td>15.044867</td>\n",
       "    </tr>\n",
       "  </tbody>\n",
       "</table>\n",
       "</div>"
      ],
      "text/plain": [
       "     model  training_duration (min)\n",
       "0  EIIE_PG                15.044867"
      ]
     },
     "metadata": {},
     "output_type": "display_data"
    }
   ],
   "source": [
    "training_times_df = pd.DataFrame(\n",
    "    [{\"model\": \"EIIE_PG\", \"training_duration (min)\": training_duration}]\n",
    ")\n",
    "training_times_df.to_csv(f\"{results_dir}/training_times.csv\", index=False)\n",
    "\n",
    "# Display training summary\n",
    "print(\"Training summary:\")\n",
    "display(training_times_df)"
   ]
  },
  {
   "cell_type": "code",
   "execution_count": 95,
   "id": "cbc4adda",
   "metadata": {},
   "outputs": [],
   "source": [
    "model_path = f\"{results_dir}/eeie_pg.pth\""
   ]
  },
  {
   "cell_type": "code",
   "execution_count": 96,
   "id": "34eb0585",
   "metadata": {},
   "outputs": [
    {
     "name": "stdout",
     "output_type": "stream",
     "text": [
      "Model saved to results/models/portfolio_optimization_eiie_pg/eeie_pg.pth\n"
     ]
    }
   ],
   "source": [
    "torch.save(trained_model.train_policy.state_dict(),model_path)\n",
    "print(f\"Model saved to {model_path}\")"
   ]
  },
  {
   "cell_type": "markdown",
   "id": "eb7ec26e",
   "metadata": {},
   "source": [
    "## Backtesting\n"
   ]
  },
  {
   "cell_type": "code",
   "execution_count": 97,
   "id": "f4078dd4",
   "metadata": {},
   "outputs": [
    {
     "name": "stdout",
     "output_type": "stream",
     "text": [
      "Model loaded and ready for evaluation.\n",
      "Evaluating model on test data...\n"
     ]
    }
   ],
   "source": [
    "policy = EIIE(time_window=50, device=device)\n",
    "policy.load_state_dict(torch.load(model_path, map_location=device))\n",
    "# policy = policy.to(device)\n",
    "# policy.eval()\n",
    "print(\"Model loaded and ready for evaluation.\")\n",
    "print(\"Evaluating model on test data...\")\n",
    "\n",
    "test_env = initialize_portfolio_env(test_df.reset_index(drop=True))"
   ]
  },
  {
   "cell_type": "code",
   "execution_count": 98,
   "id": "a7a49fea",
   "metadata": {},
   "outputs": [],
   "source": [
    "# POAgent.DRL_validation(model, test_env, policy=policy)"
   ]
  },
  {
   "cell_type": "code",
   "execution_count": 99,
   "id": "9958d943",
   "metadata": {},
   "outputs": [
    {
     "name": "stdout",
     "output_type": "stream",
     "text": [
      "=================================\n",
      "Initial portfolio value:100000\n",
      "Final portfolio value: 101321.5625\n",
      "Final accumulative portfolio value: 1.0132156610488892\n",
      "Maximum DrawDown: -0.3260973242019095\n",
      "Sharpe ratio: 0.1697310450601462\n",
      "=================================\n",
      "Collected 451 steps.\n",
      "Rewards: [-0.008783175610005856, 0.06990521401166916, 0.00810985453426838, 0.03235800564289093, 0.007372790016233921, 0.0010714748641476035, 0.004531234968453646, 0.004235583357512951, 0.00441350694745779, -0.00575118837878108, -0.005467732436954975, -0.004602696746587753, 0.006856485269963741, -0.0032242005690932274, 0.00011896379146492109, 0.00011872540198964998, -0.004227800760418177, 0.015807321295142174, -0.009600683115422726, -0.007440762594342232, 0.002724746707826853, 0.00895732268691063, 0.005731458310037851, -0.008333261124789715, -0.006196584552526474, -0.01924819126725197, 0.009028680622577667, -0.0015259099891409278, -0.01078782882541418, -0.005907546263188124, -0.002741634612902999, 0.0020874394103884697, 0.004406504333019257, 0.003150026546791196, -0.0026413484010845423, -0.030887439846992493, -0.0007136625936254859, 0.009550240822136402, -0.008081519044935703, 0.01636628806591034, -0.004482824821025133, -0.002895191079005599, 0.0010840974282473326, -0.00012499875447247177, 0.00780556071549654, 0.006389782764017582, -0.0013158033834770322, -0.011172004044055939, 0.023582687601447105, 0.0181427039206028, 0.009848693385720253, 0.008225256577134132, -0.009510297328233719, -0.0034088711254298687, 0.012566432356834412, -0.011653771623969078, 0.02037850394845009, -0.00996074266731739, 0.0022546842228621244, 0.010926770977675915, 0.016483906656503677, 0.003233920084312558, -0.0043207635171711445, -0.0002097707474604249, 0.0026863461825996637, 0.0260312557220459, -0.002543044276535511, -0.002568261930719018, -0.0010998931247740984, -0.008298401720821857, -0.00869015883654356, -0.01041404064744711, 0.006554651539772749, 0.009874779731035233, -0.0034954173024743795, -0.007027405314147472, 0.01010775938630104, 0.01045488566160202, -0.007421667221933603, 0.008485453203320503, -0.009803027845919132, 0.004810545593500137, 0.008158452808856964, -0.0020474877674132586, 0.004220388829708099, 0.004091820679605007, 0.0025097797624766827, -0.0038965463172644377, -0.003800332546234131, 0.0026153665967285633, -0.006560760084539652, -0.0022213077172636986, 0.008356013335287571, 0.0076983910985291, 0.0061234720051288605, -0.006436213850975037, -0.0056450255215168, -0.010320750996470451, 0.03307412192225456, -0.007156767416745424, 0.002044850494712591, 0.0036047021858394146, -0.00132732221391052, -0.002295504091307521, 0.00273199868388474, -0.011139034293591976, 0.003744971938431263, 0.006010671146214008, -0.027271544560790062, -0.00585712306201458, -0.008641699329018593, -0.004778159316629171, -0.015596930868923664, 0.007626938167959452, 0.0008267321973107755, -0.0005380766815505922, 0.005293163936585188, 0.004028064664453268, 0.0029863782692700624, 0.024151872843503952, 0.004975081887096167, 0.006234719883650541, -0.014850550331175327, -0.0016016666777431965, 0.003442197572439909, -0.001356746768578887, 0.0037871322128921747, -0.03424786031246185, -0.004535574000328779, 0.011091010645031929, -0.01651843450963497, -0.025062646716833115, 0.018553519621491432, 0.004919804632663727, -0.004452110733836889, -0.03940381109714508, 0.01966761238873005, 0.002659357851371169, -0.0018450343050062656, 0.016014639288187027, -0.009029560722410679, 0.006074419245123863, -0.014350974932312965, 0.015213053673505783, 0.01693139038980007, 0.0013469918631017208, -0.0036021899431943893, -0.0011196441482752562, -0.0015274621546268463, 0.00017426878912374377, 0.007592866197228432, 0.0012854416854679585, -0.0009400492999702692, 0.0017447738209739327, 0.008641350083053112, 0.001404609763994813, -0.0036481923889368773, -0.022913625463843346, -0.02993190847337246, -0.009436646476387978, -0.008279770612716675, -0.015771305188536644, -0.01826188713312149, -0.0011631455272436142, 0.012991784140467644, -0.0006921898457221687, 0.02605460211634636, 0.00040880427695810795, -0.002762613585218787, 0.002047110814601183, 0.0037149244453758, -0.007710663136094809, 0.012791253626346588, 0.0018429452320560813, -0.005152662750333548, -0.0033000861294567585, -0.008586568757891655, 0.013146979734301567, 0.0016032711137086153, 0.00323950476013124, -0.010158583521842957, -0.0666181668639183, 0.0034862712491303682, -0.009528891183435917, 0.0007902836659923196, 0.000570253818295896, 0.008124753832817078, -0.02125897817313671, -0.018682405352592468, -0.005721214693039656, 0.014533961191773415, 0.05087931826710701, 0.021311337128281593, 0.029194599017500877, 0.015991410240530968, -0.01995317079126835, -0.010333579033613205, 0.002300951164215803, 0.01337225828319788, 0.0030125256162136793, -0.012840823270380497, -0.010959017090499401, 0.0008473381749354303, 0.018136147409677505, -0.0010553800966590643, 0.003911583684384823, 0.013221685774624348, 0.004481391981244087, 0.007562579121440649, 0.01133525837212801, -0.002088819397613406, 0.004173142369836569, 0.007116209715604782, 0.007162133697420359, 0.006425080355256796, -0.014205624349415302, 0.012144903652369976, -0.004210981074720621, -0.008707534521818161, -0.01689796708524227, -0.008874939754605293, -0.03836974874138832, -0.006353731732815504, 0.028087250888347626, 0.004169936757534742, 0.016053352504968643, -0.004699586890637875, -0.0023878689389675856, -0.02262825146317482, 0.008745227940380573, 0.0024616196751594543, -0.006368188187479973, 0.00854230672121048, -0.00036192528204992414, -0.011765459552407265, -0.016861535608768463, 0.007187580689787865, -0.003991273231804371, 0.015197202563285828, -0.01124722883105278, -0.0009498933795839548, 0.004946020431816578, 0.04584517702460289, -0.029108233749866486, 0.0072313714772462845, -0.01690099947154522, -0.003844907972961664, 0.0027215369045734406, 0.0056446916423738, 0.017764156684279442, 0.006823926232755184, 0.014115964993834496, 0.00747881131246686, 0.0629766434431076, 0.04351261630654335, -0.01571735553443432, 0.0017527469899505377, -0.012101322412490845, -0.006880895234644413, 0.009062821976840496, -0.00012511797831393778, 0.017779849469661713, -0.005226657260209322, 0.016762128099799156, -0.00029508653096854687, -0.00590101070702076, 0.029350077733397484, -0.034268032759428024, -0.002828840399160981, -0.004001925233751535, 0.0002824861148837954, -0.013297966681420803, 0.01161880325525999, 0.01570851542055607, 0.009411491453647614, -0.00010353863035561517, -0.003335309913381934, 0.0019024383509531617, 0.003225721186026931, -0.004453188739717007, 0.0011236312566325068, 0.009955278597772121, 0.00447225384414196, 0.0003746046277228743, 0.0020239122677594423, 0.005135203246027231, -0.0023185049649327993, 0.014265814796090126, 0.009144803509116173, -0.014487577602267265, 0.0023315169382840395, -0.004668506793677807, 0.008264036849141121, -0.015613095834851265, -0.0022577480413019657, 0.009976995177567005, -0.005214254837483168, -0.019159117713570595, 0.0046434905380010605, -0.006184589583426714, -0.003593575907871127, -0.002769068581983447, 0.003099520690739155, 0.0019452712731435895, -0.0026061490643769503, 0.012173050083220005, 0.004851949401199818, -0.002363074105232954, 0.015328577719628811, 0.0007425173535011709, -0.0026182804722338915, -0.013007231056690216, -0.0033985842019319534, 0.01643958128988743, 0.01090082898736, 0.0005853846669197083, 0.012215091846883297, -0.08459962904453278, 0.02669481188058853, -0.009337431751191616, 0.006304850801825523, 0.0032600611448287964, -0.002821308793500066, -0.009202253073453903, -0.006806297693401575, 0.006664667744189501, 0.0012037658598273993, -0.005517357029020786, 0.0014754373114556074, 0.0027317609637975693, 0.005406164564192295, -0.017399849370121956, 0.01646561548113823, 0.05098547413945198, 0.014574259519577026, 0.016966434195637703, 0.015213171020150185, -0.017066143453121185, -0.01441996917128563, -0.021218184381723404, -0.0015523555921390653, -0.004365900997072458, -0.021686971187591553, 0.03992032632231712, -0.005024997051805258, -0.011141445487737656, 0.02500341646373272, 0.0015832758508622646, 0.0026169123593717813, 0.0029870914295315742, -0.00275711459107697, -0.005421346519142389, 0.009144803509116173, -0.05350268632173538, -0.05202338472008705, 0.023644277825951576, 0.008118605241179466, -0.05764665827155113, -0.033873770385980606, 0.00910983793437481, -0.04314780980348587, -0.02638310380280018, 0.0288254264742136, 0.0017677409341558814, 0.02162403240799904, 0.008233178406953812, 0.020822962746024132, -0.002680374076589942, -0.00872635468840599, -0.004575092811137438, -0.00162280083168298, 0.0040955008007586, 0.008934401907026768, 0.005603795405477285, -0.005620989017188549, -0.00017233187099918723, -0.03512578830122948, 0.005254032090306282, 0.015126166865229607, 0.05843089893460274, 0.011600774712860584, 0.020905854180455208, 0.013960919342935085, -0.0031716402154415846, 0.010642911307513714, -0.00407392019405961, -0.005699933972209692, 0.007111948449164629, -0.0006586693925783038, 0.012968955561518669, -0.008241968229413033, -0.01261836662888527, 0.002858245512470603, 0.017614947631955147, 0.019591398537158966, -0.003530707908794284, -0.008220934309065342, -0.005070346407592297, 0.0027155925054103136, -7.707177428528666e-05, 0.01771707832813263, 0.017468292266130447, -0.0060282484628260136, -0.03951951116323471, -0.026282131671905518, 0.0008629412623122334, -0.018098123371601105, 0.004640286788344383, -0.015941351652145386, 0.028177771717309952, -0.027748018503189087, -0.04066643491387367, 0.02032068371772766, -0.043772198259830475, -0.014192989096045494, -0.05134318768978119, -0.00043264447594992816, 0.008021521382033825, -0.020556729286909103, 0.031140459701418877, 0.018174896016716957, 0.0007977878558449447, 0.010026093572378159, 0.009535599499940872, 0.004362471401691437, 0.026126956567168236, 0.010016887448728085, -0.020727407187223434, -0.026483718305826187, -0.02867600880563259, 0.005819639191031456, 0.00394625635817647, 0.02636105753481388, -0.09663760662078857, -0.08236493915319443, -0.011321073397994041, -0.007092654705047607, 0.11175037175416946, -0.053794242441654205, 0.00942873302847147, 0.01911083795130253, 0.007728319149464369, -0.017558706924319267, 0.020703986287117004, -0.016085803508758545, -0.0006661249208264053, 0.0018242637161165476, -0.008706813678145409, -0.013311496935784817, 0.0032433071173727512, 0.0032433071173727512]\n"
     ]
    }
   ],
   "source": [
    "def portfolio_test(env, policy, initial_last_action=None):\n",
    "    obs, _ = env.reset()\n",
    "    obs = np.asarray(obs, dtype=np.float32)\n",
    "\n",
    "    # Initial last_action\n",
    "    if initial_last_action is None:\n",
    "        action_dim = env.action_space.shape[0]\n",
    "        last_action = np.ones(action_dim, dtype=np.float32) / action_dim\n",
    "    else:\n",
    "        last_action = np.asarray(initial_last_action).flatten().astype(np.float32)\n",
    "\n",
    "    done = False\n",
    "    transitions = []\n",
    "\n",
    "    while not done:\n",
    "        # Create batches\n",
    "        obs_batch = obs[None, ...]\n",
    "        la_batch = last_action[None, ...]\n",
    "\n",
    "        # Policy forward\n",
    "        action = policy(obs_batch, la_batch)\n",
    "        action = np.asarray(action).flatten().astype(np.float32)\n",
    "\n",
    "        # Step\n",
    "        next_obs, reward, terminated, truncated, info = env.step(action)\n",
    "        done = bool(terminated or truncated)\n",
    "\n",
    "        next_obs = np.asarray(next_obs, dtype=np.float32)\n",
    "\n",
    "        # Record\n",
    "        transitions.append(\n",
    "            {\n",
    "                \"obs\": obs,\n",
    "                \"last_action\": last_action,\n",
    "                \"action\": action,\n",
    "                \"reward\": float(reward),\n",
    "                \"info\": info,\n",
    "            }\n",
    "        )\n",
    "\n",
    "        # Advance\n",
    "        obs = next_obs\n",
    "        last_action = action\n",
    "\n",
    "    return transitions\n",
    "\n",
    "\n",
    "transitions = portfolio_test(test_env, policy)\n",
    "\n",
    "print(f\"Collected {len(transitions)} steps.\")\n",
    "print(\"Rewards:\", [t[\"reward\"] for t in transitions])"
   ]
  },
  {
   "cell_type": "code",
   "execution_count": 100,
   "id": "0eb2b3fc",
   "metadata": {},
   "outputs": [],
   "source": [
    "# Inspect rewards or info:\n",
    "infosrewards = [t[\"reward\"] for t in transitions]\n",
    "infos = [t[\"info\"] for t in transitions]"
   ]
  },
  {
   "cell_type": "markdown",
   "id": "3945e551",
   "metadata": {},
   "source": [
    "## Benchmarks\n"
   ]
  },
  {
   "cell_type": "code",
   "execution_count": 104,
   "id": "335b3391",
   "metadata": {},
   "outputs": [],
   "source": [
    "# Get portfolio values\n",
    "eiie_values = test_env._asset_memory[\"final\"]\n",
    "bh_values = []"
   ]
  },
  {
   "cell_type": "code",
   "execution_count": 105,
   "id": "1367ea3a",
   "metadata": {},
   "outputs": [
    {
     "name": "stdout",
     "output_type": "stream",
     "text": [
      "=================================\n",
      "Initial portfolio value:100000\n",
      "Final portfolio value: 118570.421875\n",
      "Final accumulative portfolio value: 1.185704231262207\n",
      "Maximum DrawDown: -0.1432936641361089\n",
      "Sharpe ratio: 0.7813550272400039\n",
      "=================================\n"
     ]
    }
   ],
   "source": [
    "# Calculate Buy & Hold\n",
    "test_env.reset()\n",
    "action = [1 / len(tickers)] * len(tickers)\n",
    "done = False\n",
    "while not done:  # Use test_env._done to check episode completion\n",
    "    test_obs, rewards, terminated, truncated, info = test_env.step(action)\n",
    "    done = terminated or truncated\n",
    "    bh_values.append(test_env._portfolio_value)"
   ]
  },
  {
   "cell_type": "code",
   "execution_count": 106,
   "id": "9afb48b3",
   "metadata": {},
   "outputs": [],
   "source": [
    "risk_free_rate = 0.043  # 4.3% annualized"
   ]
  },
  {
   "cell_type": "code",
   "execution_count": 107,
   "id": "5a147661",
   "metadata": {},
   "outputs": [],
   "source": [
    "# Calculate metrics\n",
    "def calculate_metrics(values, risk_free_rate):\n",
    "    returns = pd.Series(values).pct_change().dropna()\n",
    "    cumulative_return = (values[-1] / values[0]) - 1\n",
    "    annualized_return = (1 + cumulative_return) ** (252 / len(returns)) - 1\n",
    "    volatility = returns.std() * np.sqrt(252)\n",
    "    sharpe_ratio = (annualized_return - risk_free_rate) / volatility\n",
    "    max_drawdown = (values / np.maximum.accumulate(values) - 1).min()\n",
    "\n",
    "    return {\n",
    "        \"Cumulative Return\": cumulative_return,\n",
    "        \"Annualized Return\": annualized_return,\n",
    "        \"Volatility\": volatility,\n",
    "        \"Sharpe Ratio\": sharpe_ratio,\n",
    "        \"Max Drawdown\": max_drawdown,\n",
    "    }\n",
    "\n",
    "\n",
    "eiie_metrics = calculate_metrics(eiie_values, risk_free_rate)\n",
    "bh_metrics = calculate_metrics(bh_values, risk_free_rate)"
   ]
  },
  {
   "cell_type": "code",
   "execution_count": 108,
   "id": "deea7dcc",
   "metadata": {},
   "outputs": [],
   "source": [
    "# Step 1: Define metrics\n",
    "metrics = [\n",
    "    \"Cumulative Return\",\n",
    "    \"Annualized Return\",\n",
    "    \"Volatility\",\n",
    "    \"Sharpe Ratio\",\n",
    "    \"Max Drawdown\",\n",
    "]\n",
    "\n",
    "# Step 2: Create DataFrame\n",
    "metrics_df = pd.DataFrame(\n",
    "    {\n",
    "        \"Metric\": metrics,\n",
    "        \"EIIE\": [eiie_metrics[m] for m in metrics],\n",
    "        \"Buy & Hold\": [bh_metrics[m] for m in metrics],\n",
    "    }\n",
    ")"
   ]
  },
  {
   "cell_type": "markdown",
   "id": "7c912897",
   "metadata": {},
   "source": [
    "## Performance Summary\n"
   ]
  },
  {
   "cell_type": "code",
   "execution_count": 123,
   "id": "4a516382",
   "metadata": {},
   "outputs": [
    {
     "data": {
      "image/png": "[encoded data removed]",
      "text/plain": [
       "<Figure size 1200x600 with 1 Axes>"
      ]
     },
     "metadata": {},
     "output_type": "display_data"
    }
   ],
   "source": [
    "# Plot results\n",
    "plt.figure(figsize=(12, 6))\n",
    "# plt.subplot(1, 2, 1)\n",
    "plt.plot(eiie_values, label=\"EIIE Strategy\")\n",
    "plt.plot(bh_values, label=\"Buy & Hold\", linestyle=\"--\")\n",
    "plt.title(\"Portfolio Value Comparison\")\n",
    "plt.xlabel(\"Days\")\n",
    "plt.ylabel(\"Portfolio Value ($)\")\n",
    "plt.legend()\n",
    "plt.show()\n",
    "plt.close()"
   ]
  },
  {
   "cell_type": "code",
   "execution_count": 125,
   "id": "a266f3b6",
   "metadata": {},
   "outputs": [
    {
     "data": {
      "image/png": "[encoded data removed]",
      "text/plain": [
       "<Figure size 1200x600 with 1 Axes>"
      ]
     },
     "metadata": {},
     "output_type": "display_data"
    }
   ],
   "source": [
    "# plt.subplot(1, 2, 2)\n",
    "plt.figure(figsize=(12, 6))\n",
    "metrics_df.set_index(\"Metric\").plot(kind=\"bar\", ax=plt.gca())\n",
    "plt.title(\"Performance Metrics Comparison\")\n",
    "plt.xticks(rotation=45)\n",
    "plt.tight_layout()\n",
    "plt.show()\n",
    "plt.close()"
   ]
  },
  {
   "cell_type": "code",
   "execution_count": 110,
   "id": "19c0545f",
   "metadata": {},
   "outputs": [
    {
     "name": "stdout",
     "output_type": "stream",
     "text": [
      "\n",
      "Performance Metrics:\n"
     ]
    },
    {
     "data": {
      "text/html": [
       "<style type=\"text/css\">\n",
       "</style>\n",
       "<table id=\"T_70fcd\">\n",
       "  <thead>\n",
       "    <tr>\n",
       "      <th class=\"blank level0\" >&nbsp;</th>\n",
       "      <th id=\"T_70fcd_level0_col0\" class=\"col_heading level0 col0\" >Metric</th>\n",
       "      <th id=\"T_70fcd_level0_col1\" class=\"col_heading level0 col1\" >EIIE</th>\n",
       "      <th id=\"T_70fcd_level0_col2\" class=\"col_heading level0 col2\" >Buy & Hold</th>\n",
       "    </tr>\n",
       "  </thead>\n",
       "  <tbody>\n",
       "    <tr>\n",
       "      <th id=\"T_70fcd_level0_row0\" class=\"row_heading level0 row0\" >0</th>\n",
       "      <td id=\"T_70fcd_row0_col0\" class=\"data row0 col0\" >Cumulative Return</td>\n",
       "      <td id=\"T_70fcd_row0_col1\" class=\"data row0 col1\" >18.57%</td>\n",
       "      <td id=\"T_70fcd_row0_col2\" class=\"data row0 col2\" >18.46%</td>\n",
       "    </tr>\n",
       "    <tr>\n",
       "      <th id=\"T_70fcd_level0_row1\" class=\"row_heading level0 row1\" >1</th>\n",
       "      <td id=\"T_70fcd_row1_col0\" class=\"data row1 col0\" >Annualized Return</td>\n",
       "      <td id=\"T_70fcd_row1_col1\" class=\"data row1 col1\" >10.01%</td>\n",
       "      <td id=\"T_70fcd_row1_col2\" class=\"data row1 col2\" >9.95%</td>\n",
       "    </tr>\n",
       "    <tr>\n",
       "      <th id=\"T_70fcd_level0_row2\" class=\"row_heading level0 row2\" >2</th>\n",
       "      <td id=\"T_70fcd_row2_col0\" class=\"data row2 col0\" >Volatility</td>\n",
       "      <td id=\"T_70fcd_row2_col1\" class=\"data row2 col1\" >13.33%</td>\n",
       "      <td id=\"T_70fcd_row2_col2\" class=\"data row2 col2\" >13.33%</td>\n",
       "    </tr>\n",
       "    <tr>\n",
       "      <th id=\"T_70fcd_level0_row3\" class=\"row_heading level0 row3\" >3</th>\n",
       "      <td id=\"T_70fcd_row3_col0\" class=\"data row3 col0\" >Sharpe Ratio</td>\n",
       "      <td id=\"T_70fcd_row3_col1\" class=\"data row3 col1\" >42.84%</td>\n",
       "      <td id=\"T_70fcd_row3_col2\" class=\"data row3 col2\" >42.43%</td>\n",
       "    </tr>\n",
       "    <tr>\n",
       "      <th id=\"T_70fcd_level0_row4\" class=\"row_heading level0 row4\" >4</th>\n",
       "      <td id=\"T_70fcd_row4_col0\" class=\"data row4 col0\" >Max Drawdown</td>\n",
       "      <td id=\"T_70fcd_row4_col1\" class=\"data row4 col1\" >-14.33%</td>\n",
       "      <td id=\"T_70fcd_row4_col2\" class=\"data row4 col2\" >-14.33%</td>\n",
       "    </tr>\n",
       "  </tbody>\n",
       "</table>\n"
      ],
      "text/plain": [
       "<pandas.io.formats.style.Styler at 0x351b31e20>"
      ]
     },
     "metadata": {},
     "output_type": "display_data"
    }
   ],
   "source": [
    "# Display metrics\n",
    "print(\"\\nPerformance Metrics:\")\n",
    "display(\n",
    "    metrics_df.style.format(\n",
    "        {\n",
    "            \"EIIE\": \"{:.2%}\",\n",
    "            \"Buy & Hold\": \"{:.2%}\",\n",
    "            \"Sharpe Ratio\": \"{:.2f}\",\n",
    "            \"Volatility\": \"{:.2%}\",\n",
    "        }\n",
    "    )\n",
    ")"
   ]
  },
  {
   "cell_type": "code",
   "execution_count": 111,
   "id": "9415f2ec",
   "metadata": {},
   "outputs": [
    {
     "name": "stdout",
     "output_type": "stream",
     "text": [
      "\n",
      "Optimal Weights from Sharpe Ratio Optimization:\n",
      "AXP: 34.19%\n",
      "AMGN: 0.00%\n",
      "AAPL: 0.00%\n",
      "BA: 0.00%\n",
      "CAT: 1.72%\n",
      "CSCO: 0.00%\n",
      "CVX: 0.00%\n",
      "GS: 0.00%\n",
      "HD: 0.00%\n",
      "HON: 0.00%\n",
      "IBM: 7.76%\n",
      "INTC: 0.00%\n",
      "JNJ: 0.00%\n",
      "KO: 0.00%\n",
      "JPM: 0.00%\n",
      "MCD: 0.00%\n",
      "MMM: 0.00%\n",
      "MRK: 0.00%\n",
      "MSFT: 0.00%\n",
      "NKE: 0.00%\n",
      "PG: 0.00%\n",
      "TRV: 2.64%\n",
      "UNH: 0.00%\n",
      "CRM: 0.00%\n",
      "VZ: 0.00%\n",
      "V: 0.00%\n",
      "WBA: 0.00%\n",
      "WMT: 0.00%\n",
      "DIS: 0.00%\n",
      "DOW: 53.68%\n"
     ]
    }
   ],
   "source": [
    "# Additional Sharpe ratio optimization\n",
    "log_returns = raw_df.pivot_table(index=\"date\", columns=\"tic\", values=\"close\")\n",
    "log_returns = np.log(log_returns.pct_change() + 1).dropna()\n",
    "cov_matrix = log_returns.cov() * 252\n",
    "\n",
    "\n",
    "def negative_sharpe(weights):\n",
    "    port_return = np.dot(weights, log_returns.mean()) * 252\n",
    "    port_vol = np.sqrt(weights.T @ cov_matrix @ weights)\n",
    "    return -(port_return - risk_free_rate) / port_vol\n",
    "\n",
    "\n",
    "constraints = {\"type\": \"eq\", \"fun\": lambda x: np.sum(x) - 1}\n",
    "bounds = [(0, 1) for _ in tickers]\n",
    "initial_weights = np.array([1 / len(tickers)] * len(tickers))\n",
    "\n",
    "result = minimize(\n",
    "    negative_sharpe,\n",
    "    initial_weights,\n",
    "    method=\"SLSQP\",\n",
    "    bounds=bounds,\n",
    "    constraints=constraints,\n",
    ")\n",
    "\n",
    "print(\"\\nOptimal Weights from Sharpe Ratio Optimization:\")\n",
    "for ticker, weight in zip(tickers, result.x):\n",
    "    print(f\"{ticker}: {weight:.2%}\")"
   ]
  }
 ],
 "metadata": {
  "kernelspec": {
   "display_name": "portfolio_opt",
   "language": "python",
   "name": "python3"
  },
  "language_info": {
   "codemirror_mode": {
    "name": "ipython",
    "version": 3
   },
   "file_extension": ".py",
   "mimetype": "text/x-python",
   "name": "python",
   "nbconvert_exporter": "python",
   "pygments_lexer": "ipython3",
   "version": "3.12.10"
  }
 },
 "nbformat": 4,
 "nbformat_minor": 5
}
