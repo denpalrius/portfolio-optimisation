{
 "cells": [
  {
   "cell_type": "markdown",
   "id": "0e1c5a8a",
   "metadata": {},
   "source": [
    "# Deep Reinforcement Learning for Portfolio Optimization - EIIE Architecture\n"
   ]
  },
  {
   "cell_type": "markdown",
   "id": "7e9f8e10",
   "metadata": {},
   "source": [
    "This experiement demonstrates the application of deep reinforcement learning (DRL) techniques for portfolio optimization.\n",
    "\n",
    "\n",
    "- Policy network architecture: **EIIE backbone**\n",
    "- Uses vanilla **Policy Gradient**"
   ]
  },
  {
   "cell_type": "markdown",
   "id": "b8dfb03e",
   "metadata": {},
   "source": [
    "## Dependencies\n"
   ]
  },
  {
   "cell_type": "code",
   "execution_count": 1,
   "id": "b8f91ee1",
   "metadata": {},
   "outputs": [],
   "source": [
    "# ! pip install pandas numpy matplotlib \\\n",
    "#                stable-baselines3 \\\n",
    "#                PyPortfolioOpt \\\n",
    "#                pandas_market_calendars quantstats gymnasium \\\n",
    "#                git+https://github.com/AI4Finance-Foundation/FinRL.git -q"
   ]
  },
  {
   "cell_type": "code",
   "execution_count": 2,
   "id": "51776d45",
   "metadata": {},
   "outputs": [],
   "source": [
    "import os\n",
    "import time\n",
    "import pandas as pd\n",
    "import numpy as np\n",
    "import matplotlib.pyplot as plt\n",
    "import seaborn as sns\n",
    "from datetime import datetime, timedelta\n",
    "\n",
    "from scipy.optimize import minimize\n",
    "\n",
    "import torch\n",
    "\n",
    "from finrl import config_tickers\n",
    "from finrl.meta.preprocessor.yahoodownloader import YahooDownloader\n",
    "from finrl.meta.preprocessor.preprocessors import FeatureEngineer, data_split\n",
    "from finrl.meta.env_portfolio_optimization.env_portfolio_optimization import (\n",
    "    PortfolioOptimizationEnv,\n",
    ")\n",
    "from finrl.agents.portfolio_optimization.models import DRLAgent as POAgent\n",
    "from finrl.agents.portfolio_optimization.architectures import EIIE"
   ]
  },
  {
   "cell_type": "code",
   "execution_count": 3,
   "id": "9e5cf3e3",
   "metadata": {},
   "outputs": [],
   "source": [
    "import warnings\n",
    "\n",
    "warnings.filterwarnings(\"ignore\", category=FutureWarning)\n",
    "\n",
    "%matplotlib inline"
   ]
  },
  {
   "cell_type": "code",
   "execution_count": 4,
   "id": "1d8f66f9",
   "metadata": {},
   "outputs": [
    {
     "name": "stdout",
     "output_type": "stream",
     "text": [
      "Using device: cpu\n"
     ]
    }
   ],
   "source": [
    "device = torch.device(\"cuda\" if torch.cuda.is_available() else \"cpu\")\n",
    "print(f\"Using device: {device}\")"
   ]
  },
  {
   "cell_type": "code",
   "execution_count": 5,
   "id": "f3e16a19",
   "metadata": {},
   "outputs": [],
   "source": [
    "experiment_name = \"eiie_pg\"\n",
    "results_dir = f\"results/models/{experiment_name}\"\n",
    "os.makedirs(results_dir, exist_ok=True)"
   ]
  },
  {
   "cell_type": "markdown",
   "id": "3c6c1461",
   "metadata": {},
   "source": [
    "## Data loading and pre-processing\n"
   ]
  },
  {
   "cell_type": "markdown",
   "id": "2eefbe65",
   "metadata": {},
   "source": [
    "Define training and trading/test periods\n"
   ]
  },
  {
   "cell_type": "code",
   "execution_count": 6,
   "id": "542703af",
   "metadata": {},
   "outputs": [
    {
     "name": "stdout",
     "output_type": "stream",
     "text": [
      "Training period: ('2013-05-07', '2023-05-05')\n",
      "Testing period: ('2023-05-06', '2025-05-04')\n"
     ]
    }
   ],
   "source": [
    "start_date = \"2015-01-01\"\n",
    "end_date = (datetime.now() - pd.Timedelta(days=1)).strftime(\"%Y-%m-%d\")  # Yesterday\n",
    "\n",
    "trade_period = 2  # 2 years for testing\n",
    "train_period = 10  # 10 years for training\n",
    "\n",
    "train_end_date = (\n",
    "    datetime.strptime(end_date, \"%Y-%m-%d\") - timedelta(days=trade_period * 365)\n",
    ").strftime(\"%Y-%m-%d\")\n",
    "train_start_date = (\n",
    "    datetime.strptime(train_end_date, \"%Y-%m-%d\") - timedelta(days=train_period * 365)\n",
    ").strftime(\"%Y-%m-%d\")\n",
    "test_start_date = (\n",
    "    datetime.strptime(train_end_date, \"%Y-%m-%d\") + timedelta(days=1)\n",
    ").strftime(\"%Y-%m-%d\")\n",
    "\n",
    "train_dates = (train_start_date, train_end_date)\n",
    "test_dates = (test_start_date, end_date)\n",
    "\n",
    "print(f\"Training period: {train_dates}\")\n",
    "print(f\"Testing period: {test_dates}\")"
   ]
  },
  {
   "cell_type": "markdown",
   "id": "a36a425c",
   "metadata": {},
   "source": [
    "- Fetch historical stock data for a given list of tickers within a specified date range.\n",
    "- We use the DOW_30_TICKER stocks\n",
    "- The data includes `date`, `close`, `high`, `low`, `open`, `volume`, and `tic` (ticker symbol).\n"
   ]
  },
  {
   "cell_type": "code",
   "execution_count": 7,
   "id": "46c577ab",
   "metadata": {},
   "outputs": [
    {
     "name": "stdout",
     "output_type": "stream",
     "text": [
      "Downloading 2015-01-01 → 2025-05-04\n"
     ]
    },
    {
     "name": "stderr",
     "output_type": "stream",
     "text": [
      "[*********************100%***********************]  1 of 1 completed\n",
      "[*********************100%***********************]  1 of 1 completed\n",
      "[*********************100%***********************]  1 of 1 completed\n",
      "[*********************100%***********************]  1 of 1 completed\n",
      "[*********************100%***********************]  1 of 1 completed\n",
      "[*********************100%***********************]  1 of 1 completed\n",
      "[*********************100%***********************]  1 of 1 completed\n",
      "[*********************100%***********************]  1 of 1 completed\n",
      "[*********************100%***********************]  1 of 1 completed\n",
      "[*********************100%***********************]  1 of 1 completed\n",
      "[*********************100%***********************]  1 of 1 completed\n",
      "[*********************100%***********************]  1 of 1 completed\n",
      "[*********************100%***********************]  1 of 1 completed\n",
      "[*********************100%***********************]  1 of 1 completed\n",
      "[*********************100%***********************]  1 of 1 completed\n",
      "[*********************100%***********************]  1 of 1 completed\n",
      "[*********************100%***********************]  1 of 1 completed\n",
      "[*********************100%***********************]  1 of 1 completed\n",
      "[*********************100%***********************]  1 of 1 completed\n",
      "[*********************100%***********************]  1 of 1 completed\n",
      "[*********************100%***********************]  1 of 1 completed\n",
      "[*********************100%***********************]  1 of 1 completed\n",
      "[*********************100%***********************]  1 of 1 completed\n",
      "[*********************100%***********************]  1 of 1 completed\n",
      "[*********************100%***********************]  1 of 1 completed\n",
      "[*********************100%***********************]  1 of 1 completed\n",
      "[*********************100%***********************]  1 of 1 completed\n",
      "[*********************100%***********************]  1 of 1 completed\n",
      "[*********************100%***********************]  1 of 1 completed\n",
      "[*********************100%***********************]  1 of 1 completed\n"
     ]
    },
    {
     "name": "stdout",
     "output_type": "stream",
     "text": [
      "Shape of DataFrame:  (76911, 8)\n"
     ]
    }
   ],
   "source": [
    "def download_data(tickers, start_date, end_date):\n",
    "    print(f\"Downloading {start_date} → {end_date}\")\n",
    "    return YahooDownloader(\n",
    "        start_date=start_date, end_date=end_date, ticker_list=tickers\n",
    "    ).fetch_data()\n",
    "\n",
    "tickers = config_tickers.DOW_30_TICKER\n",
    "raw_df = download_data(tickers, start_date, end_date)"
   ]
  },
  {
   "cell_type": "markdown",
   "id": "71bb738f",
   "metadata": {},
   "source": [
    "---\n",
    "\n",
    "### Feature Engineering\n",
    "\n",
    "We apply feature engineering to the dataset of stock data:\n",
    "\n",
    "- Add technical indicators (e.g., moving averages, RSI).\n",
    "- Calculate turbulence indicators, which measure market volatility.\n",
    "\n",
    "This Enhance the dataset with features that are critical for modeling market dynamics and making informed trading decisions.\n"
   ]
  },
  {
   "cell_type": "code",
   "execution_count": 8,
   "id": "47dcd423",
   "metadata": {},
   "outputs": [
    {
     "name": "stdout",
     "output_type": "stream",
     "text": [
      "Successfully added technical indicators\n",
      "Successfully added turbulence index\n"
     ]
    }
   ],
   "source": [
    "def preprocess_data(df):\n",
    "    fe = FeatureEngineer(use_technical_indicator=True, use_turbulence=True)\n",
    "    return fe.preprocess_data(df)\n",
    "\n",
    "df_feat = preprocess_data(raw_df)"
   ]
  },
  {
   "cell_type": "markdown",
   "id": "b6cdeb82",
   "metadata": {},
   "source": [
    "## Covariance & Returns for State\n"
   ]
  },
  {
   "cell_type": "markdown",
   "id": "002710f6",
   "metadata": {},
   "source": [
    "- Calculate the rolling covariance matrices and daily returns for the given dataset of stock prices.\n",
    "- This prepares the state representation (the state of the portfolio) for the RL models in the RL environments for portfolio optimization.\n",
    "- The **rolling covariance matrices** (`cov_list`) capture the relationships between asset returns, while the daily returns (`return_list`) provide information about recent price movements.\n",
    "- These metrics are critical for modeling the dynamics of the financial market and making informed trading decisions.\n"
   ]
  },
  {
   "cell_type": "code",
   "execution_count": 9,
   "id": "48b6f5c1",
   "metadata": {},
   "outputs": [],
   "source": [
    "def compute_covariance_and_returns(df_feat, lookback=252):\n",
    "    df_sorted = df_feat.sort_values([\"date\", \"tic\"], ignore_index=True)\n",
    "    df_sorted.index = df_sorted.date.factorize()[0]\n",
    "    cov_list, return_list = [], []\n",
    "\n",
    "    dates = df_sorted.date.unique()\n",
    "    for i in range(lookback, len(dates)):\n",
    "        win = df_sorted.loc[i - lookback : i]\n",
    "        pm = win.pivot_table(index=\"date\", columns=\"tic\", values=\"close\")\n",
    "        rm = pm.pct_change().dropna()\n",
    "        cov_list.append(rm.cov().values)\n",
    "        return_list.append(rm)\n",
    "    df_cov = pd.DataFrame(\n",
    "        {\"date\": dates[lookback:], \"cov_list\": cov_list, \"return_list\": return_list}\n",
    "    )\n",
    "\n",
    "    return pd.merge(df_feat, df_cov, on=\"date\", how=\"left\").dropna(subset=[\"cov_list\"])\n",
    "\n",
    "\n",
    "df_all = compute_covariance_and_returns(df_feat)"
   ]
  },
  {
   "cell_type": "markdown",
   "id": "91b7d720",
   "metadata": {},
   "source": [
    "## Train/Trade split\n"
   ]
  },
  {
   "cell_type": "code",
   "execution_count": 10,
   "id": "886a8a42",
   "metadata": {},
   "outputs": [],
   "source": [
    "def split_data(df_all, train_dates, test_dates):\n",
    "    train = data_split(df_all, *train_dates)\n",
    "    test = data_split(df_all, *test_dates)\n",
    "    return train, test\n",
    "\n",
    "\n",
    "train_df, test_df = split_data(df_all, train_dates, test_dates)"
   ]
  },
  {
   "cell_type": "markdown",
   "id": "1a83bcfe",
   "metadata": {},
   "source": [
    "## Environment setup\n"
   ]
  },
  {
   "cell_type": "markdown",
   "id": "17273f79",
   "metadata": {},
   "source": [
    "- Create instances of the **PortfolioOptimizationEnv** class for both training and testing datasets.\n",
    "- It also wrap the training environment for use with Stable-Baselines3 (SB3).\n"
   ]
  },
  {
   "cell_type": "code",
   "execution_count": 11,
   "id": "1bd7cff4",
   "metadata": {},
   "outputs": [],
   "source": [
    "def initialize_portfolio_env(df):\n",
    "    env = PortfolioOptimizationEnv(\n",
    "        df,\n",
    "        initial_amount=100_000,\n",
    "        comission_fee_pct=0.0025,\n",
    "        time_window=50,\n",
    "        features=[\"close\", \"high\", \"low\"],\n",
    "        normalize_df=None,\n",
    "        new_gym_api=True,\n",
    "    )\n",
    "\n",
    "    env.df = df.reset_index(drop=True)\n",
    "\n",
    "    return env\n",
    "\n",
    "\n",
    "train_env = initialize_portfolio_env(train_df)"
   ]
  },
  {
   "cell_type": "markdown",
   "id": "4ad6387a",
   "metadata": {},
   "source": [
    "## Training\n"
   ]
  },
  {
   "cell_type": "markdown",
   "id": "74879ebb",
   "metadata": {},
   "source": [
    "- Set PolicyGradient algorithm and EIIE architecture arguments\n"
   ]
  },
  {
   "cell_type": "code",
   "execution_count": 12,
   "id": "9b12a71b",
   "metadata": {},
   "outputs": [],
   "source": [
    "model_kwargs = {\"lr\": 0.01, \"policy\": EIIE}\n",
    "# Set EIIE architecture arguments\n",
    "policy_kwargs = {\"k_size\": 3, \"time_window\": 50}\n",
    "\n",
    "model = POAgent(train_env).get_model(\"pg\", device, model_kwargs, policy_kwargs)"
   ]
  },
  {
   "cell_type": "markdown",
   "id": "7ccfbb5b",
   "metadata": {},
   "source": [
    "- Train the model\n"
   ]
  },
  {
   "cell_type": "code",
   "execution_count": 13,
   "id": "6016d769",
   "metadata": {},
   "outputs": [],
   "source": [
    "def train():\n",
    "    start_time = time.time()\n",
    "\n",
    "    trained_model = POAgent.train_model(model, episodes=64)\n",
    "\n",
    "    end_time = time.time()\n",
    "    training_duration = (end_time - start_time) / 60\n",
    "    print(f\"Training completed in {training_duration:.2f} minutes.\")\n",
    "    \n",
    "    return trained_model, training_duration"
   ]
  },
  {
   "cell_type": "code",
   "execution_count": 14,
   "id": "c5e2a9ee",
   "metadata": {},
   "outputs": [],
   "source": [
    "# TODO: Turn to False after first run to avoid retraining and just analyse the results\n",
    "retrain = True\n",
    "\n",
    "model_path = f\"{results_dir}/eeie_pg.pth\""
   ]
  },
  {
   "cell_type": "code",
   "execution_count": 15,
   "id": "fec3c5c0",
   "metadata": {},
   "outputs": [
    {
     "name": "stderr",
     "output_type": "stream",
     "text": [
      "  0%|          | 0/64 [00:00<?, ?it/s]"
     ]
    },
    {
     "name": "stdout",
     "output_type": "stream",
     "text": [
      "=================================\n",
      "Initial portfolio value:100000\n",
      "Final portfolio value: 107874.2578125\n",
      "Final accumulative portfolio value: 1.0787426233291626\n",
      "Maximum DrawDown: -0.7929161734364495\n",
      "Sharpe ratio: 0.19507891462537283\n",
      "=================================\n"
     ]
    },
    {
     "name": "stderr",
     "output_type": "stream",
     "text": [
      "  2%|▏         | 1/64 [00:19<20:48, 19.82s/it]"
     ]
    },
    {
     "name": "stdout",
     "output_type": "stream",
     "text": [
      "=================================\n",
      "Initial portfolio value:100000\n",
      "Final portfolio value: 138992.359375\n",
      "Final accumulative portfolio value: 1.3899235725402832\n",
      "Maximum DrawDown: -0.7925547255127522\n",
      "Sharpe ratio: 0.30922270137187335\n",
      "=================================\n"
     ]
    },
    {
     "name": "stderr",
     "output_type": "stream",
     "text": [
      "  3%|▎         | 2/64 [00:40<20:57, 20.28s/it]"
     ]
    },
    {
     "name": "stdout",
     "output_type": "stream",
     "text": [
      "=================================\n",
      "Initial portfolio value:100000\n",
      "Final portfolio value: 201053.59375\n",
      "Final accumulative portfolio value: 2.010535955429077\n",
      "Maximum DrawDown: -0.7792005882921816\n",
      "Sharpe ratio: 0.46055272806645364\n",
      "=================================\n"
     ]
    },
    {
     "name": "stderr",
     "output_type": "stream",
     "text": [
      "  5%|▍         | 3/64 [01:00<20:21, 20.02s/it]"
     ]
    },
    {
     "name": "stdout",
     "output_type": "stream",
     "text": [
      "=================================\n",
      "Initial portfolio value:100000\n",
      "Final portfolio value: 205132.453125\n",
      "Final accumulative portfolio value: 2.0513246059417725\n",
      "Maximum DrawDown: -0.7792005717466592\n",
      "Sharpe ratio: 0.4686240084875953\n",
      "=================================\n"
     ]
    },
    {
     "name": "stderr",
     "output_type": "stream",
     "text": [
      "  6%|▋         | 4/64 [01:18<19:29, 19.49s/it]"
     ]
    },
    {
     "name": "stdout",
     "output_type": "stream",
     "text": [
      "=================================\n",
      "Initial portfolio value:100000\n",
      "Final portfolio value: 153383.953125\n",
      "Final accumulative portfolio value: 1.5338395833969116\n",
      "Maximum DrawDown: -0.7808868737544259\n",
      "Sharpe ratio: 0.3528344888131361\n",
      "=================================\n"
     ]
    },
    {
     "name": "stderr",
     "output_type": "stream",
     "text": [
      "  8%|▊         | 5/64 [01:37<18:42, 19.03s/it]"
     ]
    },
    {
     "name": "stdout",
     "output_type": "stream",
     "text": [
      "=================================\n",
      "Initial portfolio value:100000\n",
      "Final portfolio value: 248993.265625\n",
      "Final accumulative portfolio value: 2.4899325370788574\n",
      "Maximum DrawDown: -0.6420589851866174\n",
      "Sharpe ratio: 0.5890528972703165\n",
      "=================================\n"
     ]
    },
    {
     "name": "stderr",
     "output_type": "stream",
     "text": [
      "  9%|▉         | 6/64 [01:55<18:14, 18.87s/it]"
     ]
    },
    {
     "name": "stdout",
     "output_type": "stream",
     "text": [
      "=================================\n",
      "Initial portfolio value:100000\n",
      "Final portfolio value: 151688.296875\n",
      "Final accumulative portfolio value: 1.5168830156326294\n",
      "Maximum DrawDown: -0.7708562057775894\n",
      "Sharpe ratio: 0.3478958436062451\n",
      "=================================\n"
     ]
    },
    {
     "name": "stderr",
     "output_type": "stream",
     "text": [
      " 11%|█         | 7/64 [02:13<17:43, 18.67s/it]"
     ]
    },
    {
     "name": "stdout",
     "output_type": "stream",
     "text": [
      "=================================\n",
      "Initial portfolio value:100000\n",
      "Final portfolio value: 157597.671875\n",
      "Final accumulative portfolio value: 1.5759767293930054\n",
      "Maximum DrawDown: -0.7709596117258932\n",
      "Sharpe ratio: 0.3650870515217914\n",
      "=================================\n"
     ]
    },
    {
     "name": "stderr",
     "output_type": "stream",
     "text": [
      " 12%|█▎        | 8/64 [02:33<17:50, 19.11s/it]"
     ]
    },
    {
     "name": "stdout",
     "output_type": "stream",
     "text": [
      "=================================\n",
      "Initial portfolio value:100000\n",
      "Final portfolio value: 157428.265625\n",
      "Final accumulative portfolio value: 1.5742826461791992\n",
      "Maximum DrawDown: -0.7709620415898746\n",
      "Sharpe ratio: 0.36458455121606065\n",
      "=================================\n"
     ]
    },
    {
     "name": "stderr",
     "output_type": "stream",
     "text": [
      " 14%|█▍        | 9/64 [02:54<18:00, 19.65s/it]"
     ]
    },
    {
     "name": "stdout",
     "output_type": "stream",
     "text": [
      "=================================\n",
      "Initial portfolio value:100000\n",
      "Final portfolio value: 153886.75\n",
      "Final accumulative portfolio value: 1.538867473602295\n",
      "Maximum DrawDown: -0.7772655211520731\n",
      "Sharpe ratio: 0.35433629164018365\n",
      "=================================\n"
     ]
    },
    {
     "name": "stderr",
     "output_type": "stream",
     "text": [
      " 16%|█▌        | 10/64 [03:15<17:58, 19.96s/it]"
     ]
    },
    {
     "name": "stdout",
     "output_type": "stream",
     "text": [
      "=================================\n",
      "Initial portfolio value:100000\n",
      "Final portfolio value: 209826.15625\n",
      "Final accumulative portfolio value: 2.098261594772339\n",
      "Maximum DrawDown: -0.69187789100681\n",
      "Sharpe ratio: 0.49895893877739256\n",
      "=================================\n"
     ]
    },
    {
     "name": "stderr",
     "output_type": "stream",
     "text": [
      " 17%|█▋        | 11/64 [03:35<17:35, 19.91s/it]"
     ]
    },
    {
     "name": "stdout",
     "output_type": "stream",
     "text": [
      "=================================\n",
      "Initial portfolio value:100000\n",
      "Final portfolio value: 201435.9375\n",
      "Final accumulative portfolio value: 2.014359474182129\n",
      "Maximum DrawDown: -0.6919518762975738\n",
      "Sharpe ratio: 0.4802931198641268\n",
      "=================================\n"
     ]
    },
    {
     "name": "stderr",
     "output_type": "stream",
     "text": [
      " 19%|█▉        | 12/64 [03:55<17:14, 19.90s/it]"
     ]
    },
    {
     "name": "stdout",
     "output_type": "stream",
     "text": [
      "=================================\n",
      "Initial portfolio value:100000\n",
      "Final portfolio value: 202528.5\n",
      "Final accumulative portfolio value: 2.025285005569458\n",
      "Maximum DrawDown: -0.6958203468241213\n",
      "Sharpe ratio: 0.48222345688801055\n",
      "=================================\n"
     ]
    },
    {
     "name": "stderr",
     "output_type": "stream",
     "text": [
      " 20%|██        | 13/64 [04:15<16:59, 19.99s/it]"
     ]
    },
    {
     "name": "stdout",
     "output_type": "stream",
     "text": [
      "=================================\n",
      "Initial portfolio value:100000\n",
      "Final portfolio value: 221383.71875\n",
      "Final accumulative portfolio value: 2.213837146759033\n",
      "Maximum DrawDown: -0.6312401997603527\n",
      "Sharpe ratio: 0.530426773663808\n",
      "=================================\n"
     ]
    },
    {
     "name": "stderr",
     "output_type": "stream",
     "text": [
      " 22%|██▏       | 14/64 [04:35<16:37, 19.95s/it]"
     ]
    },
    {
     "name": "stdout",
     "output_type": "stream",
     "text": [
      "=================================\n",
      "Initial portfolio value:100000\n",
      "Final portfolio value: 181346.3125\n",
      "Final accumulative portfolio value: 1.8134630918502808\n",
      "Maximum DrawDown: -0.7181031611425506\n",
      "Sharpe ratio: 0.42872911266192787\n",
      "=================================\n"
     ]
    },
    {
     "name": "stderr",
     "output_type": "stream",
     "text": [
      " 23%|██▎       | 15/64 [04:54<16:14, 19.89s/it]"
     ]
    },
    {
     "name": "stdout",
     "output_type": "stream",
     "text": [
      "=================================\n",
      "Initial portfolio value:100000\n",
      "Final portfolio value: 177675.921875\n",
      "Final accumulative portfolio value: 1.7767592668533325\n",
      "Maximum DrawDown: -0.7404863895161954\n",
      "Sharpe ratio: 0.41873857414621085\n",
      "=================================\n"
     ]
    },
    {
     "name": "stderr",
     "output_type": "stream",
     "text": [
      " 25%|██▌       | 16/64 [05:14<15:53, 19.87s/it]"
     ]
    },
    {
     "name": "stdout",
     "output_type": "stream",
     "text": [
      "=================================\n",
      "Initial portfolio value:100000\n",
      "Final portfolio value: 180232.671875\n",
      "Final accumulative portfolio value: 1.8023266792297363\n",
      "Maximum DrawDown: -0.7410182030771941\n",
      "Sharpe ratio: 0.4251237479093425\n",
      "=================================\n"
     ]
    },
    {
     "name": "stderr",
     "output_type": "stream",
     "text": [
      " 27%|██▋       | 17/64 [05:34<15:31, 19.82s/it]"
     ]
    },
    {
     "name": "stdout",
     "output_type": "stream",
     "text": [
      "=================================\n",
      "Initial portfolio value:100000\n",
      "Final portfolio value: 181098.359375\n",
      "Final accumulative portfolio value: 1.8109835386276245\n",
      "Maximum DrawDown: -0.7404212999227895\n",
      "Sharpe ratio: 0.42726094771294704\n",
      "=================================\n"
     ]
    },
    {
     "name": "stderr",
     "output_type": "stream",
     "text": [
      " 28%|██▊       | 18/64 [05:54<15:11, 19.81s/it]"
     ]
    },
    {
     "name": "stdout",
     "output_type": "stream",
     "text": [
      "=================================\n",
      "Initial portfolio value:100000\n",
      "Final portfolio value: 181916.265625\n",
      "Final accumulative portfolio value: 1.8191626071929932\n",
      "Maximum DrawDown: -0.7404779833328294\n",
      "Sharpe ratio: 0.42928475602029476\n",
      "=================================\n"
     ]
    },
    {
     "name": "stderr",
     "output_type": "stream",
     "text": [
      " 30%|██▉       | 19/64 [06:14<14:53, 19.86s/it]"
     ]
    },
    {
     "name": "stdout",
     "output_type": "stream",
     "text": [
      "=================================\n",
      "Initial portfolio value:100000\n",
      "Final portfolio value: 183585.296875\n",
      "Final accumulative portfolio value: 1.8358529806137085\n",
      "Maximum DrawDown: -0.7404910647668289\n",
      "Sharpe ratio: 0.4333528297645538\n",
      "=================================\n"
     ]
    },
    {
     "name": "stderr",
     "output_type": "stream",
     "text": [
      " 31%|███▏      | 20/64 [06:33<14:32, 19.82s/it]"
     ]
    },
    {
     "name": "stdout",
     "output_type": "stream",
     "text": [
      "=================================\n",
      "Initial portfolio value:100000\n",
      "Final portfolio value: 184672.734375\n",
      "Final accumulative portfolio value: 1.8467273712158203\n",
      "Maximum DrawDown: -0.7405647321086036\n",
      "Sharpe ratio: 0.4360076517380696\n",
      "=================================\n"
     ]
    },
    {
     "name": "stderr",
     "output_type": "stream",
     "text": [
      " 33%|███▎      | 21/64 [06:53<14:09, 19.75s/it]"
     ]
    },
    {
     "name": "stdout",
     "output_type": "stream",
     "text": [
      "=================================\n",
      "Initial portfolio value:100000\n",
      "Final portfolio value: 185935.4375\n",
      "Final accumulative portfolio value: 1.8593543767929077\n",
      "Maximum DrawDown: -0.7405158794579368\n",
      "Sharpe ratio: 0.43904533285169894\n",
      "=================================\n"
     ]
    },
    {
     "name": "stderr",
     "output_type": "stream",
     "text": [
      " 34%|███▍      | 22/64 [07:13<13:49, 19.75s/it]"
     ]
    },
    {
     "name": "stdout",
     "output_type": "stream",
     "text": [
      "=================================\n",
      "Initial portfolio value:100000\n",
      "Final portfolio value: 179780.40625\n",
      "Final accumulative portfolio value: 1.7978041172027588\n",
      "Maximum DrawDown: -0.7495980127375633\n",
      "Sharpe ratio: 0.4243602859848672\n",
      "=================================\n"
     ]
    },
    {
     "name": "stderr",
     "output_type": "stream",
     "text": [
      " 36%|███▌      | 23/64 [07:32<13:28, 19.72s/it]"
     ]
    },
    {
     "name": "stdout",
     "output_type": "stream",
     "text": [
      "=================================\n",
      "Initial portfolio value:100000\n",
      "Final portfolio value: 236143.921875\n",
      "Final accumulative portfolio value: 2.3614392280578613\n",
      "Maximum DrawDown: -0.5832063573009321\n",
      "Sharpe ratio: 0.5638194011221926\n",
      "=================================\n"
     ]
    },
    {
     "name": "stderr",
     "output_type": "stream",
     "text": [
      " 38%|███▊      | 24/64 [07:52<13:08, 19.72s/it]"
     ]
    },
    {
     "name": "stdout",
     "output_type": "stream",
     "text": [
      "=================================\n",
      "Initial portfolio value:100000\n",
      "Final portfolio value: 184709.546875\n",
      "Final accumulative portfolio value: 1.8470954895019531\n",
      "Maximum DrawDown: -0.6326474904337808\n",
      "Sharpe ratio: 0.44530665797570845\n",
      "=================================\n"
     ]
    },
    {
     "name": "stderr",
     "output_type": "stream",
     "text": [
      " 39%|███▉      | 25/64 [08:12<12:50, 19.76s/it]"
     ]
    },
    {
     "name": "stdout",
     "output_type": "stream",
     "text": [
      "=================================\n",
      "Initial portfolio value:100000\n",
      "Final portfolio value: 246983.046875\n",
      "Final accumulative portfolio value: 2.4698305130004883\n",
      "Maximum DrawDown: -0.5818017816335463\n",
      "Sharpe ratio: 0.587134138104813\n",
      "=================================\n"
     ]
    },
    {
     "name": "stderr",
     "output_type": "stream",
     "text": [
      " 41%|████      | 26/64 [08:32<12:31, 19.77s/it]"
     ]
    },
    {
     "name": "stdout",
     "output_type": "stream",
     "text": [
      "=================================\n",
      "Initial portfolio value:100000\n",
      "Final portfolio value: 254736.4375\n",
      "Final accumulative portfolio value: 2.5473644733428955\n",
      "Maximum DrawDown: -0.5835095823212062\n",
      "Sharpe ratio: 0.6015377723372504\n",
      "=================================\n"
     ]
    },
    {
     "name": "stderr",
     "output_type": "stream",
     "text": [
      " 42%|████▏     | 27/64 [08:51<12:11, 19.76s/it]"
     ]
    },
    {
     "name": "stdout",
     "output_type": "stream",
     "text": [
      "=================================\n",
      "Initial portfolio value:100000\n",
      "Final portfolio value: 289683.5625\n",
      "Final accumulative portfolio value: 2.8968355655670166\n",
      "Maximum DrawDown: -0.5828651929876416\n",
      "Sharpe ratio: 0.664709149116109\n",
      "=================================\n"
     ]
    },
    {
     "name": "stderr",
     "output_type": "stream",
     "text": [
      " 44%|████▍     | 28/64 [09:11<11:50, 19.74s/it]"
     ]
    },
    {
     "name": "stdout",
     "output_type": "stream",
     "text": [
      "=================================\n",
      "Initial portfolio value:100000\n",
      "Final portfolio value: 237135.640625\n",
      "Final accumulative portfolio value: 2.37135648727417\n",
      "Maximum DrawDown: -0.6239825611361669\n",
      "Sharpe ratio: 0.5632641956441331\n",
      "=================================\n"
     ]
    },
    {
     "name": "stderr",
     "output_type": "stream",
     "text": [
      " 45%|████▌     | 29/64 [09:31<11:33, 19.82s/it]"
     ]
    },
    {
     "name": "stdout",
     "output_type": "stream",
     "text": [
      "=================================\n",
      "Initial portfolio value:100000\n",
      "Final portfolio value: 265726.125\n",
      "Final accumulative portfolio value: 2.6572611331939697\n",
      "Maximum DrawDown: -0.6240469365820769\n",
      "Sharpe ratio: 0.6179361640038932\n",
      "=================================\n"
     ]
    },
    {
     "name": "stderr",
     "output_type": "stream",
     "text": [
      " 47%|████▋     | 30/64 [09:51<11:15, 19.85s/it]"
     ]
    },
    {
     "name": "stdout",
     "output_type": "stream",
     "text": [
      "=================================\n",
      "Initial portfolio value:100000\n",
      "Final portfolio value: 282626.3125\n",
      "Final accumulative portfolio value: 2.826263189315796\n",
      "Maximum DrawDown: -0.5818158527499342\n",
      "Sharpe ratio: 0.6520008918255972\n",
      "=================================\n"
     ]
    },
    {
     "name": "stderr",
     "output_type": "stream",
     "text": [
      " 48%|████▊     | 31/64 [10:11<10:56, 19.90s/it]"
     ]
    },
    {
     "name": "stdout",
     "output_type": "stream",
     "text": [
      "=================================\n",
      "Initial portfolio value:100000\n",
      "Final portfolio value: 269293.875\n",
      "Final accumulative portfolio value: 2.692938804626465\n",
      "Maximum DrawDown: -0.624041580705016\n",
      "Sharpe ratio: 0.6243586816797493\n",
      "=================================\n"
     ]
    },
    {
     "name": "stderr",
     "output_type": "stream",
     "text": [
      " 50%|█████     | 32/64 [10:30<10:29, 19.68s/it]"
     ]
    },
    {
     "name": "stdout",
     "output_type": "stream",
     "text": [
      "=================================\n",
      "Initial portfolio value:100000\n",
      "Final portfolio value: 259278.015625\n",
      "Final accumulative portfolio value: 2.592780113220215\n",
      "Maximum DrawDown: -0.6240329347694776\n",
      "Sharpe ratio: 0.6056476758454732\n",
      "=================================\n"
     ]
    },
    {
     "name": "stderr",
     "output_type": "stream",
     "text": [
      " 52%|█████▏    | 33/64 [10:49<10:05, 19.54s/it]"
     ]
    },
    {
     "name": "stdout",
     "output_type": "stream",
     "text": [
      "=================================\n",
      "Initial portfolio value:100000\n",
      "Final portfolio value: 266946.21875\n",
      "Final accumulative portfolio value: 2.669462203979492\n",
      "Maximum DrawDown: -0.6200611184914675\n",
      "Sharpe ratio: 0.6204751934833739\n",
      "=================================\n"
     ]
    },
    {
     "name": "stderr",
     "output_type": "stream",
     "text": [
      " 53%|█████▎    | 34/64 [11:09<09:43, 19.43s/it]"
     ]
    },
    {
     "name": "stdout",
     "output_type": "stream",
     "text": [
      "=================================\n",
      "Initial portfolio value:100000\n",
      "Final portfolio value: 283704.5\n",
      "Final accumulative portfolio value: 2.8370449542999268\n",
      "Maximum DrawDown: -0.5834938955085059\n",
      "Sharpe ratio: 0.6538738307245306\n",
      "=================================\n"
     ]
    },
    {
     "name": "stderr",
     "output_type": "stream",
     "text": [
      " 55%|█████▍    | 35/64 [11:28<09:21, 19.36s/it]"
     ]
    },
    {
     "name": "stdout",
     "output_type": "stream",
     "text": [
      "=================================\n",
      "Initial portfolio value:100000\n",
      "Final portfolio value: 297965.40625\n",
      "Final accumulative portfolio value: 2.97965407371521\n",
      "Maximum DrawDown: -0.5818740784097111\n",
      "Sharpe ratio: 0.6776486462841828\n",
      "=================================\n"
     ]
    },
    {
     "name": "stderr",
     "output_type": "stream",
     "text": [
      " 56%|█████▋    | 36/64 [11:47<08:58, 19.25s/it]"
     ]
    },
    {
     "name": "stdout",
     "output_type": "stream",
     "text": [
      "=================================\n",
      "Initial portfolio value:100000\n",
      "Final portfolio value: 229405.328125\n",
      "Final accumulative portfolio value: 2.294053316116333\n",
      "Maximum DrawDown: -0.5959091397701067\n",
      "Sharpe ratio: 0.5498734265999158\n",
      "=================================\n"
     ]
    },
    {
     "name": "stderr",
     "output_type": "stream",
     "text": [
      " 58%|█████▊    | 37/64 [12:06<08:36, 19.14s/it]"
     ]
    },
    {
     "name": "stdout",
     "output_type": "stream",
     "text": [
      "=================================\n",
      "Initial portfolio value:100000\n",
      "Final portfolio value: 164548.515625\n",
      "Final accumulative portfolio value: 1.6454851627349854\n",
      "Maximum DrawDown: -0.4697440303621806\n",
      "Sharpe ratio: 0.38968583026812215\n",
      "=================================\n"
     ]
    },
    {
     "name": "stderr",
     "output_type": "stream",
     "text": [
      " 59%|█████▉    | 38/64 [12:25<08:15, 19.06s/it]"
     ]
    },
    {
     "name": "stdout",
     "output_type": "stream",
     "text": [
      "=================================\n",
      "Initial portfolio value:100000\n",
      "Final portfolio value: 275043.65625\n",
      "Final accumulative portfolio value: 2.750436544418335\n",
      "Maximum DrawDown: -0.5835903671199432\n",
      "Sharpe ratio: 0.6391150170842544\n",
      "=================================\n"
     ]
    },
    {
     "name": "stderr",
     "output_type": "stream",
     "text": [
      " 61%|██████    | 39/64 [12:44<07:56, 19.04s/it]"
     ]
    },
    {
     "name": "stdout",
     "output_type": "stream",
     "text": [
      "=================================\n",
      "Initial portfolio value:100000\n",
      "Final portfolio value: 293265.96875\n",
      "Final accumulative portfolio value: 2.93265962600708\n",
      "Maximum DrawDown: -0.5820103268764711\n",
      "Sharpe ratio: 0.6701769787997367\n",
      "=================================\n"
     ]
    },
    {
     "name": "stderr",
     "output_type": "stream",
     "text": [
      " 62%|██████▎   | 40/64 [13:03<07:38, 19.09s/it]"
     ]
    },
    {
     "name": "stdout",
     "output_type": "stream",
     "text": [
      "=================================\n",
      "Initial portfolio value:100000\n",
      "Final portfolio value: 289786.3125\n",
      "Final accumulative portfolio value: 2.8978631496429443\n",
      "Maximum DrawDown: -0.5818127713444285\n",
      "Sharpe ratio: 0.6644556629126118\n",
      "=================================\n"
     ]
    },
    {
     "name": "stderr",
     "output_type": "stream",
     "text": [
      " 64%|██████▍   | 41/64 [13:22<07:22, 19.26s/it]"
     ]
    },
    {
     "name": "stdout",
     "output_type": "stream",
     "text": [
      "=================================\n",
      "Initial portfolio value:100000\n",
      "Final portfolio value: 291954.40625\n",
      "Final accumulative portfolio value: 2.919543981552124\n",
      "Maximum DrawDown: -0.5819645361251129\n",
      "Sharpe ratio: 0.6680751095931051\n",
      "=================================\n"
     ]
    },
    {
     "name": "stderr",
     "output_type": "stream",
     "text": [
      " 66%|██████▌   | 42/64 [13:42<07:02, 19.22s/it]"
     ]
    },
    {
     "name": "stdout",
     "output_type": "stream",
     "text": [
      "=================================\n",
      "Initial portfolio value:100000\n",
      "Final portfolio value: 297326.875\n",
      "Final accumulative portfolio value: 2.973268747329712\n",
      "Maximum DrawDown: -0.5818014789135066\n",
      "Sharpe ratio: 0.6769228845885991\n",
      "=================================\n"
     ]
    },
    {
     "name": "stderr",
     "output_type": "stream",
     "text": [
      " 67%|██████▋   | 43/64 [14:02<06:49, 19.51s/it]"
     ]
    },
    {
     "name": "stdout",
     "output_type": "stream",
     "text": [
      "=================================\n",
      "Initial portfolio value:100000\n",
      "Final portfolio value: 293744.375\n",
      "Final accumulative portfolio value: 2.937443733215332\n",
      "Maximum DrawDown: -0.5835547149557769\n",
      "Sharpe ratio: 0.6711631532278272\n",
      "=================================\n"
     ]
    },
    {
     "name": "stderr",
     "output_type": "stream",
     "text": [
      " 69%|██████▉   | 44/64 [14:21<06:30, 19.54s/it]"
     ]
    },
    {
     "name": "stdout",
     "output_type": "stream",
     "text": [
      "=================================\n",
      "Initial portfolio value:100000\n",
      "Final portfolio value: 308198.21875\n",
      "Final accumulative portfolio value: 3.081982135772705\n",
      "Maximum DrawDown: -0.5818011162817656\n",
      "Sharpe ratio: 0.6944948116033669\n",
      "=================================\n"
     ]
    },
    {
     "name": "stderr",
     "output_type": "stream",
     "text": [
      " 70%|███████   | 45/64 [14:42<06:15, 19.76s/it]"
     ]
    },
    {
     "name": "stdout",
     "output_type": "stream",
     "text": [
      "=================================\n",
      "Initial portfolio value:100000\n",
      "Final portfolio value: 306698.8125\n",
      "Final accumulative portfolio value: 3.066988229751587\n",
      "Maximum DrawDown: -0.5827024786284498\n",
      "Sharpe ratio: 0.6922520864734529\n",
      "=================================\n"
     ]
    },
    {
     "name": "stderr",
     "output_type": "stream",
     "text": [
      " 72%|███████▏  | 46/64 [15:02<05:56, 19.82s/it]"
     ]
    },
    {
     "name": "stdout",
     "output_type": "stream",
     "text": [
      "=================================\n",
      "Initial portfolio value:100000\n",
      "Final portfolio value: 309182.40625\n",
      "Final accumulative portfolio value: 3.0918240547180176\n",
      "Maximum DrawDown: -0.581801023262563\n",
      "Sharpe ratio: 0.6960571437242027\n",
      "=================================\n"
     ]
    },
    {
     "name": "stderr",
     "output_type": "stream",
     "text": [
      " 73%|███████▎  | 47/64 [15:22<05:38, 19.92s/it]"
     ]
    },
    {
     "name": "stdout",
     "output_type": "stream",
     "text": [
      "=================================\n",
      "Initial portfolio value:100000\n",
      "Final portfolio value: 311908.25\n",
      "Final accumulative portfolio value: 3.119082450866699\n",
      "Maximum DrawDown: -0.5818016203690801\n",
      "Sharpe ratio: 0.7003420843791878\n",
      "=================================\n"
     ]
    },
    {
     "name": "stderr",
     "output_type": "stream",
     "text": [
      " 75%|███████▌  | 48/64 [15:42<05:18, 19.88s/it]"
     ]
    },
    {
     "name": "stdout",
     "output_type": "stream",
     "text": [
      "=================================\n",
      "Initial portfolio value:100000\n",
      "Final portfolio value: 313621.65625\n",
      "Final accumulative portfolio value: 3.136216640472412\n",
      "Maximum DrawDown: -0.5818011283037942\n",
      "Sharpe ratio: 0.702945907643509\n",
      "=================================\n"
     ]
    },
    {
     "name": "stderr",
     "output_type": "stream",
     "text": [
      " 77%|███████▋  | 49/64 [16:02<04:58, 19.93s/it]"
     ]
    },
    {
     "name": "stdout",
     "output_type": "stream",
     "text": [
      "=================================\n",
      "Initial portfolio value:100000\n",
      "Final portfolio value: 315177.34375\n",
      "Final accumulative portfolio value: 3.151773452758789\n",
      "Maximum DrawDown: -0.5818060204575757\n",
      "Sharpe ratio: 0.7053774529099506\n",
      "=================================\n"
     ]
    },
    {
     "name": "stderr",
     "output_type": "stream",
     "text": [
      " 78%|███████▊  | 50/64 [16:22<04:39, 19.98s/it]"
     ]
    },
    {
     "name": "stdout",
     "output_type": "stream",
     "text": [
      "=================================\n",
      "Initial portfolio value:100000\n",
      "Final portfolio value: 315573.09375\n",
      "Final accumulative portfolio value: 3.155730962753296\n",
      "Maximum DrawDown: -0.5818022968787641\n",
      "Sharpe ratio: 0.7060602972940256\n",
      "=================================\n"
     ]
    },
    {
     "name": "stderr",
     "output_type": "stream",
     "text": [
      " 80%|███████▉  | 51/64 [16:43<04:23, 20.28s/it]"
     ]
    },
    {
     "name": "stdout",
     "output_type": "stream",
     "text": [
      "=================================\n",
      "Initial portfolio value:100000\n",
      "Final portfolio value: 317179.1875\n",
      "Final accumulative portfolio value: 3.1717917919158936\n",
      "Maximum DrawDown: -0.581802277184039\n",
      "Sharpe ratio: 0.7084983176110272\n",
      "=================================\n"
     ]
    },
    {
     "name": "stderr",
     "output_type": "stream",
     "text": [
      " 81%|████████▏ | 52/64 [17:03<04:04, 20.36s/it]"
     ]
    },
    {
     "name": "stdout",
     "output_type": "stream",
     "text": [
      "=================================\n",
      "Initial portfolio value:100000\n",
      "Final portfolio value: 318174.34375\n",
      "Final accumulative portfolio value: 3.1817433834075928\n",
      "Maximum DrawDown: -0.5818024471963614\n",
      "Sharpe ratio: 0.7101039365752447\n",
      "=================================\n"
     ]
    },
    {
     "name": "stderr",
     "output_type": "stream",
     "text": [
      " 83%|████████▎ | 53/64 [17:23<03:43, 20.28s/it]"
     ]
    },
    {
     "name": "stdout",
     "output_type": "stream",
     "text": [
      "=================================\n",
      "Initial portfolio value:100000\n",
      "Final portfolio value: 319020.65625\n",
      "Final accumulative portfolio value: 3.190206527709961\n",
      "Maximum DrawDown: -0.5818013129496614\n",
      "Sharpe ratio: 0.7114359721600482\n",
      "=================================\n"
     ]
    },
    {
     "name": "stderr",
     "output_type": "stream",
     "text": [
      " 84%|████████▍ | 54/64 [17:43<03:20, 20.04s/it]"
     ]
    },
    {
     "name": "stdout",
     "output_type": "stream",
     "text": [
      "=================================\n",
      "Initial portfolio value:100000\n",
      "Final portfolio value: 319349.53125\n",
      "Final accumulative portfolio value: 3.193495273590088\n",
      "Maximum DrawDown: -0.5818143292363989\n",
      "Sharpe ratio: 0.7119183744830145\n",
      "=================================\n"
     ]
    },
    {
     "name": "stderr",
     "output_type": "stream",
     "text": [
      " 86%|████████▌ | 55/64 [18:03<03:01, 20.22s/it]"
     ]
    },
    {
     "name": "stdout",
     "output_type": "stream",
     "text": [
      "=================================\n",
      "Initial portfolio value:100000\n",
      "Final portfolio value: 319744.78125\n",
      "Final accumulative portfolio value: 3.1974477767944336\n",
      "Maximum DrawDown: -0.5818176855796264\n",
      "Sharpe ratio: 0.7125999225946723\n",
      "=================================\n"
     ]
    },
    {
     "name": "stderr",
     "output_type": "stream",
     "text": [
      " 88%|████████▊ | 56/64 [18:24<02:42, 20.28s/it]"
     ]
    },
    {
     "name": "stdout",
     "output_type": "stream",
     "text": [
      "=================================\n",
      "Initial portfolio value:100000\n",
      "Final portfolio value: 322243.125\n",
      "Final accumulative portfolio value: 3.222431182861328\n",
      "Maximum DrawDown: -0.5818172470458454\n",
      "Sharpe ratio: 0.7165617937570442\n",
      "=================================\n"
     ]
    },
    {
     "name": "stderr",
     "output_type": "stream",
     "text": [
      " 89%|████████▉ | 57/64 [18:44<02:22, 20.37s/it]"
     ]
    },
    {
     "name": "stdout",
     "output_type": "stream",
     "text": [
      "=================================\n",
      "Initial portfolio value:100000\n",
      "Final portfolio value: 322764.21875\n",
      "Final accumulative portfolio value: 3.227642297744751\n",
      "Maximum DrawDown: -0.5818083707717538\n",
      "Sharpe ratio: 0.7173586124369681\n",
      "=================================\n"
     ]
    },
    {
     "name": "stderr",
     "output_type": "stream",
     "text": [
      " 91%|█████████ | 58/64 [19:04<02:01, 20.25s/it]"
     ]
    },
    {
     "name": "stdout",
     "output_type": "stream",
     "text": [
      "=================================\n",
      "Initial portfolio value:100000\n",
      "Final portfolio value: 321627.1875\n",
      "Final accumulative portfolio value: 3.2162718772888184\n",
      "Maximum DrawDown: -0.5828042724427169\n",
      "Sharpe ratio: 0.7156592280593921\n",
      "=================================\n"
     ]
    },
    {
     "name": "stderr",
     "output_type": "stream",
     "text": [
      " 92%|█████████▏| 59/64 [19:25<01:41, 20.26s/it]"
     ]
    },
    {
     "name": "stdout",
     "output_type": "stream",
     "text": [
      "=================================\n",
      "Initial portfolio value:100000\n",
      "Final portfolio value: 315605.875\n",
      "Final accumulative portfolio value: 3.1560587882995605\n",
      "Maximum DrawDown: -0.5818009301085652\n",
      "Sharpe ratio: 0.7064125134060926\n",
      "=================================\n"
     ]
    },
    {
     "name": "stderr",
     "output_type": "stream",
     "text": [
      " 94%|█████████▍| 60/64 [19:44<01:19, 19.85s/it]"
     ]
    },
    {
     "name": "stdout",
     "output_type": "stream",
     "text": [
      "=================================\n",
      "Initial portfolio value:100000\n",
      "Final portfolio value: 322847.65625\n",
      "Final accumulative portfolio value: 3.2284765243530273\n",
      "Maximum DrawDown: -0.5818010579196992\n",
      "Sharpe ratio: 0.7174816647638119\n",
      "=================================\n"
     ]
    },
    {
     "name": "stderr",
     "output_type": "stream",
     "text": [
      " 95%|█████████▌| 61/64 [20:03<00:59, 19.68s/it]"
     ]
    },
    {
     "name": "stdout",
     "output_type": "stream",
     "text": [
      "=================================\n",
      "Initial portfolio value:100000\n",
      "Final portfolio value: 269437.71875\n",
      "Final accumulative portfolio value: 2.6943771839141846\n",
      "Maximum DrawDown: -0.5835909306372242\n",
      "Sharpe ratio: 0.6293974505132556\n",
      "=================================\n"
     ]
    },
    {
     "name": "stderr",
     "output_type": "stream",
     "text": [
      " 97%|█████████▋| 62/64 [20:22<00:38, 19.45s/it]"
     ]
    },
    {
     "name": "stdout",
     "output_type": "stream",
     "text": [
      "=================================\n",
      "Initial portfolio value:100000\n",
      "Final portfolio value: 237201.828125\n",
      "Final accumulative portfolio value: 2.372018337249756\n",
      "Maximum DrawDown: -0.42045123767925274\n",
      "Sharpe ratio: 0.6681517331803233\n",
      "=================================\n"
     ]
    },
    {
     "name": "stderr",
     "output_type": "stream",
     "text": [
      " 98%|█████████▊| 63/64 [20:41<00:19, 19.39s/it]"
     ]
    },
    {
     "name": "stdout",
     "output_type": "stream",
     "text": [
      "=================================\n",
      "Initial portfolio value:100000\n",
      "Final portfolio value: 234563.171875\n",
      "Final accumulative portfolio value: 2.3456318378448486\n",
      "Maximum DrawDown: -0.3244627326067232\n",
      "Sharpe ratio: 0.7546181583077712\n",
      "=================================\n"
     ]
    },
    {
     "name": "stderr",
     "output_type": "stream",
     "text": [
      "100%|██████████| 64/64 [21:01<00:00, 19.71s/it]"
     ]
    },
    {
     "name": "stdout",
     "output_type": "stream",
     "text": [
      "Training completed in 21.02 minutes.\n"
     ]
    },
    {
     "name": "stderr",
     "output_type": "stream",
     "text": [
      "\n"
     ]
    }
   ],
   "source": [
    "if retrain:\n",
    "    trained_model, training_duration = train()"
   ]
  },
  {
   "cell_type": "code",
   "execution_count": 16,
   "id": "8145512e",
   "metadata": {},
   "outputs": [
    {
     "name": "stdout",
     "output_type": "stream",
     "text": [
      "Model saved to results/models/eiie_pg/eeie_pg.pth\n",
      "Training summary:\n"
     ]
    },
    {
     "data": {
      "application/vnd.microsoft.datawrangler.viewer.v0+json": {
       "columns": [
        {
         "name": "index",
         "rawType": "int64",
         "type": "integer"
        },
        {
         "name": "model",
         "rawType": "object",
         "type": "string"
        },
        {
         "name": "training_duration (min)",
         "rawType": "float64",
         "type": "float"
        }
       ],
       "conversionMethod": "pd.DataFrame",
       "ref": "fcc62ce3-88d6-4821-ab58-19906491d938",
       "rows": [
        [
         "0",
         "EIIE_PG",
         "21.020814768473308"
        ]
       ],
       "shape": {
        "columns": 2,
        "rows": 1
       }
      },
      "text/html": [
       "<div>\n",
       "<style scoped>\n",
       "    .dataframe tbody tr th:only-of-type {\n",
       "        vertical-align: middle;\n",
       "    }\n",
       "\n",
       "    .dataframe tbody tr th {\n",
       "        vertical-align: top;\n",
       "    }\n",
       "\n",
       "    .dataframe thead th {\n",
       "        text-align: right;\n",
       "    }\n",
       "</style>\n",
       "<table border=\"1\" class=\"dataframe\">\n",
       "  <thead>\n",
       "    <tr style=\"text-align: right;\">\n",
       "      <th></th>\n",
       "      <th>model</th>\n",
       "      <th>training_duration (min)</th>\n",
       "    </tr>\n",
       "  </thead>\n",
       "  <tbody>\n",
       "    <tr>\n",
       "      <th>0</th>\n",
       "      <td>EIIE_PG</td>\n",
       "      <td>21.020815</td>\n",
       "    </tr>\n",
       "  </tbody>\n",
       "</table>\n",
       "</div>"
      ],
      "text/plain": [
       "     model  training_duration (min)\n",
       "0  EIIE_PG                21.020815"
      ]
     },
     "metadata": {},
     "output_type": "display_data"
    }
   ],
   "source": [
    "if retrain:\n",
    "    # Save the trained model\n",
    "    torch.save(trained_model.train_policy.state_dict(),model_path)\n",
    "    print(f\"Model saved to {model_path}\")\n",
    "    \n",
    "    # Save training times\n",
    "    training_times_df = pd.DataFrame(\n",
    "        [{\"model\": \"EIIE_PG\", \"training_duration (min)\": training_duration}]\n",
    "    )\n",
    "    training_times_df.to_csv(f\"{results_dir}/training_times.csv\", index=False)\n",
    "\n",
    "    # Display training summary\n",
    "    print(\"Training summary:\")\n",
    "    display(training_times_df)"
   ]
  },
  {
   "cell_type": "markdown",
   "id": "eb7ec26e",
   "metadata": {},
   "source": [
    "## Backtesting\n"
   ]
  },
  {
   "cell_type": "code",
   "execution_count": 17,
   "id": "f4078dd4",
   "metadata": {},
   "outputs": [
    {
     "name": "stdout",
     "output_type": "stream",
     "text": [
      "Model loaded and ready for evaluation.\n",
      "Evaluating model on test data...\n"
     ]
    }
   ],
   "source": [
    "policy = EIIE(time_window=50, device=device)\n",
    "policy.load_state_dict(torch.load(model_path, map_location=device))\n",
    "print(\"Model loaded and ready for evaluation.\")\n",
    "print(\"Evaluating model on test data...\")\n",
    "\n",
    "test_env = initialize_portfolio_env(test_df.reset_index(drop=True))"
   ]
  },
  {
   "cell_type": "code",
   "execution_count": 18,
   "id": "9958d943",
   "metadata": {},
   "outputs": [
    {
     "name": "stdout",
     "output_type": "stream",
     "text": [
      "=================================\n",
      "Initial portfolio value:100000\n",
      "Final portfolio value: 119732.6171875\n",
      "Final accumulative portfolio value: 1.1973261833190918\n",
      "Maximum DrawDown: -0.1449142242493291\n",
      "Sharpe ratio: 0.8137727063514602\n",
      "=================================\n",
      "Collected 450 steps.\n",
      "Rewards: [0.0047187162563204765, 0.0020179639104753733, 0.003721575252711773, 0.0014973392244428396, 0.004121026024222374, -0.007465323433279991, 0.0059018866159021854, 0.001977156847715378, -3.993519385403488e-06, -0.008259997703135014, -0.0019242787966504693, -0.00481696892529726, 0.009269771166145802, -0.003356121713295579, -0.004897227976471186, 0.0028885568026453257, 0.0032169281039386988, 0.0006536492728628218, -0.011283879168331623, -0.005608581472188234, -0.006507784128189087, 0.0012837749673053622, -0.001166666392236948, -0.004834757186472416, 0.006224886979907751, -0.012556014582514763, 0.00748401740565896, 0.006174062378704548, 0.009004461579024792, 0.0019111240981146693, -0.0019392685499042273, 0.001379253575578332, -0.007186664268374443, -0.004825054667890072, -0.00011438785440986976, 0.001649092067964375, 0.002986497012898326, 0.00023100091493688524, -0.0028574124444276094, 0.009127911180257797, -0.007493968587368727, -0.00015200339839793742, -0.00449384143576026, -0.0035104306880384684, -0.012112725526094437, -0.0043022059835493565, 6.97350042173639e-05, -0.01081168930977583, -0.0022266842424869537, 0.002332468517124653, -0.00037689157761633396, -0.0037574940361082554, -0.009327384643256664, 0.0021977098658680916, -0.000846147770062089, 0.006833161227405071, 0.005975122097879648, 0.005105790216475725, 0.0012026942567899823, -0.0029616658575832844, -0.0016876386944204569, 0.00905407965183258, 0.001517931348644197, -0.011059116572141647, -0.006620038766413927, -0.007290649693459272, -0.004572637844830751, 0.009172916412353516, -0.005543069448322058, -0.005646284203976393, -0.009990723803639412, 0.01459611114114523, 0.00573216937482357, 0.004738767631351948, 0.0173282939940691, 0.007136804983019829, 0.00016902448260225356, 0.0017433458706364036, -0.003269527805969119, -0.00533265620470047, 0.009832757525146008, 0.0012506766943261027, 0.014181314036250114, 0.007239300757646561, -0.00247384887188673, 0.001347706071101129, 0.006160318851470947, -0.0019146043341606855, 0.004057983867824078, 0.0035750067327171564, -0.0022734596859663725, 0.001770953880622983, 0.0024204738438129425, 0.011980246752500534, 0.009033524431288242, -0.0010546044213697314, -0.002864585490897298, -0.0008741861092858016, 0.00436318339779973, 0.0030797929503023624, 0.005601898767054081, 0.0027146413922309875, 0.014411765150725842, 0.005671125371009111, 0.001254724687896669, 0.001077905297279358, 0.007613215129822493, -0.013648241758346558, 0.00924567598849535, -0.0008370802388526499, 0.0058070761151611805, 0.0022769258357584476, 0.0013754441170021892, -0.0008667290094308555, 0.0012768696760758758, -0.006897039711475372, -0.0018161328043788671, 0.002156553091481328, 0.006513200234621763, -0.004927057307213545, 0.0023976408410817385, -0.0009401686256751418, -0.0015000024577602744, -0.005905807483941317, -0.005143975373357534, 0.006395586766302586, 0.01105151604861021, 0.003984964452683926, -0.0010190432658419013, -0.004245099611580372, 0.010977118276059628, -0.0013355587143450975, 0.004528149496763945, 0.002357800491154194, -0.009000331163406372, 0.010375253856182098, 0.00014184899919200689, -0.007242858409881592, 0.005679422989487648, 0.0017970141489058733, 0.0024613819550722837, -0.0015663844533264637, 0.004760360810905695, -0.012482743710279465, 0.004072468727827072, 0.009317013435065746, -0.00417680386453867, 0.0008685392094776034, -1.5199299923551735e-05, 0.007883387617766857, 0.0016969341086223722, -0.0036351510789245367, 0.00023457636416424066, -0.0004942446248605847, 0.0009870424401015043, 0.0019509821431711316, -0.0020089049357920885, -0.0070675029419362545, 0.0022093667648732662, 0.002705724909901619, -0.000900435377843678, 0.004067244939506054, 0.004606943577528, 0.00040546778473071754, -0.005701012909412384, -0.0031355852261185646, 0.002173325279727578, 0.00571403419598937, 0.009735013358294964, 0.0035672858357429504, -0.007723577320575714, -0.002282540313899517, -0.0015765929128974676, 0.014248538762331009, 0.002853609621524811, -0.006721264682710171, -0.00890699215233326, -0.005621348507702351, -0.011231677606701851, 0.004995483905076981, -0.0012700870865955949, 0.0012504386249929667, -0.011610173620283604, 0.0011378012131899595, -0.013133141212165356, -0.004724679049104452, -0.0005915125948376954, -0.001996123930439353, 0.0009204680100083351, 0.007390421349555254, 0.004404842853546143, 0.005120971240103245, -0.00019695314404089004, -0.006398901343345642, -0.001287573599256575, 0.004041243344545364, -0.01242384035140276, 0.00026425207033753395, 0.006347139831632376, 0.009469827637076378, 0.0029542872216552496, -0.000761918316129595, 0.0032133632339537144, 0.0064779059030115604, 0.002503596246242523, 0.002490278100594878, 0.002602406544610858, 0.005333243403583765, 0.00505431555211544, 0.0018275955226272345, -0.004822598770260811, -0.0016339650610461831, -0.0035919607616961002, -0.017122289165854454, 0.0019873883575201035, -0.006633658893406391, -0.010092411190271378, -0.0010225634323433042, 0.017307909205555916, -0.002822265261784196, 0.004254457075148821, 3.516612196108326e-05, 0.0017064546700567007, -0.00022604636615142226, 0.001068616984412074, -0.002751436550170183, -0.004877402447164059, -0.0016054875450208783, -0.0009328900487162173, 0.004447093699127436, 0.0037433092948049307, 0.006935806944966316, 0.0020063049159944057, 0.006532978732138872, -0.007357777561992407, -0.0012558236485347152, -0.00645583076402545, -0.007552401628345251, 0.00019131260341964662, 0.0025663794949650764, -0.0016286515165120363, 0.0033762615639716387, -0.0015226267278194427, -0.001649786252528429, 0.010899649932980537, 0.001534000039100647, 0.006021809298545122, 0.002466971054673195, 0.013664750382304192, 0.007468399126082659, -0.01060341764241457, -0.010768910869956017, 0.002010706812143326, -0.0035992588382214308, -0.009200628846883774, 0.0033229156397283077, 0.018304944038391113, -2.1636720703099854e-05, 0.002554013393819332, 0.0005472592893056571, -0.010557576082646847, -0.018940960988402367, -0.027297761291265488, 0.005797120276838541, -0.006531422026455402, 0.017680536955595016, -0.00019421079196035862, -0.006226032972335815, 0.011251452378928661, 0.003480450250208378, 0.017497343942523003, 0.005016478709876537, 0.006166598293930292, -0.002050474053248763, 0.0028832077514380217, -0.005933688022196293, 0.010558576323091984, 0.0028033265843987465, -0.002288633957505226, -0.0047902571968734264, 0.005686179269105196, 0.008367007598280907, -0.015493531711399555, -0.0027791697066277266, -0.004772110842168331, -0.009314088150858879, 0.011070851236581802, -0.0019501973874866962, 0.002529280725866556, 0.005212763790041208, 0.007989472709596157, 0.00874097365885973, -0.00021799794922117144, -0.003140129381790757, 0.007651308551430702, 0.004579294938594103, 0.0018710264703258872, 0.0019922663923352957, -0.005077715031802654, 0.0063161044381558895, 0.005444223526865244, -0.0006929055671207607, -0.004355843644589186, -0.003102760063484311, -0.004893634468317032, 0.007281550671905279, -0.008588552474975586, 0.0048912158235907555, 0.007956004701554775, -0.0026414082385599613, 0.009729464538395405, 0.00300444383174181, 0.0030797929503023624, 0.008950470015406609, 0.002145609585568309, 0.0017420368967577815, -0.007830321788787842, -0.0044552842155098915, -0.00860364269465208, -0.0056542567908763885, -0.006259200628846884, 0.005776853300631046, -0.004751928150653839, -0.003939749673008919, -0.005519514437764883, 0.006740807089954615, -0.005397974979132414, 0.008686140179634094, 0.02222418040037155, 0.001576372655108571, 0.004794173873960972, 0.003515256568789482, -0.009074429981410503, 0.0026815906167030334, -0.0032426780089735985, -0.0035521220415830612, 0.0035317684523761272, -0.004527670331299305, 0.003073375439271331, 0.009992456994950771, 0.012542770244181156, 0.010262695141136646, 0.00033206192892976105, 0.0004892344586551189, 0.0030928654596209526, -0.002556609222665429, -0.004655451979488134, 0.0013243722496554255, -0.003362820018082857, -0.0019522876245900989, -0.0037609641440212727, 0.004176703747361898, -0.0043207635171711445, -0.0008084464934654534, 0.0005607224884442985, -0.0030530758667737246, -0.0036081718280911446, -0.023208964616060257, -8.273466664832085e-05, 0.00901686679571867, 0.00039772229501977563, 0.0076972078531980515, 0.0033985970076173544, -0.0063555315136909485, -0.011758403852581978, 0.002293933881446719, -0.004107614979147911, 0.006013751961290836, -0.004740429576486349, 0.0012963948538526893, -0.0009914184920489788, -0.0034682026598602533, 0.007247230038046837, 0.003968341741710901, 0.011192984879016876, 0.001660398324020207, 0.0071495878510177135, 0.006106054875999689, 0.002722725737839937, 0.007543530780822039, -0.0026556914672255516, 0.00976511649787426, -0.003508396912366152, 0.0015320956008508801, 0.008032873272895813, -0.01155294943600893, -0.002022283151745796, 0.0007570500019937754, 0.006450308952480555, -0.005728168413043022, -0.008953419514000416, 0.004621183034032583, 0.004680511076003313, 0.0015847040340304375, 0.010130063630640507, -0.004438281059265137, 0.01373671367764473, 0.001364491879940033, -0.006649619434028864, -0.011954429559409618, 0.005674562882632017, 0.005027272272855043, -0.0074868821538984776, 2.7656173188006505e-05, 0.010024204850196838, -0.010557576082646847, -0.01707475259900093, 0.00657573202624917, -0.005790035706013441, 0.008048838004469872, -0.01698029413819313, -0.014602424576878548, -0.002814733888953924, -0.0031717000529170036, 0.012733228504657745, 0.011484701186418533, -0.00438535725697875, 0.005978558212518692, -0.0026182206347584724, -0.0006726261344738305, 0.009028444066643715, -0.002172682899981737, -0.0009529957897029817, -0.0012004425516352057, -0.01439318060874939, 0.009407713077962399, -0.0028975822497159243, 0.00244556600227952, -0.03588702902197838, -0.057818420231342316, -0.009025471284985542, -0.013903443701565266, 0.07326052337884903, -0.027598563581705093, 0.013869691640138626, 0.010178917087614536, -0.004717612639069557, -0.016747156158089638, 0.0026169123593717813, -0.018432781100273132, 0.024110563099384308, 0.00902513600885868, 0.010923940688371658, -0.0025279857218265533, 0.004290779586881399, 0.006134016439318657, 0.0027052494697272778, -0.002218978013843298, 0.013530217111110687, 0.013530217111110687]\n"
     ]
    }
   ],
   "source": [
    "def portfolio_test(env, policy, initial_last_action=None):\n",
    "    obs, _ = env.reset()\n",
    "    obs = np.asarray(obs, dtype=np.float32)\n",
    "\n",
    "    # Initial last_action\n",
    "    if initial_last_action is None:\n",
    "        action_dim = env.action_space.shape[0]\n",
    "        last_action = np.ones(action_dim, dtype=np.float32) / action_dim\n",
    "    else:\n",
    "        last_action = np.asarray(initial_last_action).flatten().astype(np.float32)\n",
    "\n",
    "    done = False\n",
    "    transitions = []\n",
    "\n",
    "    while not done:\n",
    "        # Create batches\n",
    "        obs_batch = obs[None, ...]\n",
    "        la_batch = last_action[None, ...]\n",
    "\n",
    "        # Policy forward\n",
    "        action = policy(obs_batch, la_batch)\n",
    "        action = np.asarray(action).flatten().astype(np.float32)\n",
    "\n",
    "        # Step\n",
    "        next_obs, reward, terminated, truncated, info = env.step(action)\n",
    "        done = bool(terminated or truncated)\n",
    "\n",
    "        next_obs = np.asarray(next_obs, dtype=np.float32)\n",
    "\n",
    "        # Record\n",
    "        transitions.append(\n",
    "            {\n",
    "                \"obs\": obs,\n",
    "                \"last_action\": last_action,\n",
    "                \"action\": action,\n",
    "                \"reward\": float(reward),\n",
    "                \"info\": info,\n",
    "            }\n",
    "        )\n",
    "\n",
    "        # Advance\n",
    "        obs = next_obs\n",
    "        last_action = action\n",
    "\n",
    "    return transitions\n",
    "\n",
    "\n",
    "transitions = portfolio_test(test_env, policy)\n",
    "\n",
    "print(f\"Collected {len(transitions)} steps.\")\n",
    "print(\"Rewards:\", [t[\"reward\"] for t in transitions])"
   ]
  },
  {
   "cell_type": "code",
   "execution_count": 19,
   "id": "0eb2b3fc",
   "metadata": {},
   "outputs": [],
   "source": [
    "# Inspect rewards or info:\n",
    "infosrewards = [t[\"reward\"] for t in transitions]\n",
    "infos = [t[\"info\"] for t in transitions]"
   ]
  },
  {
   "cell_type": "code",
   "execution_count": 20,
   "id": "e8ab395f",
   "metadata": {},
   "outputs": [
    {
     "data": {
      "image/png": "[encoded data removed]",
      "text/plain": [
       "<Figure size 1200x600 with 1 Axes>"
      ]
     },
     "metadata": {},
     "output_type": "display_data"
    }
   ],
   "source": [
    "cumulative_rewards = np.cumsum(infosrewards)\n",
    "\n",
    "# Plot the cumulative rewards curve\n",
    "plt.figure(figsize=(12, 6))\n",
    "plt.plot(cumulative_rewards, label=\"Cumulative Rewards\", color=\"green\")\n",
    "plt.title(\"Cumulative Rewards Curve for EI3 Strategy\")\n",
    "plt.xlabel(\"Time Step\")\n",
    "plt.ylabel(\"Cumulative Reward\")\n",
    "plt.legend()\n",
    "plt.grid(True)\n",
    "plt.tight_layout()\n",
    "plt.show()\n",
    "plt.close()"
   ]
  },
  {
   "cell_type": "markdown",
   "id": "3945e551",
   "metadata": {},
   "source": [
    "## Benchmarks\n"
   ]
  },
  {
   "cell_type": "code",
   "execution_count": 21,
   "id": "335b3391",
   "metadata": {},
   "outputs": [],
   "source": [
    "# Get portfolio values\n",
    "eiie_values = test_env._asset_memory[\"final\"]\n",
    "bh_values = []"
   ]
  },
  {
   "cell_type": "code",
   "execution_count": 22,
   "id": "1367ea3a",
   "metadata": {},
   "outputs": [
    {
     "name": "stdout",
     "output_type": "stream",
     "text": [
      "=================================\n",
      "Initial portfolio value:100000\n",
      "Final portfolio value: 119504.4296875\n",
      "Final accumulative portfolio value: 1.1950442790985107\n",
      "Maximum DrawDown: -0.1432936109319084\n",
      "Sharpe ratio: 0.8138792090179802\n",
      "=================================\n"
     ]
    }
   ],
   "source": [
    "# Calculate Buy & Hold\n",
    "test_env.reset()\n",
    "action = [1 / len(tickers)] * len(tickers)\n",
    "done = False\n",
    "while not done:  # Use test_env._done to check episode completion\n",
    "    test_obs, rewards, terminated, truncated, info = test_env.step(action)\n",
    "    done = terminated or truncated\n",
    "    bh_values.append(test_env._portfolio_value)"
   ]
  },
  {
   "cell_type": "code",
   "execution_count": 23,
   "id": "9afb48b3",
   "metadata": {},
   "outputs": [],
   "source": [
    "risk_free_rate = 0.043  # 4.3% annualized"
   ]
  },
  {
   "cell_type": "code",
   "execution_count": 24,
   "id": "5a147661",
   "metadata": {},
   "outputs": [],
   "source": [
    "# Calculate metrics\n",
    "def calculate_metrics(values, risk_free_rate):\n",
    "    returns = pd.Series(values).pct_change().dropna()\n",
    "    cumulative_return = (values[-1] / values[0]) - 1\n",
    "    annualized_return = (1 + cumulative_return) ** (252 / len(returns)) - 1\n",
    "    volatility = returns.std() * np.sqrt(252)\n",
    "    sharpe_ratio = (annualized_return - risk_free_rate) / volatility\n",
    "    max_drawdown = (values / np.maximum.accumulate(values) - 1).min()\n",
    "\n",
    "    return {\n",
    "        \"Cumulative Return\": cumulative_return,\n",
    "        \"Annualized Return\": annualized_return,\n",
    "        \"Volatility\": volatility,\n",
    "        \"Sharpe Ratio\": sharpe_ratio,\n",
    "        \"Max Drawdown\": max_drawdown,\n",
    "    }\n",
    "\n",
    "\n",
    "eiie_metrics = calculate_metrics(eiie_values, risk_free_rate)\n",
    "bh_metrics = calculate_metrics(bh_values, risk_free_rate)"
   ]
  },
  {
   "cell_type": "code",
   "execution_count": 25,
   "id": "deea7dcc",
   "metadata": {},
   "outputs": [],
   "source": [
    "metrics = [\n",
    "    \"Cumulative Return\",\n",
    "    \"Annualized Return\",\n",
    "    \"Volatility\",\n",
    "    \"Sharpe Ratio\",\n",
    "    \"Max Drawdown\",\n",
    "]\n",
    "\n",
    "metrics_df = pd.DataFrame(\n",
    "    {\n",
    "        \"Metric\": metrics,\n",
    "        \"EIIE\": [eiie_metrics[m] for m in metrics],\n",
    "        \"Buy & Hold\": [bh_metrics[m] for m in metrics],\n",
    "    }\n",
    ")"
   ]
  },
  {
   "cell_type": "markdown",
   "id": "7c912897",
   "metadata": {},
   "source": [
    "## Performance Summary\n"
   ]
  },
  {
   "cell_type": "code",
   "execution_count": 26,
   "id": "4a516382",
   "metadata": {},
   "outputs": [
    {
     "data": {
      "image/png": "[encoded data removed]",
      "text/plain": [
       "<Figure size 1200x600 with 1 Axes>"
      ]
     },
     "metadata": {},
     "output_type": "display_data"
    }
   ],
   "source": [
    "# Plot results\n",
    "plt.figure(figsize=(12, 6))\n",
    "# plt.subplot(1, 2, 1)\n",
    "plt.plot(eiie_values, label=\"EIIE Strategy\")\n",
    "plt.plot(bh_values, label=\"Buy & Hold\", linestyle=\"--\")\n",
    "plt.title(\"Portfolio Value Comparison\")\n",
    "plt.xlabel(\"Days\")\n",
    "plt.ylabel(\"Portfolio Value ($)\")\n",
    "plt.legend()\n",
    "plt.show()\n",
    "plt.close()"
   ]
  },
  {
   "cell_type": "code",
   "execution_count": 27,
   "id": "a266f3b6",
   "metadata": {},
   "outputs": [
    {
     "data": {
      "image/png": "[encoded data removed]",
      "text/plain": [
       "<Figure size 1200x600 with 1 Axes>"
      ]
     },
     "metadata": {},
     "output_type": "display_data"
    }
   ],
   "source": [
    "plt.figure(figsize=(12, 6))\n",
    "metrics_df.set_index(\"Metric\").plot(kind=\"bar\", ax=plt.gca())\n",
    "plt.title(\"Performance Metrics Comparison\")\n",
    "plt.xticks(rotation=45)\n",
    "plt.tight_layout()\n",
    "plt.show()\n",
    "plt.close()"
   ]
  },
  {
   "cell_type": "code",
   "execution_count": 28,
   "id": "19c0545f",
   "metadata": {},
   "outputs": [
    {
     "name": "stdout",
     "output_type": "stream",
     "text": [
      "\n",
      "Performance Metrics:\n"
     ]
    },
    {
     "data": {
      "text/html": [
       "<style type=\"text/css\">\n",
       "</style>\n",
       "<table id=\"T_70811\">\n",
       "  <thead>\n",
       "    <tr>\n",
       "      <th class=\"blank level0\" >&nbsp;</th>\n",
       "      <th id=\"T_70811_level0_col0\" class=\"col_heading level0 col0\" >Metric</th>\n",
       "      <th id=\"T_70811_level0_col1\" class=\"col_heading level0 col1\" >EIIE</th>\n",
       "      <th id=\"T_70811_level0_col2\" class=\"col_heading level0 col2\" >Buy & Hold</th>\n",
       "    </tr>\n",
       "  </thead>\n",
       "  <tbody>\n",
       "    <tr>\n",
       "      <th id=\"T_70811_level0_row0\" class=\"row_heading level0 row0\" >0</th>\n",
       "      <td id=\"T_70811_row0_col0\" class=\"data row0 col0\" >Cumulative Return</td>\n",
       "      <td id=\"T_70811_row0_col1\" class=\"data row0 col1\" >19.73%</td>\n",
       "      <td id=\"T_70811_row0_col2\" class=\"data row0 col2\" >18.95%</td>\n",
       "    </tr>\n",
       "    <tr>\n",
       "      <th id=\"T_70811_level0_row1\" class=\"row_heading level0 row1\" >1</th>\n",
       "      <td id=\"T_70811_row1_col0\" class=\"data row1 col0\" >Annualized Return</td>\n",
       "      <td id=\"T_70811_row1_col1\" class=\"data row1 col1\" >10.64%</td>\n",
       "      <td id=\"T_70811_row1_col2\" class=\"data row1 col2\" >10.23%</td>\n",
       "    </tr>\n",
       "    <tr>\n",
       "      <th id=\"T_70811_level0_row2\" class=\"row_heading level0 row2\" >2</th>\n",
       "      <td id=\"T_70811_row2_col0\" class=\"data row2 col0\" >Volatility</td>\n",
       "      <td id=\"T_70811_row2_col1\" class=\"data row2 col1\" >13.53%</td>\n",
       "      <td id=\"T_70811_row2_col2\" class=\"data row2 col2\" >13.36%</td>\n",
       "    </tr>\n",
       "    <tr>\n",
       "      <th id=\"T_70811_level0_row3\" class=\"row_heading level0 row3\" >3</th>\n",
       "      <td id=\"T_70811_row3_col0\" class=\"data row3 col0\" >Sharpe Ratio</td>\n",
       "      <td id=\"T_70811_row3_col1\" class=\"data row3 col1\" >46.84%</td>\n",
       "      <td id=\"T_70811_row3_col2\" class=\"data row3 col2\" >44.37%</td>\n",
       "    </tr>\n",
       "    <tr>\n",
       "      <th id=\"T_70811_level0_row4\" class=\"row_heading level0 row4\" >4</th>\n",
       "      <td id=\"T_70811_row4_col0\" class=\"data row4 col0\" >Max Drawdown</td>\n",
       "      <td id=\"T_70811_row4_col1\" class=\"data row4 col1\" >-14.49%</td>\n",
       "      <td id=\"T_70811_row4_col2\" class=\"data row4 col2\" >-14.33%</td>\n",
       "    </tr>\n",
       "  </tbody>\n",
       "</table>\n"
      ],
      "text/plain": [
       "<pandas.io.formats.style.Styler at 0x35914cc80>"
      ]
     },
     "metadata": {},
     "output_type": "display_data"
    }
   ],
   "source": [
    "# Display metrics\n",
    "print(\"\\nPerformance Metrics:\")\n",
    "display(\n",
    "    metrics_df.style.format(\n",
    "        {\n",
    "            \"EIIE\": \"{:.2%}\",\n",
    "            \"Buy & Hold\": \"{:.2%}\",\n",
    "            \"Sharpe Ratio\": \"{:.2f}\",\n",
    "            \"Volatility\": \"{:.2%}\",\n",
    "        }\n",
    "    )\n",
    ")"
   ]
  },
  {
   "cell_type": "code",
   "execution_count": 29,
   "id": "9415f2ec",
   "metadata": {},
   "outputs": [
    {
     "name": "stdout",
     "output_type": "stream",
     "text": [
      "\n",
      "Optimal Weights from Sharpe Ratio Optimization:\n",
      "AXP: 22.81%\n",
      "AMGN: 0.00%\n",
      "AAPL: 0.00%\n",
      "BA: 0.00%\n",
      "CAT: 3.58%\n",
      "CSCO: 0.00%\n",
      "CVX: 0.00%\n",
      "GS: 0.00%\n",
      "HD: 0.00%\n",
      "HON: 0.00%\n",
      "IBM: 6.72%\n",
      "INTC: 0.00%\n",
      "JNJ: 0.00%\n",
      "KO: 0.00%\n",
      "JPM: 0.00%\n",
      "MCD: 0.00%\n",
      "MMM: 0.00%\n",
      "MRK: 0.00%\n",
      "MSFT: 0.00%\n",
      "NKE: 0.00%\n",
      "PG: 0.00%\n",
      "TRV: 14.00%\n",
      "UNH: 0.00%\n",
      "CRM: 0.00%\n",
      "VZ: 0.00%\n",
      "V: 0.00%\n",
      "WBA: 0.00%\n",
      "WMT: 0.00%\n",
      "DIS: 0.00%\n",
      "DOW: 52.89%\n"
     ]
    }
   ],
   "source": [
    "# Additional Sharpe ratio optimization\n",
    "log_returns = raw_df.pivot_table(index=\"date\", columns=\"tic\", values=\"close\")\n",
    "log_returns = np.log(log_returns.pct_change() + 1).dropna()\n",
    "cov_matrix = log_returns.cov() * 252\n",
    "\n",
    "\n",
    "def negative_sharpe(weights):\n",
    "    port_return = np.dot(weights, log_returns.mean()) * 252\n",
    "    port_vol = np.sqrt(weights.T @ cov_matrix @ weights)\n",
    "    return -(port_return - risk_free_rate) / port_vol\n",
    "\n",
    "\n",
    "constraints = {\"type\": \"eq\", \"fun\": lambda x: np.sum(x) - 1}\n",
    "bounds = [(0, 1) for _ in tickers]\n",
    "initial_weights = np.array([1 / len(tickers)] * len(tickers))\n",
    "\n",
    "result = minimize(\n",
    "    negative_sharpe,\n",
    "    initial_weights,\n",
    "    method=\"SLSQP\",\n",
    "    bounds=bounds,\n",
    "    constraints=constraints,\n",
    ")\n",
    "\n",
    "print(\"\\nOptimal Weights from Sharpe Ratio Optimization:\")\n",
    "for ticker, weight in zip(tickers, result.x):\n",
    "    print(f\"{ticker}: {weight:.2%}\")"
   ]
  }
 ],
 "metadata": {
  "kernelspec": {
   "display_name": "portfolio_opt",
   "language": "python",
   "name": "python3"
  },
  "language_info": {
   "codemirror_mode": {
    "name": "ipython",
    "version": 3
   },
   "file_extension": ".py",
   "mimetype": "text/x-python",
   "name": "python",
   "nbconvert_exporter": "python",
   "pygments_lexer": "ipython3",
   "version": "3.12.10"
  }
 },
 "nbformat": 4,
 "nbformat_minor": 5
}
