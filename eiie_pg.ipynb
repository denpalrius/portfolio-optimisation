{
 "cells": [
  {
   "cell_type": "markdown",
   "id": "0e1c5a8a",
   "metadata": {},
   "source": [
    "# Deep Reinforcement Learning for Portfolio Optimization - EIIE Architecture\n"
   ]
  },
  {
   "cell_type": "markdown",
   "id": "7e9f8e10",
   "metadata": {},
   "source": [
    "This experiement demonstrates the application of deep reinforcement learning (DRL) techniques for portfolio optimization.\n",
    "\n",
    "\n",
    "- Policy network architecture: **EIIE backbone**\n",
    "- Compares `A2C`, `PPO`, `SAC`, `DDPG`, `TD3` all with simple MLPs"
   ]
  },
  {
   "cell_type": "markdown",
   "id": "b8dfb03e",
   "metadata": {},
   "source": [
    "## Dependencies\n"
   ]
  },
  {
   "cell_type": "code",
   "execution_count": 1,
   "id": "b8f91ee1",
   "metadata": {},
   "outputs": [],
   "source": [
    "# ! pip install pandas numpy matplotlib \\\n",
    "#                stable-baselines3 \\\n",
    "#                PyPortfolioOpt \\\n",
    "#                pandas_market_calendars quantstats gymnasium \\\n",
    "#                git+https://github.com/AI4Finance-Foundation/FinRL.git -q"
   ]
  },
  {
   "cell_type": "code",
   "execution_count": 2,
   "id": "51776d45",
   "metadata": {},
   "outputs": [],
   "source": [
    "import os\n",
    "import time\n",
    "import pandas as pd\n",
    "import numpy as np\n",
    "import matplotlib.pyplot as plt\n",
    "import seaborn as sns\n",
    "from datetime import datetime, timedelta\n",
    "\n",
    "from scipy.optimize import minimize\n",
    "\n",
    "import torch\n",
    "\n",
    "from finrl import config_tickers\n",
    "from finrl.meta.preprocessor.yahoodownloader import YahooDownloader\n",
    "from finrl.meta.preprocessor.preprocessors import FeatureEngineer, data_split\n",
    "from finrl.meta.env_portfolio_optimization.env_portfolio_optimization import (\n",
    "    PortfolioOptimizationEnv,\n",
    ")\n",
    "from finrl.agents.portfolio_optimization.models import DRLAgent as POAgent\n",
    "from finrl.agents.portfolio_optimization.architectures import EIIE"
   ]
  },
  {
   "cell_type": "code",
   "execution_count": 3,
   "id": "9e5cf3e3",
   "metadata": {},
   "outputs": [],
   "source": [
    "import warnings\n",
    "\n",
    "warnings.filterwarnings(\"ignore\", category=FutureWarning)\n",
    "\n",
    "%matplotlib inline"
   ]
  },
  {
   "cell_type": "code",
   "execution_count": 4,
   "id": "1d8f66f9",
   "metadata": {},
   "outputs": [
    {
     "name": "stdout",
     "output_type": "stream",
     "text": [
      "Using device: cpu\n"
     ]
    }
   ],
   "source": [
    "device = torch.device(\"cuda\" if torch.cuda.is_available() else \"cpu\")\n",
    "print(f\"Using device: {device}\")"
   ]
  },
  {
   "cell_type": "code",
   "execution_count": 5,
   "id": "f3e16a19",
   "metadata": {},
   "outputs": [],
   "source": [
    "experiment_name = \"portfolio_optimization_eiie_pg\"\n",
    "results_dir = f\"results/models/{experiment_name}\"\n",
    "os.makedirs(results_dir, exist_ok=True)"
   ]
  },
  {
   "cell_type": "markdown",
   "id": "3c6c1461",
   "metadata": {},
   "source": [
    "## Data loading and pre-processing\n"
   ]
  },
  {
   "cell_type": "markdown",
   "id": "2eefbe65",
   "metadata": {},
   "source": [
    "Define training and trading/test periods\n"
   ]
  },
  {
   "cell_type": "code",
   "execution_count": 6,
   "id": "542703af",
   "metadata": {},
   "outputs": [
    {
     "name": "stdout",
     "output_type": "stream",
     "text": [
      "Training period: ('2013-05-03', '2023-05-01')\n",
      "Testing period: ('2023-05-02', '2025-04-30')\n"
     ]
    }
   ],
   "source": [
    "start_date = \"2015-01-01\"\n",
    "end_date = (datetime.now() - pd.Timedelta(days=1)).strftime(\"%Y-%m-%d\")  # Yesterday\n",
    "\n",
    "trade_period = 2  # 2 years for testing\n",
    "train_period = 10  # 10 years for training\n",
    "\n",
    "train_end_date = (\n",
    "    datetime.strptime(end_date, \"%Y-%m-%d\") - timedelta(days=trade_period * 365)\n",
    ").strftime(\"%Y-%m-%d\")\n",
    "train_start_date = (\n",
    "    datetime.strptime(train_end_date, \"%Y-%m-%d\") - timedelta(days=train_period * 365)\n",
    ").strftime(\"%Y-%m-%d\")\n",
    "test_start_date = (\n",
    "    datetime.strptime(train_end_date, \"%Y-%m-%d\") + timedelta(days=1)\n",
    ").strftime(\"%Y-%m-%d\")\n",
    "\n",
    "train_dates = (train_start_date, train_end_date)\n",
    "test_dates = (test_start_date, end_date)\n",
    "\n",
    "print(f\"Training period: {train_dates}\")\n",
    "print(f\"Testing period: {test_dates}\")"
   ]
  },
  {
   "cell_type": "markdown",
   "id": "a36a425c",
   "metadata": {},
   "source": [
    "- Fetch historical stock data for a given list of tickers within a specified date range.\n",
    "- We use the DOW_30_TICKER stocks\n",
    "- The data includes `date`, `close`, `high`, `low`, `open`, `volume`, and `tic` (ticker symbol).\n"
   ]
  },
  {
   "cell_type": "code",
   "execution_count": 7,
   "id": "46c577ab",
   "metadata": {},
   "outputs": [
    {
     "name": "stdout",
     "output_type": "stream",
     "text": [
      "Downloading 2015-01-01 → 2025-04-30\n"
     ]
    },
    {
     "name": "stderr",
     "output_type": "stream",
     "text": [
      "[*********************100%***********************]  1 of 1 completed\n",
      "[*********************100%***********************]  1 of 1 completed\n",
      "[*********************100%***********************]  1 of 1 completed\n",
      "[*********************100%***********************]  1 of 1 completed\n",
      "[*********************100%***********************]  1 of 1 completed\n",
      "[*********************100%***********************]  1 of 1 completed\n",
      "[*********************100%***********************]  1 of 1 completed\n",
      "[*********************100%***********************]  1 of 1 completed\n",
      "[*********************100%***********************]  1 of 1 completed\n",
      "[*********************100%***********************]  1 of 1 completed\n",
      "[*********************100%***********************]  1 of 1 completed\n",
      "[*********************100%***********************]  1 of 1 completed\n",
      "[*********************100%***********************]  1 of 1 completed\n",
      "[*********************100%***********************]  1 of 1 completed\n",
      "[*********************100%***********************]  1 of 1 completed\n",
      "[*********************100%***********************]  1 of 1 completed\n",
      "[*********************100%***********************]  1 of 1 completed\n",
      "[*********************100%***********************]  1 of 1 completed\n",
      "[*********************100%***********************]  1 of 1 completed\n",
      "[*********************100%***********************]  1 of 1 completed\n",
      "[*********************100%***********************]  1 of 1 completed\n",
      "[*********************100%***********************]  1 of 1 completed\n",
      "[*********************100%***********************]  1 of 1 completed\n",
      "[*********************100%***********************]  1 of 1 completed\n",
      "[*********************100%***********************]  1 of 1 completed\n",
      "[*********************100%***********************]  1 of 1 completed\n",
      "[*********************100%***********************]  1 of 1 completed\n",
      "[*********************100%***********************]  1 of 1 completed\n",
      "[*********************100%***********************]  1 of 1 completed\n",
      "[*********************100%***********************]  1 of 1 completed\n"
     ]
    },
    {
     "name": "stdout",
     "output_type": "stream",
     "text": [
      "Shape of DataFrame:  (76821, 8)\n"
     ]
    }
   ],
   "source": [
    "def download_data(tickers, start_date, end_date):\n",
    "    print(f\"Downloading {start_date} → {end_date}\")\n",
    "    return YahooDownloader(\n",
    "        start_date=start_date, end_date=end_date, ticker_list=tickers\n",
    "    ).fetch_data()\n",
    "\n",
    "tickers = config_tickers.DOW_30_TICKER\n",
    "raw_df = download_data(tickers, start_date, end_date)"
   ]
  },
  {
   "cell_type": "markdown",
   "id": "71bb738f",
   "metadata": {},
   "source": [
    "---\n",
    "\n",
    "### Feature Engineering\n",
    "\n",
    "We apply feature engineering to the dataset of stock data:\n",
    "\n",
    "- Add technical indicators (e.g., moving averages, RSI).\n",
    "- Calculate turbulence indicators, which measure market volatility.\n",
    "\n",
    "This Enhance the dataset with features that are critical for modeling market dynamics and making informed trading decisions.\n"
   ]
  },
  {
   "cell_type": "code",
   "execution_count": 8,
   "id": "47dcd423",
   "metadata": {},
   "outputs": [
    {
     "name": "stdout",
     "output_type": "stream",
     "text": [
      "Successfully added technical indicators\n",
      "Successfully added turbulence index\n"
     ]
    }
   ],
   "source": [
    "def preprocess_data(df):\n",
    "    fe = FeatureEngineer(use_technical_indicator=True, use_turbulence=True)\n",
    "    return fe.preprocess_data(df)\n",
    "\n",
    "df_feat = preprocess_data(raw_df)"
   ]
  },
  {
   "cell_type": "markdown",
   "id": "b6cdeb82",
   "metadata": {},
   "source": [
    "## Covariance & Returns for State\n"
   ]
  },
  {
   "cell_type": "markdown",
   "id": "002710f6",
   "metadata": {},
   "source": [
    "- Calculate the rolling covariance matrices and daily returns for the given dataset of stock prices.\n",
    "- This prepares the state representation (the state of the portfolio) for the RL models in the RL environments for portfolio optimization.\n",
    "- The **rolling covariance matrices** (`cov_list`) capture the relationships between asset returns, while the daily returns (`return_list`) provide information about recent price movements.\n",
    "- These metrics are critical for modeling the dynamics of the financial market and making informed trading decisions.\n"
   ]
  },
  {
   "cell_type": "code",
   "execution_count": 9,
   "id": "48b6f5c1",
   "metadata": {},
   "outputs": [],
   "source": [
    "def compute_covariance_and_returns(df_feat, lookback=252):\n",
    "    df_sorted = df_feat.sort_values([\"date\", \"tic\"], ignore_index=True)\n",
    "    df_sorted.index = df_sorted.date.factorize()[0]\n",
    "    cov_list, return_list = [], []\n",
    "\n",
    "    dates = df_sorted.date.unique()\n",
    "    for i in range(lookback, len(dates)):\n",
    "        win = df_sorted.loc[i - lookback : i]\n",
    "        pm = win.pivot_table(index=\"date\", columns=\"tic\", values=\"close\")\n",
    "        rm = pm.pct_change().dropna()\n",
    "        cov_list.append(rm.cov().values)\n",
    "        return_list.append(rm)\n",
    "    df_cov = pd.DataFrame(\n",
    "        {\"date\": dates[lookback:], \"cov_list\": cov_list, \"return_list\": return_list}\n",
    "    )\n",
    "\n",
    "    return pd.merge(df_feat, df_cov, on=\"date\", how=\"left\").dropna(subset=[\"cov_list\"])\n",
    "\n",
    "\n",
    "df_all = compute_covariance_and_returns(df_feat)"
   ]
  },
  {
   "cell_type": "markdown",
   "id": "91b7d720",
   "metadata": {},
   "source": [
    "## Train/Trade split\n"
   ]
  },
  {
   "cell_type": "code",
   "execution_count": 10,
   "id": "886a8a42",
   "metadata": {},
   "outputs": [],
   "source": [
    "def split_data(df_all, train_dates, test_dates):\n",
    "    train = data_split(df_all, *train_dates)\n",
    "    test = data_split(df_all, *test_dates)\n",
    "    return train, test\n",
    "\n",
    "\n",
    "train_df, test_df = split_data(df_all, train_dates, test_dates)"
   ]
  },
  {
   "cell_type": "markdown",
   "id": "1a83bcfe",
   "metadata": {},
   "source": [
    "## Environment setup\n"
   ]
  },
  {
   "cell_type": "markdown",
   "id": "17273f79",
   "metadata": {},
   "source": [
    "- Create instances of the **PortfolioOptimizationEnv** class for both training and testing datasets.\n",
    "- It also wrap the training environment for use with Stable-Baselines3 (SB3).\n"
   ]
  },
  {
   "cell_type": "code",
   "execution_count": 11,
   "id": "1bd7cff4",
   "metadata": {},
   "outputs": [],
   "source": [
    "def initialize_portfolio_env(df):\n",
    "    env = PortfolioOptimizationEnv(\n",
    "        df,\n",
    "        initial_amount=100_000,\n",
    "        comission_fee_pct=0.0025,\n",
    "        time_window=50,\n",
    "        features=[\"close\", \"high\", \"low\"],\n",
    "        normalize_df=None,\n",
    "        new_gym_api=True,\n",
    "    )\n",
    "\n",
    "    env.df = df.reset_index(drop=True)\n",
    "\n",
    "    return env\n",
    "\n",
    "\n",
    "train_env = initialize_portfolio_env(train_df)"
   ]
  },
  {
   "cell_type": "markdown",
   "id": "4ad6387a",
   "metadata": {},
   "source": [
    "## Training\n"
   ]
  },
  {
   "cell_type": "markdown",
   "id": "74879ebb",
   "metadata": {},
   "source": [
    "- Set PolicyGradient algorithm and EIIE architecture arguments\n"
   ]
  },
  {
   "cell_type": "code",
   "execution_count": 12,
   "id": "9b12a71b",
   "metadata": {},
   "outputs": [],
   "source": [
    "model_kwargs = {\"lr\": 0.01, \"policy\": EIIE}\n",
    "# Set EIIE architecture arguments\n",
    "policy_kwargs = {\"k_size\": 3, \"time_window\": 50}\n",
    "\n",
    "model = POAgent(train_env).get_model(\"pg\", device, model_kwargs, policy_kwargs)"
   ]
  },
  {
   "cell_type": "markdown",
   "id": "7ccfbb5b",
   "metadata": {},
   "source": [
    "- Train the model\n"
   ]
  },
  {
   "cell_type": "code",
   "execution_count": 13,
   "id": "6016d769",
   "metadata": {},
   "outputs": [],
   "source": [
    "def train():\n",
    "    start_time = time.time()\n",
    "\n",
    "    trained_model = POAgent.train_model(model, episodes=64)\n",
    "\n",
    "    end_time = time.time()\n",
    "    training_duration = (end_time - start_time) / 60\n",
    "    print(f\"Training completed in {training_duration:.2f} minutes.\")\n",
    "    \n",
    "    return trained_model, training_duration"
   ]
  },
  {
   "cell_type": "code",
   "execution_count": 14,
   "id": "c5e2a9ee",
   "metadata": {},
   "outputs": [],
   "source": [
    "# TODO: Turn to False after first run to avoid retraining and just analyse the results\n",
    "retrain = True\n",
    "\n",
    "model_path = f\"{results_dir}/eeie_pg.pth\""
   ]
  },
  {
   "cell_type": "code",
   "execution_count": 15,
   "id": "fec3c5c0",
   "metadata": {},
   "outputs": [
    {
     "name": "stderr",
     "output_type": "stream",
     "text": [
      "  0%|          | 0/64 [00:00<?, ?it/s]"
     ]
    },
    {
     "name": "stdout",
     "output_type": "stream",
     "text": [
      "=================================\n",
      "Initial portfolio value:100000\n",
      "Final portfolio value: 241958.03125\n",
      "Final accumulative portfolio value: 2.4195802211761475\n",
      "Maximum DrawDown: -0.32491971472898906\n",
      "Sharpe ratio: 0.779104774752295\n",
      "=================================\n"
     ]
    },
    {
     "name": "stderr",
     "output_type": "stream",
     "text": [
      "  2%|▏         | 1/64 [00:18<19:23, 18.47s/it]"
     ]
    },
    {
     "name": "stdout",
     "output_type": "stream",
     "text": [
      "=================================\n",
      "Initial portfolio value:100000\n",
      "Final portfolio value: 243226.9375\n",
      "Final accumulative portfolio value: 2.432269334793091\n",
      "Maximum DrawDown: -0.326904511907282\n",
      "Sharpe ratio: 0.7790439621415535\n",
      "=================================\n"
     ]
    },
    {
     "name": "stderr",
     "output_type": "stream",
     "text": [
      "  3%|▎         | 2/64 [00:36<18:50, 18.23s/it]"
     ]
    },
    {
     "name": "stdout",
     "output_type": "stream",
     "text": [
      "=================================\n",
      "Initial portfolio value:100000\n",
      "Final portfolio value: 244528.3125\n",
      "Final accumulative portfolio value: 2.4452831745147705\n",
      "Maximum DrawDown: -0.3288396275229466\n",
      "Sharpe ratio: 0.7792173763109954\n",
      "=================================\n"
     ]
    },
    {
     "name": "stderr",
     "output_type": "stream",
     "text": [
      "  6%|▋         | 4/64 [01:13<18:06, 18.11s/it]"
     ]
    },
    {
     "name": "stdout",
     "output_type": "stream",
     "text": [
      "=================================\n",
      "Initial portfolio value:100000\n",
      "Final portfolio value: 245484.40625\n",
      "Final accumulative portfolio value: 2.4548439979553223\n",
      "Maximum DrawDown: -0.3301438515626024\n",
      "Sharpe ratio: 0.7795635325333519\n",
      "=================================\n"
     ]
    },
    {
     "name": "stderr",
     "output_type": "stream",
     "text": [
      "  8%|▊         | 5/64 [01:30<17:38, 17.95s/it]"
     ]
    },
    {
     "name": "stdout",
     "output_type": "stream",
     "text": [
      "=================================\n",
      "Initial portfolio value:100000\n",
      "Final portfolio value: 246011.328125\n",
      "Final accumulative portfolio value: 2.460113286972046\n",
      "Maximum DrawDown: -0.3308241708273558\n",
      "Sharpe ratio: 0.7798182818748524\n",
      "=================================\n",
      "=================================\n",
      "Initial portfolio value:100000\n",
      "Final portfolio value: 246254.90625\n",
      "Final accumulative portfolio value: 2.4625489711761475\n",
      "Maximum DrawDown: -0.3311611136386109\n",
      "Sharpe ratio: 0.7798900085059444\n",
      "=================================\n"
     ]
    },
    {
     "name": "stderr",
     "output_type": "stream",
     "text": [
      "  9%|▉         | 6/64 [01:47<17:07, 17.72s/it]"
     ]
    },
    {
     "name": "stdout",
     "output_type": "stream",
     "text": [
      "=================================\n",
      "Initial portfolio value:100000\n",
      "Final portfolio value: 246388.859375\n",
      "Final accumulative portfolio value: 2.463888645172119\n",
      "Maximum DrawDown: -0.3313350375546169\n",
      "Sharpe ratio: 0.7799478168943206\n",
      "=================================\n"
     ]
    },
    {
     "name": "stderr",
     "output_type": "stream",
     "text": [
      " 11%|█         | 7/64 [02:06<17:00, 17.90s/it]"
     ]
    },
    {
     "name": "stdout",
     "output_type": "stream",
     "text": [
      "=================================\n",
      "Initial portfolio value:100000\n",
      "Final portfolio value: 246469.15625\n",
      "Final accumulative portfolio value: 2.464691638946533\n",
      "Maximum DrawDown: -0.33143565865928737\n",
      "Sharpe ratio: 0.779990986019277\n",
      "=================================\n"
     ]
    },
    {
     "name": "stderr",
     "output_type": "stream",
     "text": [
      " 12%|█▎        | 8/64 [02:24<16:47, 17.99s/it]"
     ]
    },
    {
     "name": "stdout",
     "output_type": "stream",
     "text": [
      "=================================\n",
      "Initial portfolio value:100000\n",
      "Final portfolio value: 246522.359375\n",
      "Final accumulative portfolio value: 2.465223550796509\n",
      "Maximum DrawDown: -0.331499555199669\n",
      "Sharpe ratio: 0.7800268731583969\n",
      "=================================\n"
     ]
    },
    {
     "name": "stderr",
     "output_type": "stream",
     "text": [
      " 14%|█▍        | 9/64 [02:42<16:37, 18.13s/it]"
     ]
    },
    {
     "name": "stdout",
     "output_type": "stream",
     "text": [
      "=================================\n",
      "Initial portfolio value:100000\n",
      "Final portfolio value: 246536.96875\n",
      "Final accumulative portfolio value: 2.465369701385498\n",
      "Maximum DrawDown: -0.3315411230148486\n",
      "Sharpe ratio: 0.7799875101886764\n",
      "=================================\n"
     ]
    },
    {
     "name": "stderr",
     "output_type": "stream",
     "text": [
      " 16%|█▌        | 10/64 [03:00<16:14, 18.04s/it]"
     ]
    },
    {
     "name": "stdout",
     "output_type": "stream",
     "text": [
      "=================================\n",
      "Initial portfolio value:100000\n",
      "Final portfolio value: 246561.453125\n",
      "Final accumulative portfolio value: 2.4656145572662354\n",
      "Maximum DrawDown: -0.33156907558560533\n",
      "Sharpe ratio: 0.7800056167672579\n",
      "=================================\n"
     ]
    },
    {
     "name": "stderr",
     "output_type": "stream",
     "text": [
      " 17%|█▋        | 11/64 [03:18<15:59, 18.10s/it]"
     ]
    },
    {
     "name": "stdout",
     "output_type": "stream",
     "text": [
      "=================================\n",
      "Initial portfolio value:100000\n",
      "Final portfolio value: 246574.671875\n",
      "Final accumulative portfolio value: 2.4657466411590576\n",
      "Maximum DrawDown: -0.3315890711236982\n",
      "Sharpe ratio: 0.7800056350243093\n",
      "=================================\n"
     ]
    },
    {
     "name": "stderr",
     "output_type": "stream",
     "text": [
      " 19%|█▉        | 12/64 [03:36<15:35, 18.00s/it]"
     ]
    },
    {
     "name": "stdout",
     "output_type": "stream",
     "text": [
      "=================================\n",
      "Initial portfolio value:100000\n",
      "Final portfolio value: 246584.96875\n",
      "Final accumulative portfolio value: 2.4658496379852295\n",
      "Maximum DrawDown: -0.33160405440131446\n",
      "Sharpe ratio: 0.7800088857631983\n",
      "=================================\n"
     ]
    },
    {
     "name": "stderr",
     "output_type": "stream",
     "text": [
      " 20%|██        | 13/64 [03:55<15:29, 18.23s/it]"
     ]
    },
    {
     "name": "stdout",
     "output_type": "stream",
     "text": [
      "=================================\n",
      "Initial portfolio value:100000\n",
      "Final portfolio value: 246594.8125\n",
      "Final accumulative portfolio value: 2.4659481048583984\n",
      "Maximum DrawDown: -0.3316153296156046\n",
      "Sharpe ratio: 0.780013359328275\n",
      "=================================\n"
     ]
    },
    {
     "name": "stderr",
     "output_type": "stream",
     "text": [
      " 22%|██▏       | 14/64 [04:14<15:29, 18.59s/it]"
     ]
    },
    {
     "name": "stdout",
     "output_type": "stream",
     "text": [
      "=================================\n",
      "Initial portfolio value:100000\n",
      "Final portfolio value: 246598.328125\n",
      "Final accumulative portfolio value: 2.4659833908081055\n",
      "Maximum DrawDown: -0.3316272626346287\n",
      "Sharpe ratio: 0.7800035054477961\n",
      "=================================\n"
     ]
    },
    {
     "name": "stderr",
     "output_type": "stream",
     "text": [
      " 23%|██▎       | 15/64 [04:34<15:27, 18.94s/it]"
     ]
    },
    {
     "name": "stdout",
     "output_type": "stream",
     "text": [
      "=================================\n",
      "Initial portfolio value:100000\n",
      "Final portfolio value: 246609.703125\n",
      "Final accumulative portfolio value: 2.466097116470337\n",
      "Maximum DrawDown: -0.331633507977533\n",
      "Sharpe ratio: 0.7800230588552564\n",
      "=================================\n"
     ]
    },
    {
     "name": "stderr",
     "output_type": "stream",
     "text": [
      " 25%|██▌       | 16/64 [04:54<15:24, 19.26s/it]"
     ]
    },
    {
     "name": "stdout",
     "output_type": "stream",
     "text": [
      "=================================\n",
      "Initial portfolio value:100000\n",
      "Final portfolio value: 246620.0\n",
      "Final accumulative portfolio value: 2.466200113296509\n",
      "Maximum DrawDown: -0.33164132498710674\n",
      "Sharpe ratio: 0.7800398617380421\n",
      "=================================\n"
     ]
    },
    {
     "name": "stderr",
     "output_type": "stream",
     "text": [
      " 27%|██▋       | 17/64 [05:13<15:01, 19.18s/it]"
     ]
    },
    {
     "name": "stdout",
     "output_type": "stream",
     "text": [
      "=================================\n",
      "Initial portfolio value:100000\n",
      "Final portfolio value: 246618.328125\n",
      "Final accumulative portfolio value: 2.4661831855773926\n",
      "Maximum DrawDown: -0.3316467499730076\n",
      "Sharpe ratio: 0.7800253567938591\n",
      "=================================\n"
     ]
    },
    {
     "name": "stderr",
     "output_type": "stream",
     "text": [
      " 28%|██▊       | 18/64 [05:31<14:25, 18.82s/it]"
     ]
    },
    {
     "name": "stdout",
     "output_type": "stream",
     "text": [
      "=================================\n",
      "Initial portfolio value:100000\n",
      "Final portfolio value: 246615.59375\n",
      "Final accumulative portfolio value: 2.466156005859375\n",
      "Maximum DrawDown: -0.33165165295531485\n",
      "Sharpe ratio: 0.7800066152602805\n",
      "=================================\n"
     ]
    },
    {
     "name": "stderr",
     "output_type": "stream",
     "text": [
      " 30%|██▉       | 19/64 [05:50<14:03, 18.75s/it]"
     ]
    },
    {
     "name": "stdout",
     "output_type": "stream",
     "text": [
      "=================================\n",
      "Initial portfolio value:100000\n",
      "Final portfolio value: 246625.90625\n",
      "Final accumulative portfolio value: 2.466259002685547\n",
      "Maximum DrawDown: -0.33165603836999447\n",
      "Sharpe ratio: 0.7800309455993006\n",
      "=================================\n"
     ]
    },
    {
     "name": "stderr",
     "output_type": "stream",
     "text": [
      " 31%|███▏      | 20/64 [06:07<13:21, 18.21s/it]"
     ]
    },
    {
     "name": "stdout",
     "output_type": "stream",
     "text": [
      "=================================\n",
      "Initial portfolio value:100000\n",
      "Final portfolio value: 246628.1875\n",
      "Final accumulative portfolio value: 2.4662818908691406\n",
      "Maximum DrawDown: -0.33165915616953756\n",
      "Sharpe ratio: 0.7800282563833114\n",
      "=================================\n"
     ]
    },
    {
     "name": "stderr",
     "output_type": "stream",
     "text": [
      " 34%|███▍      | 22/64 [06:42<12:29, 17.85s/it]"
     ]
    },
    {
     "name": "stdout",
     "output_type": "stream",
     "text": [
      "=================================\n",
      "Initial portfolio value:100000\n",
      "Final portfolio value: 246625.46875\n",
      "Final accumulative portfolio value: 2.466254711151123\n",
      "Maximum DrawDown: -0.33166301976375756\n",
      "Sharpe ratio: 0.7800133777888935\n",
      "=================================\n",
      "=================================\n",
      "Initial portfolio value:100000\n",
      "Final portfolio value: 246628.875\n",
      "Final accumulative portfolio value: 2.4662888050079346\n",
      "Maximum DrawDown: -0.3316655800781062\n",
      "Sharpe ratio: 0.7800202707516376\n",
      "=================================\n"
     ]
    },
    {
     "name": "stderr",
     "output_type": "stream",
     "text": [
      " 38%|███▊      | 24/64 [07:16<11:35, 17.39s/it]"
     ]
    },
    {
     "name": "stdout",
     "output_type": "stream",
     "text": [
      "=================================\n",
      "Initial portfolio value:100000\n",
      "Final portfolio value: 246630.40625\n",
      "Final accumulative portfolio value: 2.466304063796997\n",
      "Maximum DrawDown: -0.3316662137451547\n",
      "Sharpe ratio: 0.7800234773689273\n",
      "=================================\n"
     ]
    },
    {
     "name": "stderr",
     "output_type": "stream",
     "text": [
      " 39%|███▉      | 25/64 [07:32<11:09, 17.16s/it]"
     ]
    },
    {
     "name": "stdout",
     "output_type": "stream",
     "text": [
      "=================================\n",
      "Initial portfolio value:100000\n",
      "Final portfolio value: 246628.171875\n",
      "Final accumulative portfolio value: 2.4662816524505615\n",
      "Maximum DrawDown: -0.3316681609220995\n",
      "Sharpe ratio: 0.7800119238756772\n",
      "=================================\n",
      "=================================\n",
      "Initial portfolio value:100000\n",
      "Final portfolio value: 246635.0\n",
      "Final accumulative portfolio value: 2.4663500785827637\n",
      "Maximum DrawDown: -0.33166950894101044\n",
      "Sharpe ratio: 0.780029789048662\n",
      "=================================\n"
     ]
    },
    {
     "name": "stderr",
     "output_type": "stream",
     "text": [
      " 42%|████▏     | 27/64 [08:08<10:44, 17.42s/it]"
     ]
    },
    {
     "name": "stdout",
     "output_type": "stream",
     "text": [
      "=================================\n",
      "Initial portfolio value:100000\n",
      "Final portfolio value: 246627.8125\n",
      "Final accumulative portfolio value: 2.466278076171875\n",
      "Maximum DrawDown: -0.33167025520554383\n",
      "Sharpe ratio: 0.7800059716646378\n",
      "=================================\n",
      "=================================\n",
      "Initial portfolio value:100000\n",
      "Final portfolio value: 246634.390625\n",
      "Final accumulative portfolio value: 2.466343879699707\n",
      "Maximum DrawDown: -0.33167289163776836\n",
      "Sharpe ratio: 0.7800215084453286\n",
      "=================================\n"
     ]
    },
    {
     "name": "stderr",
     "output_type": "stream",
     "text": [
      " 44%|████▍     | 28/64 [08:25<10:20, 17.24s/it]"
     ]
    },
    {
     "name": "stdout",
     "output_type": "stream",
     "text": [
      "=================================\n",
      "Initial portfolio value:100000\n",
      "Final portfolio value: 246636.40625\n",
      "Final accumulative portfolio value: 2.4663641452789307\n",
      "Maximum DrawDown: -0.33167469701969254\n",
      "Sharpe ratio: 0.7800242903810413\n",
      "=================================\n"
     ]
    },
    {
     "name": "stderr",
     "output_type": "stream",
     "text": [
      " 45%|████▌     | 29/64 [08:43<10:15, 17.60s/it]"
     ]
    },
    {
     "name": "stdout",
     "output_type": "stream",
     "text": [
      "=================================\n",
      "Initial portfolio value:100000\n",
      "Final portfolio value: 246635.3125\n",
      "Final accumulative portfolio value: 2.466353178024292\n",
      "Maximum DrawDown: -0.3316758684420831\n",
      "Sharpe ratio: 0.7800167397436703\n",
      "=================================\n"
     ]
    },
    {
     "name": "stderr",
     "output_type": "stream",
     "text": [
      " 48%|████▊     | 31/64 [09:18<09:38, 17.53s/it]"
     ]
    },
    {
     "name": "stdout",
     "output_type": "stream",
     "text": [
      "=================================\n",
      "Initial portfolio value:100000\n",
      "Final portfolio value: 246636.265625\n",
      "Final accumulative portfolio value: 2.466362714767456\n",
      "Maximum DrawDown: -0.33167666997088985\n",
      "Sharpe ratio: 0.7800207611771497\n",
      "=================================\n"
     ]
    },
    {
     "name": "stderr",
     "output_type": "stream",
     "text": [
      " 50%|█████     | 32/64 [09:36<09:23, 17.61s/it]"
     ]
    },
    {
     "name": "stdout",
     "output_type": "stream",
     "text": [
      "=================================\n",
      "Initial portfolio value:100000\n",
      "Final portfolio value: 246630.875\n",
      "Final accumulative portfolio value: 2.466308832168579\n",
      "Maximum DrawDown: -0.3316779956960607\n",
      "Sharpe ratio: 0.7799979186649119\n",
      "=================================\n",
      "=================================\n",
      "Initial portfolio value:100000\n",
      "Final portfolio value: 246647.234375\n",
      "Final accumulative portfolio value: 2.4664723873138428\n",
      "Maximum DrawDown: -0.33167825680738405\n",
      "Sharpe ratio: 0.7800486861115034\n",
      "=================================\n"
     ]
    },
    {
     "name": "stderr",
     "output_type": "stream",
     "text": [
      " 52%|█████▏    | 33/64 [09:54<09:07, 17.65s/it]"
     ]
    },
    {
     "name": "stdout",
     "output_type": "stream",
     "text": [
      "=================================\n",
      "Initial portfolio value:100000\n",
      "Final portfolio value: 246637.578125\n",
      "Final accumulative portfolio value: 2.4663758277893066\n",
      "Maximum DrawDown: -0.3316798553271817\n",
      "Sharpe ratio: 0.7800171458803844\n",
      "=================================\n"
     ]
    },
    {
     "name": "stderr",
     "output_type": "stream",
     "text": [
      " 53%|█████▎    | 34/64 [10:11<08:44, 17.50s/it]"
     ]
    },
    {
     "name": "stdout",
     "output_type": "stream",
     "text": [
      "=================================\n",
      "Initial portfolio value:100000\n",
      "Final portfolio value: 246632.234375\n",
      "Final accumulative portfolio value: 2.466322422027588\n",
      "Maximum DrawDown: -0.331681228305009\n",
      "Sharpe ratio: 0.7799993337856941\n",
      "=================================\n"
     ]
    },
    {
     "name": "stderr",
     "output_type": "stream",
     "text": [
      " 55%|█████▍    | 35/64 [10:29<08:34, 17.75s/it]"
     ]
    },
    {
     "name": "stdout",
     "output_type": "stream",
     "text": [
      "=================================\n",
      "Initial portfolio value:100000\n",
      "Final portfolio value: 246635.640625\n",
      "Final accumulative portfolio value: 2.4663565158843994\n",
      "Maximum DrawDown: -0.3316826853960526\n",
      "Sharpe ratio: 0.7800048113583752\n",
      "=================================\n"
     ]
    },
    {
     "name": "stderr",
     "output_type": "stream",
     "text": [
      " 56%|█████▋    | 36/64 [10:48<08:27, 18.14s/it]"
     ]
    },
    {
     "name": "stdout",
     "output_type": "stream",
     "text": [
      "=================================\n",
      "Initial portfolio value:100000\n",
      "Final portfolio value: 246640.34375\n",
      "Final accumulative portfolio value: 2.4664034843444824\n",
      "Maximum DrawDown: -0.33168305254506636\n",
      "Sharpe ratio: 0.7800180618309589\n",
      "=================================\n"
     ]
    },
    {
     "name": "stderr",
     "output_type": "stream",
     "text": [
      " 59%|█████▉    | 38/64 [11:25<07:50, 18.08s/it]"
     ]
    },
    {
     "name": "stdout",
     "output_type": "stream",
     "text": [
      "=================================\n",
      "Initial portfolio value:100000\n",
      "Final portfolio value: 246639.15625\n",
      "Final accumulative portfolio value: 2.4663915634155273\n",
      "Maximum DrawDown: -0.33168359295410244\n",
      "Sharpe ratio: 0.7800145605879223\n",
      "=================================\n"
     ]
    },
    {
     "name": "stderr",
     "output_type": "stream",
     "text": [
      " 61%|██████    | 39/64 [11:41<07:21, 17.65s/it]"
     ]
    },
    {
     "name": "stdout",
     "output_type": "stream",
     "text": [
      "=================================\n",
      "Initial portfolio value:100000\n",
      "Final portfolio value: 246644.8125\n",
      "Final accumulative portfolio value: 2.4664480686187744\n",
      "Maximum DrawDown: -0.3316833875693488\n",
      "Sharpe ratio: 0.7800303845742651\n",
      "=================================\n"
     ]
    },
    {
     "name": "stderr",
     "output_type": "stream",
     "text": [
      " 62%|██████▎   | 40/64 [11:58<06:55, 17.31s/it]"
     ]
    },
    {
     "name": "stdout",
     "output_type": "stream",
     "text": [
      "=================================\n",
      "Initial portfolio value:100000\n",
      "Final portfolio value: 246640.53125\n",
      "Final accumulative portfolio value: 2.4664053916931152\n",
      "Maximum DrawDown: -0.3316834196914016\n",
      "Sharpe ratio: 0.7800168950771549\n",
      "=================================\n"
     ]
    },
    {
     "name": "stderr",
     "output_type": "stream",
     "text": [
      " 64%|██████▍   | 41/64 [12:15<06:36, 17.24s/it]"
     ]
    },
    {
     "name": "stdout",
     "output_type": "stream",
     "text": [
      "=================================\n",
      "Initial portfolio value:100000\n",
      "Final portfolio value: 246644.5625\n",
      "Final accumulative portfolio value: 2.4664456844329834\n",
      "Maximum DrawDown: -0.33168261602786864\n",
      "Sharpe ratio: 0.7800308042900358\n",
      "=================================\n"
     ]
    },
    {
     "name": "stderr",
     "output_type": "stream",
     "text": [
      " 66%|██████▌   | 42/64 [12:31<06:15, 17.05s/it]"
     ]
    },
    {
     "name": "stdout",
     "output_type": "stream",
     "text": [
      "=================================\n",
      "Initial portfolio value:100000\n",
      "Final portfolio value: 246644.078125\n",
      "Final accumulative portfolio value: 2.4664406776428223\n",
      "Maximum DrawDown: -0.33168411828089095\n",
      "Sharpe ratio: 0.7800283707597532\n",
      "=================================\n",
      "=================================\n",
      "Initial portfolio value:100000\n",
      "Final portfolio value: 246643.203125\n",
      "Final accumulative portfolio value: 2.4664320945739746\n",
      "Maximum DrawDown: -0.33168612171183043\n",
      "Sharpe ratio: 0.7800230852247424\n",
      "=================================\n"
     ]
    },
    {
     "name": "stderr",
     "output_type": "stream",
     "text": [
      " 67%|██████▋   | 43/64 [12:49<06:01, 17.22s/it]"
     ]
    },
    {
     "name": "stdout",
     "output_type": "stream",
     "text": [
      "=================================\n",
      "Initial portfolio value:100000\n",
      "Final portfolio value: 246641.34375\n",
      "Final accumulative portfolio value: 2.4664134979248047\n",
      "Maximum DrawDown: -0.331685486125071\n",
      "Sharpe ratio: 0.7800158392425175\n",
      "=================================\n"
     ]
    },
    {
     "name": "stderr",
     "output_type": "stream",
     "text": [
      " 69%|██████▉   | 44/64 [13:07<05:49, 17.47s/it]"
     ]
    },
    {
     "name": "stdout",
     "output_type": "stream",
     "text": [
      "=================================\n",
      "Initial portfolio value:100000\n",
      "Final portfolio value: 246644.859375\n",
      "Final accumulative portfolio value: 2.4664485454559326\n",
      "Maximum DrawDown: -0.3316857489752736\n",
      "Sharpe ratio: 0.7800267432566277\n",
      "=================================\n"
     ]
    },
    {
     "name": "stderr",
     "output_type": "stream",
     "text": [
      " 72%|███████▏  | 46/64 [13:42<05:12, 17.37s/it]"
     ]
    },
    {
     "name": "stdout",
     "output_type": "stream",
     "text": [
      "=================================\n",
      "Initial portfolio value:100000\n",
      "Final portfolio value: 246642.234375\n",
      "Final accumulative portfolio value: 2.4664223194122314\n",
      "Maximum DrawDown: -0.33168687063326585\n",
      "Sharpe ratio: 0.7800170288425607\n",
      "=================================\n"
     ]
    },
    {
     "name": "stderr",
     "output_type": "stream",
     "text": [
      " 73%|███████▎  | 47/64 [13:58<04:50, 17.11s/it]"
     ]
    },
    {
     "name": "stdout",
     "output_type": "stream",
     "text": [
      "=================================\n",
      "Initial portfolio value:100000\n",
      "Final portfolio value: 246641.0\n",
      "Final accumulative portfolio value: 2.466409921646118\n",
      "Maximum DrawDown: -0.33168658721300515\n",
      "Sharpe ratio: 0.7800123490651\n",
      "=================================\n"
     ]
    },
    {
     "name": "stderr",
     "output_type": "stream",
     "text": [
      " 75%|███████▌  | 48/64 [14:15<04:31, 16.97s/it]"
     ]
    },
    {
     "name": "stdout",
     "output_type": "stream",
     "text": [
      "=================================\n",
      "Initial portfolio value:100000\n",
      "Final portfolio value: 246650.234375\n",
      "Final accumulative portfolio value: 2.4665024280548096\n",
      "Maximum DrawDown: -0.33168640751210887\n",
      "Sharpe ratio: 0.7800410096789421\n",
      "=================================\n"
     ]
    },
    {
     "name": "stderr",
     "output_type": "stream",
     "text": [
      " 77%|███████▋  | 49/64 [14:32<04:14, 16.94s/it]"
     ]
    },
    {
     "name": "stdout",
     "output_type": "stream",
     "text": [
      "=================================\n",
      "Initial portfolio value:100000\n",
      "Final portfolio value: 246639.9375\n",
      "Final accumulative portfolio value: 2.4663994312286377\n",
      "Maximum DrawDown: -0.3316871354539118\n",
      "Sharpe ratio: 0.7800073956272122\n",
      "=================================\n"
     ]
    },
    {
     "name": "stderr",
     "output_type": "stream",
     "text": [
      " 78%|███████▊  | 50/64 [14:48<03:55, 16.80s/it]"
     ]
    },
    {
     "name": "stdout",
     "output_type": "stream",
     "text": [
      "=================================\n",
      "Initial portfolio value:100000\n",
      "Final portfolio value: 246642.84375\n",
      "Final accumulative portfolio value: 2.466428518295288\n",
      "Maximum DrawDown: -0.3316874047580318\n",
      "Sharpe ratio: 0.7800171538995524\n",
      "=================================\n"
     ]
    },
    {
     "name": "stderr",
     "output_type": "stream",
     "text": [
      " 80%|███████▉  | 51/64 [15:05<03:37, 16.76s/it]"
     ]
    },
    {
     "name": "stdout",
     "output_type": "stream",
     "text": [
      "=================================\n",
      "Initial portfolio value:100000\n",
      "Final portfolio value: 246643.90625\n",
      "Final accumulative portfolio value: 2.4664390087127686\n",
      "Maximum DrawDown: -0.3316878879506595\n",
      "Sharpe ratio: 0.7800183822866722\n",
      "=================================\n"
     ]
    },
    {
     "name": "stderr",
     "output_type": "stream",
     "text": [
      " 81%|████████▏ | 52/64 [15:21<03:20, 16.67s/it]"
     ]
    },
    {
     "name": "stdout",
     "output_type": "stream",
     "text": [
      "=================================\n",
      "Initial portfolio value:100000\n",
      "Final portfolio value: 246640.1875\n",
      "Final accumulative portfolio value: 2.4664018154144287\n",
      "Maximum DrawDown: -0.3316886120349454\n",
      "Sharpe ratio: 0.7800073052211713\n",
      "=================================\n",
      "=================================\n",
      "Initial portfolio value:100000\n",
      "Final portfolio value: 246645.609375\n",
      "Final accumulative portfolio value: 2.466456174850464\n",
      "Maximum DrawDown: -0.3316882629703559\n",
      "Sharpe ratio: 0.7800212924019938\n",
      "=================================\n"
     ]
    },
    {
     "name": "stderr",
     "output_type": "stream",
     "text": [
      " 83%|████████▎ | 53/64 [15:40<03:10, 17.32s/it]"
     ]
    },
    {
     "name": "stdout",
     "output_type": "stream",
     "text": [
      "=================================\n",
      "Initial portfolio value:100000\n",
      "Final portfolio value: 246649.921875\n",
      "Final accumulative portfolio value: 2.4664993286132812\n",
      "Maximum DrawDown: -0.33168903060928245\n",
      "Sharpe ratio: 0.7800380223718275\n",
      "=================================\n"
     ]
    },
    {
     "name": "stderr",
     "output_type": "stream",
     "text": [
      " 84%|████████▍ | 54/64 [15:58<02:55, 17.57s/it]"
     ]
    },
    {
     "name": "stdout",
     "output_type": "stream",
     "text": [
      "=================================\n",
      "Initial portfolio value:100000\n",
      "Final portfolio value: 246649.75\n",
      "Final accumulative portfolio value: 2.4664974212646484\n",
      "Maximum DrawDown: -0.331687874752034\n",
      "Sharpe ratio: 0.780036388360257\n",
      "=================================\n"
     ]
    },
    {
     "name": "stderr",
     "output_type": "stream",
     "text": [
      " 88%|████████▊ | 56/64 [16:40<02:34, 19.25s/it]"
     ]
    },
    {
     "name": "stdout",
     "output_type": "stream",
     "text": [
      "=================================\n",
      "Initial portfolio value:100000\n",
      "Final portfolio value: 246648.46875\n",
      "Final accumulative portfolio value: 2.466484785079956\n",
      "Maximum DrawDown: -0.33168855043215595\n",
      "Sharpe ratio: 0.7800311919516587\n",
      "=================================\n"
     ]
    },
    {
     "name": "stderr",
     "output_type": "stream",
     "text": [
      " 89%|████████▉ | 57/64 [16:57<02:10, 18.66s/it]"
     ]
    },
    {
     "name": "stdout",
     "output_type": "stream",
     "text": [
      "=================================\n",
      "Initial portfolio value:100000\n",
      "Final portfolio value: 246645.15625\n",
      "Final accumulative portfolio value: 2.466451644897461\n",
      "Maximum DrawDown: -0.33168888663220564\n",
      "Sharpe ratio: 0.7800213493491944\n",
      "=================================\n",
      "=================================\n",
      "Initial portfolio value:100000\n",
      "Final portfolio value: 246643.390625\n",
      "Final accumulative portfolio value: 2.4664340019226074\n",
      "Maximum DrawDown: -0.3316900206556683\n",
      "Sharpe ratio: 0.7800144116733955\n",
      "=================================\n"
     ]
    },
    {
     "name": "stderr",
     "output_type": "stream",
     "text": [
      " 91%|█████████ | 58/64 [17:14<01:48, 18.16s/it]"
     ]
    },
    {
     "name": "stdout",
     "output_type": "stream",
     "text": [
      "=================================\n",
      "Initial portfolio value:100000\n",
      "Final portfolio value: 246648.171875\n",
      "Final accumulative portfolio value: 2.4664816856384277\n",
      "Maximum DrawDown: -0.33168891635701625\n",
      "Sharpe ratio: 0.7800295012887586\n",
      "=================================\n"
     ]
    },
    {
     "name": "stderr",
     "output_type": "stream",
     "text": [
      " 94%|█████████▍| 60/64 [17:49<01:11, 17.95s/it]"
     ]
    },
    {
     "name": "stdout",
     "output_type": "stream",
     "text": [
      "=================================\n",
      "Initial portfolio value:100000\n",
      "Final portfolio value: 246643.015625\n",
      "Final accumulative portfolio value: 2.466430187225342\n",
      "Maximum DrawDown: -0.33168882248661224\n",
      "Sharpe ratio: 0.7800130980821982\n",
      "=================================\n"
     ]
    },
    {
     "name": "stderr",
     "output_type": "stream",
     "text": [
      " 95%|█████████▌| 61/64 [18:07<00:53, 17.81s/it]"
     ]
    },
    {
     "name": "stdout",
     "output_type": "stream",
     "text": [
      "=================================\n",
      "Initial portfolio value:100000\n",
      "Final portfolio value: 246651.953125\n",
      "Final accumulative portfolio value: 2.466519594192505\n",
      "Maximum DrawDown: -0.33168816228869613\n",
      "Sharpe ratio: 0.7800425525225821\n",
      "=================================\n",
      "=================================\n",
      "Initial portfolio value:100000\n",
      "Final portfolio value: 246644.75\n",
      "Final accumulative portfolio value: 2.466447591781616\n",
      "Maximum DrawDown: -0.33168909094476695\n",
      "Sharpe ratio: 0.780020943066229\n",
      "=================================\n"
     ]
    },
    {
     "name": "stderr",
     "output_type": "stream",
     "text": [
      " 97%|█████████▋| 62/64 [18:24<00:35, 17.58s/it]"
     ]
    },
    {
     "name": "stdout",
     "output_type": "stream",
     "text": [
      "=================================\n",
      "Initial portfolio value:100000\n",
      "Final portfolio value: 246639.03125\n",
      "Final accumulative portfolio value: 2.466390371322632\n",
      "Maximum DrawDown: -0.3316891845137183\n",
      "Sharpe ratio: 0.7800040868527628\n",
      "=================================\n"
     ]
    },
    {
     "name": "stderr",
     "output_type": "stream",
     "text": [
      " 98%|█████████▊| 63/64 [18:41<00:17, 17.43s/it]"
     ]
    },
    {
     "name": "stdout",
     "output_type": "stream",
     "text": [
      "=================================\n",
      "Initial portfolio value:100000\n",
      "Final portfolio value: 246643.84375\n",
      "Final accumulative portfolio value: 2.4664385318756104\n",
      "Maximum DrawDown: -0.3316895202732806\n",
      "Sharpe ratio: 0.7800157571766476\n",
      "=================================\n"
     ]
    },
    {
     "name": "stderr",
     "output_type": "stream",
     "text": [
      "100%|██████████| 64/64 [18:58<00:00, 17.80s/it]"
     ]
    },
    {
     "name": "stdout",
     "output_type": "stream",
     "text": [
      "Training completed in 18.98 minutes.\n"
     ]
    },
    {
     "name": "stderr",
     "output_type": "stream",
     "text": [
      "\n"
     ]
    }
   ],
   "source": [
    "if retrain:\n",
    "    trained_model, training_duration = train()"
   ]
  },
  {
   "cell_type": "code",
   "execution_count": 16,
   "id": "8145512e",
   "metadata": {},
   "outputs": [
    {
     "name": "stdout",
     "output_type": "stream",
     "text": [
      "Model saved to results/models/portfolio_optimization_eiie_pg/eeie_pg.pth\n",
      "Training summary:\n"
     ]
    },
    {
     "data": {
      "application/vnd.microsoft.datawrangler.viewer.v0+json": {
       "columns": [
        {
         "name": "index",
         "rawType": "int64",
         "type": "integer"
        },
        {
         "name": "model",
         "rawType": "object",
         "type": "string"
        },
        {
         "name": "training_duration (min)",
         "rawType": "float64",
         "type": "float"
        }
       ],
       "conversionMethod": "pd.DataFrame",
       "ref": "2e107e22-b1b7-4adc-be2c-57680a981f1f",
       "rows": [
        [
         "0",
         "EIIE_PG",
         "18.984420716762543"
        ]
       ],
       "shape": {
        "columns": 2,
        "rows": 1
       }
      },
      "text/html": [
       "<div>\n",
       "<style scoped>\n",
       "    .dataframe tbody tr th:only-of-type {\n",
       "        vertical-align: middle;\n",
       "    }\n",
       "\n",
       "    .dataframe tbody tr th {\n",
       "        vertical-align: top;\n",
       "    }\n",
       "\n",
       "    .dataframe thead th {\n",
       "        text-align: right;\n",
       "    }\n",
       "</style>\n",
       "<table border=\"1\" class=\"dataframe\">\n",
       "  <thead>\n",
       "    <tr style=\"text-align: right;\">\n",
       "      <th></th>\n",
       "      <th>model</th>\n",
       "      <th>training_duration (min)</th>\n",
       "    </tr>\n",
       "  </thead>\n",
       "  <tbody>\n",
       "    <tr>\n",
       "      <th>0</th>\n",
       "      <td>EIIE_PG</td>\n",
       "      <td>18.984421</td>\n",
       "    </tr>\n",
       "  </tbody>\n",
       "</table>\n",
       "</div>"
      ],
      "text/plain": [
       "     model  training_duration (min)\n",
       "0  EIIE_PG                18.984421"
      ]
     },
     "metadata": {},
     "output_type": "display_data"
    }
   ],
   "source": [
    "if retrain:\n",
    "    # Save the trained model\n",
    "    torch.save(trained_model.train_policy.state_dict(),model_path)\n",
    "    print(f\"Model saved to {model_path}\")\n",
    "    \n",
    "    # Save training times\n",
    "    training_times_df = pd.DataFrame(\n",
    "        [{\"model\": \"EIIE_PG\", \"training_duration (min)\": training_duration}]\n",
    "    )\n",
    "    training_times_df.to_csv(f\"{results_dir}/training_times.csv\", index=False)\n",
    "\n",
    "    # Display training summary\n",
    "    print(\"Training summary:\")\n",
    "    display(training_times_df)"
   ]
  },
  {
   "cell_type": "markdown",
   "id": "eb7ec26e",
   "metadata": {},
   "source": [
    "## Backtesting\n"
   ]
  },
  {
   "cell_type": "code",
   "execution_count": 17,
   "id": "f4078dd4",
   "metadata": {},
   "outputs": [
    {
     "name": "stdout",
     "output_type": "stream",
     "text": [
      "Model loaded and ready for evaluation.\n",
      "Evaluating model on test data...\n"
     ]
    }
   ],
   "source": [
    "policy = EIIE(time_window=50, device=device)\n",
    "policy.load_state_dict(torch.load(model_path, map_location=device))\n",
    "# policy = policy.to(device)\n",
    "# policy.eval()\n",
    "print(\"Model loaded and ready for evaluation.\")\n",
    "print(\"Evaluating model on test data...\")\n",
    "\n",
    "test_env = initialize_portfolio_env(test_df.reset_index(drop=True))"
   ]
  },
  {
   "cell_type": "code",
   "execution_count": 18,
   "id": "4682bdd6",
   "metadata": {},
   "outputs": [],
   "source": [
    "# # Generate quantstats report for the RL strategy\n",
    "# def generate_quantstats_report(env, policy, test_df):\n",
    "#     env.reset()\n",
    "#     state = env.reset()\n",
    "#     actions = []\n",
    "#     rewards = []\n",
    "#     done = False\n",
    "\n",
    "#     while not done:\n",
    "#         # Assuming last_action is initialized as a uniform distribution\n",
    "#         if 'last_action' not in locals():\n",
    "#             last_action = np.ones(env.action_space.shape[0], dtype=np.float32) / env.action_space.shape[0]\n",
    "        \n",
    "#         # Pass last_action to the policy\n",
    "#         action = policy(state[None, ...], last_action[None, ...])\n",
    "#         last_action = action.flatten()  # Update last_action for the next step\n",
    "#         actions.append(action)\n",
    "#         next_state, reward, terminated, truncated, info = env.step(action)\n",
    "#         done = terminated or truncated\n",
    "#         state = next_state\n",
    "#         rewards.append(reward)\n",
    "\n",
    "#     # Convert actions and rewards to DataFrame\n",
    "#     actions_df = pd.DataFrame(actions, columns=test_df.tic.unique())\n",
    "#     actions_df[\"date\"] = test_df.date.unique()[env.time_window:]\n",
    "#     actions_df.set_index(\"date\", inplace=True)\n",
    "\n",
    "#     # Calculate portfolio returns\n",
    "#     portfolio_returns = (actions_df * test_df.return_list).sum(axis=1)\n",
    "\n",
    "#     # Generate quantstats report\n",
    "#     import quantstats as qs\n",
    "\n",
    "#     # qs.reports.html(portfolio_returns, output=f\"{results_dir}/quantstats_report.html\")\n",
    "#     print(\"Quantstats report generated.\")\n",
    "    \n",
    "# generate_quantstats_report(test_env, policy, test_df)"
   ]
  },
  {
   "cell_type": "code",
   "execution_count": 19,
   "id": "9958d943",
   "metadata": {},
   "outputs": [
    {
     "name": "stdout",
     "output_type": "stream",
     "text": [
      "=================================\n",
      "Initial portfolio value:100000\n",
      "Final portfolio value: 119838.8046875\n",
      "Final accumulative portfolio value: 1.1983880996704102\n",
      "Maximum DrawDown: -0.14796559215407346\n",
      "Sharpe ratio: 0.80267241027913\n",
      "=================================\n",
      "Collected 451 steps.\n",
      "Rewards: [-0.0023511252366006374, -5.722062269342132e-06, 0.008162236772477627, 0.005791431292891502, 0.004802240990102291, 0.002063052263110876, 0.0038041146472096443, 0.0015307862777262926, 0.004212554078549147, -0.00763191981241107, 0.006032473873347044, 0.0020216519478708506, -3.933914285880746e-06, -0.00844469852745533, -0.0019675763323903084, -0.004924601409584284, 0.00947478786110878, -0.003430462209507823, -0.005006666295230389, 0.0029522664844989777, 0.0032888154964894056, 0.0006685405969619751, -0.011536548845469952, -0.005734582897275686, -0.00665321946144104, 0.001311871805228293, -0.001192505587823689, -0.004942691419273615, 0.006362539250403643, -0.012836839072406292, 0.007649060804396868, 0.006311365868896246, 0.009204336442053318, 0.0019540756475180387, -0.001982447225600481, 0.0014096095692366362, -0.00734708970412612, -0.004933047574013472, -0.00011724921205313876, 0.0016857474111020565, 0.00305317179299891, 0.00023648326168768108, -0.0029211349319666624, 0.009329886175692081, -0.007660869508981705, -0.0001560571399750188, -0.004594074096530676, -0.0035890296567231417, -0.012384130619466305, -0.004398887511342764, 7.10462118149735e-05, -0.011053753085434437, -0.002277044113725424, 0.0023842023219913244, -0.000385418301448226, -0.003841198282316327, -0.00953599251806736, 0.00224576354958117, -0.0008650586241856217, 0.006984698586165905, 0.006108069326728582, 0.005219404585659504, 0.0012297218199819326, -0.003027666825801134, -0.0017251343233510852, 0.009254416450858116, 0.0015524489572271705, -0.01130630448460579, -0.006768310908228159, -0.007453733589500189, -0.004675333388149738, 0.009375590831041336, -0.005666125100106001, -0.005772590171545744, -0.010214462876319885, 0.014917842112481594, 0.005860171280801296, 0.0048444755375385284, 0.01771075278520584, 0.0072958702221512794, 0.0001731960946926847, 0.0017824966926127672, -0.0033425460569560528, -0.005451851058751345, 0.010049932636320591, 0.001279131742194295, 0.014494601637125015, 0.0074007161892950535, -0.0025287028402090073, 0.0013773487880825996, 0.0062970323488116264, -0.0019569459836930037, 0.0041477372869849205, 0.0036545887123793364, -0.002323881722986698, 0.0018101035384461284, 0.0024743436370044947, 0.012245356105268002, 0.009234101511538029, -0.0010774573311209679, -0.0029284278862178326, -0.0008939326507970691, 0.004460029769688845, 0.003148600459098816, 0.005726361181586981, 0.0027751526795327663, 0.014730383642017841, 0.005797713063657284, 0.0012829415500164032, 0.0011020784731954336, 0.007782140281051397, -0.013953669928014278, 0.009449517354369164, -0.0008554540108889341, 0.005935898050665855, 0.0023274733684957027, 0.0014061573892831802, -0.0008859385270625353, 0.0013053239090368152, -0.007051055319607258, -0.0018569175153970718, 0.002204370917752385, 0.006657443940639496, -0.005036379210650921, 0.0024506794288754463, -0.0009608711116015911, -0.001533491420559585, -0.006037603132426739, -0.005259193014353514, 0.006537242326885462, 0.011296361684799194, 0.00407401192933321, -0.0010416567092761397, -0.004339620471000671, 0.011219743639230728, -0.0013648044550791383, 0.004628420807421207, 0.002410603454336524, -0.009201531298458576, 0.010604342445731163, 0.0001456631434848532, -0.007404733449220657, 0.005804942920804024, 0.001837114803493023, 0.0025159630458801985, -0.0016012487467378378, 0.004865947645157576, -0.012762097641825676, 0.004161983262747526, 0.009523673914372921, -0.0042694625444710255, 0.0008875959902070463, -1.5378116586362012e-05, 0.008058061823248863, 0.0017352537252008915, -0.0037162727676331997, 0.0002397011558059603, -0.0005053366185165942, 0.0010087168775498867, 0.0019944077357649803, -0.002053579781204462, -0.007225267123430967, 0.0022578956559300423, 0.0027659989427775145, -0.0009204211528412998, 0.004157471936196089, 0.0047094617038965225, 0.00041476229671388865, -0.005828165449202061, -0.0032057233620435, 0.002221380127593875, 0.005840853322297335, 0.00995091162621975, 0.003646987257525325, -0.007895924150943756, -0.0023340978659689426, -0.0016118754865601659, 0.014563450589776039, 0.0029179160483181477, -0.006871292367577553, -0.009106429293751717, -0.005747591610997915, -0.011483550071716309, 0.005105671472847462, -0.001297958311624825, 0.001278060139156878, -0.011870043352246284, 0.0011626873165369034, -0.01342711504548788, -0.004830923862755299, -0.0006051702075637877, -0.0020406190305948257, 0.0009409529156982899, 0.007554533891379833, 0.004502990748733282, 0.005234820768237114, -0.00020100706024095416, -0.006541501265019178, -0.0013165792915970087, 0.004130760673433542, -0.0127017293125391, 0.00026925752172246575, 0.0064879730343818665, 0.009679879993200302, 0.0030202509369701147, -0.0007788590737618506, 0.00328465667553246, 0.006621799431741238, 0.002559483051300049, 0.002545808907598257, 0.0026601902209222317, 0.0054518114775419235, 0.0051668682135641575, 0.0018682897789403796, -0.0049299923703074455, -0.0016705631278455257, -0.0036721813958138227, -0.017506903037428856, 0.0020303367637097836, -0.006781513337045908, -0.010318523272871971, -0.00104607199318707, 0.017689671367406845, -0.0028846105560660362, 0.004348821938037872, 3.6238969187252223e-05, 0.0017444168915972114, -0.0002310542913619429, 0.0010924329981207848, -0.002812641905620694, -0.004986419342458248, -0.0016415471909567714, -0.00095383106963709, 0.004545712377876043, 0.003826678032055497, 0.00708981417119503, 0.002051393734291196, 0.006678048521280289, -0.007522073574364185, -0.0012842911528423429, -0.006600178778171539, -0.0077217151410877705, 0.00019500737835187465, 0.002623451640829444, -0.0016648315358906984, 0.0034512262791395187, -0.0015562358312308788, -0.001686683390289545, 0.011140996590256691, 0.0015685171820223331, 0.00615546153858304, 0.002522027352824807, 0.013966797851026058, 0.007634628098458052, -0.010840188711881638, -0.011010542511940002, 0.002054724609479308, -0.0036794201005250216, -0.009406441822648048, 0.00339633971452713, 0.01870855689048767, -2.157711423933506e-05, 0.00261084851808846, 0.0005595310358330607, -0.010793673805892467, -0.019367173314094543, -0.02791508659720421, 0.005924047436565161, -0.006677040830254555, 0.018069885671138763, -0.00019808585057035089, -0.006364828906953335, 0.011500021442770958, 0.0035582580603659153, 0.017883485183119774, 0.005128798540681601, 0.0063036661595106125, -0.0020957482047379017, 0.002947036875411868, -0.006065907422453165, 0.010791986249387264, 0.0028660909738391638, -0.002339594531804323, -0.00489716837182641, 0.005811935290694237, 0.008552707731723785, -0.015840701758861542, -0.0028419906739145517, -0.004878779873251915, -0.009522573091089725, 0.011315103620290756, -0.001993018202483654, 0.0025854038540273905, 0.005328500177711248, 0.00816661212593317, 0.00893511064350605, -0.0002222308103227988, -0.0032100884709507227, 0.007820818573236465, 0.004681460093706846, 0.001912908861413598, 0.002036522841081023, -0.005190827883780003, 0.006455994211137295, 0.0055653867311775684, -0.0007079961360432208, -0.004452948924154043, -0.0031721785198897123, -0.005002892576158047, 0.00744272256270051, -0.008780349977314472, 0.0049993982538580894, 0.008132676593959332, -0.002699917182326317, 0.009944537654519081, 0.0030717116314917803, 0.0031483627390116453, 0.009148937650024891, 0.002193665597587824, 0.001780830672942102, -0.00800521019846201, -0.004555273335427046, -0.008796344511210918, -0.005780983250588179, -0.006399141158908606, 0.005904730875045061, -0.00485769659280777, -0.004027957562357187, -0.005643047392368317, 0.006889872252941132, -0.005518196150660515, 0.008878279477357864, 0.02271350286900997, 0.0016126735135912895, 0.004900824744254351, 0.0035936555359512568, -0.00927715003490448, 0.002740558236837387, -0.0033147374633699656, -0.0036315019242465496, 0.0036100472789257765, -0.004628445487469435, 0.0031413515098392963, 0.010213727131485939, 0.012820794247090816, 0.01049051247537136, 0.0003400462737772614, 0.0005000770906917751, 0.003161553293466568, -0.0026134399231523275, -0.004759414121508598, 0.001353420433588326, -0.0034377588890492916, -0.0019960044883191586, -0.0038450874853879213, 0.004269294906407595, -0.004416967276483774, -0.0008268197416327894, 0.000573351513594389, -0.0031212351750582457, -0.0036888725589960814, -0.023731663823127747, -8.577476546633989e-05, 0.009216737933456898, 0.0004070168943144381, 0.00786789320409298, 0.003474510507658124, -0.006497165188193321, -0.012021930888295174, 0.0023442425299435854, -0.004199129529297352, 0.00614693108946085, -0.004845897667109966, 0.0013250865740701556, -0.0010134943295270205, -0.003545602085068822, 0.007407934404909611, 0.00405679689720273, 0.011440860107541084, 0.0016976482002064586, 0.007308295927941799, 0.006241827737540007, 0.00278371199965477, 0.007710930425673723, -0.0027144404593855143, 0.009981126524508, -0.003585859201848507, 0.001566136721521616, 0.00821106880903244, -0.01181105524301529, -0.0020681533496826887, 0.0007738456479273736, 0.006593496073037386, -0.0058555640280246735, -0.009153949096798897, 0.00472322478890419, 0.004784682299941778, 0.0016202905680984259, 0.010354489088058472, -0.00453683128580451, 0.01403991412371397, 0.0013950864085927606, -0.0067979563027620316, -0.0122224735096097, 0.005799609236419201, 0.0051391166634857655, -0.007653722073882818, 2.777537883957848e-05, 0.010246057994663715, -0.010793071240186691, -0.01745874248445034, 0.006720440462231636, -0.0059188781306147575, 0.008227030746638775, -0.017361093312501907, -0.01493095327168703, -0.0028782144654542208, -0.003242498729377985, 0.013014611788094044, 0.011739456094801426, -0.004482705146074295, 0.006111031398177147, -0.0026763100177049637, -0.0006878356798551977, 0.009228195063769817, -0.0022205908317118883, -0.0009744144626893103, -0.0012272375170141459, -0.014715773053467274, 0.009615062735974789, -0.0029616658575832844, 0.0024996723514050245, -0.036700356751680374, -0.05914594605565071, -0.009230406023561954, -0.014215841889381409, 0.07483048737049103, -0.028217056766152382, 0.01417449675500393, 0.010404983535408974, -0.004822119604796171, -0.017123259603977203, 0.0026742194313555956, -0.018846750259399414, 0.024639438837766647, 0.009226187132298946, 0.011166106909513474, -0.0025837989524006844, 0.004385853186249733, 0.006270259618759155, 0.006270259618759155]\n"
     ]
    }
   ],
   "source": [
    "def portfolio_test(env, policy, initial_last_action=None):\n",
    "    obs, _ = env.reset()\n",
    "    obs = np.asarray(obs, dtype=np.float32)\n",
    "\n",
    "    # Initial last_action\n",
    "    if initial_last_action is None:\n",
    "        action_dim = env.action_space.shape[0]\n",
    "        last_action = np.ones(action_dim, dtype=np.float32) / action_dim\n",
    "    else:\n",
    "        last_action = np.asarray(initial_last_action).flatten().astype(np.float32)\n",
    "\n",
    "    done = False\n",
    "    transitions = []\n",
    "\n",
    "    while not done:\n",
    "        # Create batches\n",
    "        obs_batch = obs[None, ...]\n",
    "        la_batch = last_action[None, ...]\n",
    "\n",
    "        # Policy forward\n",
    "        action = policy(obs_batch, la_batch)\n",
    "        action = np.asarray(action).flatten().astype(np.float32)\n",
    "\n",
    "        # Step\n",
    "        next_obs, reward, terminated, truncated, info = env.step(action)\n",
    "        done = bool(terminated or truncated)\n",
    "\n",
    "        next_obs = np.asarray(next_obs, dtype=np.float32)\n",
    "\n",
    "        # Record\n",
    "        transitions.append(\n",
    "            {\n",
    "                \"obs\": obs,\n",
    "                \"last_action\": last_action,\n",
    "                \"action\": action,\n",
    "                \"reward\": float(reward),\n",
    "                \"info\": info,\n",
    "            }\n",
    "        )\n",
    "\n",
    "        # Advance\n",
    "        obs = next_obs\n",
    "        last_action = action\n",
    "\n",
    "    return transitions\n",
    "\n",
    "\n",
    "transitions = portfolio_test(test_env, policy)\n",
    "\n",
    "print(f\"Collected {len(transitions)} steps.\")\n",
    "print(\"Rewards:\", [t[\"reward\"] for t in transitions])"
   ]
  },
  {
   "cell_type": "code",
   "execution_count": 20,
   "id": "0eb2b3fc",
   "metadata": {},
   "outputs": [],
   "source": [
    "# Inspect rewards or info:\n",
    "infosrewards = [t[\"reward\"] for t in transitions]\n",
    "infos = [t[\"info\"] for t in transitions]"
   ]
  },
  {
   "cell_type": "code",
   "execution_count": 21,
   "id": "e8ab395f",
   "metadata": {},
   "outputs": [
    {
     "data": {
      "image/png": "[encoded data removed]",
      "text/plain": [
       "<Figure size 1200x600 with 1 Axes>"
      ]
     },
     "metadata": {},
     "output_type": "display_data"
    }
   ],
   "source": [
    "cumulative_rewards = np.cumsum(infosrewards)\n",
    "\n",
    "# Plot the cumulative rewards curve\n",
    "plt.figure(figsize=(12, 6))\n",
    "plt.plot(cumulative_rewards, label=\"Cumulative Rewards\", color=\"green\")\n",
    "plt.title(\"Cumulative Rewards Curve for EI3 Strategy\")\n",
    "plt.xlabel(\"Time Step\")\n",
    "plt.ylabel(\"Cumulative Reward\")\n",
    "plt.legend()\n",
    "plt.grid(True)\n",
    "plt.tight_layout()\n",
    "plt.show()\n",
    "plt.close()"
   ]
  },
  {
   "cell_type": "markdown",
   "id": "3945e551",
   "metadata": {},
   "source": [
    "## Benchmarks\n"
   ]
  },
  {
   "cell_type": "code",
   "execution_count": 22,
   "id": "335b3391",
   "metadata": {},
   "outputs": [],
   "source": [
    "# Get portfolio values\n",
    "eiie_values = test_env._asset_memory[\"final\"]\n",
    "bh_values = []"
   ]
  },
  {
   "cell_type": "code",
   "execution_count": 23,
   "id": "1367ea3a",
   "metadata": {},
   "outputs": [
    {
     "name": "stdout",
     "output_type": "stream",
     "text": [
      "=================================\n",
      "Initial portfolio value:100000\n",
      "Final portfolio value: 119186.734375\n",
      "Final accumulative portfolio value: 1.1918673515319824\n",
      "Maximum DrawDown: -0.14329297511030625\n",
      "Sharpe ratio: 0.8027922416674209\n",
      "=================================\n"
     ]
    }
   ],
   "source": [
    "# Calculate Buy & Hold\n",
    "test_env.reset()\n",
    "action = [1 / len(tickers)] * len(tickers)\n",
    "done = False\n",
    "while not done:  # Use test_env._done to check episode completion\n",
    "    test_obs, rewards, terminated, truncated, info = test_env.step(action)\n",
    "    done = terminated or truncated\n",
    "    bh_values.append(test_env._portfolio_value)"
   ]
  },
  {
   "cell_type": "code",
   "execution_count": 24,
   "id": "9afb48b3",
   "metadata": {},
   "outputs": [],
   "source": [
    "risk_free_rate = 0.043  # 4.3% annualized"
   ]
  },
  {
   "cell_type": "code",
   "execution_count": 25,
   "id": "5a147661",
   "metadata": {},
   "outputs": [],
   "source": [
    "# Calculate metrics\n",
    "def calculate_metrics(values, risk_free_rate):\n",
    "    returns = pd.Series(values).pct_change().dropna()\n",
    "    cumulative_return = (values[-1] / values[0]) - 1\n",
    "    annualized_return = (1 + cumulative_return) ** (252 / len(returns)) - 1\n",
    "    volatility = returns.std() * np.sqrt(252)\n",
    "    sharpe_ratio = (annualized_return - risk_free_rate) / volatility\n",
    "    max_drawdown = (values / np.maximum.accumulate(values) - 1).min()\n",
    "\n",
    "    return {\n",
    "        \"Cumulative Return\": cumulative_return,\n",
    "        \"Annualized Return\": annualized_return,\n",
    "        \"Volatility\": volatility,\n",
    "        \"Sharpe Ratio\": sharpe_ratio,\n",
    "        \"Max Drawdown\": max_drawdown,\n",
    "    }\n",
    "\n",
    "\n",
    "eiie_metrics = calculate_metrics(eiie_values, risk_free_rate)\n",
    "bh_metrics = calculate_metrics(bh_values, risk_free_rate)"
   ]
  },
  {
   "cell_type": "code",
   "execution_count": 26,
   "id": "deea7dcc",
   "metadata": {},
   "outputs": [],
   "source": [
    "metrics = [\n",
    "    \"Cumulative Return\",\n",
    "    \"Annualized Return\",\n",
    "    \"Volatility\",\n",
    "    \"Sharpe Ratio\",\n",
    "    \"Max Drawdown\",\n",
    "]\n",
    "\n",
    "metrics_df = pd.DataFrame(\n",
    "    {\n",
    "        \"Metric\": metrics,\n",
    "        \"EIIE\": [eiie_metrics[m] for m in metrics],\n",
    "        \"Buy & Hold\": [bh_metrics[m] for m in metrics],\n",
    "    }\n",
    ")"
   ]
  },
  {
   "cell_type": "markdown",
   "id": "7c912897",
   "metadata": {},
   "source": [
    "## Performance Summary\n"
   ]
  },
  {
   "cell_type": "code",
   "execution_count": 27,
   "id": "4a516382",
   "metadata": {},
   "outputs": [
    {
     "data": {
      "image/png": "[encoded data removed]",
      "text/plain": [
       "<Figure size 1200x600 with 1 Axes>"
      ]
     },
     "metadata": {},
     "output_type": "display_data"
    }
   ],
   "source": [
    "# Plot results\n",
    "plt.figure(figsize=(12, 6))\n",
    "# plt.subplot(1, 2, 1)\n",
    "plt.plot(eiie_values, label=\"EIIE Strategy\")\n",
    "plt.plot(bh_values, label=\"Buy & Hold\", linestyle=\"--\")\n",
    "plt.title(\"Portfolio Value Comparison\")\n",
    "plt.xlabel(\"Days\")\n",
    "plt.ylabel(\"Portfolio Value ($)\")\n",
    "plt.legend()\n",
    "plt.show()\n",
    "plt.close()"
   ]
  },
  {
   "cell_type": "code",
   "execution_count": 28,
   "id": "a266f3b6",
   "metadata": {},
   "outputs": [
    {
     "data": {
      "image/png": "[encoded data removed]",
      "text/plain": [
       "<Figure size 1200x600 with 1 Axes>"
      ]
     },
     "metadata": {},
     "output_type": "display_data"
    }
   ],
   "source": [
    "plt.figure(figsize=(12, 6))\n",
    "metrics_df.set_index(\"Metric\").plot(kind=\"bar\", ax=plt.gca())\n",
    "plt.title(\"Performance Metrics Comparison\")\n",
    "plt.xticks(rotation=45)\n",
    "plt.tight_layout()\n",
    "plt.show()\n",
    "plt.close()"
   ]
  },
  {
   "cell_type": "code",
   "execution_count": 29,
   "id": "19c0545f",
   "metadata": {},
   "outputs": [
    {
     "name": "stdout",
     "output_type": "stream",
     "text": [
      "\n",
      "Performance Metrics:\n"
     ]
    },
    {
     "data": {
      "text/html": [
       "<style type=\"text/css\">\n",
       "</style>\n",
       "<table id=\"T_322d8\">\n",
       "  <thead>\n",
       "    <tr>\n",
       "      <th class=\"blank level0\" >&nbsp;</th>\n",
       "      <th id=\"T_322d8_level0_col0\" class=\"col_heading level0 col0\" >Metric</th>\n",
       "      <th id=\"T_322d8_level0_col1\" class=\"col_heading level0 col1\" >EIIE</th>\n",
       "      <th id=\"T_322d8_level0_col2\" class=\"col_heading level0 col2\" >Buy & Hold</th>\n",
       "    </tr>\n",
       "  </thead>\n",
       "  <tbody>\n",
       "    <tr>\n",
       "      <th id=\"T_322d8_level0_row0\" class=\"row_heading level0 row0\" >0</th>\n",
       "      <td id=\"T_322d8_row0_col0\" class=\"data row0 col0\" >Cumulative Return</td>\n",
       "      <td id=\"T_322d8_row0_col1\" class=\"data row0 col1\" >19.84%</td>\n",
       "      <td id=\"T_322d8_row0_col2\" class=\"data row0 col2\" >19.46%</td>\n",
       "    </tr>\n",
       "    <tr>\n",
       "      <th id=\"T_322d8_level0_row1\" class=\"row_heading level0 row1\" >1</th>\n",
       "      <td id=\"T_322d8_row1_col0\" class=\"data row1 col0\" >Annualized Return</td>\n",
       "      <td id=\"T_322d8_row1_col1\" class=\"data row1 col1\" >10.67%</td>\n",
       "      <td id=\"T_322d8_row1_col2\" class=\"data row1 col2\" >10.47%</td>\n",
       "    </tr>\n",
       "    <tr>\n",
       "      <th id=\"T_322d8_level0_row2\" class=\"row_heading level0 row2\" >2</th>\n",
       "      <td id=\"T_322d8_row2_col0\" class=\"data row2 col0\" >Volatility</td>\n",
       "      <td id=\"T_322d8_row2_col1\" class=\"data row2 col1\" >13.79%</td>\n",
       "      <td id=\"T_322d8_row2_col2\" class=\"data row2 col2\" >13.33%</td>\n",
       "    </tr>\n",
       "    <tr>\n",
       "      <th id=\"T_322d8_level0_row3\" class=\"row_heading level0 row3\" >3</th>\n",
       "      <td id=\"T_322d8_row3_col0\" class=\"data row3 col0\" >Sharpe Ratio</td>\n",
       "      <td id=\"T_322d8_row3_col1\" class=\"data row3 col1\" >46.16%</td>\n",
       "      <td id=\"T_322d8_row3_col2\" class=\"data row3 col2\" >46.27%</td>\n",
       "    </tr>\n",
       "    <tr>\n",
       "      <th id=\"T_322d8_level0_row4\" class=\"row_heading level0 row4\" >4</th>\n",
       "      <td id=\"T_322d8_row4_col0\" class=\"data row4 col0\" >Max Drawdown</td>\n",
       "      <td id=\"T_322d8_row4_col1\" class=\"data row4 col1\" >-14.80%</td>\n",
       "      <td id=\"T_322d8_row4_col2\" class=\"data row4 col2\" >-14.33%</td>\n",
       "    </tr>\n",
       "  </tbody>\n",
       "</table>\n"
      ],
      "text/plain": [
       "<pandas.io.formats.style.Styler at 0x359cbcc80>"
      ]
     },
     "metadata": {},
     "output_type": "display_data"
    }
   ],
   "source": [
    "# Display metrics\n",
    "print(\"\\nPerformance Metrics:\")\n",
    "display(\n",
    "    metrics_df.style.format(\n",
    "        {\n",
    "            \"EIIE\": \"{:.2%}\",\n",
    "            \"Buy & Hold\": \"{:.2%}\",\n",
    "            \"Sharpe Ratio\": \"{:.2f}\",\n",
    "            \"Volatility\": \"{:.2%}\",\n",
    "        }\n",
    "    )\n",
    ")"
   ]
  },
  {
   "cell_type": "code",
   "execution_count": 30,
   "id": "9415f2ec",
   "metadata": {},
   "outputs": [
    {
     "name": "stdout",
     "output_type": "stream",
     "text": [
      "\n",
      "Optimal Weights from Sharpe Ratio Optimization:\n",
      "AXP: 33.79%\n",
      "AMGN: 0.00%\n",
      "AAPL: 0.00%\n",
      "BA: 0.00%\n",
      "CAT: 1.52%\n",
      "CSCO: 0.00%\n",
      "CVX: 0.00%\n",
      "GS: 0.00%\n",
      "HD: 0.00%\n",
      "HON: 0.00%\n",
      "IBM: 7.81%\n",
      "INTC: 0.00%\n",
      "JNJ: 0.00%\n",
      "KO: 0.00%\n",
      "JPM: 0.00%\n",
      "MCD: 0.00%\n",
      "MMM: 0.00%\n",
      "MRK: 0.00%\n",
      "MSFT: 0.00%\n",
      "NKE: 0.00%\n",
      "PG: 0.00%\n",
      "TRV: 2.92%\n",
      "UNH: 0.00%\n",
      "CRM: 0.00%\n",
      "VZ: 0.00%\n",
      "V: 0.00%\n",
      "WBA: 0.00%\n",
      "WMT: 0.00%\n",
      "DIS: 0.00%\n",
      "DOW: 53.95%\n"
     ]
    }
   ],
   "source": [
    "# Additional Sharpe ratio optimization\n",
    "log_returns = raw_df.pivot_table(index=\"date\", columns=\"tic\", values=\"close\")\n",
    "log_returns = np.log(log_returns.pct_change() + 1).dropna()\n",
    "cov_matrix = log_returns.cov() * 252\n",
    "\n",
    "\n",
    "def negative_sharpe(weights):\n",
    "    port_return = np.dot(weights, log_returns.mean()) * 252\n",
    "    port_vol = np.sqrt(weights.T @ cov_matrix @ weights)\n",
    "    return -(port_return - risk_free_rate) / port_vol\n",
    "\n",
    "\n",
    "constraints = {\"type\": \"eq\", \"fun\": lambda x: np.sum(x) - 1}\n",
    "bounds = [(0, 1) for _ in tickers]\n",
    "initial_weights = np.array([1 / len(tickers)] * len(tickers))\n",
    "\n",
    "result = minimize(\n",
    "    negative_sharpe,\n",
    "    initial_weights,\n",
    "    method=\"SLSQP\",\n",
    "    bounds=bounds,\n",
    "    constraints=constraints,\n",
    ")\n",
    "\n",
    "print(\"\\nOptimal Weights from Sharpe Ratio Optimization:\")\n",
    "for ticker, weight in zip(tickers, result.x):\n",
    "    print(f\"{ticker}: {weight:.2%}\")"
   ]
  }
 ],
 "metadata": {
  "kernelspec": {
   "display_name": "portfolio_opt",
   "language": "python",
   "name": "python3"
  },
  "language_info": {
   "codemirror_mode": {
    "name": "ipython",
    "version": 3
   },
   "file_extension": ".py",
   "mimetype": "text/x-python",
   "name": "python",
   "nbconvert_exporter": "python",
   "pygments_lexer": "ipython3",
   "version": "3.12.10"
  }
 },
 "nbformat": 4,
 "nbformat_minor": 5
}
